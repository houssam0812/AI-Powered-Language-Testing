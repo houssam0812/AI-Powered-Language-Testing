{
  "cells": [
    {
      "cell_type": "code",
      "source": [
        "!pip install -r requirements.txt\n",
        "!pip install -U sentencepiece"
      ],
      "metadata": {
        "colab": {
          "base_uri": "https://localhost:8080/"
        },
        "id": "_PzLKux5fAnE",
        "outputId": "440be780-d50c-42c6-da56-e65652d91f2a"
      },
      "execution_count": 1,
      "outputs": [
        {
          "output_type": "stream",
          "name": "stdout",
          "text": [
            "Looking in indexes: https://pypi.org/simple, https://us-python.pkg.dev/colab-wheels/public/simple/\n",
            "Ignoring tensorflow-macos: markers 'sys_platform == \"darwin\" and \"ARM\" in platform_version' don't match your environment\n",
            "Ignoring tensorflow: markers 'sys_platform == \"darwin\" and \"ARM\" not in platform_version' don't match your environment\n",
            "Collecting aiofiles\n",
            "  Downloading aiofiles-23.1.0-py3-none-any.whl (14 kB)\n",
            "Collecting aiosqlite\n",
            "  Downloading aiosqlite-0.18.0-py3-none-any.whl (15 kB)\n",
            "Collecting anyio\n",
            "  Downloading anyio-3.6.2-py3-none-any.whl (80 kB)\n",
            "\u001b[2K     \u001b[90m━━━━━━━━━━━━━━━━━━━━━━━━━━━━━━━━━━━━━━━━\u001b[0m \u001b[32m80.6/80.6 KB\u001b[0m \u001b[31m8.9 MB/s\u001b[0m eta \u001b[36m0:00:00\u001b[0m\n",
            "\u001b[?25hRequirement already satisfied: argon2-cffi in /usr/local/lib/python3.9/dist-packages (from -r requirements.txt (line 4)) (21.3.0)\n",
            "Requirement already satisfied: argon2-cffi-bindings in /usr/local/lib/python3.9/dist-packages (from -r requirements.txt (line 5)) (21.2.0)\n",
            "Collecting arrow\n",
            "  Downloading arrow-1.2.3-py3-none-any.whl (66 kB)\n",
            "\u001b[2K     \u001b[90m━━━━━━━━━━━━━━━━━━━━━━━━━━━━━━━━━━━━━━━━\u001b[0m \u001b[32m66.4/66.4 KB\u001b[0m \u001b[31m7.9 MB/s\u001b[0m eta \u001b[36m0:00:00\u001b[0m\n",
            "\u001b[?25hCollecting astroid\n",
            "  Downloading astroid-2.15.0-py3-none-any.whl (277 kB)\n",
            "\u001b[2K     \u001b[90m━━━━━━━━━━━━━━━━━━━━━━━━━━━━━━━━━━━━━━\u001b[0m \u001b[32m277.7/277.7 KB\u001b[0m \u001b[31m31.0 MB/s\u001b[0m eta \u001b[36m0:00:00\u001b[0m\n",
            "\u001b[?25hCollecting asttokens\n",
            "  Downloading asttokens-2.2.1-py2.py3-none-any.whl (26 kB)\n",
            "Requirement already satisfied: attrs in /usr/local/lib/python3.9/dist-packages (from -r requirements.txt (line 9)) (22.2.0)\n",
            "Requirement already satisfied: Babel in /usr/local/lib/python3.9/dist-packages (from -r requirements.txt (line 10)) (2.12.1)\n",
            "Requirement already satisfied: backcall in /usr/local/lib/python3.9/dist-packages (from -r requirements.txt (line 11)) (0.2.0)\n",
            "Requirement already satisfied: beautifulsoup4 in /usr/local/lib/python3.9/dist-packages (from -r requirements.txt (line 12)) (4.6.3)\n",
            "Requirement already satisfied: bleach in /usr/local/lib/python3.9/dist-packages (from -r requirements.txt (line 13)) (6.0.0)\n",
            "Requirement already satisfied: certifi in /usr/local/lib/python3.9/dist-packages (from -r requirements.txt (line 14)) (2022.12.7)\n",
            "Requirement already satisfied: cffi in /usr/local/lib/python3.9/dist-packages (from -r requirements.txt (line 15)) (1.15.1)\n",
            "Collecting charset-normalizer\n",
            "  Downloading charset_normalizer-3.1.0-cp39-cp39-manylinux_2_17_x86_64.manylinux2014_x86_64.whl (199 kB)\n",
            "\u001b[2K     \u001b[90m━━━━━━━━━━━━━━━━━━━━━━━━━━━━━━━━━━━━━━\u001b[0m \u001b[32m199.2/199.2 KB\u001b[0m \u001b[31m23.7 MB/s\u001b[0m eta \u001b[36m0:00:00\u001b[0m\n",
            "\u001b[?25hCollecting comm\n",
            "  Downloading comm-0.1.2-py3-none-any.whl (6.5 kB)\n",
            "Collecting contourpy\n",
            "  Downloading contourpy-1.0.7-cp39-cp39-manylinux_2_17_x86_64.manylinux2014_x86_64.whl (299 kB)\n",
            "\u001b[2K     \u001b[90m━━━━━━━━━━━━━━━━━━━━━━━━━━━━━━━━━━━━━━\u001b[0m \u001b[32m299.7/299.7 KB\u001b[0m \u001b[31m27.9 MB/s\u001b[0m eta \u001b[36m0:00:00\u001b[0m\n",
            "\u001b[?25hRequirement already satisfied: cycler in /usr/local/lib/python3.9/dist-packages (from -r requirements.txt (line 19)) (0.11.0)\n",
            "Requirement already satisfied: debugpy in /usr/local/lib/python3.9/dist-packages (from -r requirements.txt (line 20)) (1.6.6)\n",
            "Requirement already satisfied: decorator in /usr/local/lib/python3.9/dist-packages (from -r requirements.txt (line 21)) (4.4.2)\n",
            "Requirement already satisfied: defusedxml in /usr/local/lib/python3.9/dist-packages (from -r requirements.txt (line 22)) (0.7.1)\n",
            "Collecting dill\n",
            "  Downloading dill-0.3.6-py3-none-any.whl (110 kB)\n",
            "\u001b[2K     \u001b[90m━━━━━━━━━━━━━━━━━━━━━━━━━━━━━━━━━━━━━━\u001b[0m \u001b[32m110.5/110.5 KB\u001b[0m \u001b[31m13.1 MB/s\u001b[0m eta \u001b[36m0:00:00\u001b[0m\n",
            "\u001b[?25hCollecting exceptiongroup\n",
            "  Downloading exceptiongroup-1.1.0-py3-none-any.whl (14 kB)\n",
            "Collecting executing\n",
            "  Downloading executing-1.2.0-py2.py3-none-any.whl (24 kB)\n",
            "Requirement already satisfied: fastjsonschema in /usr/local/lib/python3.9/dist-packages (from -r requirements.txt (line 26)) (2.16.3)\n",
            "Requirement already satisfied: fonttools in /usr/local/lib/python3.9/dist-packages (from -r requirements.txt (line 27)) (4.39.0)\n",
            "Collecting fqdn\n",
            "  Downloading fqdn-1.5.1-py3-none-any.whl (9.1 kB)\n",
            "Requirement already satisfied: idna in /usr/local/lib/python3.9/dist-packages (from -r requirements.txt (line 29)) (2.10)\n",
            "Collecting ipdb\n",
            "  Downloading ipdb-0.13.11-py3-none-any.whl (12 kB)\n",
            "Requirement already satisfied: ipykernel in /usr/local/lib/python3.9/dist-packages (from -r requirements.txt (line 31)) (5.3.4)\n",
            "Requirement already satisfied: ipython in /usr/local/lib/python3.9/dist-packages (from -r requirements.txt (line 32)) (7.9.0)\n",
            "Requirement already satisfied: ipython-genutils in /usr/local/lib/python3.9/dist-packages (from -r requirements.txt (line 33)) (0.2.0)\n",
            "Collecting isoduration\n",
            "  Downloading isoduration-20.11.0-py3-none-any.whl (11 kB)\n",
            "Collecting isort\n",
            "  Downloading isort-5.12.0-py3-none-any.whl (91 kB)\n",
            "\u001b[2K     \u001b[90m━━━━━━━━━━━━━━━━━━━━━━━━━━━━━━━━━━━━━━━━\u001b[0m \u001b[32m91.2/91.2 KB\u001b[0m \u001b[31m12.7 MB/s\u001b[0m eta \u001b[36m0:00:00\u001b[0m\n",
            "\u001b[?25hCollecting jedi\n",
            "  Downloading jedi-0.18.2-py2.py3-none-any.whl (1.6 MB)\n",
            "\u001b[2K     \u001b[90m━━━━━━━━━━━━━━━━━━━━━━━━━━━━━━━━━━━━━━━━\u001b[0m \u001b[32m1.6/1.6 MB\u001b[0m \u001b[31m73.7 MB/s\u001b[0m eta \u001b[36m0:00:00\u001b[0m\n",
            "\u001b[?25hRequirement already satisfied: Jinja2 in /usr/local/lib/python3.9/dist-packages (from -r requirements.txt (line 37)) (3.1.2)\n",
            "Requirement already satisfied: joblib in /usr/local/lib/python3.9/dist-packages (from -r requirements.txt (line 38)) (1.2.0)\n",
            "Collecting json5\n",
            "  Downloading json5-0.9.11-py2.py3-none-any.whl (19 kB)\n",
            "Collecting jsonpointer\n",
            "  Downloading jsonpointer-2.3-py2.py3-none-any.whl (7.8 kB)\n",
            "Requirement already satisfied: jupyter_client in /usr/local/lib/python3.9/dist-packages (from -r requirements.txt (line 41)) (6.1.12)\n",
            "Requirement already satisfied: jupyter_core in /usr/local/lib/python3.9/dist-packages (from -r requirements.txt (line 42)) (5.2.0)\n",
            "Collecting jupyter-events\n",
            "  Downloading jupyter_events-0.6.3-py3-none-any.whl (18 kB)\n",
            "Collecting jupyter_server\n",
            "  Downloading jupyter_server-2.4.0-py3-none-any.whl (366 kB)\n",
            "\u001b[2K     \u001b[90m━━━━━━━━━━━━━━━━━━━━━━━━━━━━━━━━━━━━━━\u001b[0m \u001b[32m366.7/366.7 KB\u001b[0m \u001b[31m39.8 MB/s\u001b[0m eta \u001b[36m0:00:00\u001b[0m\n",
            "\u001b[?25hCollecting jupyter_server_fileid\n",
            "  Downloading jupyter_server_fileid-0.8.0-py3-none-any.whl (15 kB)\n",
            "Collecting jupyter_server_terminals\n",
            "  Downloading jupyter_server_terminals-0.4.4-py3-none-any.whl (13 kB)\n",
            "Collecting jupyter_server_ydoc\n",
            "  Downloading jupyter_server_ydoc-0.8.0-py3-none-any.whl (11 kB)\n",
            "Collecting jupyter-ydoc\n",
            "  Downloading jupyter_ydoc-0.3.4-py3-none-any.whl (10 kB)\n",
            "Collecting jupyterlab\n",
            "  Downloading jupyterlab-3.6.1-py3-none-any.whl (8.9 MB)\n",
            "\u001b[2K     \u001b[90m━━━━━━━━━━━━━━━━━━━━━━━━━━━━━━━━━━━━━━━━\u001b[0m \u001b[32m8.9/8.9 MB\u001b[0m \u001b[31m61.2 MB/s\u001b[0m eta \u001b[36m0:00:00\u001b[0m\n",
            "\u001b[?25hRequirement already satisfied: jupyterlab-pygments in /usr/local/lib/python3.9/dist-packages (from -r requirements.txt (line 50)) (0.2.2)\n",
            "Collecting jupyterlab_server\n",
            "  Downloading jupyterlab_server-2.20.0-py3-none-any.whl (56 kB)\n",
            "\u001b[2K     \u001b[90m━━━━━━━━━━━━━━━━━━━━━━━━━━━━━━━━━━━━━━━━\u001b[0m \u001b[32m56.7/56.7 KB\u001b[0m \u001b[31m7.8 MB/s\u001b[0m eta \u001b[36m0:00:00\u001b[0m\n",
            "\u001b[?25hRequirement already satisfied: kiwisolver in /usr/local/lib/python3.9/dist-packages (from -r requirements.txt (line 52)) (1.4.4)\n",
            "Collecting lazy-object-proxy\n",
            "  Downloading lazy_object_proxy-1.9.0-cp39-cp39-manylinux_2_5_x86_64.manylinux1_x86_64.manylinux_2_17_x86_64.manylinux2014_x86_64.whl (62 kB)\n",
            "\u001b[2K     \u001b[90m━━━━━━━━━━━━━━━━━━━━━━━━━━━━━━━━━━━━━━━━\u001b[0m \u001b[32m62.1/62.1 KB\u001b[0m \u001b[31m8.7 MB/s\u001b[0m eta \u001b[36m0:00:00\u001b[0m\n",
            "\u001b[?25hRequirement already satisfied: MarkupSafe in /usr/local/lib/python3.9/dist-packages (from -r requirements.txt (line 54)) (2.1.2)\n",
            "Requirement already satisfied: matplotlib in /usr/local/lib/python3.9/dist-packages (from -r requirements.txt (line 55)) (3.5.3)\n",
            "Collecting matplotlib-inline\n",
            "  Downloading matplotlib_inline-0.1.6-py3-none-any.whl (9.4 kB)\n",
            "Collecting mccabe\n",
            "  Downloading mccabe-0.7.0-py2.py3-none-any.whl (7.3 kB)\n",
            "Requirement already satisfied: mistune in /usr/local/lib/python3.9/dist-packages (from -r requirements.txt (line 58)) (0.8.4)\n",
            "Collecting nbclassic\n",
            "  Downloading nbclassic-0.5.3-py3-none-any.whl (10.0 MB)\n",
            "\u001b[2K     \u001b[90m━━━━━━━━━━━━━━━━━━━━━━━━━━━━━━━━━━━━━━━━\u001b[0m \u001b[32m10.0/10.0 MB\u001b[0m \u001b[31m92.0 MB/s\u001b[0m eta \u001b[36m0:00:00\u001b[0m\n",
            "\u001b[?25hRequirement already satisfied: nbclient in /usr/local/lib/python3.9/dist-packages (from -r requirements.txt (line 60)) (0.7.2)\n",
            "Requirement already satisfied: nbconvert in /usr/local/lib/python3.9/dist-packages (from -r requirements.txt (line 61)) (6.5.4)\n",
            "Requirement already satisfied: nbformat in /usr/local/lib/python3.9/dist-packages (from -r requirements.txt (line 62)) (5.7.3)\n",
            "Collecting nest-asyncio\n",
            "  Downloading nest_asyncio-1.5.6-py3-none-any.whl (5.2 kB)\n",
            "Requirement already satisfied: notebook in /usr/local/lib/python3.9/dist-packages (from -r requirements.txt (line 64)) (6.3.0)\n",
            "Collecting notebook_shim\n",
            "  Downloading notebook_shim-0.2.2-py3-none-any.whl (13 kB)\n",
            "Requirement already satisfied: numpy in /usr/local/lib/python3.9/dist-packages (from -r requirements.txt (line 66)) (1.22.4)\n",
            "Requirement already satisfied: packaging in /usr/local/lib/python3.9/dist-packages (from -r requirements.txt (line 67)) (23.0)\n",
            "Requirement already satisfied: pandocfilters in /usr/local/lib/python3.9/dist-packages (from -r requirements.txt (line 68)) (1.5.0)\n",
            "Requirement already satisfied: parso in /usr/local/lib/python3.9/dist-packages (from -r requirements.txt (line 69)) (0.8.3)\n",
            "Requirement already satisfied: pexpect in /usr/local/lib/python3.9/dist-packages (from -r requirements.txt (line 70)) (4.8.0)\n",
            "Requirement already satisfied: pickleshare in /usr/local/lib/python3.9/dist-packages (from -r requirements.txt (line 71)) (0.7.5)\n",
            "Requirement already satisfied: Pillow in /usr/local/lib/python3.9/dist-packages (from -r requirements.txt (line 72)) (8.4.0)\n",
            "Requirement already satisfied: pip in /usr/local/lib/python3.9/dist-packages (from -r requirements.txt (line 73)) (22.0.4)\n",
            "Requirement already satisfied: platformdirs in /usr/local/lib/python3.9/dist-packages (from -r requirements.txt (line 74)) (3.1.0)\n",
            "Requirement already satisfied: pluggy in /usr/local/lib/python3.9/dist-packages (from -r requirements.txt (line 75)) (0.7.1)\n",
            "Requirement already satisfied: prometheus-client in /usr/local/lib/python3.9/dist-packages (from -r requirements.txt (line 76)) (0.16.0)\n",
            "Requirement already satisfied: prompt-toolkit in /usr/local/lib/python3.9/dist-packages (from -r requirements.txt (line 77)) (2.0.10)\n",
            "Requirement already satisfied: psutil in /usr/local/lib/python3.9/dist-packages (from -r requirements.txt (line 78)) (5.4.8)\n",
            "Requirement already satisfied: ptyprocess in /usr/local/lib/python3.9/dist-packages (from -r requirements.txt (line 79)) (0.7.0)\n",
            "Collecting pure-eval\n",
            "  Downloading pure_eval-0.2.2-py3-none-any.whl (11 kB)\n",
            "Requirement already satisfied: pycparser in /usr/local/lib/python3.9/dist-packages (from -r requirements.txt (line 81)) (2.21)\n",
            "Collecting pylint\n",
            "  Downloading pylint-2.17.0-py3-none-any.whl (535 kB)\n",
            "\u001b[2K     \u001b[90m━━━━━━━━━━━━━━━━━━━━━━━━━━━━━━━━━━━━━━\u001b[0m \u001b[32m535.4/535.4 KB\u001b[0m \u001b[31m51.1 MB/s\u001b[0m eta \u001b[36m0:00:00\u001b[0m\n",
            "\u001b[?25hRequirement already satisfied: pyparsing in /usr/local/lib/python3.9/dist-packages (from -r requirements.txt (line 83)) (3.0.9)\n",
            "Requirement already satisfied: pyrsistent in /usr/local/lib/python3.9/dist-packages (from -r requirements.txt (line 84)) (0.19.3)\n",
            "Requirement already satisfied: pytest in /usr/local/lib/python3.9/dist-packages (from -r requirements.txt (line 85)) (3.6.4)\n",
            "Requirement already satisfied: python-dateutil in /usr/local/lib/python3.9/dist-packages (from -r requirements.txt (line 86)) (2.8.2)\n",
            "Collecting python-json-logger\n",
            "  Downloading python_json_logger-2.0.7-py3-none-any.whl (8.1 kB)\n",
            "Requirement already satisfied: pytz in /usr/local/lib/python3.9/dist-packages (from -r requirements.txt (line 88)) (2022.7.1)\n",
            "Requirement already satisfied: PyYAML in /usr/local/lib/python3.9/dist-packages (from -r requirements.txt (line 89)) (6.0)\n",
            "Requirement already satisfied: requests in /usr/local/lib/python3.9/dist-packages (from -r requirements.txt (line 90)) (2.25.1)\n",
            "Collecting rfc3339-validator\n",
            "  Downloading rfc3339_validator-0.1.4-py2.py3-none-any.whl (3.5 kB)\n",
            "Collecting rfc3986-validator\n",
            "  Downloading rfc3986_validator-0.1.1-py2.py3-none-any.whl (4.2 kB)\n",
            "Requirement already satisfied: scikit-learn in /usr/local/lib/python3.9/dist-packages (from -r requirements.txt (line 93)) (1.2.1)\n",
            "Requirement already satisfied: scipy in /usr/local/lib/python3.9/dist-packages (from -r requirements.txt (line 94)) (1.10.1)\n",
            "Requirement already satisfied: seaborn in /usr/local/lib/python3.9/dist-packages (from -r requirements.txt (line 95)) (0.11.2)\n",
            "Requirement already satisfied: Send2Trash in /usr/local/lib/python3.9/dist-packages (from -r requirements.txt (line 96)) (1.8.0)\n",
            "Requirement already satisfied: setuptools in /usr/local/lib/python3.9/dist-packages (from -r requirements.txt (line 97)) (57.4.0)\n",
            "Collecting sentencepiece\n",
            "  Downloading sentencepiece-0.1.97-cp39-cp39-manylinux_2_17_x86_64.manylinux2014_x86_64.whl (1.3 MB)\n",
            "\u001b[2K     \u001b[90m━━━━━━━━━━━━━━━━━━━━━━━━━━━━━━━━━━━━━━━━\u001b[0m \u001b[32m1.3/1.3 MB\u001b[0m \u001b[31m65.6 MB/s\u001b[0m eta \u001b[36m0:00:00\u001b[0m\n",
            "\u001b[?25hRequirement already satisfied: six in /usr/local/lib/python3.9/dist-packages (from -r requirements.txt (line 99)) (1.15.0)\n",
            "Collecting sniffio\n",
            "  Downloading sniffio-1.3.0-py3-none-any.whl (10 kB)\n",
            "Collecting soupsieve\n",
            "  Downloading soupsieve-2.4-py3-none-any.whl (37 kB)\n",
            "Requirement already satisfied: terminado in /usr/local/lib/python3.9/dist-packages (from -r requirements.txt (line 102)) (0.17.1)\n",
            "Requirement already satisfied: threadpoolctl in /usr/local/lib/python3.9/dist-packages (from -r requirements.txt (line 103)) (3.1.0)\n",
            "Requirement already satisfied: tinycss2 in /usr/local/lib/python3.9/dist-packages (from -r requirements.txt (line 104)) (1.2.1)\n",
            "Requirement already satisfied: tomli in /usr/local/lib/python3.9/dist-packages (from -r requirements.txt (line 105)) (2.0.1)\n",
            "Collecting tomlkit\n",
            "  Downloading tomlkit-0.11.6-py3-none-any.whl (35 kB)\n",
            "Requirement already satisfied: typing_extensions in /usr/local/lib/python3.9/dist-packages (from -r requirements.txt (line 107)) (4.5.0)\n",
            "Collecting uri-template\n",
            "  Downloading uri_template-1.2.0-py3-none-any.whl (10 kB)\n",
            "Requirement already satisfied: urllib3 in /usr/local/lib/python3.9/dist-packages (from -r requirements.txt (line 109)) (1.26.14)\n",
            "Requirement already satisfied: wcwidth in /usr/local/lib/python3.9/dist-packages (from -r requirements.txt (line 110)) (0.2.6)\n",
            "Collecting webcolors\n",
            "  Downloading webcolors-1.12-py3-none-any.whl (9.9 kB)\n",
            "Collecting websocket-client\n",
            "  Downloading websocket_client-1.5.1-py3-none-any.whl (55 kB)\n",
            "\u001b[2K     \u001b[90m━━━━━━━━━━━━━━━━━━━━━━━━━━━━━━━━━━━━━━━━\u001b[0m \u001b[32m55.9/55.9 KB\u001b[0m \u001b[31m6.6 MB/s\u001b[0m eta \u001b[36m0:00:00\u001b[0m\n",
            "\u001b[?25hRequirement already satisfied: wrapt in /usr/local/lib/python3.9/dist-packages (from -r requirements.txt (line 113)) (1.15.0)\n",
            "Collecting y-py\n",
            "  Downloading y_py-0.6.0-cp39-cp39-manylinux_2_17_x86_64.manylinux2014_x86_64.whl (1.6 MB)\n",
            "\u001b[2K     \u001b[90m━━━━━━━━━━━━━━━━━━━━━━━━━━━━━━━━━━━━━━━━\u001b[0m \u001b[32m1.6/1.6 MB\u001b[0m \u001b[31m86.8 MB/s\u001b[0m eta \u001b[36m0:00:00\u001b[0m\n",
            "\u001b[?25hCollecting ypy-websocket\n",
            "  Downloading ypy_websocket-0.8.4-py3-none-any.whl (10 kB)\n",
            "Requirement already satisfied: google-cloud-bigquery in /usr/local/lib/python3.9/dist-packages (from -r requirements.txt (line 116)) (3.4.2)\n",
            "Requirement already satisfied: google-cloud-storage in /usr/local/lib/python3.9/dist-packages (from -r requirements.txt (line 117)) (2.7.0)\n",
            "Requirement already satisfied: db-dtypes in /usr/local/lib/python3.9/dist-packages (from -r requirements.txt (line 118)) (1.0.5)\n",
            "Requirement already satisfied: pyarrow in /usr/local/lib/python3.9/dist-packages (from -r requirements.txt (line 119)) (9.0.0)\n",
            "Collecting tensorflow==2.10.0\n",
            "  Downloading tensorflow-2.10.0-cp39-cp39-manylinux_2_17_x86_64.manylinux2014_x86_64.whl (578.1 MB)\n",
            "\u001b[2K     \u001b[90m━━━━━━━━━━━━━━━━━━━━━━━━━━━━━━━━━━━━━━━\u001b[0m \u001b[32m578.1/578.1 MB\u001b[0m \u001b[31m2.6 MB/s\u001b[0m eta \u001b[36m0:00:00\u001b[0m\n",
            "\u001b[?25hRequirement already satisfied: torch in /usr/local/lib/python3.9/dist-packages (from -r requirements.txt (line 128)) (1.13.1+cu116)\n",
            "Collecting transformers\n",
            "  Downloading transformers-4.26.1-py3-none-any.whl (6.3 MB)\n",
            "\u001b[2K     \u001b[90m━━━━━━━━━━━━━━━━━━━━━━━━━━━━━━━━━━━━━━━━\u001b[0m \u001b[32m6.3/6.3 MB\u001b[0m \u001b[31m100.2 MB/s\u001b[0m eta \u001b[36m0:00:00\u001b[0m\n",
            "\u001b[?25hRequirement already satisfied: libclang>=13.0.0 in /usr/local/lib/python3.9/dist-packages (from tensorflow==2.10.0->-r requirements.txt (line 123)) (15.0.6.1)\n",
            "Requirement already satisfied: h5py>=2.9.0 in /usr/local/lib/python3.9/dist-packages (from tensorflow==2.10.0->-r requirements.txt (line 123)) (3.1.0)\n",
            "Collecting keras<2.11,>=2.10.0\n",
            "  Downloading keras-2.10.0-py2.py3-none-any.whl (1.7 MB)\n",
            "\u001b[2K     \u001b[90m━━━━━━━━━━━━━━━━━━━━━━━━━━━━━━━━━━━━━━━━\u001b[0m \u001b[32m1.7/1.7 MB\u001b[0m \u001b[31m81.4 MB/s\u001b[0m eta \u001b[36m0:00:00\u001b[0m\n",
            "\u001b[?25hRequirement already satisfied: protobuf<3.20,>=3.9.2 in /usr/local/lib/python3.9/dist-packages (from tensorflow==2.10.0->-r requirements.txt (line 123)) (3.19.6)\n",
            "Collecting tensorflow-estimator<2.11,>=2.10.0\n",
            "  Downloading tensorflow_estimator-2.10.0-py2.py3-none-any.whl (438 kB)\n",
            "\u001b[2K     \u001b[90m━━━━━━━━━━━━━━━━━━━━━━━━━━━━━━━━━━━━━━\u001b[0m \u001b[32m438.7/438.7 KB\u001b[0m \u001b[31m40.9 MB/s\u001b[0m eta \u001b[36m0:00:00\u001b[0m\n",
            "\u001b[?25hRequirement already satisfied: absl-py>=1.0.0 in /usr/local/lib/python3.9/dist-packages (from tensorflow==2.10.0->-r requirements.txt (line 123)) (1.4.0)\n",
            "Requirement already satisfied: flatbuffers>=2.0 in /usr/local/lib/python3.9/dist-packages (from tensorflow==2.10.0->-r requirements.txt (line 123)) (23.3.3)\n",
            "Requirement already satisfied: termcolor>=1.1.0 in /usr/local/lib/python3.9/dist-packages (from tensorflow==2.10.0->-r requirements.txt (line 123)) (2.2.0)\n",
            "Requirement already satisfied: grpcio<2.0,>=1.24.3 in /usr/local/lib/python3.9/dist-packages (from tensorflow==2.10.0->-r requirements.txt (line 123)) (1.51.3)\n",
            "Collecting keras-preprocessing>=1.1.1\n",
            "  Downloading Keras_Preprocessing-1.1.2-py2.py3-none-any.whl (42 kB)\n",
            "\u001b[2K     \u001b[90m━━━━━━━━━━━━━━━━━━━━━━━━━━━━━━━━━━━━━━━━\u001b[0m \u001b[32m42.6/42.6 KB\u001b[0m \u001b[31m4.2 MB/s\u001b[0m eta \u001b[36m0:00:00\u001b[0m\n",
            "\u001b[?25hRequirement already satisfied: tensorflow-io-gcs-filesystem>=0.23.1 in /usr/local/lib/python3.9/dist-packages (from tensorflow==2.10.0->-r requirements.txt (line 123)) (0.31.0)\n",
            "Collecting tensorboard<2.11,>=2.10\n",
            "  Downloading tensorboard-2.10.1-py3-none-any.whl (5.9 MB)\n",
            "\u001b[2K     \u001b[90m━━━━━━━━━━━━━━━━━━━━━━━━━━━━━━━━━━━━━━━━\u001b[0m \u001b[32m5.9/5.9 MB\u001b[0m \u001b[31m60.8 MB/s\u001b[0m eta \u001b[36m0:00:00\u001b[0m\n",
            "\u001b[?25hRequirement already satisfied: astunparse>=1.6.0 in /usr/local/lib/python3.9/dist-packages (from tensorflow==2.10.0->-r requirements.txt (line 123)) (1.6.3)\n",
            "Requirement already satisfied: opt-einsum>=2.3.2 in /usr/local/lib/python3.9/dist-packages (from tensorflow==2.10.0->-r requirements.txt (line 123)) (3.3.0)\n",
            "Requirement already satisfied: gast<=0.4.0,>=0.2.1 in /usr/local/lib/python3.9/dist-packages (from tensorflow==2.10.0->-r requirements.txt (line 123)) (0.4.0)\n",
            "Requirement already satisfied: google-pasta>=0.1.1 in /usr/local/lib/python3.9/dist-packages (from tensorflow==2.10.0->-r requirements.txt (line 123)) (0.2.0)\n",
            "Requirement already satisfied: webencodings in /usr/local/lib/python3.9/dist-packages (from bleach->-r requirements.txt (line 13)) (0.5.1)\n",
            "Requirement already satisfied: traitlets>=5.3 in /usr/local/lib/python3.9/dist-packages (from comm->-r requirements.txt (line 17)) (5.7.1)\n",
            "Collecting ipython\n",
            "  Downloading ipython-8.11.0-py3-none-any.whl (793 kB)\n",
            "\u001b[2K     \u001b[90m━━━━━━━━━━━━━━━━━━━━━━━━━━━━━━━━━━━━━━\u001b[0m \u001b[32m793.3/793.3 KB\u001b[0m \u001b[31m65.0 MB/s\u001b[0m eta \u001b[36m0:00:00\u001b[0m\n",
            "\u001b[?25hRequirement already satisfied: tornado>=4.2 in /usr/local/lib/python3.9/dist-packages (from ipykernel->-r requirements.txt (line 31)) (6.2)\n",
            "Collecting prompt-toolkit\n",
            "  Downloading prompt_toolkit-3.0.38-py3-none-any.whl (385 kB)\n",
            "\u001b[2K     \u001b[90m━━━━━━━━━━━━━━━━━━━━━━━━━━━━━━━━━━━━━━\u001b[0m \u001b[32m385.8/385.8 KB\u001b[0m \u001b[31m39.3 MB/s\u001b[0m eta \u001b[36m0:00:00\u001b[0m\n",
            "\u001b[?25hRequirement already satisfied: pygments>=2.4.0 in /usr/local/lib/python3.9/dist-packages (from ipython->-r requirements.txt (line 32)) (2.6.1)\n",
            "Collecting stack-data\n",
            "  Downloading stack_data-0.6.2-py3-none-any.whl (24 kB)\n",
            "Requirement already satisfied: pyzmq>=13 in /usr/local/lib/python3.9/dist-packages (from jupyter_client->-r requirements.txt (line 41)) (23.2.1)\n",
            "Requirement already satisfied: jsonschema[format-nongpl]>=3.2.0 in /usr/local/lib/python3.9/dist-packages (from jupyter-events->-r requirements.txt (line 43)) (4.3.3)\n",
            "Collecting pyzmq>=13\n",
            "  Downloading pyzmq-25.0.0-cp39-cp39-manylinux_2_12_x86_64.manylinux2010_x86_64.whl (1.1 MB)\n",
            "\u001b[2K     \u001b[90m━━━━━━━━━━━━━━━━━━━━━━━━━━━━━━━━━━━━━━━━\u001b[0m \u001b[32m1.1/1.1 MB\u001b[0m \u001b[31m69.8 MB/s\u001b[0m eta \u001b[36m0:00:00\u001b[0m\n",
            "\u001b[?25hCollecting jupyter_client\n",
            "  Downloading jupyter_client-8.0.3-py3-none-any.whl (102 kB)\n",
            "\u001b[2K     \u001b[90m━━━━━━━━━━━━━━━━━━━━━━━━━━━━━━━━━━━━━━\u001b[0m \u001b[32m102.7/102.7 KB\u001b[0m \u001b[31m14.3 MB/s\u001b[0m eta \u001b[36m0:00:00\u001b[0m\n",
            "\u001b[?25hRequirement already satisfied: importlib-metadata>=4.8.3 in /usr/local/lib/python3.9/dist-packages (from jupyter_client->-r requirements.txt (line 41)) (6.0.0)\n",
            "Collecting jupyter-ydoc\n",
            "  Downloading jupyter_ydoc-0.2.2-py3-none-any.whl (5.6 kB)\n",
            "Collecting jupyter_server_ydoc\n",
            "  Downloading jupyter_server_ydoc-0.6.1-py3-none-any.whl (11 kB)\n",
            "INFO: pip is looking at multiple versions of jupyter-server-ydoc to determine which version is compatible with other requirements. This could take a while.\n",
            "  Downloading jupyter_server_ydoc-0.6.0-py3-none-any.whl (10 kB)\n",
            "INFO: pip is looking at multiple versions of jupyterlab to determine which version is compatible with other requirements. This could take a while.\n",
            "Collecting jupyterlab\n",
            "  Downloading jupyterlab-3.6.0-py3-none-any.whl (8.9 MB)\n",
            "\u001b[2K     \u001b[90m━━━━━━━━━━━━━━━━━━━━━━━━━━━━━━━━━━━━━━━━\u001b[0m \u001b[32m8.9/8.9 MB\u001b[0m \u001b[31m65.7 MB/s\u001b[0m eta \u001b[36m0:00:00\u001b[0m\n",
            "\u001b[?25h  Downloading jupyterlab-3.5.3-py3-none-any.whl (8.8 MB)\n",
            "\u001b[2K     \u001b[90m━━━━━━━━━━━━━━━━━━━━━━━━━━━━━━━━━━━━━━━━\u001b[0m \u001b[32m8.8/8.8 MB\u001b[0m \u001b[31m80.1 MB/s\u001b[0m eta \u001b[36m0:00:00\u001b[0m\n",
            "\u001b[?25hCollecting requests\n",
            "  Downloading requests-2.28.2-py3-none-any.whl (62 kB)\n",
            "\u001b[2K     \u001b[90m━━━━━━━━━━━━━━━━━━━━━━━━━━━━━━━━━━━━━━━━\u001b[0m \u001b[32m62.8/62.8 KB\u001b[0m \u001b[31m8.6 MB/s\u001b[0m eta \u001b[36m0:00:00\u001b[0m\n",
            "\u001b[?25hCollecting jsonschema>=4.17.3\n",
            "  Downloading jsonschema-4.17.3-py3-none-any.whl (90 kB)\n",
            "\u001b[2K     \u001b[90m━━━━━━━━━━━━━━━━━━━━━━━━━━━━━━━━━━━━━━━━\u001b[0m \u001b[32m90.4/90.4 KB\u001b[0m \u001b[31m11.7 MB/s\u001b[0m eta \u001b[36m0:00:00\u001b[0m\n",
            "\u001b[?25hRequirement already satisfied: lxml in /usr/local/lib/python3.9/dist-packages (from nbconvert->-r requirements.txt (line 61)) (4.9.2)\n",
            "Requirement already satisfied: entrypoints>=0.2.2 in /usr/local/lib/python3.9/dist-packages (from nbconvert->-r requirements.txt (line 61)) (0.4)\n",
            "Requirement already satisfied: more-itertools>=4.0.0 in /usr/local/lib/python3.9/dist-packages (from pytest->-r requirements.txt (line 85)) (9.1.0)\n",
            "Requirement already satisfied: py>=1.5.0 in /usr/local/lib/python3.9/dist-packages (from pytest->-r requirements.txt (line 85)) (1.11.0)\n",
            "Requirement already satisfied: atomicwrites>=1.0 in /usr/local/lib/python3.9/dist-packages (from pytest->-r requirements.txt (line 85)) (1.4.1)\n",
            "Requirement already satisfied: pandas>=0.23 in /usr/local/lib/python3.9/dist-packages (from seaborn->-r requirements.txt (line 95)) (1.3.5)\n",
            "Collecting aiofiles\n",
            "  Downloading aiofiles-22.1.0-py3-none-any.whl (14 kB)\n",
            "Requirement already satisfied: google-resumable-media<3.0dev,>=0.6.0 in /usr/local/lib/python3.9/dist-packages (from google-cloud-bigquery->-r requirements.txt (line 116)) (2.4.1)\n",
            "Requirement already satisfied: google-cloud-core<3.0.0dev,>=1.4.1 in /usr/local/lib/python3.9/dist-packages (from google-cloud-bigquery->-r requirements.txt (line 116)) (2.3.2)\n",
            "Requirement already satisfied: google-api-core[grpc]!=2.0.*,!=2.1.*,!=2.2.*,!=2.3.0,<3.0.0dev,>=1.31.5 in /usr/local/lib/python3.9/dist-packages (from google-cloud-bigquery->-r requirements.txt (line 116)) (2.11.0)\n",
            "Requirement already satisfied: proto-plus<2.0.0dev,>=1.15.0 in /usr/local/lib/python3.9/dist-packages (from google-cloud-bigquery->-r requirements.txt (line 116)) (1.22.2)\n",
            "Requirement already satisfied: google-auth<3.0dev,>=1.25.0 in /usr/local/lib/python3.9/dist-packages (from google-cloud-storage->-r requirements.txt (line 117)) (2.16.2)\n",
            "Requirement already satisfied: filelock in /usr/local/lib/python3.9/dist-packages (from transformers->-r requirements.txt (line 129)) (3.9.0)\n",
            "Requirement already satisfied: tqdm>=4.27 in /usr/local/lib/python3.9/dist-packages (from transformers->-r requirements.txt (line 129)) (4.65.0)\n",
            "Collecting tokenizers!=0.11.3,<0.14,>=0.11.1\n",
            "  Downloading tokenizers-0.13.2-cp39-cp39-manylinux_2_17_x86_64.manylinux2014_x86_64.whl (7.6 MB)\n",
            "\u001b[2K     \u001b[90m━━━━━━━━━━━━━━━━━━━━━━━━━━━━━━━━━━━━━━━━\u001b[0m \u001b[32m7.6/7.6 MB\u001b[0m \u001b[31m108.1 MB/s\u001b[0m eta \u001b[36m0:00:00\u001b[0m\n",
            "\u001b[?25hRequirement already satisfied: regex!=2019.12.17 in /usr/local/lib/python3.9/dist-packages (from transformers->-r requirements.txt (line 129)) (2022.6.2)\n",
            "Collecting huggingface-hub<1.0,>=0.11.0\n",
            "  Downloading huggingface_hub-0.13.0-py3-none-any.whl (199 kB)\n",
            "\u001b[2K     \u001b[90m━━━━━━━━━━━━━━━━━━━━━━━━━━━━━━━━━━━━━━\u001b[0m \u001b[32m199.1/199.1 KB\u001b[0m \u001b[31m22.9 MB/s\u001b[0m eta \u001b[36m0:00:00\u001b[0m\n",
            "\u001b[?25hRequirement already satisfied: wheel<1.0,>=0.23.0 in /usr/local/lib/python3.9/dist-packages (from astunparse>=1.6.0->tensorflow==2.10.0->-r requirements.txt (line 123)) (0.38.4)\n",
            "Requirement already satisfied: googleapis-common-protos<2.0dev,>=1.56.2 in /usr/local/lib/python3.9/dist-packages (from google-api-core[grpc]!=2.0.*,!=2.1.*,!=2.2.*,!=2.3.0,<3.0.0dev,>=1.31.5->google-cloud-bigquery->-r requirements.txt (line 116)) (1.58.0)\n",
            "Requirement already satisfied: grpcio-status<2.0dev,>=1.33.2 in /usr/local/lib/python3.9/dist-packages (from google-api-core[grpc]!=2.0.*,!=2.1.*,!=2.2.*,!=2.3.0,<3.0.0dev,>=1.31.5->google-cloud-bigquery->-r requirements.txt (line 116)) (1.48.2)\n",
            "Requirement already satisfied: pyasn1-modules>=0.2.1 in /usr/local/lib/python3.9/dist-packages (from google-auth<3.0dev,>=1.25.0->google-cloud-storage->-r requirements.txt (line 117)) (0.2.8)\n",
            "Requirement already satisfied: rsa<5,>=3.1.4 in /usr/local/lib/python3.9/dist-packages (from google-auth<3.0dev,>=1.25.0->google-cloud-storage->-r requirements.txt (line 117)) (4.9)\n",
            "Requirement already satisfied: cachetools<6.0,>=2.0.0 in /usr/local/lib/python3.9/dist-packages (from google-auth<3.0dev,>=1.25.0->google-cloud-storage->-r requirements.txt (line 117)) (5.3.0)\n",
            "Requirement already satisfied: google-crc32c<2.0dev,>=1.0 in /usr/local/lib/python3.9/dist-packages (from google-resumable-media<3.0dev,>=0.6.0->google-cloud-bigquery->-r requirements.txt (line 116)) (1.5.0)\n",
            "Requirement already satisfied: zipp>=0.5 in /usr/local/lib/python3.9/dist-packages (from importlib-metadata>=4.8.3->jupyter_client->-r requirements.txt (line 41)) (3.15.0)\n",
            "\u001b[33mWARNING: jsonschema 4.3.3 does not provide the extra 'format-nongpl'\u001b[0m\u001b[33m\n",
            "\u001b[0mRequirement already satisfied: werkzeug>=1.0.1 in /usr/local/lib/python3.9/dist-packages (from tensorboard<2.11,>=2.10->tensorflow==2.10.0->-r requirements.txt (line 123)) (2.2.3)\n",
            "Requirement already satisfied: tensorboard-data-server<0.7.0,>=0.6.0 in /usr/local/lib/python3.9/dist-packages (from tensorboard<2.11,>=2.10->tensorflow==2.10.0->-r requirements.txt (line 123)) (0.6.1)\n",
            "Requirement already satisfied: google-auth-oauthlib<0.5,>=0.4.1 in /usr/local/lib/python3.9/dist-packages (from tensorboard<2.11,>=2.10->tensorflow==2.10.0->-r requirements.txt (line 123)) (0.4.6)\n",
            "Requirement already satisfied: tensorboard-plugin-wit>=1.6.0 in /usr/local/lib/python3.9/dist-packages (from tensorboard<2.11,>=2.10->tensorflow==2.10.0->-r requirements.txt (line 123)) (1.8.1)\n",
            "Requirement already satisfied: markdown>=2.6.8 in /usr/local/lib/python3.9/dist-packages (from tensorboard<2.11,>=2.10->tensorflow==2.10.0->-r requirements.txt (line 123)) (3.4.1)\n",
            "Requirement already satisfied: requests-oauthlib>=0.7.0 in /usr/local/lib/python3.9/dist-packages (from google-auth-oauthlib<0.5,>=0.4.1->tensorboard<2.11,>=2.10->tensorflow==2.10.0->-r requirements.txt (line 123)) (1.3.1)\n",
            "Requirement already satisfied: pyasn1<0.5.0,>=0.4.6 in /usr/local/lib/python3.9/dist-packages (from pyasn1-modules>=0.2.1->google-auth<3.0dev,>=1.25.0->google-cloud-storage->-r requirements.txt (line 117)) (0.4.8)\n",
            "Requirement already satisfied: oauthlib>=3.0.0 in /usr/local/lib/python3.9/dist-packages (from requests-oauthlib>=0.7.0->google-auth-oauthlib<0.5,>=0.4.1->tensorboard<2.11,>=2.10->tensorflow==2.10.0->-r requirements.txt (line 123)) (3.2.2)\n",
            "Installing collected packages: y-py, tokenizers, sentencepiece, pure-eval, keras, json5, executing, websocket-client, webcolors, uri-template, tomlkit, tensorflow-estimator, soupsieve, sniffio, rfc3986-validator, rfc3339-validator, pyzmq, python-json-logger, prompt-toolkit, nest-asyncio, mccabe, matplotlib-inline, lazy-object-proxy, keras-preprocessing, jsonschema, jsonpointer, jedi, isort, fqdn, exceptiongroup, dill, contourpy, comm, charset-normalizer, asttokens, aiosqlite, aiofiles, ypy-websocket, stack-data, requests, jupyter-ydoc, jupyter_server_terminals, jupyter_client, astroid, arrow, anyio, pylint, isoduration, ipython, huggingface-hub, transformers, ipdb, tensorboard, jupyter-events, tensorflow, jupyter_server, notebook_shim, jupyterlab_server, jupyter_server_fileid, nbclassic, jupyter_server_ydoc, jupyterlab\n",
            "  Attempting uninstall: keras\n",
            "    Found existing installation: keras 2.11.0\n",
            "    Uninstalling keras-2.11.0:\n",
            "      Successfully uninstalled keras-2.11.0\n",
            "  Attempting uninstall: tensorflow-estimator\n",
            "    Found existing installation: tensorflow-estimator 2.11.0\n",
            "    Uninstalling tensorflow-estimator-2.11.0:\n",
            "      Successfully uninstalled tensorflow-estimator-2.11.0\n",
            "  Attempting uninstall: pyzmq\n",
            "    Found existing installation: pyzmq 23.2.1\n",
            "    Uninstalling pyzmq-23.2.1:\n",
            "      Successfully uninstalled pyzmq-23.2.1\n",
            "  Attempting uninstall: prompt-toolkit\n",
            "    Found existing installation: prompt-toolkit 2.0.10\n",
            "    Uninstalling prompt-toolkit-2.0.10:\n",
            "      Successfully uninstalled prompt-toolkit-2.0.10\n",
            "  Attempting uninstall: jsonschema\n",
            "    Found existing installation: jsonschema 4.3.3\n",
            "    Uninstalling jsonschema-4.3.3:\n",
            "      Successfully uninstalled jsonschema-4.3.3\n",
            "  Attempting uninstall: requests\n",
            "    Found existing installation: requests 2.25.1\n",
            "    Uninstalling requests-2.25.1:\n",
            "      Successfully uninstalled requests-2.25.1\n",
            "  Attempting uninstall: jupyter_client\n",
            "    Found existing installation: jupyter-client 6.1.12\n",
            "    Uninstalling jupyter-client-6.1.12:\n",
            "      Successfully uninstalled jupyter-client-6.1.12\n",
            "  Attempting uninstall: ipython\n",
            "    Found existing installation: ipython 7.9.0\n",
            "    Uninstalling ipython-7.9.0:\n",
            "      Successfully uninstalled ipython-7.9.0\n",
            "  Attempting uninstall: tensorboard\n",
            "    Found existing installation: tensorboard 2.11.2\n",
            "    Uninstalling tensorboard-2.11.2:\n",
            "      Successfully uninstalled tensorboard-2.11.2\n",
            "  Attempting uninstall: tensorflow\n",
            "    Found existing installation: tensorflow 2.11.0\n",
            "    Uninstalling tensorflow-2.11.0:\n",
            "      Successfully uninstalled tensorflow-2.11.0\n",
            "\u001b[31mERROR: pip's dependency resolver does not currently take into account all the packages that are installed. This behaviour is the source of the following dependency conflicts.\n",
            "google-colab 1.0.0 requires ipython~=7.9.0, but you have ipython 8.11.0 which is incompatible.\u001b[0m\u001b[31m\n",
            "\u001b[0mSuccessfully installed aiofiles-22.1.0 aiosqlite-0.18.0 anyio-3.6.2 arrow-1.2.3 astroid-2.15.0 asttokens-2.2.1 charset-normalizer-3.1.0 comm-0.1.2 contourpy-1.0.7 dill-0.3.6 exceptiongroup-1.1.0 executing-1.2.0 fqdn-1.5.1 huggingface-hub-0.13.0 ipdb-0.13.11 ipython-8.11.0 isoduration-20.11.0 isort-5.12.0 jedi-0.18.2 json5-0.9.11 jsonpointer-2.3 jsonschema-4.17.3 jupyter-events-0.6.3 jupyter-ydoc-0.3.4 jupyter_client-8.0.3 jupyter_server-2.4.0 jupyter_server_fileid-0.8.0 jupyter_server_terminals-0.4.4 jupyter_server_ydoc-0.8.0 jupyterlab-3.5.3 jupyterlab_server-2.20.0 keras-2.10.0 keras-preprocessing-1.1.2 lazy-object-proxy-1.9.0 matplotlib-inline-0.1.6 mccabe-0.7.0 nbclassic-0.5.3 nest-asyncio-1.5.6 notebook_shim-0.2.2 prompt-toolkit-3.0.38 pure-eval-0.2.2 pylint-2.17.0 python-json-logger-2.0.7 pyzmq-25.0.0 requests-2.28.2 rfc3339-validator-0.1.4 rfc3986-validator-0.1.1 sentencepiece-0.1.97 sniffio-1.3.0 soupsieve-2.4 stack-data-0.6.2 tensorboard-2.10.1 tensorflow-2.10.0 tensorflow-estimator-2.10.0 tokenizers-0.13.2 tomlkit-0.11.6 transformers-4.26.1 uri-template-1.2.0 webcolors-1.12 websocket-client-1.5.1 y-py-0.6.0 ypy-websocket-0.8.4\n",
            "Looking in indexes: https://pypi.org/simple, https://us-python.pkg.dev/colab-wheels/public/simple/\n",
            "Requirement already satisfied: sentencepiece in /usr/local/lib/python3.9/dist-packages (0.1.97)\n"
          ]
        }
      ]
    },
    {
      "cell_type": "code",
      "execution_count": 2,
      "metadata": {
        "id": "FM9EzmVve-Ub"
      },
      "outputs": [],
      "source": [
        "import pandas as pd\n",
        "import numpy as np\n",
        "import seaborn as sns\n",
        "import matplotlib.pyplot as plt\n",
        "from sklearn.model_selection import train_test_split\n",
        "import os\n",
        "from transformers import  TFDebertaV2Model, DebertaV2TokenizerFast\n",
        "from tensorflow.keras import callbacks\n",
        "from tensorflow.keras import layers, Input, Sequential, Model"
      ]
    },
    {
      "cell_type": "markdown",
      "metadata": {
        "id": "nSncafDee-Uc"
      },
      "source": [
        "# Configuration"
      ]
    },
    {
      "cell_type": "code",
      "execution_count": 3,
      "metadata": {
        "id": "3-EIWHSKe-Ud"
      },
      "outputs": [],
      "source": [
        "class config:\n",
        "    base_dir = \"/kaggle/working/\"\n",
        "  \n",
        "    # dataset path   \n",
        "    train_dataset_path='/content/train.csv'\n",
        "    test_dataset_path = '/content/test.csv'\n",
        "    \n",
        "    #tokenizer params\n",
        "    truncation = True\n",
        "    padding = True #'max_length'\n",
        "    max_length = 512\n",
        "    \n",
        "    # model params\n",
        "    train_col='full_text'\n",
        "    model_name = \"microsoft/deberta-v2-xlarge\"\n",
        "    target_cols = ['cohesion', 'syntax', 'vocabulary',\n",
        "       'phraseology', 'grammar', 'conventions']"
      ]
    },
    {
      "cell_type": "markdown",
      "metadata": {
        "id": "5AnuPqsVe-Ud"
      },
      "source": [
        "# Load the Tokenizer\n",
        "first, we define a function to tokenize the text from a dataframe"
      ]
    },
    {
      "cell_type": "code",
      "execution_count": 4,
      "metadata": {
        "colab": {
          "base_uri": "https://localhost:8080/",
          "height": 149,
          "referenced_widgets": [
            "647571815d00430f9a9912c55eaced0f",
            "e33869beeee641e490b8a9914a0c50b6",
            "e32b53e2279b43de9707e87880ff0f4b",
            "ded237def43e48f98cad2de01f8a49da",
            "9d25d0a9b6af46298c8d4edea77ab001",
            "37c817a2747e4351ba7b0ff84bcdf688",
            "6f59855c4a704610adf3b06f6c5bb98d",
            "27f2dc60708c44cba08fa9dc5448281d",
            "4dfe48e08732495eb1a6b067ee2c8e26",
            "cca0c3a4ca66449384a6786d897830f9",
            "d40a02cec4564dddbc947445e2b69edf",
            "bb4aed72b4424c6790efd8af28def341",
            "93a48c715eda4fb5964686c6f65bb69b",
            "1e268745c8484661a1d13321b05f26b2",
            "b9b0c250f9fc468880dccb5c354bbf43",
            "71458e6911224c7785665e58ed9eb9ce",
            "3f8ddf54ca104f93924edf3d7ea02474",
            "36022b5a36d24ffa9fcd176dca2ab682",
            "c5c2cbbd688b4131b6322fd9e9d2ef78",
            "8864716a4b2c4996b63eb4a385a4cde0",
            "a70e2ff6c02249adacbdd5d58737745b",
            "934f16d6693f4c1db841fdc160bcda60",
            "67205c0f0e784de680067b3375e86741",
            "72c41f8f89184d89b2e708b0f65ca6f6",
            "ff2c0d030c354552a76b1bfb3fda0942",
            "58f90a1ba9514ca89e87e7d1cab0bee7",
            "810947e96e184fad9addb44b9484b87b",
            "d3ca56a9b6dd47aebd12453ef076dc43",
            "05522d49762e46cdb0c8520965d67b96",
            "c98f94103c0249ceb0b3a156342ee69a",
            "3868d3dd816b4bfda3da30187419ef0f",
            "4811e09d1fd3423bbd5d488439c37e80",
            "f7a9856dce8b40e59fc641f8a33ddbfa"
          ]
        },
        "id": "OZyfAxrVe-Ud",
        "outputId": "96d85686-05e3-40f9-e16d-cf560b8fa14f"
      },
      "outputs": [
        {
          "output_type": "display_data",
          "data": {
            "text/plain": [
              "Downloading (…)okenizer_config.json:   0%|          | 0.00/52.0 [00:00<?, ?B/s]"
            ],
            "application/vnd.jupyter.widget-view+json": {
              "version_major": 2,
              "version_minor": 0,
              "model_id": "647571815d00430f9a9912c55eaced0f"
            }
          },
          "metadata": {}
        },
        {
          "output_type": "display_data",
          "data": {
            "text/plain": [
              "Downloading spm.model:   0%|          | 0.00/2.45M [00:00<?, ?B/s]"
            ],
            "application/vnd.jupyter.widget-view+json": {
              "version_major": 2,
              "version_minor": 0,
              "model_id": "bb4aed72b4424c6790efd8af28def341"
            }
          },
          "metadata": {}
        },
        {
          "output_type": "display_data",
          "data": {
            "text/plain": [
              "Downloading (…)lve/main/config.json:   0%|          | 0.00/633 [00:00<?, ?B/s]"
            ],
            "application/vnd.jupyter.widget-view+json": {
              "version_major": 2,
              "version_minor": 0,
              "model_id": "67205c0f0e784de680067b3375e86741"
            }
          },
          "metadata": {}
        },
        {
          "output_type": "stream",
          "name": "stderr",
          "text": [
            "Special tokens have been added in the vocabulary, make sure the associated word embeddings are fine-tuned or trained.\n",
            "Special tokens have been added in the vocabulary, make sure the associated word embeddings are fine-tuned or trained.\n"
          ]
        }
      ],
      "source": [
        "tokenizer = DebertaV2TokenizerFast.from_pretrained(\"microsoft/deberta-v2-xlarge\")"
      ]
    },
    {
      "cell_type": "code",
      "execution_count": 5,
      "metadata": {
        "id": "uiQamgaoe-Ue"
      },
      "outputs": [],
      "source": [
        "def tokenize (df):\n",
        "    texts=list(df[config.train_col])\n",
        "    tokenized=tokenizer(texts,\n",
        "                       padding=config.padding,\n",
        "                       truncating=True,\n",
        "                       max_length=config.max_length)\n",
        "    tokenized[\"labels\"]= [df[column] for column in config.target_cols]\n",
        "    tokenized['length'] = len(tokenized['input_ids'])\n",
        "    \n",
        "    return tokenized"
      ]
    },
    {
      "cell_type": "markdown",
      "metadata": {
        "id": "gfWcq3_xe-Ue"
      },
      "source": [
        "# Load the data"
      ]
    },
    {
      "cell_type": "code",
      "execution_count": 6,
      "metadata": {
        "id": "NB5ytit4e-Ue"
      },
      "outputs": [],
      "source": [
        "data=pd.read_csv('/content/train.csv').copy()\n",
        "texts=data[config.train_col]\n",
        "targets=data[config.target_cols]\n",
        "train_texts, val_texts, train_targets, val_targets=train_test_split(texts, targets, test_size=0.3)"
      ]
    },
    {
      "cell_type": "code",
      "execution_count": null,
      "metadata": {
        "id": "eW0sbuate-Ue"
      },
      "outputs": [],
      "source": [
        "train_targets.shape"
      ]
    },
    {
      "cell_type": "code",
      "source": [
        "data_test_texts = pd.read_csv('/content/test.csv').copy()\n",
        "test_texts = data_test_texts[config.train_col]"
      ],
      "metadata": {
        "id": "9aMX-kiA7Udx"
      },
      "execution_count": 7,
      "outputs": []
    },
    {
      "cell_type": "markdown",
      "metadata": {
        "id": "paP3oAGDe-Ue"
      },
      "source": [
        "# Convert the data into a tokenized form\n",
        "Here we want the tokens to be read by a tf.keras model"
      ]
    },
    {
      "cell_type": "code",
      "execution_count": 8,
      "metadata": {
        "id": "27Vc6c0He-Uf"
      },
      "outputs": [],
      "source": [
        "tokenized_train_texts = tokenizer(list(train_texts), return_tensors='tf',truncation=config.truncation, padding=config.padding)\n",
        "tokenized_val_texts = tokenizer(list(val_texts), return_tensors='tf', truncation=config.truncation, padding=config.padding)"
      ]
    },
    {
      "cell_type": "code",
      "source": [
        "tokenized_test_texts = tokenizer(list(test_texts), return_tensors='tf', truncation=config.truncation, padding=config.padding)"
      ],
      "metadata": {
        "id": "TDnCBHvF8iUt"
      },
      "execution_count": 9,
      "outputs": []
    },
    {
      "cell_type": "markdown",
      "metadata": {
        "id": "xVU2UncDe-Uf"
      },
      "source": [
        "# Defining the model\n",
        "### Defining the loss function"
      ]
    },
    {
      "cell_type": "code",
      "execution_count": 14,
      "metadata": {
        "id": "1zdHyCqRe-Uf"
      },
      "outputs": [],
      "source": [
        "from keras import backend as K\n",
        "def root_mean_squared_error(y_true, y_pred):\n",
        "        return K.sqrt(K.mean(K.square(y_pred - y_true), axis=-1))"
      ]
    },
    {
      "cell_type": "markdown",
      "metadata": {
        "id": "CJoTIA5Qe-Uf"
      },
      "source": [
        "### Model architecture\n",
        "Here we use the output of the pretrained DeBerta model as an input of a dense intermediate layer, then we input the result in the linear regression parallele output layers, for each target."
      ]
    },
    {
      "cell_type": "code",
      "execution_count": 10,
      "metadata": {
        "id": "3vhOEIyNe-Uf"
      },
      "outputs": [],
      "source": [
        "input_ids = Input(shape=((512)),dtype='int32')"
      ]
    },
    {
      "cell_type": "code",
      "execution_count": 11,
      "metadata": {
        "colab": {
          "base_uri": "https://localhost:8080/",
          "height": 1000,
          "referenced_widgets": [
            "45aabce477fa4312b4d8b19984d56823",
            "3f7571cb4385486d88f85a2fd8bbed3c",
            "0fb238d762ab45e8896f6ee1977e47a4",
            "738e8896833e4811a519e51551f45a30",
            "7570b7dae3d94293b6c48a9538a04cc5",
            "58d00245456944c9a56c6dbeaf4f5899",
            "d0e84c485d154c129ba63cb2e611fd64",
            "f6f6f0cd32a647eb861b65fcd107101c",
            "949eac2b8226416783ca3e957d95d7a5",
            "94d396d2668f4724be65cd57ba23cb70",
            "ca476e9d5a264c6c9ffd4be570c7112d"
          ]
        },
        "id": "D1-J1-KHe-Uf",
        "outputId": "86fe0ecb-666c-4575-81ab-b319eaed7436"
      },
      "outputs": [
        {
          "output_type": "display_data",
          "data": {
            "text/plain": [
              "Downloading tf_model.h5:   0%|          | 0.00/3.54G [00:00<?, ?B/s]"
            ],
            "application/vnd.jupyter.widget-view+json": {
              "version_major": 2,
              "version_minor": 0,
              "model_id": "45aabce477fa4312b4d8b19984d56823"
            }
          },
          "metadata": {}
        },
        {
          "output_type": "stream",
          "name": "stderr",
          "text": [
            "All model checkpoint layers were used when initializing TFDebertaV2Model.\n",
            "\n",
            "All the layers of TFDebertaV2Model were initialized from the model checkpoint at microsoft/deberta-v2-xlarge.\n",
            "If your task is similar to the task the model of the checkpoint was trained on, you can already use TFDebertaV2Model for predictions without further training.\n"
          ]
        },
        {
          "output_type": "stream",
          "name": "stdout",
          "text": [
            "Model: \"model\"\n",
            "__________________________________________________________________________________________________\n",
            " Layer (type)                   Output Shape         Param #     Connected to                     \n",
            "==================================================================================================\n",
            " attention_mask (InputLayer)    [(None, 512)]        0           []                               \n",
            "                                                                                                  \n",
            " input_ids (InputLayer)         [(None, 512)]        0           []                               \n",
            "                                                                                                  \n",
            " tf_deberta_v2_model (TFDeberta  TFBaseModelOutput(l  884593152  ['attention_mask[0][0]',         \n",
            " V2Model)                       ast_hidden_state=(N               'input_ids[0][0]']              \n",
            "                                one, 512, 1536),                                                  \n",
            "                                 hidden_states=((No                                               \n",
            "                                ne, 512, 1536),                                                   \n",
            "                                 (None, 512, 1536),                                               \n",
            "                                 (None, 512, 1536),                                               \n",
            "                                 (None, 512, 1536),                                               \n",
            "                                 (None, 512, 1536),                                               \n",
            "                                 (None, 512, 1536),                                               \n",
            "                                 (None, 512, 1536),                                               \n",
            "                                 (None, 512, 1536),                                               \n",
            "                                 (None, 512, 1536),                                               \n",
            "                                 (None, 512, 1536),                                               \n",
            "                                 (None, 512, 1536),                                               \n",
            "                                 (None, 512, 1536),                                               \n",
            "                                 (None, 512, 1536),                                               \n",
            "                                 (None, 512, 1536),                                               \n",
            "                                 (None, 512, 1536),                                               \n",
            "                                 (None, 512, 1536),                                               \n",
            "                                 (None, 512, 1536),                                               \n",
            "                                 (None, 512, 1536),                                               \n",
            "                                 (None, 512, 1536),                                               \n",
            "                                 (None, 512, 1536),                                               \n",
            "                                 (None, 512, 1536),                                               \n",
            "                                 (None, 512, 1536),                                               \n",
            "                                 (None, 512, 1536),                                               \n",
            "                                 (None, 512, 1536),                                               \n",
            "                                 (None, 512, 1536))                                               \n",
            "                                , attentions=None)                                                \n",
            "                                                                                                  \n",
            " global_max_pooling1d (GlobalMa  (None, 1536)        0           ['tf_deberta_v2_model[0][25]']   \n",
            " xPooling1D)                                                                                      \n",
            "                                                                                                  \n",
            " dense (Dense)                  (None, 64)           98368       ['global_max_pooling1d[0][0]']   \n",
            "                                                                                                  \n",
            " cohesion (Dense)               (None, 1)            65          ['dense[0][0]']                  \n",
            "                                                                                                  \n",
            " syntax (Dense)                 (None, 1)            65          ['dense[0][0]']                  \n",
            "                                                                                                  \n",
            " vocabulary (Dense)             (None, 1)            65          ['dense[0][0]']                  \n",
            "                                                                                                  \n",
            " phraseology (Dense)            (None, 1)            65          ['dense[0][0]']                  \n",
            "                                                                                                  \n",
            " grammar (Dense)                (None, 1)            65          ['dense[0][0]']                  \n",
            "                                                                                                  \n",
            " conventions (Dense)            (None, 1)            65          ['dense[0][0]']                  \n",
            "                                                                                                  \n",
            "==================================================================================================\n",
            "Total params: 884,691,910\n",
            "Trainable params: 98,758\n",
            "Non-trainable params: 884,593,152\n",
            "__________________________________________________________________________________________________\n"
          ]
        }
      ],
      "source": [
        "# Import the needed model(Bert, Roberta or DistilBert) with output_hidden_states=True\n",
        "transformer_model = TFDebertaV2Model.from_pretrained('microsoft/deberta-v2-xlarge', output_hidden_states=True, return_dict=True)\n",
        "transformer_model.trainable = False\n",
        "\n",
        "input_ids = Input(shape=((512)),dtype='int32', name='input_ids')\n",
        "attention_mask = Input(shape=((512)), dtype='int32', name='attention_mask')\n",
        "\n",
        "transformer = transformer_model(dict(input_ids=input_ids,attention_mask=attention_mask))    \n",
        "hidden_states = transformer[0] # get output_hidden_states\n",
        "\n",
        "\n",
        "# Add a layer maxpool 1D\n",
        "pooling_layer = layers.GlobalMaxPooling1D()(hidden_states)\n",
        "\n",
        "# Now we can use selected_hiddes_states as we want\n",
        "last_hidden_layer = layers.Dense(64, activation='relu')(pooling_layer)\n",
        "\n",
        "# Defining the regression layer\n",
        "cohesion_output=layers.Dense(1, activation=\"linear\", name=\"cohesion\")(last_hidden_layer)\n",
        "syntax_output=layers.Dense(1, activation=\"linear\", name=\"syntax\")(last_hidden_layer)\n",
        "vocabulary_output=layers.Dense(1, activation=\"linear\", name=\"vocabulary\")(last_hidden_layer)\n",
        "phraseology_output=layers.Dense(1, activation=\"linear\", name=\"phraseology\")(last_hidden_layer)\n",
        "grammar_output=layers.Dense(1, activation=\"linear\", name=\"grammar\")(last_hidden_layer)\n",
        "conventions_output=layers.Dense(1, activation=\"linear\", name=\"conventions\")(last_hidden_layer)\n",
        "\n",
        "# output in a list\n",
        "output= [cohesion_output, syntax_output, vocabulary_output, phraseology_output, grammar_output, conventions_output]\n",
        "\n",
        "#Assembling the model\n",
        "model = Model(inputs = [input_ids, attention_mask], outputs = output)\n",
        "model.summary()"
      ]
    },
    {
      "cell_type": "code",
      "execution_count": 15,
      "metadata": {
        "id": "TSCduntZe-Ug"
      },
      "outputs": [],
      "source": [
        "# Compile the model \n",
        "model.compile(loss='mse', optimizer='adam',loss_weights=[1/6 for i in range(6)], metrics= root_mean_squared_error)"
      ]
    },
    {
      "cell_type": "code",
      "execution_count": 16,
      "metadata": {
        "colab": {
          "base_uri": "https://localhost:8080/"
        },
        "id": "X5kVidL-e-Ug",
        "outputId": "452a60de-953e-40c1-87af-b898691c51db"
      },
      "outputs": [
        {
          "output_type": "stream",
          "name": "stdout",
          "text": [
            "Epoch 1/50\n"
          ]
        },
        {
          "output_type": "stream",
          "name": "stderr",
          "text": [
            "WARNING:tensorflow:From /usr/local/lib/python3.9/dist-packages/transformers/models/deberta_v2/modeling_tf_deberta_v2.py:124: Bernoulli.__init__ (from tensorflow.python.ops.distributions.bernoulli) is deprecated and will be removed after 2019-01-01.\n",
            "Instructions for updating:\n",
            "The TensorFlow Distributions library has moved to TensorFlow Probability (https://github.com/tensorflow/probability). You should update all references to use `tfp.distributions` instead of `tf.distributions`.\n",
            "WARNING:tensorflow:From /usr/local/lib/python3.9/dist-packages/tensorflow/python/ops/distributions/bernoulli.py:86: Distribution.__init__ (from tensorflow.python.ops.distributions.distribution) is deprecated and will be removed after 2019-01-01.\n",
            "Instructions for updating:\n",
            "The TensorFlow Distributions library has moved to TensorFlow Probability (https://github.com/tensorflow/probability). You should update all references to use `tfp.distributions` instead of `tf.distributions`.\n"
          ]
        },
        {
          "output_type": "stream",
          "name": "stdout",
          "text": [
            "365/365 [==============================] - 638s 2s/step - loss: 0.7317 - cohesion_loss: 0.7325 - syntax_loss: 0.7143 - vocabulary_loss: 0.7154 - phraseology_loss: 0.8082 - grammar_loss: 0.6110 - conventions_loss: 0.8089 - cohesion_root_mean_squared_error: 0.7442 - syntax_root_mean_squared_error: 0.7367 - vocabulary_root_mean_squared_error: 0.7086 - phraseology_root_mean_squared_error: 0.7332 - grammar_root_mean_squared_error: 0.6841 - conventions_root_mean_squared_error: 0.7538 - val_loss: 0.4672 - val_cohesion_loss: 0.3420 - val_syntax_loss: 0.3279 - val_vocabulary_loss: 0.4419 - val_phraseology_loss: 0.6040 - val_grammar_loss: 0.6543 - val_conventions_loss: 0.4332 - val_cohesion_root_mean_squared_error: 0.5397 - val_syntax_root_mean_squared_error: 0.5311 - val_vocabulary_root_mean_squared_error: 0.6018 - val_phraseology_root_mean_squared_error: 0.6977 - val_grammar_root_mean_squared_error: 0.7312 - val_conventions_root_mean_squared_error: 0.5981\n",
            "Epoch 2/50\n",
            "365/365 [==============================] - 570s 2s/step - loss: 0.4387 - cohesion_loss: 0.4468 - syntax_loss: 0.4649 - vocabulary_loss: 0.4006 - phraseology_loss: 0.3878 - grammar_loss: 0.4408 - conventions_loss: 0.4912 - cohesion_root_mean_squared_error: 0.6055 - syntax_root_mean_squared_error: 0.6145 - vocabulary_root_mean_squared_error: 0.5785 - phraseology_root_mean_squared_error: 0.5702 - grammar_root_mean_squared_error: 0.6010 - conventions_root_mean_squared_error: 0.6268 - val_loss: 0.3654 - val_cohesion_loss: 0.3189 - val_syntax_loss: 0.3121 - val_vocabulary_loss: 0.2993 - val_phraseology_loss: 0.3596 - val_grammar_loss: 0.3786 - val_conventions_loss: 0.5241 - val_cohesion_root_mean_squared_error: 0.5247 - val_syntax_root_mean_squared_error: 0.5201 - val_vocabulary_root_mean_squared_error: 0.5115 - val_phraseology_root_mean_squared_error: 0.5576 - val_grammar_root_mean_squared_error: 0.5651 - val_conventions_root_mean_squared_error: 0.6555\n",
            "Epoch 3/50\n",
            "365/365 [==============================] - 568s 2s/step - loss: 0.3743 - cohesion_loss: 0.3721 - syntax_loss: 0.4103 - vocabulary_loss: 0.3526 - phraseology_loss: 0.3522 - grammar_loss: 0.3713 - conventions_loss: 0.3870 - cohesion_root_mean_squared_error: 0.5560 - syntax_root_mean_squared_error: 0.5806 - vocabulary_root_mean_squared_error: 0.5438 - phraseology_root_mean_squared_error: 0.5421 - grammar_root_mean_squared_error: 0.5560 - conventions_root_mean_squared_error: 0.5665 - val_loss: 0.3801 - val_cohesion_loss: 0.4126 - val_syntax_loss: 0.5665 - val_vocabulary_loss: 0.3222 - val_phraseology_loss: 0.3135 - val_grammar_loss: 0.3310 - val_conventions_loss: 0.3346 - val_cohesion_root_mean_squared_error: 0.5912 - val_syntax_root_mean_squared_error: 0.6897 - val_vocabulary_root_mean_squared_error: 0.5287 - val_phraseology_root_mean_squared_error: 0.5250 - val_grammar_root_mean_squared_error: 0.5341 - val_conventions_root_mean_squared_error: 0.5338\n",
            "Epoch 4/50\n",
            "365/365 [==============================] - 570s 2s/step - loss: 0.3566 - cohesion_loss: 0.3557 - syntax_loss: 0.4034 - vocabulary_loss: 0.3376 - phraseology_loss: 0.3254 - grammar_loss: 0.3325 - conventions_loss: 0.3851 - cohesion_root_mean_squared_error: 0.5499 - syntax_root_mean_squared_error: 0.5800 - vocabulary_root_mean_squared_error: 0.5380 - phraseology_root_mean_squared_error: 0.5289 - grammar_root_mean_squared_error: 0.5311 - conventions_root_mean_squared_error: 0.5659 - val_loss: 0.2972 - val_cohesion_loss: 0.2926 - val_syntax_loss: 0.3074 - val_vocabulary_loss: 0.2866 - val_phraseology_loss: 0.3026 - val_grammar_loss: 0.2937 - val_conventions_loss: 0.3005 - val_cohesion_root_mean_squared_error: 0.5063 - val_syntax_root_mean_squared_error: 0.5165 - val_vocabulary_root_mean_squared_error: 0.5028 - val_phraseology_root_mean_squared_error: 0.5142 - val_grammar_root_mean_squared_error: 0.5093 - val_conventions_root_mean_squared_error: 0.5108\n",
            "Epoch 5/50\n",
            "365/365 [==============================] - 568s 2s/step - loss: 0.3369 - cohesion_loss: 0.3333 - syntax_loss: 0.3504 - vocabulary_loss: 0.3284 - phraseology_loss: 0.3247 - grammar_loss: 0.3233 - conventions_loss: 0.3613 - cohesion_root_mean_squared_error: 0.5329 - syntax_root_mean_squared_error: 0.5444 - vocabulary_root_mean_squared_error: 0.5299 - phraseology_root_mean_squared_error: 0.5277 - grammar_root_mean_squared_error: 0.5265 - conventions_root_mean_squared_error: 0.5497 - val_loss: 0.3029 - val_cohesion_loss: 0.3054 - val_syntax_loss: 0.2869 - val_vocabulary_loss: 0.3004 - val_phraseology_loss: 0.3215 - val_grammar_loss: 0.2852 - val_conventions_loss: 0.3177 - val_cohesion_root_mean_squared_error: 0.5154 - val_syntax_root_mean_squared_error: 0.5016 - val_vocabulary_root_mean_squared_error: 0.5127 - val_phraseology_root_mean_squared_error: 0.5275 - val_grammar_root_mean_squared_error: 0.5033 - val_conventions_root_mean_squared_error: 0.5220\n",
            "Epoch 6/50\n",
            "365/365 [==============================] - 570s 2s/step - loss: 0.3136 - cohesion_loss: 0.3063 - syntax_loss: 0.3301 - vocabulary_loss: 0.3067 - phraseology_loss: 0.3009 - grammar_loss: 0.2999 - conventions_loss: 0.3374 - cohesion_root_mean_squared_error: 0.5120 - syntax_root_mean_squared_error: 0.5308 - vocabulary_root_mean_squared_error: 0.5130 - phraseology_root_mean_squared_error: 0.5085 - grammar_root_mean_squared_error: 0.5076 - conventions_root_mean_squared_error: 0.5349 - val_loss: 0.2891 - val_cohesion_loss: 0.2817 - val_syntax_loss: 0.2954 - val_vocabulary_loss: 0.2837 - val_phraseology_loss: 0.2871 - val_grammar_loss: 0.2898 - val_conventions_loss: 0.2967 - val_cohesion_root_mean_squared_error: 0.4981 - val_syntax_root_mean_squared_error: 0.5078 - val_vocabulary_root_mean_squared_error: 0.5003 - val_phraseology_root_mean_squared_error: 0.5027 - val_grammar_root_mean_squared_error: 0.5050 - val_conventions_root_mean_squared_error: 0.5078\n",
            "Epoch 7/50\n",
            "365/365 [==============================] - 569s 2s/step - loss: 0.3052 - cohesion_loss: 0.2879 - syntax_loss: 0.3108 - vocabulary_loss: 0.2883 - phraseology_loss: 0.2895 - grammar_loss: 0.3009 - conventions_loss: 0.3540 - cohesion_root_mean_squared_error: 0.4998 - syntax_root_mean_squared_error: 0.5174 - vocabulary_root_mean_squared_error: 0.5007 - phraseology_root_mean_squared_error: 0.5007 - grammar_root_mean_squared_error: 0.5088 - conventions_root_mean_squared_error: 0.5455 - val_loss: 0.2939 - val_cohesion_loss: 0.2783 - val_syntax_loss: 0.2872 - val_vocabulary_loss: 0.2791 - val_phraseology_loss: 0.2848 - val_grammar_loss: 0.3137 - val_conventions_loss: 0.3205 - val_cohesion_root_mean_squared_error: 0.4957 - val_syntax_root_mean_squared_error: 0.5024 - val_vocabulary_root_mean_squared_error: 0.4966 - val_phraseology_root_mean_squared_error: 0.5009 - val_grammar_root_mean_squared_error: 0.5220 - val_conventions_root_mean_squared_error: 0.5244\n",
            "Epoch 8/50\n",
            "365/365 [==============================] - 571s 2s/step - loss: 0.2938 - cohesion_loss: 0.2757 - syntax_loss: 0.2920 - vocabulary_loss: 0.2769 - phraseology_loss: 0.2809 - grammar_loss: 0.2966 - conventions_loss: 0.3407 - cohesion_root_mean_squared_error: 0.4908 - syntax_root_mean_squared_error: 0.5039 - vocabulary_root_mean_squared_error: 0.4920 - phraseology_root_mean_squared_error: 0.4945 - grammar_root_mean_squared_error: 0.5068 - conventions_root_mean_squared_error: 0.5368 - val_loss: 0.2849 - val_cohesion_loss: 0.2837 - val_syntax_loss: 0.2968 - val_vocabulary_loss: 0.2807 - val_phraseology_loss: 0.2816 - val_grammar_loss: 0.2759 - val_conventions_loss: 0.2906 - val_cohesion_root_mean_squared_error: 0.4998 - val_syntax_root_mean_squared_error: 0.5090 - val_vocabulary_root_mean_squared_error: 0.4979 - val_phraseology_root_mean_squared_error: 0.4981 - val_grammar_root_mean_squared_error: 0.4946 - val_conventions_root_mean_squared_error: 0.5058\n",
            "Epoch 9/50\n",
            "365/365 [==============================] - 569s 2s/step - loss: 0.2998 - cohesion_loss: 0.2856 - syntax_loss: 0.3196 - vocabulary_loss: 0.2897 - phraseology_loss: 0.2833 - grammar_loss: 0.2915 - conventions_loss: 0.3293 - cohesion_root_mean_squared_error: 0.4976 - syntax_root_mean_squared_error: 0.5209 - vocabulary_root_mean_squared_error: 0.5007 - phraseology_root_mean_squared_error: 0.4965 - grammar_root_mean_squared_error: 0.5031 - conventions_root_mean_squared_error: 0.5293 - val_loss: 0.3008 - val_cohesion_loss: 0.2802 - val_syntax_loss: 0.2749 - val_vocabulary_loss: 0.2942 - val_phraseology_loss: 0.3035 - val_grammar_loss: 0.2778 - val_conventions_loss: 0.3742 - val_cohesion_root_mean_squared_error: 0.4973 - val_syntax_root_mean_squared_error: 0.4931 - val_vocabulary_root_mean_squared_error: 0.5080 - val_phraseology_root_mean_squared_error: 0.5145 - val_grammar_root_mean_squared_error: 0.4958 - val_conventions_root_mean_squared_error: 0.5625\n",
            "Epoch 10/50\n",
            "365/365 [==============================] - 571s 2s/step - loss: 0.2986 - cohesion_loss: 0.2892 - syntax_loss: 0.3177 - vocabulary_loss: 0.2889 - phraseology_loss: 0.2851 - grammar_loss: 0.2864 - conventions_loss: 0.3240 - cohesion_root_mean_squared_error: 0.5011 - syntax_root_mean_squared_error: 0.5216 - vocabulary_root_mean_squared_error: 0.5007 - phraseology_root_mean_squared_error: 0.4982 - grammar_root_mean_squared_error: 0.4975 - conventions_root_mean_squared_error: 0.5247 - val_loss: 0.2833 - val_cohesion_loss: 0.2831 - val_syntax_loss: 0.2782 - val_vocabulary_loss: 0.2774 - val_phraseology_loss: 0.2820 - val_grammar_loss: 0.2982 - val_conventions_loss: 0.2812 - val_cohesion_root_mean_squared_error: 0.4994 - val_syntax_root_mean_squared_error: 0.4954 - val_vocabulary_root_mean_squared_error: 0.4955 - val_phraseology_root_mean_squared_error: 0.4985 - val_grammar_root_mean_squared_error: 0.5106 - val_conventions_root_mean_squared_error: 0.4967\n",
            "Epoch 11/50\n",
            "365/365 [==============================] - 569s 2s/step - loss: 0.2882 - cohesion_loss: 0.2764 - syntax_loss: 0.2998 - vocabulary_loss: 0.2793 - phraseology_loss: 0.2766 - grammar_loss: 0.2792 - conventions_loss: 0.3178 - cohesion_root_mean_squared_error: 0.4901 - syntax_root_mean_squared_error: 0.5075 - vocabulary_root_mean_squared_error: 0.4928 - phraseology_root_mean_squared_error: 0.4906 - grammar_root_mean_squared_error: 0.4919 - conventions_root_mean_squared_error: 0.5205 - val_loss: 0.3836 - val_cohesion_loss: 0.4059 - val_syntax_loss: 0.3753 - val_vocabulary_loss: 0.3838 - val_phraseology_loss: 0.3971 - val_grammar_loss: 0.4162 - val_conventions_loss: 0.3235 - val_cohesion_root_mean_squared_error: 0.5864 - val_syntax_root_mean_squared_error: 0.5654 - val_vocabulary_root_mean_squared_error: 0.5711 - val_phraseology_root_mean_squared_error: 0.5799 - val_grammar_root_mean_squared_error: 0.5935 - val_conventions_root_mean_squared_error: 0.5262\n",
            "Epoch 12/50\n",
            "365/365 [==============================] - 571s 2s/step - loss: 0.2776 - cohesion_loss: 0.2702 - syntax_loss: 0.2751 - vocabulary_loss: 0.2691 - phraseology_loss: 0.2738 - grammar_loss: 0.2814 - conventions_loss: 0.2962 - cohesion_root_mean_squared_error: 0.4863 - syntax_root_mean_squared_error: 0.4902 - vocabulary_root_mean_squared_error: 0.4857 - phraseology_root_mean_squared_error: 0.4893 - grammar_root_mean_squared_error: 0.4951 - conventions_root_mean_squared_error: 0.5065 - val_loss: 0.2785 - val_cohesion_loss: 0.2756 - val_syntax_loss: 0.2859 - val_vocabulary_loss: 0.2751 - val_phraseology_loss: 0.2764 - val_grammar_loss: 0.2713 - val_conventions_loss: 0.2870 - val_cohesion_root_mean_squared_error: 0.4935 - val_syntax_root_mean_squared_error: 0.5007 - val_vocabulary_root_mean_squared_error: 0.4935 - val_phraseology_root_mean_squared_error: 0.4940 - val_grammar_root_mean_squared_error: 0.4907 - val_conventions_root_mean_squared_error: 0.5003\n",
            "Epoch 13/50\n",
            "365/365 [==============================] - 569s 2s/step - loss: 0.2762 - cohesion_loss: 0.2663 - syntax_loss: 0.2856 - vocabulary_loss: 0.2670 - phraseology_loss: 0.2634 - grammar_loss: 0.2702 - conventions_loss: 0.3045 - cohesion_root_mean_squared_error: 0.4827 - syntax_root_mean_squared_error: 0.4979 - vocabulary_root_mean_squared_error: 0.4834 - phraseology_root_mean_squared_error: 0.4805 - grammar_root_mean_squared_error: 0.4862 - conventions_root_mean_squared_error: 0.5120 - val_loss: 0.3380 - val_cohesion_loss: 0.3323 - val_syntax_loss: 0.2882 - val_vocabulary_loss: 0.3122 - val_phraseology_loss: 0.3535 - val_grammar_loss: 0.4241 - val_conventions_loss: 0.3174 - val_cohesion_root_mean_squared_error: 0.5351 - val_syntax_root_mean_squared_error: 0.5022 - val_vocabulary_root_mean_squared_error: 0.5208 - val_phraseology_root_mean_squared_error: 0.5501 - val_grammar_root_mean_squared_error: 0.5991 - val_conventions_root_mean_squared_error: 0.5219\n",
            "Epoch 14/50\n",
            "365/365 [==============================] - 569s 2s/step - loss: 0.3016 - cohesion_loss: 0.2888 - syntax_loss: 0.3090 - vocabulary_loss: 0.2788 - phraseology_loss: 0.2822 - grammar_loss: 0.2922 - conventions_loss: 0.3586 - cohesion_root_mean_squared_error: 0.4976 - syntax_root_mean_squared_error: 0.5097 - vocabulary_root_mean_squared_error: 0.4917 - phraseology_root_mean_squared_error: 0.4949 - grammar_root_mean_squared_error: 0.5008 - conventions_root_mean_squared_error: 0.5464 - val_loss: 0.2800 - val_cohesion_loss: 0.2764 - val_syntax_loss: 0.2723 - val_vocabulary_loss: 0.2748 - val_phraseology_loss: 0.2815 - val_grammar_loss: 0.2719 - val_conventions_loss: 0.3032 - val_cohesion_root_mean_squared_error: 0.4941 - val_syntax_root_mean_squared_error: 0.4908 - val_vocabulary_root_mean_squared_error: 0.4932 - val_phraseology_root_mean_squared_error: 0.4979 - val_grammar_root_mean_squared_error: 0.4909 - val_conventions_root_mean_squared_error: 0.5163\n",
            "Epoch 15/50\n",
            "365/365 [==============================] - 569s 2s/step - loss: 0.2879 - cohesion_loss: 0.2676 - syntax_loss: 0.2833 - vocabulary_loss: 0.2674 - phraseology_loss: 0.2704 - grammar_loss: 0.2736 - conventions_loss: 0.3653 - cohesion_root_mean_squared_error: 0.4826 - syntax_root_mean_squared_error: 0.4956 - vocabulary_root_mean_squared_error: 0.4828 - phraseology_root_mean_squared_error: 0.4843 - grammar_root_mean_squared_error: 0.4866 - conventions_root_mean_squared_error: 0.5543 - val_loss: 0.2794 - val_cohesion_loss: 0.2762 - val_syntax_loss: 0.2713 - val_vocabulary_loss: 0.2775 - val_phraseology_loss: 0.2857 - val_grammar_loss: 0.2790 - val_conventions_loss: 0.2865 - val_cohesion_root_mean_squared_error: 0.4944 - val_syntax_root_mean_squared_error: 0.4903 - val_vocabulary_root_mean_squared_error: 0.4956 - val_phraseology_root_mean_squared_error: 0.5017 - val_grammar_root_mean_squared_error: 0.4970 - val_conventions_root_mean_squared_error: 0.5032\n",
            "Epoch 16/50\n",
            "365/365 [==============================] - 569s 2s/step - loss: 0.2755 - cohesion_loss: 0.2688 - syntax_loss: 0.2653 - vocabulary_loss: 0.2738 - phraseology_loss: 0.2797 - grammar_loss: 0.2797 - conventions_loss: 0.2858 - cohesion_root_mean_squared_error: 0.4858 - syntax_root_mean_squared_error: 0.4831 - vocabulary_root_mean_squared_error: 0.4900 - phraseology_root_mean_squared_error: 0.4943 - grammar_root_mean_squared_error: 0.4936 - conventions_root_mean_squared_error: 0.4967 - val_loss: 0.2819 - val_cohesion_loss: 0.2750 - val_syntax_loss: 0.2942 - val_vocabulary_loss: 0.2790 - val_phraseology_loss: 0.2740 - val_grammar_loss: 0.2787 - val_conventions_loss: 0.2904 - val_cohesion_root_mean_squared_error: 0.4929 - val_syntax_root_mean_squared_error: 0.5068 - val_vocabulary_root_mean_squared_error: 0.4962 - val_phraseology_root_mean_squared_error: 0.4920 - val_grammar_root_mean_squared_error: 0.4956 - val_conventions_root_mean_squared_error: 0.5029\n",
            "Epoch 17/50\n",
            "365/365 [==============================] - 570s 2s/step - loss: 0.2734 - cohesion_loss: 0.2726 - syntax_loss: 0.2737 - vocabulary_loss: 0.2724 - phraseology_loss: 0.2719 - grammar_loss: 0.2695 - conventions_loss: 0.2805 - cohesion_root_mean_squared_error: 0.4896 - syntax_root_mean_squared_error: 0.4907 - vocabulary_root_mean_squared_error: 0.4895 - phraseology_root_mean_squared_error: 0.4889 - grammar_root_mean_squared_error: 0.4871 - conventions_root_mean_squared_error: 0.4949 - val_loss: 0.4806 - val_cohesion_loss: 0.5238 - val_syntax_loss: 0.4802 - val_vocabulary_loss: 0.5266 - val_phraseology_loss: 0.5139 - val_grammar_loss: 0.5135 - val_conventions_loss: 0.3253 - val_cohesion_root_mean_squared_error: 0.6644 - val_syntax_root_mean_squared_error: 0.6366 - val_vocabulary_root_mean_squared_error: 0.6659 - val_phraseology_root_mean_squared_error: 0.6575 - val_grammar_root_mean_squared_error: 0.6582 - val_conventions_root_mean_squared_error: 0.5281\n"
          ]
        }
      ],
      "source": [
        "# Fit the model\n",
        "es = callbacks.EarlyStopping(patience=5, restore_best_weights=True)\n",
        "history = model.fit(x={'input_ids':tokenized_train_texts['input_ids'],\n",
        "                        'attention_mask':tokenized_train_texts['attention_mask']},\n",
        "                    y=train_targets,epochs=50,batch_size=6,validation_split=0.2, callbacks=[es],\n",
        "          verbose=1)"
      ]
    },
    {
      "cell_type": "code",
      "source": [
        "# convert the history.history dict to a pandas DataFrame:     \n",
        "hist_df = pd.DataFrame(history.history)"
      ],
      "metadata": {
        "id": "JxEJUpd8Grw_"
      },
      "execution_count": 17,
      "outputs": []
    },
    {
      "cell_type": "code",
      "source": [
        "# Save to CSV\n",
        "hist_csv_file = 'deberta_v2_xlarge_history.csv'\n",
        "with open(hist_csv_file, mode='w') as deberta_v2_xlarge_history:\n",
        "    hist_df.to_csv(deberta_v2_xlarge_history)"
      ],
      "metadata": {
        "id": "RlzsXOmMGwA7"
      },
      "execution_count": 28,
      "outputs": []
    },
    {
      "cell_type": "code",
      "source": [
        "tokenized_test_text = tokenizer(list(test_texts), return_tensors='tf',truncation=config.truncation, padding=config.padding)"
      ],
      "metadata": {
        "id": "-4BztEhe7Ddx"
      },
      "execution_count": 19,
      "outputs": []
    },
    {
      "cell_type": "code",
      "source": [
        " # Make predictions on the test set\n",
        "test_predictions = model.predict({'input_ids':tokenized_test_texts['input_ids'], 'attention_mask':tokenized_test_texts['attention_mask']})\n",
        "\n",
        "# Create a list of dictionaries with the predictions\n",
        "predictions_list = []\n",
        "for i in range(len(test_predictions[0])):\n",
        "    prediction_dict = {'cohesion': test_predictions[0][i],\n",
        "                       'syntax': test_predictions[1][i],\n",
        "                       'vocabulary': test_predictions[2][i],\n",
        "                       'phraseology': test_predictions[3][i],\n",
        "                       'grammar': test_predictions[4][i],\n",
        "                       'conventions': test_predictions[5][i]}\n",
        "    predictions_list.append(prediction_dict)\n",
        "\n",
        "# Convert the list to a dataframe\n",
        "predictions_df = pd.DataFrame(predictions_list)\n",
        "\n"
      ],
      "metadata": {
        "id": "r7EONYxnlf7s",
        "colab": {
          "base_uri": "https://localhost:8080/"
        },
        "outputId": "b0929dfa-3258-49dc-9966-85f89601b0a6"
      },
      "execution_count": 20,
      "outputs": [
        {
          "output_type": "stream",
          "name": "stdout",
          "text": [
            "1/1 [==============================] - 12s 12s/step\n"
          ]
        }
      ]
    },
    {
      "cell_type": "code",
      "source": [
        "# Save the dataframe to a CSV file\n",
        "predictions_df.to_csv('predictions.csv', index=False)"
      ],
      "metadata": {
        "id": "Q5vxkmMR82Qy"
      },
      "execution_count": 21,
      "outputs": []
    },
    {
      "cell_type": "code",
      "source": [
        "from google.colab import drive\n",
        "drive.mount('/content/drive')\n"
      ],
      "metadata": {
        "id": "1tzC1ptP85zu",
        "colab": {
          "base_uri": "https://localhost:8080/"
        },
        "outputId": "50447696-9557-4038-e88a-4c783de9a261"
      },
      "execution_count": 22,
      "outputs": [
        {
          "output_type": "stream",
          "name": "stdout",
          "text": [
            "Mounted at /content/drive\n"
          ]
        }
      ]
    },
    {
      "cell_type": "code",
      "source": [
        "!mkdir -p /content/drive/MyDrive/mathieu_first_deberta_v2_xlarge_model\n"
      ],
      "metadata": {
        "id": "ruhRKQ_P8-kr"
      },
      "execution_count": null,
      "outputs": []
    },
    {
      "cell_type": "code",
      "source": [
        "# Save the model weigths on google drive\n",
        "model.save('/content/drive/MyDrive/mathieu_first_deberta_v2_xlarge_model/mathieu_first_deberta_v2_xlarge_model.h5')\n",
        "model.save_weights('/content/drive/MyDrive/mathieu_first_deberta_v2_xlarge_model/mathieu_first_deberta_v2_xlarge_model_weights.h5')\n"
      ],
      "metadata": {
        "id": "ssqL4Lzq9EHn"
      },
      "execution_count": 23,
      "outputs": []
    },
    {
      "cell_type": "code",
      "source": [
        "# Load the weigths on the notebook\n",
        "model.load_weights('/content/drive/MyDrive/mathieu_first_deberta_v2_xlarge_model/mathieu_first_deberta_v2_xlarge_model_weights.h5')"
      ],
      "metadata": {
        "id": "1gF2CGVjcdRx"
      },
      "execution_count": null,
      "outputs": []
    },
    {
      "cell_type": "code",
      "source": [
        "# Model evaluation\n",
        "model_eval = model.evaluate(x={'input_ids':tokenized_val_texts['input_ids'], 'attention_mask':tokenized_val_texts['attention_mask']},\n",
        "                            y = val_targets)"
      ],
      "metadata": {
        "id": "AMgloyKJlDbH",
        "colab": {
          "base_uri": "https://localhost:8080/"
        },
        "outputId": "a170f674-3afd-402d-d080-b07145b02ee3"
      },
      "execution_count": 24,
      "outputs": [
        {
          "output_type": "stream",
          "name": "stdout",
          "text": [
            "37/37 [==============================] - 40s 1s/step - loss: 0.2649 - cohesion_loss: 0.2593 - syntax_loss: 0.2639 - vocabulary_loss: 0.2629 - phraseology_loss: 0.2663 - grammar_loss: 0.2627 - conventions_loss: 0.2744 - cohesion_root_mean_squared_error: 0.4754 - syntax_root_mean_squared_error: 0.4773 - vocabulary_root_mean_squared_error: 0.4784 - phraseology_root_mean_squared_error: 0.4822 - grammar_root_mean_squared_error: 0.4786 - conventions_root_mean_squared_error: 0.4867\n"
          ]
        }
      ]
    },
    {
      "cell_type": "code",
      "source": [
        "model_eval"
      ],
      "metadata": {
        "id": "fdkcaY3qnHOr",
        "colab": {
          "base_uri": "https://localhost:8080/"
        },
        "outputId": "598c919f-9163-4d4f-9750-f3d4b033237e"
      },
      "execution_count": 25,
      "outputs": [
        {
          "output_type": "execute_result",
          "data": {
            "text/plain": [
              "[0.26490601897239685,\n",
              " 0.2592943012714386,\n",
              " 0.26393553614616394,\n",
              " 0.2629151940345764,\n",
              " 0.26625683903694153,\n",
              " 0.26265308260917664,\n",
              " 0.2743808329105377,\n",
              " 0.47541365027427673,\n",
              " 0.47731462121009827,\n",
              " 0.4784228801727295,\n",
              " 0.4821668267250061,\n",
              " 0.47862595319747925,\n",
              " 0.48673805594444275]"
            ]
          },
          "metadata": {},
          "execution_count": 25
        }
      ]
    },
    {
      "cell_type": "code",
      "source": [
        "# Dataviz\n",
        "def plot_history(history, title='', axs=None, exp_name=\"\"):\n",
        "\n",
        "    #compute new metrics and add in 'history.history'\n",
        "    metrics=['cohesion', 'syntax', 'vocabulary', 'phraseology', 'grammar', 'conventions']\n",
        "    scores=['loss','root_mean_squared_error']\n",
        "    history.history['MCRMSE']=[]\n",
        "    history.history['val_MCRMSE']=[]\n",
        "    for epoch in range(len(history.history['loss'])):\n",
        "      mcrmse=0\n",
        "      val_mcrmse=0\n",
        "      for m in metrics:\n",
        "        mcrmse +=history.history[f'{m}_root_mean_squared_error'][epoch]\n",
        "        val_mcrmse +=history.history[f'val_{m}_root_mean_squared_error'][epoch]\n",
        "      history.history['MCRMSE'].append(mcrmse/len(metrics))\n",
        "      history.history['val_MCRMSE'].append(val_mcrmse/len(metrics))\n",
        "\n",
        "    if axs is not None:\n",
        "        ax1, ax2 = axs\n",
        "    else:\n",
        "        f, ax = plt.subplots(7, 2, figsize=(12, 2*7))\n",
        "    \n",
        "    if len(exp_name) > 0 and exp_name[0] != '_':\n",
        "        exp_name = '_' + exp_name\n",
        "\n",
        "    ax[0][0].plot(history.history['loss'], label='train' + exp_name)\n",
        "    ax[0][0].plot(history.history['val_loss'], label='val' + exp_name)\n",
        "    ax[0][0].set_title('loss')\n",
        "    ax[0][0].legend()\n",
        "   \n",
        "    ax[0][1].plot(history.history['MCRMSE'], label='train' + exp_name)\n",
        "    ax[0][1].plot(history.history['val_MCRMSE'], label='val' + exp_name)\n",
        "    ax[0][1].set_title('MCRMSE')\n",
        "    ax[0][1].legend()\n",
        "    i=0\n",
        "    for m in metrics:\n",
        "      j=0\n",
        "      i+=1\n",
        "      for s in scores:\n",
        "        ax[i][j].plot(history.history[f'{m}_{s}'], label='train' + exp_name)\n",
        "        ax[i][j].plot(history.history[f'val_{m}_{s}'], label='val' + exp_name)\n",
        "        ax[i][j].set_title(f'{m}_{s}')\n",
        "        ax[i][j].legend()\n",
        "        j+=1\n",
        "        \n",
        "    return ax"
      ],
      "metadata": {
        "id": "cpei9zavjZuY"
      },
      "execution_count": 26,
      "outputs": []
    },
    {
      "cell_type": "code",
      "source": [
        "plot_history(history);\n"
      ],
      "metadata": {
        "colab": {
          "base_uri": "https://localhost:8080/",
          "height": 825
        },
        "id": "z_6q8Ayv4mQI",
        "outputId": "b35d5f07-2218-4a7a-80a3-f12848040451"
      },
      "execution_count": 27,
      "outputs": [
        {
          "output_type": "display_data",
          "data": {
            "text/plain": [
              "<Figure size 864x1008 with 14 Axes>"
            ],
            "image/png": "[encoded data removed]"
          },
          "metadata": {
            "needs_background": "light"
          }
        }
      ]
    },
    {
      "cell_type": "code",
      "source": [],
      "metadata": {
        "id": "-8G0CgWW4s1y"
      },
      "execution_count": null,
      "outputs": []
    }
  ],
  "metadata": {
    "kernelspec": {
      "display_name": "plt",
      "language": "python",
      "name": "python3"
    },
    "language_info": {
      "codemirror_mode": {
        "name": "ipython",
        "version": 3
      },
      "file_extension": ".py",
      "mimetype": "text/x-python",
      "name": "python",
      "nbconvert_exporter": "python",
      "pygments_lexer": "ipython3",
      "version": "3.10.6"
    },
    "orig_nbformat": 4,
    "colab": {
      "provenance": [],
      "machine_shape": "hm"
    },
    "accelerator": "GPU",
    "gpuClass": "premium",
    "widgets": {
      "application/vnd.jupyter.widget-state+json": {
        "647571815d00430f9a9912c55eaced0f": {
          "model_module": "@jupyter-widgets/controls",
          "model_name": "HBoxModel",
          "model_module_version": "1.5.0",
          "state": {
            "_dom_classes": [],
            "_model_module": "@jupyter-widgets/controls",
            "_model_module_version": "1.5.0",
            "_model_name": "HBoxModel",
            "_view_count": null,
            "_view_module": "@jupyter-widgets/controls",
            "_view_module_version": "1.5.0",
            "_view_name": "HBoxView",
            "box_style": "",
            "children": [
              "IPY_MODEL_e33869beeee641e490b8a9914a0c50b6",
              "IPY_MODEL_e32b53e2279b43de9707e87880ff0f4b",
              "IPY_MODEL_ded237def43e48f98cad2de01f8a49da"
            ],
            "layout": "IPY_MODEL_9d25d0a9b6af46298c8d4edea77ab001"
          }
        },
        "e33869beeee641e490b8a9914a0c50b6": {
          "model_module": "@jupyter-widgets/controls",
          "model_name": "HTMLModel",
          "model_module_version": "1.5.0",
          "state": {
            "_dom_classes": [],
            "_model_module": "@jupyter-widgets/controls",
            "_model_module_version": "1.5.0",
            "_model_name": "HTMLModel",
            "_view_count": null,
            "_view_module": "@jupyter-widgets/controls",
            "_view_module_version": "1.5.0",
            "_view_name": "HTMLView",
            "description": "",
            "description_tooltip": null,
            "layout": "IPY_MODEL_37c817a2747e4351ba7b0ff84bcdf688",
            "placeholder": "​",
            "style": "IPY_MODEL_6f59855c4a704610adf3b06f6c5bb98d",
            "value": "Downloading (…)okenizer_config.json: 100%"
          }
        },
        "e32b53e2279b43de9707e87880ff0f4b": {
          "model_module": "@jupyter-widgets/controls",
          "model_name": "FloatProgressModel",
          "model_module_version": "1.5.0",
          "state": {
            "_dom_classes": [],
            "_model_module": "@jupyter-widgets/controls",
            "_model_module_version": "1.5.0",
            "_model_name": "FloatProgressModel",
            "_view_count": null,
            "_view_module": "@jupyter-widgets/controls",
            "_view_module_version": "1.5.0",
            "_view_name": "ProgressView",
            "bar_style": "success",
            "description": "",
            "description_tooltip": null,
            "layout": "IPY_MODEL_27f2dc60708c44cba08fa9dc5448281d",
            "max": 52,
            "min": 0,
            "orientation": "horizontal",
            "style": "IPY_MODEL_4dfe48e08732495eb1a6b067ee2c8e26",
            "value": 52
          }
        },
        "ded237def43e48f98cad2de01f8a49da": {
          "model_module": "@jupyter-widgets/controls",
          "model_name": "HTMLModel",
          "model_module_version": "1.5.0",
          "state": {
            "_dom_classes": [],
            "_model_module": "@jupyter-widgets/controls",
            "_model_module_version": "1.5.0",
            "_model_name": "HTMLModel",
            "_view_count": null,
            "_view_module": "@jupyter-widgets/controls",
            "_view_module_version": "1.5.0",
            "_view_name": "HTMLView",
            "description": "",
            "description_tooltip": null,
            "layout": "IPY_MODEL_cca0c3a4ca66449384a6786d897830f9",
            "placeholder": "​",
            "style": "IPY_MODEL_d40a02cec4564dddbc947445e2b69edf",
            "value": " 52.0/52.0 [00:00&lt;00:00, 2.67kB/s]"
          }
        },
        "9d25d0a9b6af46298c8d4edea77ab001": {
          "model_module": "@jupyter-widgets/base",
          "model_name": "LayoutModel",
          "model_module_version": "1.2.0",
          "state": {
            "_model_module": "@jupyter-widgets/base",
            "_model_module_version": "1.2.0",
            "_model_name": "LayoutModel",
            "_view_count": null,
            "_view_module": "@jupyter-widgets/base",
            "_view_module_version": "1.2.0",
            "_view_name": "LayoutView",
            "align_content": null,
            "align_items": null,
            "align_self": null,
            "border": null,
            "bottom": null,
            "display": null,
            "flex": null,
            "flex_flow": null,
            "grid_area": null,
            "grid_auto_columns": null,
            "grid_auto_flow": null,
            "grid_auto_rows": null,
            "grid_column": null,
            "grid_gap": null,
            "grid_row": null,
            "grid_template_areas": null,
            "grid_template_columns": null,
            "grid_template_rows": null,
            "height": null,
            "justify_content": null,
            "justify_items": null,
            "left": null,
            "margin": null,
            "max_height": null,
            "max_width": null,
            "min_height": null,
            "min_width": null,
            "object_fit": null,
            "object_position": null,
            "order": null,
            "overflow": null,
            "overflow_x": null,
            "overflow_y": null,
            "padding": null,
            "right": null,
            "top": null,
            "visibility": null,
            "width": null
          }
        },
        "37c817a2747e4351ba7b0ff84bcdf688": {
          "model_module": "@jupyter-widgets/base",
          "model_name": "LayoutModel",
          "model_module_version": "1.2.0",
          "state": {
            "_model_module": "@jupyter-widgets/base",
            "_model_module_version": "1.2.0",
            "_model_name": "LayoutModel",
            "_view_count": null,
            "_view_module": "@jupyter-widgets/base",
            "_view_module_version": "1.2.0",
            "_view_name": "LayoutView",
            "align_content": null,
            "align_items": null,
            "align_self": null,
            "border": null,
            "bottom": null,
            "display": null,
            "flex": null,
            "flex_flow": null,
            "grid_area": null,
            "grid_auto_columns": null,
            "grid_auto_flow": null,
            "grid_auto_rows": null,
            "grid_column": null,
            "grid_gap": null,
            "grid_row": null,
            "grid_template_areas": null,
            "grid_template_columns": null,
            "grid_template_rows": null,
            "height": null,
            "justify_content": null,
            "justify_items": null,
            "left": null,
            "margin": null,
            "max_height": null,
            "max_width": null,
            "min_height": null,
            "min_width": null,
            "object_fit": null,
            "object_position": null,
            "order": null,
            "overflow": null,
            "overflow_x": null,
            "overflow_y": null,
            "padding": null,
            "right": null,
            "top": null,
            "visibility": null,
            "width": null
          }
        },
        "6f59855c4a704610adf3b06f6c5bb98d": {
          "model_module": "@jupyter-widgets/controls",
          "model_name": "DescriptionStyleModel",
          "model_module_version": "1.5.0",
          "state": {
            "_model_module": "@jupyter-widgets/controls",
            "_model_module_version": "1.5.0",
            "_model_name": "DescriptionStyleModel",
            "_view_count": null,
            "_view_module": "@jupyter-widgets/base",
            "_view_module_version": "1.2.0",
            "_view_name": "StyleView",
            "description_width": ""
          }
        },
        "27f2dc60708c44cba08fa9dc5448281d": {
          "model_module": "@jupyter-widgets/base",
          "model_name": "LayoutModel",
          "model_module_version": "1.2.0",
          "state": {
            "_model_module": "@jupyter-widgets/base",
            "_model_module_version": "1.2.0",
            "_model_name": "LayoutModel",
            "_view_count": null,
            "_view_module": "@jupyter-widgets/base",
            "_view_module_version": "1.2.0",
            "_view_name": "LayoutView",
            "align_content": null,
            "align_items": null,
            "align_self": null,
            "border": null,
            "bottom": null,
            "display": null,
            "flex": null,
            "flex_flow": null,
            "grid_area": null,
            "grid_auto_columns": null,
            "grid_auto_flow": null,
            "grid_auto_rows": null,
            "grid_column": null,
            "grid_gap": null,
            "grid_row": null,
            "grid_template_areas": null,
            "grid_template_columns": null,
            "grid_template_rows": null,
            "height": null,
            "justify_content": null,
            "justify_items": null,
            "left": null,
            "margin": null,
            "max_height": null,
            "max_width": null,
            "min_height": null,
            "min_width": null,
            "object_fit": null,
            "object_position": null,
            "order": null,
            "overflow": null,
            "overflow_x": null,
            "overflow_y": null,
            "padding": null,
            "right": null,
            "top": null,
            "visibility": null,
            "width": null
          }
        },
        "4dfe48e08732495eb1a6b067ee2c8e26": {
          "model_module": "@jupyter-widgets/controls",
          "model_name": "ProgressStyleModel",
          "model_module_version": "1.5.0",
          "state": {
            "_model_module": "@jupyter-widgets/controls",
            "_model_module_version": "1.5.0",
            "_model_name": "ProgressStyleModel",
            "_view_count": null,
            "_view_module": "@jupyter-widgets/base",
            "_view_module_version": "1.2.0",
            "_view_name": "StyleView",
            "bar_color": null,
            "description_width": ""
          }
        },
        "cca0c3a4ca66449384a6786d897830f9": {
          "model_module": "@jupyter-widgets/base",
          "model_name": "LayoutModel",
          "model_module_version": "1.2.0",
          "state": {
            "_model_module": "@jupyter-widgets/base",
            "_model_module_version": "1.2.0",
            "_model_name": "LayoutModel",
            "_view_count": null,
            "_view_module": "@jupyter-widgets/base",
            "_view_module_version": "1.2.0",
            "_view_name": "LayoutView",
            "align_content": null,
            "align_items": null,
            "align_self": null,
            "border": null,
            "bottom": null,
            "display": null,
            "flex": null,
            "flex_flow": null,
            "grid_area": null,
            "grid_auto_columns": null,
            "grid_auto_flow": null,
            "grid_auto_rows": null,
            "grid_column": null,
            "grid_gap": null,
            "grid_row": null,
            "grid_template_areas": null,
            "grid_template_columns": null,
            "grid_template_rows": null,
            "height": null,
            "justify_content": null,
            "justify_items": null,
            "left": null,
            "margin": null,
            "max_height": null,
            "max_width": null,
            "min_height": null,
            "min_width": null,
            "object_fit": null,
            "object_position": null,
            "order": null,
            "overflow": null,
            "overflow_x": null,
            "overflow_y": null,
            "padding": null,
            "right": null,
            "top": null,
            "visibility": null,
            "width": null
          }
        },
        "d40a02cec4564dddbc947445e2b69edf": {
          "model_module": "@jupyter-widgets/controls",
          "model_name": "DescriptionStyleModel",
          "model_module_version": "1.5.0",
          "state": {
            "_model_module": "@jupyter-widgets/controls",
            "_model_module_version": "1.5.0",
            "_model_name": "DescriptionStyleModel",
            "_view_count": null,
            "_view_module": "@jupyter-widgets/base",
            "_view_module_version": "1.2.0",
            "_view_name": "StyleView",
            "description_width": ""
          }
        },
        "bb4aed72b4424c6790efd8af28def341": {
          "model_module": "@jupyter-widgets/controls",
          "model_name": "HBoxModel",
          "model_module_version": "1.5.0",
          "state": {
            "_dom_classes": [],
            "_model_module": "@jupyter-widgets/controls",
            "_model_module_version": "1.5.0",
            "_model_name": "HBoxModel",
            "_view_count": null,
            "_view_module": "@jupyter-widgets/controls",
            "_view_module_version": "1.5.0",
            "_view_name": "HBoxView",
            "box_style": "",
            "children": [
              "IPY_MODEL_93a48c715eda4fb5964686c6f65bb69b",
              "IPY_MODEL_1e268745c8484661a1d13321b05f26b2",
              "IPY_MODEL_b9b0c250f9fc468880dccb5c354bbf43"
            ],
            "layout": "IPY_MODEL_71458e6911224c7785665e58ed9eb9ce"
          }
        },
        "93a48c715eda4fb5964686c6f65bb69b": {
          "model_module": "@jupyter-widgets/controls",
          "model_name": "HTMLModel",
          "model_module_version": "1.5.0",
          "state": {
            "_dom_classes": [],
            "_model_module": "@jupyter-widgets/controls",
            "_model_module_version": "1.5.0",
            "_model_name": "HTMLModel",
            "_view_count": null,
            "_view_module": "@jupyter-widgets/controls",
            "_view_module_version": "1.5.0",
            "_view_name": "HTMLView",
            "description": "",
            "description_tooltip": null,
            "layout": "IPY_MODEL_3f8ddf54ca104f93924edf3d7ea02474",
            "placeholder": "​",
            "style": "IPY_MODEL_36022b5a36d24ffa9fcd176dca2ab682",
            "value": "Downloading spm.model: 100%"
          }
        },
        "1e268745c8484661a1d13321b05f26b2": {
          "model_module": "@jupyter-widgets/controls",
          "model_name": "FloatProgressModel",
          "model_module_version": "1.5.0",
          "state": {
            "_dom_classes": [],
            "_model_module": "@jupyter-widgets/controls",
            "_model_module_version": "1.5.0",
            "_model_name": "FloatProgressModel",
            "_view_count": null,
            "_view_module": "@jupyter-widgets/controls",
            "_view_module_version": "1.5.0",
            "_view_name": "ProgressView",
            "bar_style": "success",
            "description": "",
            "description_tooltip": null,
            "layout": "IPY_MODEL_c5c2cbbd688b4131b6322fd9e9d2ef78",
            "max": 2447305,
            "min": 0,
            "orientation": "horizontal",
            "style": "IPY_MODEL_8864716a4b2c4996b63eb4a385a4cde0",
            "value": 2447305
          }
        },
        "b9b0c250f9fc468880dccb5c354bbf43": {
          "model_module": "@jupyter-widgets/controls",
          "model_name": "HTMLModel",
          "model_module_version": "1.5.0",
          "state": {
            "_dom_classes": [],
            "_model_module": "@jupyter-widgets/controls",
            "_model_module_version": "1.5.0",
            "_model_name": "HTMLModel",
            "_view_count": null,
            "_view_module": "@jupyter-widgets/controls",
            "_view_module_version": "1.5.0",
            "_view_name": "HTMLView",
            "description": "",
            "description_tooltip": null,
            "layout": "IPY_MODEL_a70e2ff6c02249adacbdd5d58737745b",
            "placeholder": "​",
            "style": "IPY_MODEL_934f16d6693f4c1db841fdc160bcda60",
            "value": " 2.45M/2.45M [00:00&lt;00:00, 80.1MB/s]"
          }
        },
        "71458e6911224c7785665e58ed9eb9ce": {
          "model_module": "@jupyter-widgets/base",
          "model_name": "LayoutModel",
          "model_module_version": "1.2.0",
          "state": {
            "_model_module": "@jupyter-widgets/base",
            "_model_module_version": "1.2.0",
            "_model_name": "LayoutModel",
            "_view_count": null,
            "_view_module": "@jupyter-widgets/base",
            "_view_module_version": "1.2.0",
            "_view_name": "LayoutView",
            "align_content": null,
            "align_items": null,
            "align_self": null,
            "border": null,
            "bottom": null,
            "display": null,
            "flex": null,
            "flex_flow": null,
            "grid_area": null,
            "grid_auto_columns": null,
            "grid_auto_flow": null,
            "grid_auto_rows": null,
            "grid_column": null,
            "grid_gap": null,
            "grid_row": null,
            "grid_template_areas": null,
            "grid_template_columns": null,
            "grid_template_rows": null,
            "height": null,
            "justify_content": null,
            "justify_items": null,
            "left": null,
            "margin": null,
            "max_height": null,
            "max_width": null,
            "min_height": null,
            "min_width": null,
            "object_fit": null,
            "object_position": null,
            "order": null,
            "overflow": null,
            "overflow_x": null,
            "overflow_y": null,
            "padding": null,
            "right": null,
            "top": null,
            "visibility": null,
            "width": null
          }
        },
        "3f8ddf54ca104f93924edf3d7ea02474": {
          "model_module": "@jupyter-widgets/base",
          "model_name": "LayoutModel",
          "model_module_version": "1.2.0",
          "state": {
            "_model_module": "@jupyter-widgets/base",
            "_model_module_version": "1.2.0",
            "_model_name": "LayoutModel",
            "_view_count": null,
            "_view_module": "@jupyter-widgets/base",
            "_view_module_version": "1.2.0",
            "_view_name": "LayoutView",
            "align_content": null,
            "align_items": null,
            "align_self": null,
            "border": null,
            "bottom": null,
            "display": null,
            "flex": null,
            "flex_flow": null,
            "grid_area": null,
            "grid_auto_columns": null,
            "grid_auto_flow": null,
            "grid_auto_rows": null,
            "grid_column": null,
            "grid_gap": null,
            "grid_row": null,
            "grid_template_areas": null,
            "grid_template_columns": null,
            "grid_template_rows": null,
            "height": null,
            "justify_content": null,
            "justify_items": null,
            "left": null,
            "margin": null,
            "max_height": null,
            "max_width": null,
            "min_height": null,
            "min_width": null,
            "object_fit": null,
            "object_position": null,
            "order": null,
            "overflow": null,
            "overflow_x": null,
            "overflow_y": null,
            "padding": null,
            "right": null,
            "top": null,
            "visibility": null,
            "width": null
          }
        },
        "36022b5a36d24ffa9fcd176dca2ab682": {
          "model_module": "@jupyter-widgets/controls",
          "model_name": "DescriptionStyleModel",
          "model_module_version": "1.5.0",
          "state": {
            "_model_module": "@jupyter-widgets/controls",
            "_model_module_version": "1.5.0",
            "_model_name": "DescriptionStyleModel",
            "_view_count": null,
            "_view_module": "@jupyter-widgets/base",
            "_view_module_version": "1.2.0",
            "_view_name": "StyleView",
            "description_width": ""
          }
        },
        "c5c2cbbd688b4131b6322fd9e9d2ef78": {
          "model_module": "@jupyter-widgets/base",
          "model_name": "LayoutModel",
          "model_module_version": "1.2.0",
          "state": {
            "_model_module": "@jupyter-widgets/base",
            "_model_module_version": "1.2.0",
            "_model_name": "LayoutModel",
            "_view_count": null,
            "_view_module": "@jupyter-widgets/base",
            "_view_module_version": "1.2.0",
            "_view_name": "LayoutView",
            "align_content": null,
            "align_items": null,
            "align_self": null,
            "border": null,
            "bottom": null,
            "display": null,
            "flex": null,
            "flex_flow": null,
            "grid_area": null,
            "grid_auto_columns": null,
            "grid_auto_flow": null,
            "grid_auto_rows": null,
            "grid_column": null,
            "grid_gap": null,
            "grid_row": null,
            "grid_template_areas": null,
            "grid_template_columns": null,
            "grid_template_rows": null,
            "height": null,
            "justify_content": null,
            "justify_items": null,
            "left": null,
            "margin": null,
            "max_height": null,
            "max_width": null,
            "min_height": null,
            "min_width": null,
            "object_fit": null,
            "object_position": null,
            "order": null,
            "overflow": null,
            "overflow_x": null,
            "overflow_y": null,
            "padding": null,
            "right": null,
            "top": null,
            "visibility": null,
            "width": null
          }
        },
        "8864716a4b2c4996b63eb4a385a4cde0": {
          "model_module": "@jupyter-widgets/controls",
          "model_name": "ProgressStyleModel",
          "model_module_version": "1.5.0",
          "state": {
            "_model_module": "@jupyter-widgets/controls",
            "_model_module_version": "1.5.0",
            "_model_name": "ProgressStyleModel",
            "_view_count": null,
            "_view_module": "@jupyter-widgets/base",
            "_view_module_version": "1.2.0",
            "_view_name": "StyleView",
            "bar_color": null,
            "description_width": ""
          }
        },
        "a70e2ff6c02249adacbdd5d58737745b": {
          "model_module": "@jupyter-widgets/base",
          "model_name": "LayoutModel",
          "model_module_version": "1.2.0",
          "state": {
            "_model_module": "@jupyter-widgets/base",
            "_model_module_version": "1.2.0",
            "_model_name": "LayoutModel",
            "_view_count": null,
            "_view_module": "@jupyter-widgets/base",
            "_view_module_version": "1.2.0",
            "_view_name": "LayoutView",
            "align_content": null,
            "align_items": null,
            "align_self": null,
            "border": null,
            "bottom": null,
            "display": null,
            "flex": null,
            "flex_flow": null,
            "grid_area": null,
            "grid_auto_columns": null,
            "grid_auto_flow": null,
            "grid_auto_rows": null,
            "grid_column": null,
            "grid_gap": null,
            "grid_row": null,
            "grid_template_areas": null,
            "grid_template_columns": null,
            "grid_template_rows": null,
            "height": null,
            "justify_content": null,
            "justify_items": null,
            "left": null,
            "margin": null,
            "max_height": null,
            "max_width": null,
            "min_height": null,
            "min_width": null,
            "object_fit": null,
            "object_position": null,
            "order": null,
            "overflow": null,
            "overflow_x": null,
            "overflow_y": null,
            "padding": null,
            "right": null,
            "top": null,
            "visibility": null,
            "width": null
          }
        },
        "934f16d6693f4c1db841fdc160bcda60": {
          "model_module": "@jupyter-widgets/controls",
          "model_name": "DescriptionStyleModel",
          "model_module_version": "1.5.0",
          "state": {
            "_model_module": "@jupyter-widgets/controls",
            "_model_module_version": "1.5.0",
            "_model_name": "DescriptionStyleModel",
            "_view_count": null,
            "_view_module": "@jupyter-widgets/base",
            "_view_module_version": "1.2.0",
            "_view_name": "StyleView",
            "description_width": ""
          }
        },
        "67205c0f0e784de680067b3375e86741": {
          "model_module": "@jupyter-widgets/controls",
          "model_name": "HBoxModel",
          "model_module_version": "1.5.0",
          "state": {
            "_dom_classes": [],
            "_model_module": "@jupyter-widgets/controls",
            "_model_module_version": "1.5.0",
            "_model_name": "HBoxModel",
            "_view_count": null,
            "_view_module": "@jupyter-widgets/controls",
            "_view_module_version": "1.5.0",
            "_view_name": "HBoxView",
            "box_style": "",
            "children": [
              "IPY_MODEL_72c41f8f89184d89b2e708b0f65ca6f6",
              "IPY_MODEL_ff2c0d030c354552a76b1bfb3fda0942",
              "IPY_MODEL_58f90a1ba9514ca89e87e7d1cab0bee7"
            ],
            "layout": "IPY_MODEL_810947e96e184fad9addb44b9484b87b"
          }
        },
        "72c41f8f89184d89b2e708b0f65ca6f6": {
          "model_module": "@jupyter-widgets/controls",
          "model_name": "HTMLModel",
          "model_module_version": "1.5.0",
          "state": {
            "_dom_classes": [],
            "_model_module": "@jupyter-widgets/controls",
            "_model_module_version": "1.5.0",
            "_model_name": "HTMLModel",
            "_view_count": null,
            "_view_module": "@jupyter-widgets/controls",
            "_view_module_version": "1.5.0",
            "_view_name": "HTMLView",
            "description": "",
            "description_tooltip": null,
            "layout": "IPY_MODEL_d3ca56a9b6dd47aebd12453ef076dc43",
            "placeholder": "​",
            "style": "IPY_MODEL_05522d49762e46cdb0c8520965d67b96",
            "value": "Downloading (…)lve/main/config.json: 100%"
          }
        },
        "ff2c0d030c354552a76b1bfb3fda0942": {
          "model_module": "@jupyter-widgets/controls",
          "model_name": "FloatProgressModel",
          "model_module_version": "1.5.0",
          "state": {
            "_dom_classes": [],
            "_model_module": "@jupyter-widgets/controls",
            "_model_module_version": "1.5.0",
            "_model_name": "FloatProgressModel",
            "_view_count": null,
            "_view_module": "@jupyter-widgets/controls",
            "_view_module_version": "1.5.0",
            "_view_name": "ProgressView",
            "bar_style": "success",
            "description": "",
            "description_tooltip": null,
            "layout": "IPY_MODEL_c98f94103c0249ceb0b3a156342ee69a",
            "max": 633,
            "min": 0,
            "orientation": "horizontal",
            "style": "IPY_MODEL_3868d3dd816b4bfda3da30187419ef0f",
            "value": 633
          }
        },
        "58f90a1ba9514ca89e87e7d1cab0bee7": {
          "model_module": "@jupyter-widgets/controls",
          "model_name": "HTMLModel",
          "model_module_version": "1.5.0",
          "state": {
            "_dom_classes": [],
            "_model_module": "@jupyter-widgets/controls",
            "_model_module_version": "1.5.0",
            "_model_name": "HTMLModel",
            "_view_count": null,
            "_view_module": "@jupyter-widgets/controls",
            "_view_module_version": "1.5.0",
            "_view_name": "HTMLView",
            "description": "",
            "description_tooltip": null,
            "layout": "IPY_MODEL_4811e09d1fd3423bbd5d488439c37e80",
            "placeholder": "​",
            "style": "IPY_MODEL_f7a9856dce8b40e59fc641f8a33ddbfa",
            "value": " 633/633 [00:00&lt;00:00, 48.2kB/s]"
          }
        },
        "810947e96e184fad9addb44b9484b87b": {
          "model_module": "@jupyter-widgets/base",
          "model_name": "LayoutModel",
          "model_module_version": "1.2.0",
          "state": {
            "_model_module": "@jupyter-widgets/base",
            "_model_module_version": "1.2.0",
            "_model_name": "LayoutModel",
            "_view_count": null,
            "_view_module": "@jupyter-widgets/base",
            "_view_module_version": "1.2.0",
            "_view_name": "LayoutView",
            "align_content": null,
            "align_items": null,
            "align_self": null,
            "border": null,
            "bottom": null,
            "display": null,
            "flex": null,
            "flex_flow": null,
            "grid_area": null,
            "grid_auto_columns": null,
            "grid_auto_flow": null,
            "grid_auto_rows": null,
            "grid_column": null,
            "grid_gap": null,
            "grid_row": null,
            "grid_template_areas": null,
            "grid_template_columns": null,
            "grid_template_rows": null,
            "height": null,
            "justify_content": null,
            "justify_items": null,
            "left": null,
            "margin": null,
            "max_height": null,
            "max_width": null,
            "min_height": null,
            "min_width": null,
            "object_fit": null,
            "object_position": null,
            "order": null,
            "overflow": null,
            "overflow_x": null,
            "overflow_y": null,
            "padding": null,
            "right": null,
            "top": null,
            "visibility": null,
            "width": null
          }
        },
        "d3ca56a9b6dd47aebd12453ef076dc43": {
          "model_module": "@jupyter-widgets/base",
          "model_name": "LayoutModel",
          "model_module_version": "1.2.0",
          "state": {
            "_model_module": "@jupyter-widgets/base",
            "_model_module_version": "1.2.0",
            "_model_name": "LayoutModel",
            "_view_count": null,
            "_view_module": "@jupyter-widgets/base",
            "_view_module_version": "1.2.0",
            "_view_name": "LayoutView",
            "align_content": null,
            "align_items": null,
            "align_self": null,
            "border": null,
            "bottom": null,
            "display": null,
            "flex": null,
            "flex_flow": null,
            "grid_area": null,
            "grid_auto_columns": null,
            "grid_auto_flow": null,
            "grid_auto_rows": null,
            "grid_column": null,
            "grid_gap": null,
            "grid_row": null,
            "grid_template_areas": null,
            "grid_template_columns": null,
            "grid_template_rows": null,
            "height": null,
            "justify_content": null,
            "justify_items": null,
            "left": null,
            "margin": null,
            "max_height": null,
            "max_width": null,
            "min_height": null,
            "min_width": null,
            "object_fit": null,
            "object_position": null,
            "order": null,
            "overflow": null,
            "overflow_x": null,
            "overflow_y": null,
            "padding": null,
            "right": null,
            "top": null,
            "visibility": null,
            "width": null
          }
        },
        "05522d49762e46cdb0c8520965d67b96": {
          "model_module": "@jupyter-widgets/controls",
          "model_name": "DescriptionStyleModel",
          "model_module_version": "1.5.0",
          "state": {
            "_model_module": "@jupyter-widgets/controls",
            "_model_module_version": "1.5.0",
            "_model_name": "DescriptionStyleModel",
            "_view_count": null,
            "_view_module": "@jupyter-widgets/base",
            "_view_module_version": "1.2.0",
            "_view_name": "StyleView",
            "description_width": ""
          }
        },
        "c98f94103c0249ceb0b3a156342ee69a": {
          "model_module": "@jupyter-widgets/base",
          "model_name": "LayoutModel",
          "model_module_version": "1.2.0",
          "state": {
            "_model_module": "@jupyter-widgets/base",
            "_model_module_version": "1.2.0",
            "_model_name": "LayoutModel",
            "_view_count": null,
            "_view_module": "@jupyter-widgets/base",
            "_view_module_version": "1.2.0",
            "_view_name": "LayoutView",
            "align_content": null,
            "align_items": null,
            "align_self": null,
            "border": null,
            "bottom": null,
            "display": null,
            "flex": null,
            "flex_flow": null,
            "grid_area": null,
            "grid_auto_columns": null,
            "grid_auto_flow": null,
            "grid_auto_rows": null,
            "grid_column": null,
            "grid_gap": null,
            "grid_row": null,
            "grid_template_areas": null,
            "grid_template_columns": null,
            "grid_template_rows": null,
            "height": null,
            "justify_content": null,
            "justify_items": null,
            "left": null,
            "margin": null,
            "max_height": null,
            "max_width": null,
            "min_height": null,
            "min_width": null,
            "object_fit": null,
            "object_position": null,
            "order": null,
            "overflow": null,
            "overflow_x": null,
            "overflow_y": null,
            "padding": null,
            "right": null,
            "top": null,
            "visibility": null,
            "width": null
          }
        },
        "3868d3dd816b4bfda3da30187419ef0f": {
          "model_module": "@jupyter-widgets/controls",
          "model_name": "ProgressStyleModel",
          "model_module_version": "1.5.0",
          "state": {
            "_model_module": "@jupyter-widgets/controls",
            "_model_module_version": "1.5.0",
            "_model_name": "ProgressStyleModel",
            "_view_count": null,
            "_view_module": "@jupyter-widgets/base",
            "_view_module_version": "1.2.0",
            "_view_name": "StyleView",
            "bar_color": null,
            "description_width": ""
          }
        },
        "4811e09d1fd3423bbd5d488439c37e80": {
          "model_module": "@jupyter-widgets/base",
          "model_name": "LayoutModel",
          "model_module_version": "1.2.0",
          "state": {
            "_model_module": "@jupyter-widgets/base",
            "_model_module_version": "1.2.0",
            "_model_name": "LayoutModel",
            "_view_count": null,
            "_view_module": "@jupyter-widgets/base",
            "_view_module_version": "1.2.0",
            "_view_name": "LayoutView",
            "align_content": null,
            "align_items": null,
            "align_self": null,
            "border": null,
            "bottom": null,
            "display": null,
            "flex": null,
            "flex_flow": null,
            "grid_area": null,
            "grid_auto_columns": null,
            "grid_auto_flow": null,
            "grid_auto_rows": null,
            "grid_column": null,
            "grid_gap": null,
            "grid_row": null,
            "grid_template_areas": null,
            "grid_template_columns": null,
            "grid_template_rows": null,
            "height": null,
            "justify_content": null,
            "justify_items": null,
            "left": null,
            "margin": null,
            "max_height": null,
            "max_width": null,
            "min_height": null,
            "min_width": null,
            "object_fit": null,
            "object_position": null,
            "order": null,
            "overflow": null,
            "overflow_x": null,
            "overflow_y": null,
            "padding": null,
            "right": null,
            "top": null,
            "visibility": null,
            "width": null
          }
        },
        "f7a9856dce8b40e59fc641f8a33ddbfa": {
          "model_module": "@jupyter-widgets/controls",
          "model_name": "DescriptionStyleModel",
          "model_module_version": "1.5.0",
          "state": {
            "_model_module": "@jupyter-widgets/controls",
            "_model_module_version": "1.5.0",
            "_model_name": "DescriptionStyleModel",
            "_view_count": null,
            "_view_module": "@jupyter-widgets/base",
            "_view_module_version": "1.2.0",
            "_view_name": "StyleView",
            "description_width": ""
          }
        },
        "45aabce477fa4312b4d8b19984d56823": {
          "model_module": "@jupyter-widgets/controls",
          "model_name": "HBoxModel",
          "model_module_version": "1.5.0",
          "state": {
            "_dom_classes": [],
            "_model_module": "@jupyter-widgets/controls",
            "_model_module_version": "1.5.0",
            "_model_name": "HBoxModel",
            "_view_count": null,
            "_view_module": "@jupyter-widgets/controls",
            "_view_module_version": "1.5.0",
            "_view_name": "HBoxView",
            "box_style": "",
            "children": [
              "IPY_MODEL_3f7571cb4385486d88f85a2fd8bbed3c",
              "IPY_MODEL_0fb238d762ab45e8896f6ee1977e47a4",
              "IPY_MODEL_738e8896833e4811a519e51551f45a30"
            ],
            "layout": "IPY_MODEL_7570b7dae3d94293b6c48a9538a04cc5"
          }
        },
        "3f7571cb4385486d88f85a2fd8bbed3c": {
          "model_module": "@jupyter-widgets/controls",
          "model_name": "HTMLModel",
          "model_module_version": "1.5.0",
          "state": {
            "_dom_classes": [],
            "_model_module": "@jupyter-widgets/controls",
            "_model_module_version": "1.5.0",
            "_model_name": "HTMLModel",
            "_view_count": null,
            "_view_module": "@jupyter-widgets/controls",
            "_view_module_version": "1.5.0",
            "_view_name": "HTMLView",
            "description": "",
            "description_tooltip": null,
            "layout": "IPY_MODEL_58d00245456944c9a56c6dbeaf4f5899",
            "placeholder": "​",
            "style": "IPY_MODEL_d0e84c485d154c129ba63cb2e611fd64",
            "value": "Downloading tf_model.h5: 100%"
          }
        },
        "0fb238d762ab45e8896f6ee1977e47a4": {
          "model_module": "@jupyter-widgets/controls",
          "model_name": "FloatProgressModel",
          "model_module_version": "1.5.0",
          "state": {
            "_dom_classes": [],
            "_model_module": "@jupyter-widgets/controls",
            "_model_module_version": "1.5.0",
            "_model_name": "FloatProgressModel",
            "_view_count": null,
            "_view_module": "@jupyter-widgets/controls",
            "_view_module_version": "1.5.0",
            "_view_name": "ProgressView",
            "bar_style": "success",
            "description": "",
            "description_tooltip": null,
            "layout": "IPY_MODEL_f6f6f0cd32a647eb861b65fcd107101c",
            "max": 3538920288,
            "min": 0,
            "orientation": "horizontal",
            "style": "IPY_MODEL_949eac2b8226416783ca3e957d95d7a5",
            "value": 3538920288
          }
        },
        "738e8896833e4811a519e51551f45a30": {
          "model_module": "@jupyter-widgets/controls",
          "model_name": "HTMLModel",
          "model_module_version": "1.5.0",
          "state": {
            "_dom_classes": [],
            "_model_module": "@jupyter-widgets/controls",
            "_model_module_version": "1.5.0",
            "_model_name": "HTMLModel",
            "_view_count": null,
            "_view_module": "@jupyter-widgets/controls",
            "_view_module_version": "1.5.0",
            "_view_name": "HTMLView",
            "description": "",
            "description_tooltip": null,
            "layout": "IPY_MODEL_94d396d2668f4724be65cd57ba23cb70",
            "placeholder": "​",
            "style": "IPY_MODEL_ca476e9d5a264c6c9ffd4be570c7112d",
            "value": " 3.54G/3.54G [00:23&lt;00:00, 214MB/s]"
          }
        },
        "7570b7dae3d94293b6c48a9538a04cc5": {
          "model_module": "@jupyter-widgets/base",
          "model_name": "LayoutModel",
          "model_module_version": "1.2.0",
          "state": {
            "_model_module": "@jupyter-widgets/base",
            "_model_module_version": "1.2.0",
            "_model_name": "LayoutModel",
            "_view_count": null,
            "_view_module": "@jupyter-widgets/base",
            "_view_module_version": "1.2.0",
            "_view_name": "LayoutView",
            "align_content": null,
            "align_items": null,
            "align_self": null,
            "border": null,
            "bottom": null,
            "display": null,
            "flex": null,
            "flex_flow": null,
            "grid_area": null,
            "grid_auto_columns": null,
            "grid_auto_flow": null,
            "grid_auto_rows": null,
            "grid_column": null,
            "grid_gap": null,
            "grid_row": null,
            "grid_template_areas": null,
            "grid_template_columns": null,
            "grid_template_rows": null,
            "height": null,
            "justify_content": null,
            "justify_items": null,
            "left": null,
            "margin": null,
            "max_height": null,
            "max_width": null,
            "min_height": null,
            "min_width": null,
            "object_fit": null,
            "object_position": null,
            "order": null,
            "overflow": null,
            "overflow_x": null,
            "overflow_y": null,
            "padding": null,
            "right": null,
            "top": null,
            "visibility": null,
            "width": null
          }
        },
        "58d00245456944c9a56c6dbeaf4f5899": {
          "model_module": "@jupyter-widgets/base",
          "model_name": "LayoutModel",
          "model_module_version": "1.2.0",
          "state": {
            "_model_module": "@jupyter-widgets/base",
            "_model_module_version": "1.2.0",
            "_model_name": "LayoutModel",
            "_view_count": null,
            "_view_module": "@jupyter-widgets/base",
            "_view_module_version": "1.2.0",
            "_view_name": "LayoutView",
            "align_content": null,
            "align_items": null,
            "align_self": null,
            "border": null,
            "bottom": null,
            "display": null,
            "flex": null,
            "flex_flow": null,
            "grid_area": null,
            "grid_auto_columns": null,
            "grid_auto_flow": null,
            "grid_auto_rows": null,
            "grid_column": null,
            "grid_gap": null,
            "grid_row": null,
            "grid_template_areas": null,
            "grid_template_columns": null,
            "grid_template_rows": null,
            "height": null,
            "justify_content": null,
            "justify_items": null,
            "left": null,
            "margin": null,
            "max_height": null,
            "max_width": null,
            "min_height": null,
            "min_width": null,
            "object_fit": null,
            "object_position": null,
            "order": null,
            "overflow": null,
            "overflow_x": null,
            "overflow_y": null,
            "padding": null,
            "right": null,
            "top": null,
            "visibility": null,
            "width": null
          }
        },
        "d0e84c485d154c129ba63cb2e611fd64": {
          "model_module": "@jupyter-widgets/controls",
          "model_name": "DescriptionStyleModel",
          "model_module_version": "1.5.0",
          "state": {
            "_model_module": "@jupyter-widgets/controls",
            "_model_module_version": "1.5.0",
            "_model_name": "DescriptionStyleModel",
            "_view_count": null,
            "_view_module": "@jupyter-widgets/base",
            "_view_module_version": "1.2.0",
            "_view_name": "StyleView",
            "description_width": ""
          }
        },
        "f6f6f0cd32a647eb861b65fcd107101c": {
          "model_module": "@jupyter-widgets/base",
          "model_name": "LayoutModel",
          "model_module_version": "1.2.0",
          "state": {
            "_model_module": "@jupyter-widgets/base",
            "_model_module_version": "1.2.0",
            "_model_name": "LayoutModel",
            "_view_count": null,
            "_view_module": "@jupyter-widgets/base",
            "_view_module_version": "1.2.0",
            "_view_name": "LayoutView",
            "align_content": null,
            "align_items": null,
            "align_self": null,
            "border": null,
            "bottom": null,
            "display": null,
            "flex": null,
            "flex_flow": null,
            "grid_area": null,
            "grid_auto_columns": null,
            "grid_auto_flow": null,
            "grid_auto_rows": null,
            "grid_column": null,
            "grid_gap": null,
            "grid_row": null,
            "grid_template_areas": null,
            "grid_template_columns": null,
            "grid_template_rows": null,
            "height": null,
            "justify_content": null,
            "justify_items": null,
            "left": null,
            "margin": null,
            "max_height": null,
            "max_width": null,
            "min_height": null,
            "min_width": null,
            "object_fit": null,
            "object_position": null,
            "order": null,
            "overflow": null,
            "overflow_x": null,
            "overflow_y": null,
            "padding": null,
            "right": null,
            "top": null,
            "visibility": null,
            "width": null
          }
        },
        "949eac2b8226416783ca3e957d95d7a5": {
          "model_module": "@jupyter-widgets/controls",
          "model_name": "ProgressStyleModel",
          "model_module_version": "1.5.0",
          "state": {
            "_model_module": "@jupyter-widgets/controls",
            "_model_module_version": "1.5.0",
            "_model_name": "ProgressStyleModel",
            "_view_count": null,
            "_view_module": "@jupyter-widgets/base",
            "_view_module_version": "1.2.0",
            "_view_name": "StyleView",
            "bar_color": null,
            "description_width": ""
          }
        },
        "94d396d2668f4724be65cd57ba23cb70": {
          "model_module": "@jupyter-widgets/base",
          "model_name": "LayoutModel",
          "model_module_version": "1.2.0",
          "state": {
            "_model_module": "@jupyter-widgets/base",
            "_model_module_version": "1.2.0",
            "_model_name": "LayoutModel",
            "_view_count": null,
            "_view_module": "@jupyter-widgets/base",
            "_view_module_version": "1.2.0",
            "_view_name": "LayoutView",
            "align_content": null,
            "align_items": null,
            "align_self": null,
            "border": null,
            "bottom": null,
            "display": null,
            "flex": null,
            "flex_flow": null,
            "grid_area": null,
            "grid_auto_columns": null,
            "grid_auto_flow": null,
            "grid_auto_rows": null,
            "grid_column": null,
            "grid_gap": null,
            "grid_row": null,
            "grid_template_areas": null,
            "grid_template_columns": null,
            "grid_template_rows": null,
            "height": null,
            "justify_content": null,
            "justify_items": null,
            "left": null,
            "margin": null,
            "max_height": null,
            "max_width": null,
            "min_height": null,
            "min_width": null,
            "object_fit": null,
            "object_position": null,
            "order": null,
            "overflow": null,
            "overflow_x": null,
            "overflow_y": null,
            "padding": null,
            "right": null,
            "top": null,
            "visibility": null,
            "width": null
          }
        },
        "ca476e9d5a264c6c9ffd4be570c7112d": {
          "model_module": "@jupyter-widgets/controls",
          "model_name": "DescriptionStyleModel",
          "model_module_version": "1.5.0",
          "state": {
            "_model_module": "@jupyter-widgets/controls",
            "_model_module_version": "1.5.0",
            "_model_name": "DescriptionStyleModel",
            "_view_count": null,
            "_view_module": "@jupyter-widgets/base",
            "_view_module_version": "1.2.0",
            "_view_name": "StyleView",
            "description_width": ""
          }
        }
      }
    }
  },
  "nbformat": 4,
  "nbformat_minor": 0
}