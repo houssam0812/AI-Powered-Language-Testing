{
  "cells": [
    {
      "cell_type": "code",
      "execution_count": null,
      "metadata": {
        "colab": {
          "base_uri": "https://localhost:8080/"
        },
        "id": "a_jb7hIY3nQY",
        "outputId": "ddc86183-5259-47ba-e199-40b607e914e4"
      },
      "outputs": [
        {
          "name": "stdout",
          "output_type": "stream",
          "text": [
            "Drive already mounted at /content/drive; to attempt to forcibly remount, call drive.mount(\"/content/drive\", force_remount=True).\n"
          ]
        }
      ],
      "source": [
        "from google.colab import drive\n",
        "drive.mount('/content/drive')"
      ]
    },
    {
      "cell_type": "code",
      "execution_count": null,
      "metadata": {
        "colab": {
          "base_uri": "https://localhost:8080/"
        },
        "id": "oB4usyak5OxI",
        "outputId": "3976e785-3039-4047-f9f0-c9c527305817"
      },
      "outputs": [
        {
          "name": "stdout",
          "output_type": "stream",
          "text": [
            "/content\n"
          ]
        }
      ],
      "source": [
        "!pwd"
      ]
    },
    {
      "cell_type": "code",
      "execution_count": null,
      "metadata": {
        "colab": {
          "base_uri": "https://localhost:8080/"
        },
        "id": "8u0IpQjJ4864",
        "outputId": "9e0f593e-4f60-434f-c998-06b265b8aefd"
      },
      "outputs": [
        {
          "name": "stdout",
          "output_type": "stream",
          "text": [
            "Looking in indexes: https://pypi.org/simple, https://us-python.pkg.dev/colab-wheels/public/simple/\n",
            "Ignoring tensorflow-macos: markers 'sys_platform == \"darwin\" and \"ARM\" in platform_version' don't match your environment\n",
            "Ignoring tensorflow: markers 'sys_platform == \"darwin\" and \"ARM\" not in platform_version' don't match your environment\n",
            "Requirement already satisfied: aiofiles in /usr/local/lib/python3.9/dist-packages (from -r /content/drive/MyDrive/ColabNotebooks/requirements.txt (line 1)) (22.1.0)\n",
            "Requirement already satisfied: aiosqlite in /usr/local/lib/python3.9/dist-packages (from -r /content/drive/MyDrive/ColabNotebooks/requirements.txt (line 2)) (0.18.0)\n",
            "Requirement already satisfied: anyio in /usr/local/lib/python3.9/dist-packages (from -r /content/drive/MyDrive/ColabNotebooks/requirements.txt (line 3)) (3.6.2)\n",
            "Requirement already satisfied: argon2-cffi in /usr/local/lib/python3.9/dist-packages (from -r /content/drive/MyDrive/ColabNotebooks/requirements.txt (line 4)) (21.3.0)\n",
            "Requirement already satisfied: argon2-cffi-bindings in /usr/local/lib/python3.9/dist-packages (from -r /content/drive/MyDrive/ColabNotebooks/requirements.txt (line 5)) (21.2.0)\n",
            "Requirement already satisfied: arrow in /usr/local/lib/python3.9/dist-packages (from -r /content/drive/MyDrive/ColabNotebooks/requirements.txt (line 6)) (1.2.3)\n",
            "Requirement already satisfied: astroid in /usr/local/lib/python3.9/dist-packages (from -r /content/drive/MyDrive/ColabNotebooks/requirements.txt (line 7)) (2.15.0)\n",
            "Requirement already satisfied: asttokens in /usr/local/lib/python3.9/dist-packages (from -r /content/drive/MyDrive/ColabNotebooks/requirements.txt (line 8)) (2.2.1)\n",
            "Requirement already satisfied: attrs in /usr/local/lib/python3.9/dist-packages (from -r /content/drive/MyDrive/ColabNotebooks/requirements.txt (line 9)) (22.2.0)\n",
            "Requirement already satisfied: Babel in /usr/local/lib/python3.9/dist-packages (from -r /content/drive/MyDrive/ColabNotebooks/requirements.txt (line 10)) (2.12.1)\n",
            "Requirement already satisfied: backcall in /usr/local/lib/python3.9/dist-packages (from -r /content/drive/MyDrive/ColabNotebooks/requirements.txt (line 11)) (0.2.0)\n",
            "Requirement already satisfied: beautifulsoup4 in /usr/local/lib/python3.9/dist-packages (from -r /content/drive/MyDrive/ColabNotebooks/requirements.txt (line 12)) (4.6.3)\n",
            "Requirement already satisfied: bleach in /usr/local/lib/python3.9/dist-packages (from -r /content/drive/MyDrive/ColabNotebooks/requirements.txt (line 13)) (6.0.0)\n",
            "Requirement already satisfied: certifi in /usr/local/lib/python3.9/dist-packages (from -r /content/drive/MyDrive/ColabNotebooks/requirements.txt (line 14)) (2022.12.7)\n",
            "Requirement already satisfied: cffi in /usr/local/lib/python3.9/dist-packages (from -r /content/drive/MyDrive/ColabNotebooks/requirements.txt (line 15)) (1.15.1)\n",
            "Requirement already satisfied: charset-normalizer in /usr/local/lib/python3.9/dist-packages (from -r /content/drive/MyDrive/ColabNotebooks/requirements.txt (line 16)) (3.1.0)\n",
            "Requirement already satisfied: comm in /usr/local/lib/python3.9/dist-packages (from -r /content/drive/MyDrive/ColabNotebooks/requirements.txt (line 17)) (0.1.2)\n",
            "Requirement already satisfied: contourpy in /usr/local/lib/python3.9/dist-packages (from -r /content/drive/MyDrive/ColabNotebooks/requirements.txt (line 18)) (1.0.7)\n",
            "Requirement already satisfied: cycler in /usr/local/lib/python3.9/dist-packages (from -r /content/drive/MyDrive/ColabNotebooks/requirements.txt (line 19)) (0.11.0)\n",
            "Requirement already satisfied: debugpy in /usr/local/lib/python3.9/dist-packages (from -r /content/drive/MyDrive/ColabNotebooks/requirements.txt (line 20)) (1.6.6)\n",
            "Requirement already satisfied: decorator in /usr/local/lib/python3.9/dist-packages (from -r /content/drive/MyDrive/ColabNotebooks/requirements.txt (line 21)) (4.4.2)\n",
            "Requirement already satisfied: defusedxml in /usr/local/lib/python3.9/dist-packages (from -r /content/drive/MyDrive/ColabNotebooks/requirements.txt (line 22)) (0.7.1)\n",
            "Requirement already satisfied: dill in /usr/local/lib/python3.9/dist-packages (from -r /content/drive/MyDrive/ColabNotebooks/requirements.txt (line 23)) (0.3.6)\n",
            "Requirement already satisfied: exceptiongroup in /usr/local/lib/python3.9/dist-packages (from -r /content/drive/MyDrive/ColabNotebooks/requirements.txt (line 24)) (1.1.0)\n",
            "Requirement already satisfied: executing in /usr/local/lib/python3.9/dist-packages (from -r /content/drive/MyDrive/ColabNotebooks/requirements.txt (line 25)) (1.2.0)\n",
            "Requirement already satisfied: fastjsonschema in /usr/local/lib/python3.9/dist-packages (from -r /content/drive/MyDrive/ColabNotebooks/requirements.txt (line 26)) (2.16.3)\n",
            "Requirement already satisfied: fonttools in /usr/local/lib/python3.9/dist-packages (from -r /content/drive/MyDrive/ColabNotebooks/requirements.txt (line 27)) (4.39.0)\n",
            "Requirement already satisfied: fqdn in /usr/local/lib/python3.9/dist-packages (from -r /content/drive/MyDrive/ColabNotebooks/requirements.txt (line 28)) (1.5.1)\n",
            "Requirement already satisfied: idna in /usr/local/lib/python3.9/dist-packages (from -r /content/drive/MyDrive/ColabNotebooks/requirements.txt (line 29)) (2.10)\n",
            "Requirement already satisfied: ipdb in /usr/local/lib/python3.9/dist-packages (from -r /content/drive/MyDrive/ColabNotebooks/requirements.txt (line 30)) (0.13.11)\n",
            "Requirement already satisfied: ipykernel in /usr/local/lib/python3.9/dist-packages (from -r /content/drive/MyDrive/ColabNotebooks/requirements.txt (line 31)) (5.3.4)\n",
            "Requirement already satisfied: ipython in /usr/local/lib/python3.9/dist-packages (from -r /content/drive/MyDrive/ColabNotebooks/requirements.txt (line 32)) (8.11.0)\n",
            "Requirement already satisfied: ipython-genutils in /usr/local/lib/python3.9/dist-packages (from -r /content/drive/MyDrive/ColabNotebooks/requirements.txt (line 33)) (0.2.0)\n",
            "Requirement already satisfied: isoduration in /usr/local/lib/python3.9/dist-packages (from -r /content/drive/MyDrive/ColabNotebooks/requirements.txt (line 34)) (20.11.0)\n",
            "Requirement already satisfied: isort in /usr/local/lib/python3.9/dist-packages (from -r /content/drive/MyDrive/ColabNotebooks/requirements.txt (line 35)) (5.12.0)\n",
            "Requirement already satisfied: jedi in /usr/local/lib/python3.9/dist-packages (from -r /content/drive/MyDrive/ColabNotebooks/requirements.txt (line 36)) (0.18.2)\n",
            "Requirement already satisfied: Jinja2 in /usr/local/lib/python3.9/dist-packages (from -r /content/drive/MyDrive/ColabNotebooks/requirements.txt (line 37)) (3.1.2)\n",
            "Requirement already satisfied: joblib in /usr/local/lib/python3.9/dist-packages (from -r /content/drive/MyDrive/ColabNotebooks/requirements.txt (line 38)) (1.2.0)\n",
            "Requirement already satisfied: json5 in /usr/local/lib/python3.9/dist-packages (from -r /content/drive/MyDrive/ColabNotebooks/requirements.txt (line 39)) (0.9.11)\n",
            "Requirement already satisfied: jsonpointer in /usr/local/lib/python3.9/dist-packages (from -r /content/drive/MyDrive/ColabNotebooks/requirements.txt (line 40)) (2.3)\n",
            "Requirement already satisfied: jupyter_client in /usr/local/lib/python3.9/dist-packages (from -r /content/drive/MyDrive/ColabNotebooks/requirements.txt (line 41)) (8.0.3)\n",
            "Requirement already satisfied: jupyter_core in /usr/local/lib/python3.9/dist-packages (from -r /content/drive/MyDrive/ColabNotebooks/requirements.txt (line 42)) (5.2.0)\n",
            "Requirement already satisfied: jupyter-events in /usr/local/lib/python3.9/dist-packages (from -r /content/drive/MyDrive/ColabNotebooks/requirements.txt (line 43)) (0.6.3)\n",
            "Requirement already satisfied: jupyter_server in /usr/local/lib/python3.9/dist-packages (from -r /content/drive/MyDrive/ColabNotebooks/requirements.txt (line 44)) (2.4.0)\n",
            "Requirement already satisfied: jupyter_server_fileid in /usr/local/lib/python3.9/dist-packages (from -r /content/drive/MyDrive/ColabNotebooks/requirements.txt (line 45)) (0.8.0)\n",
            "Requirement already satisfied: jupyter_server_terminals in /usr/local/lib/python3.9/dist-packages (from -r /content/drive/MyDrive/ColabNotebooks/requirements.txt (line 46)) (0.4.4)\n",
            "Requirement already satisfied: jupyter_server_ydoc in /usr/local/lib/python3.9/dist-packages (from -r /content/drive/MyDrive/ColabNotebooks/requirements.txt (line 47)) (0.8.0)\n",
            "Requirement already satisfied: jupyter-ydoc in /usr/local/lib/python3.9/dist-packages (from -r /content/drive/MyDrive/ColabNotebooks/requirements.txt (line 48)) (0.3.4)\n",
            "Requirement already satisfied: jupyterlab in /usr/local/lib/python3.9/dist-packages (from -r /content/drive/MyDrive/ColabNotebooks/requirements.txt (line 49)) (3.5.3)\n",
            "Requirement already satisfied: jupyterlab-pygments in /usr/local/lib/python3.9/dist-packages (from -r /content/drive/MyDrive/ColabNotebooks/requirements.txt (line 50)) (0.2.2)\n",
            "Requirement already satisfied: jupyterlab_server in /usr/local/lib/python3.9/dist-packages (from -r /content/drive/MyDrive/ColabNotebooks/requirements.txt (line 51)) (2.20.0)\n",
            "Requirement already satisfied: kiwisolver in /usr/local/lib/python3.9/dist-packages (from -r /content/drive/MyDrive/ColabNotebooks/requirements.txt (line 52)) (1.4.4)\n",
            "Requirement already satisfied: lazy-object-proxy in /usr/local/lib/python3.9/dist-packages (from -r /content/drive/MyDrive/ColabNotebooks/requirements.txt (line 53)) (1.9.0)\n",
            "Requirement already satisfied: MarkupSafe in /usr/local/lib/python3.9/dist-packages (from -r /content/drive/MyDrive/ColabNotebooks/requirements.txt (line 54)) (2.1.2)\n",
            "Requirement already satisfied: matplotlib in /usr/local/lib/python3.9/dist-packages (from -r /content/drive/MyDrive/ColabNotebooks/requirements.txt (line 55)) (3.5.3)\n",
            "Requirement already satisfied: matplotlib-inline in /usr/local/lib/python3.9/dist-packages (from -r /content/drive/MyDrive/ColabNotebooks/requirements.txt (line 56)) (0.1.6)\n",
            "Requirement already satisfied: mccabe in /usr/local/lib/python3.9/dist-packages (from -r /content/drive/MyDrive/ColabNotebooks/requirements.txt (line 57)) (0.7.0)\n",
            "Requirement already satisfied: mistune in /usr/local/lib/python3.9/dist-packages (from -r /content/drive/MyDrive/ColabNotebooks/requirements.txt (line 58)) (0.8.4)\n",
            "Requirement already satisfied: nbclassic in /usr/local/lib/python3.9/dist-packages (from -r /content/drive/MyDrive/ColabNotebooks/requirements.txt (line 59)) (0.5.3)\n",
            "Requirement already satisfied: nbclient in /usr/local/lib/python3.9/dist-packages (from -r /content/drive/MyDrive/ColabNotebooks/requirements.txt (line 60)) (0.7.2)\n",
            "Requirement already satisfied: nbconvert in /usr/local/lib/python3.9/dist-packages (from -r /content/drive/MyDrive/ColabNotebooks/requirements.txt (line 61)) (6.5.4)\n",
            "Requirement already satisfied: nbformat in /usr/local/lib/python3.9/dist-packages (from -r /content/drive/MyDrive/ColabNotebooks/requirements.txt (line 62)) (5.7.3)\n",
            "Requirement already satisfied: nest-asyncio in /usr/local/lib/python3.9/dist-packages (from -r /content/drive/MyDrive/ColabNotebooks/requirements.txt (line 63)) (1.5.6)\n",
            "Requirement already satisfied: notebook in /usr/local/lib/python3.9/dist-packages (from -r /content/drive/MyDrive/ColabNotebooks/requirements.txt (line 64)) (6.3.0)\n",
            "Requirement already satisfied: notebook_shim in /usr/local/lib/python3.9/dist-packages (from -r /content/drive/MyDrive/ColabNotebooks/requirements.txt (line 65)) (0.2.2)\n",
            "Requirement already satisfied: numpy in /usr/local/lib/python3.9/dist-packages (from -r /content/drive/MyDrive/ColabNotebooks/requirements.txt (line 66)) (1.22.4)\n",
            "Requirement already satisfied: packaging in /usr/local/lib/python3.9/dist-packages (from -r /content/drive/MyDrive/ColabNotebooks/requirements.txt (line 67)) (23.0)\n",
            "Requirement already satisfied: pandocfilters in /usr/local/lib/python3.9/dist-packages (from -r /content/drive/MyDrive/ColabNotebooks/requirements.txt (line 68)) (1.5.0)\n",
            "Requirement already satisfied: parso in /usr/local/lib/python3.9/dist-packages (from -r /content/drive/MyDrive/ColabNotebooks/requirements.txt (line 69)) (0.8.3)\n",
            "Requirement already satisfied: pexpect in /usr/local/lib/python3.9/dist-packages (from -r /content/drive/MyDrive/ColabNotebooks/requirements.txt (line 70)) (4.8.0)\n",
            "Requirement already satisfied: pickleshare in /usr/local/lib/python3.9/dist-packages (from -r /content/drive/MyDrive/ColabNotebooks/requirements.txt (line 71)) (0.7.5)\n",
            "Requirement already satisfied: Pillow in /usr/local/lib/python3.9/dist-packages (from -r /content/drive/MyDrive/ColabNotebooks/requirements.txt (line 72)) (8.4.0)\n",
            "Requirement already satisfied: pip in /usr/local/lib/python3.9/dist-packages (from -r /content/drive/MyDrive/ColabNotebooks/requirements.txt (line 73)) (22.0.4)\n",
            "Requirement already satisfied: platformdirs in /usr/local/lib/python3.9/dist-packages (from -r /content/drive/MyDrive/ColabNotebooks/requirements.txt (line 74)) (3.1.0)\n",
            "Requirement already satisfied: pluggy in /usr/local/lib/python3.9/dist-packages (from -r /content/drive/MyDrive/ColabNotebooks/requirements.txt (line 75)) (0.7.1)\n",
            "Requirement already satisfied: prometheus-client in /usr/local/lib/python3.9/dist-packages (from -r /content/drive/MyDrive/ColabNotebooks/requirements.txt (line 76)) (0.16.0)\n",
            "Requirement already satisfied: prompt-toolkit in /usr/local/lib/python3.9/dist-packages (from -r /content/drive/MyDrive/ColabNotebooks/requirements.txt (line 77)) (3.0.38)\n",
            "Requirement already satisfied: psutil in /usr/local/lib/python3.9/dist-packages (from -r /content/drive/MyDrive/ColabNotebooks/requirements.txt (line 78)) (5.4.8)\n",
            "Requirement already satisfied: ptyprocess in /usr/local/lib/python3.9/dist-packages (from -r /content/drive/MyDrive/ColabNotebooks/requirements.txt (line 79)) (0.7.0)\n",
            "Requirement already satisfied: pure-eval in /usr/local/lib/python3.9/dist-packages (from -r /content/drive/MyDrive/ColabNotebooks/requirements.txt (line 80)) (0.2.2)\n",
            "Requirement already satisfied: pycparser in /usr/local/lib/python3.9/dist-packages (from -r /content/drive/MyDrive/ColabNotebooks/requirements.txt (line 81)) (2.21)\n",
            "Requirement already satisfied: pylint in /usr/local/lib/python3.9/dist-packages (from -r /content/drive/MyDrive/ColabNotebooks/requirements.txt (line 82)) (2.17.0)\n",
            "Requirement already satisfied: pyparsing in /usr/local/lib/python3.9/dist-packages (from -r /content/drive/MyDrive/ColabNotebooks/requirements.txt (line 83)) (3.0.9)\n",
            "Requirement already satisfied: pyrsistent in /usr/local/lib/python3.9/dist-packages (from -r /content/drive/MyDrive/ColabNotebooks/requirements.txt (line 84)) (0.19.3)\n",
            "Requirement already satisfied: pytest in /usr/local/lib/python3.9/dist-packages (from -r /content/drive/MyDrive/ColabNotebooks/requirements.txt (line 85)) (3.6.4)\n",
            "Requirement already satisfied: python-dateutil in /usr/local/lib/python3.9/dist-packages (from -r /content/drive/MyDrive/ColabNotebooks/requirements.txt (line 86)) (2.8.2)\n",
            "Requirement already satisfied: python-json-logger in /usr/local/lib/python3.9/dist-packages (from -r /content/drive/MyDrive/ColabNotebooks/requirements.txt (line 87)) (2.0.7)\n",
            "Requirement already satisfied: pytz in /usr/local/lib/python3.9/dist-packages (from -r /content/drive/MyDrive/ColabNotebooks/requirements.txt (line 88)) (2022.7.1)\n",
            "Requirement already satisfied: PyYAML in /usr/local/lib/python3.9/dist-packages (from -r /content/drive/MyDrive/ColabNotebooks/requirements.txt (line 89)) (6.0)\n",
            "Requirement already satisfied: requests in /usr/local/lib/python3.9/dist-packages (from -r /content/drive/MyDrive/ColabNotebooks/requirements.txt (line 90)) (2.28.2)\n",
            "Requirement already satisfied: rfc3339-validator in /usr/local/lib/python3.9/dist-packages (from -r /content/drive/MyDrive/ColabNotebooks/requirements.txt (line 91)) (0.1.4)\n",
            "Requirement already satisfied: rfc3986-validator in /usr/local/lib/python3.9/dist-packages (from -r /content/drive/MyDrive/ColabNotebooks/requirements.txt (line 92)) (0.1.1)\n",
            "Requirement already satisfied: scikit-learn in /usr/local/lib/python3.9/dist-packages (from -r /content/drive/MyDrive/ColabNotebooks/requirements.txt (line 93)) (1.2.1)\n",
            "Requirement already satisfied: scipy in /usr/local/lib/python3.9/dist-packages (from -r /content/drive/MyDrive/ColabNotebooks/requirements.txt (line 94)) (1.10.1)\n",
            "Requirement already satisfied: seaborn in /usr/local/lib/python3.9/dist-packages (from -r /content/drive/MyDrive/ColabNotebooks/requirements.txt (line 95)) (0.11.2)\n",
            "Requirement already satisfied: Send2Trash in /usr/local/lib/python3.9/dist-packages (from -r /content/drive/MyDrive/ColabNotebooks/requirements.txt (line 96)) (1.8.0)\n",
            "Requirement already satisfied: setuptools in /usr/local/lib/python3.9/dist-packages (from -r /content/drive/MyDrive/ColabNotebooks/requirements.txt (line 97)) (57.4.0)\n",
            "Requirement already satisfied: six in /usr/local/lib/python3.9/dist-packages (from -r /content/drive/MyDrive/ColabNotebooks/requirements.txt (line 98)) (1.15.0)\n",
            "Requirement already satisfied: sniffio in /usr/local/lib/python3.9/dist-packages (from -r /content/drive/MyDrive/ColabNotebooks/requirements.txt (line 99)) (1.3.0)\n",
            "Requirement already satisfied: soupsieve in /usr/local/lib/python3.9/dist-packages (from -r /content/drive/MyDrive/ColabNotebooks/requirements.txt (line 100)) (2.4)\n",
            "Requirement already satisfied: terminado in /usr/local/lib/python3.9/dist-packages (from -r /content/drive/MyDrive/ColabNotebooks/requirements.txt (line 101)) (0.17.1)\n",
            "Requirement already satisfied: threadpoolctl in /usr/local/lib/python3.9/dist-packages (from -r /content/drive/MyDrive/ColabNotebooks/requirements.txt (line 102)) (3.1.0)\n",
            "Requirement already satisfied: tinycss2 in /usr/local/lib/python3.9/dist-packages (from -r /content/drive/MyDrive/ColabNotebooks/requirements.txt (line 103)) (1.2.1)\n",
            "Requirement already satisfied: tomli in /usr/local/lib/python3.9/dist-packages (from -r /content/drive/MyDrive/ColabNotebooks/requirements.txt (line 104)) (2.0.1)\n",
            "Requirement already satisfied: tomlkit in /usr/local/lib/python3.9/dist-packages (from -r /content/drive/MyDrive/ColabNotebooks/requirements.txt (line 105)) (0.11.6)\n",
            "Requirement already satisfied: typing_extensions in /usr/local/lib/python3.9/dist-packages (from -r /content/drive/MyDrive/ColabNotebooks/requirements.txt (line 106)) (4.5.0)\n",
            "Requirement already satisfied: uri-template in /usr/local/lib/python3.9/dist-packages (from -r /content/drive/MyDrive/ColabNotebooks/requirements.txt (line 107)) (1.2.0)\n",
            "Requirement already satisfied: urllib3 in /usr/local/lib/python3.9/dist-packages (from -r /content/drive/MyDrive/ColabNotebooks/requirements.txt (line 108)) (1.26.14)\n",
            "Requirement already satisfied: wcwidth in /usr/local/lib/python3.9/dist-packages (from -r /content/drive/MyDrive/ColabNotebooks/requirements.txt (line 109)) (0.2.6)\n",
            "Requirement already satisfied: webcolors in /usr/local/lib/python3.9/dist-packages (from -r /content/drive/MyDrive/ColabNotebooks/requirements.txt (line 110)) (1.12)\n",
            "Requirement already satisfied: websocket-client in /usr/local/lib/python3.9/dist-packages (from -r /content/drive/MyDrive/ColabNotebooks/requirements.txt (line 111)) (1.5.1)\n",
            "Requirement already satisfied: wrapt in /usr/local/lib/python3.9/dist-packages (from -r /content/drive/MyDrive/ColabNotebooks/requirements.txt (line 112)) (1.15.0)\n",
            "Requirement already satisfied: y-py in /usr/local/lib/python3.9/dist-packages (from -r /content/drive/MyDrive/ColabNotebooks/requirements.txt (line 113)) (0.6.0)\n",
            "Requirement already satisfied: ypy-websocket in /usr/local/lib/python3.9/dist-packages (from -r /content/drive/MyDrive/ColabNotebooks/requirements.txt (line 114)) (0.8.4)\n",
            "Requirement already satisfied: google-cloud-bigquery in /usr/local/lib/python3.9/dist-packages (from -r /content/drive/MyDrive/ColabNotebooks/requirements.txt (line 115)) (3.4.2)\n",
            "Requirement already satisfied: google-cloud-storage in /usr/local/lib/python3.9/dist-packages (from -r /content/drive/MyDrive/ColabNotebooks/requirements.txt (line 116)) (2.7.0)\n",
            "Requirement already satisfied: db-dtypes in /usr/local/lib/python3.9/dist-packages (from -r /content/drive/MyDrive/ColabNotebooks/requirements.txt (line 117)) (1.0.5)\n",
            "Requirement already satisfied: pyarrow in /usr/local/lib/python3.9/dist-packages (from -r /content/drive/MyDrive/ColabNotebooks/requirements.txt (line 118)) (9.0.0)\n",
            "Requirement already satisfied: tensorflow==2.10.0 in /usr/local/lib/python3.9/dist-packages (from -r /content/drive/MyDrive/ColabNotebooks/requirements.txt (line 122)) (2.10.0)\n",
            "Requirement already satisfied: torch in /usr/local/lib/python3.9/dist-packages (from -r /content/drive/MyDrive/ColabNotebooks/requirements.txt (line 127)) (1.13.1+cu116)\n",
            "Requirement already satisfied: transformers in /usr/local/lib/python3.9/dist-packages (from -r /content/drive/MyDrive/ColabNotebooks/requirements.txt (line 128)) (4.26.1)\n",
            "Requirement already satisfied: sentencepiece in /usr/local/lib/python3.9/dist-packages (from -r /content/drive/MyDrive/ColabNotebooks/requirements.txt (line 129)) (0.1.97)\n",
            "Requirement already satisfied: h5py>=2.9.0 in /usr/local/lib/python3.9/dist-packages (from tensorflow==2.10.0->-r /content/drive/MyDrive/ColabNotebooks/requirements.txt (line 122)) (3.1.0)\n",
            "Requirement already satisfied: tensorboard<2.11,>=2.10 in /usr/local/lib/python3.9/dist-packages (from tensorflow==2.10.0->-r /content/drive/MyDrive/ColabNotebooks/requirements.txt (line 122)) (2.10.1)\n",
            "Requirement already satisfied: google-pasta>=0.1.1 in /usr/local/lib/python3.9/dist-packages (from tensorflow==2.10.0->-r /content/drive/MyDrive/ColabNotebooks/requirements.txt (line 122)) (0.2.0)\n",
            "Requirement already satisfied: protobuf<3.20,>=3.9.2 in /usr/local/lib/python3.9/dist-packages (from tensorflow==2.10.0->-r /content/drive/MyDrive/ColabNotebooks/requirements.txt (line 122)) (3.19.6)\n",
            "Requirement already satisfied: astunparse>=1.6.0 in /usr/local/lib/python3.9/dist-packages (from tensorflow==2.10.0->-r /content/drive/MyDrive/ColabNotebooks/requirements.txt (line 122)) (1.6.3)\n",
            "Requirement already satisfied: termcolor>=1.1.0 in /usr/local/lib/python3.9/dist-packages (from tensorflow==2.10.0->-r /content/drive/MyDrive/ColabNotebooks/requirements.txt (line 122)) (2.2.0)\n",
            "Requirement already satisfied: gast<=0.4.0,>=0.2.1 in /usr/local/lib/python3.9/dist-packages (from tensorflow==2.10.0->-r /content/drive/MyDrive/ColabNotebooks/requirements.txt (line 122)) (0.4.0)\n",
            "Requirement already satisfied: libclang>=13.0.0 in /usr/local/lib/python3.9/dist-packages (from tensorflow==2.10.0->-r /content/drive/MyDrive/ColabNotebooks/requirements.txt (line 122)) (15.0.6.1)\n",
            "Requirement already satisfied: flatbuffers>=2.0 in /usr/local/lib/python3.9/dist-packages (from tensorflow==2.10.0->-r /content/drive/MyDrive/ColabNotebooks/requirements.txt (line 122)) (23.3.3)\n",
            "Requirement already satisfied: keras-preprocessing>=1.1.1 in /usr/local/lib/python3.9/dist-packages (from tensorflow==2.10.0->-r /content/drive/MyDrive/ColabNotebooks/requirements.txt (line 122)) (1.1.2)\n",
            "Requirement already satisfied: keras<2.11,>=2.10.0 in /usr/local/lib/python3.9/dist-packages (from tensorflow==2.10.0->-r /content/drive/MyDrive/ColabNotebooks/requirements.txt (line 122)) (2.10.0)\n",
            "Requirement already satisfied: tensorflow-estimator<2.11,>=2.10.0 in /usr/local/lib/python3.9/dist-packages (from tensorflow==2.10.0->-r /content/drive/MyDrive/ColabNotebooks/requirements.txt (line 122)) (2.10.0)\n",
            "Requirement already satisfied: tensorflow-io-gcs-filesystem>=0.23.1 in /usr/local/lib/python3.9/dist-packages (from tensorflow==2.10.0->-r /content/drive/MyDrive/ColabNotebooks/requirements.txt (line 122)) (0.31.0)\n",
            "Requirement already satisfied: grpcio<2.0,>=1.24.3 in /usr/local/lib/python3.9/dist-packages (from tensorflow==2.10.0->-r /content/drive/MyDrive/ColabNotebooks/requirements.txt (line 122)) (1.51.3)\n",
            "Requirement already satisfied: opt-einsum>=2.3.2 in /usr/local/lib/python3.9/dist-packages (from tensorflow==2.10.0->-r /content/drive/MyDrive/ColabNotebooks/requirements.txt (line 122)) (3.3.0)\n",
            "Requirement already satisfied: absl-py>=1.0.0 in /usr/local/lib/python3.9/dist-packages (from tensorflow==2.10.0->-r /content/drive/MyDrive/ColabNotebooks/requirements.txt (line 122)) (1.4.0)\n",
            "Requirement already satisfied: webencodings in /usr/local/lib/python3.9/dist-packages (from bleach->-r /content/drive/MyDrive/ColabNotebooks/requirements.txt (line 13)) (0.5.1)\n",
            "Requirement already satisfied: traitlets>=5.3 in /usr/local/lib/python3.9/dist-packages (from comm->-r /content/drive/MyDrive/ColabNotebooks/requirements.txt (line 17)) (5.7.1)\n",
            "Requirement already satisfied: tornado>=4.2 in /usr/local/lib/python3.9/dist-packages (from ipykernel->-r /content/drive/MyDrive/ColabNotebooks/requirements.txt (line 31)) (6.2)\n",
            "Requirement already satisfied: stack-data in /usr/local/lib/python3.9/dist-packages (from ipython->-r /content/drive/MyDrive/ColabNotebooks/requirements.txt (line 32)) (0.6.2)\n",
            "Requirement already satisfied: pygments>=2.4.0 in /usr/local/lib/python3.9/dist-packages (from ipython->-r /content/drive/MyDrive/ColabNotebooks/requirements.txt (line 32)) (2.6.1)\n",
            "Requirement already satisfied: importlib-metadata>=4.8.3 in /usr/local/lib/python3.9/dist-packages (from jupyter_client->-r /content/drive/MyDrive/ColabNotebooks/requirements.txt (line 41)) (6.0.0)\n",
            "Requirement already satisfied: pyzmq>=23.0 in /usr/local/lib/python3.9/dist-packages (from jupyter_client->-r /content/drive/MyDrive/ColabNotebooks/requirements.txt (line 41)) (25.0.0)\n",
            "Requirement already satisfied: jsonschema[format-nongpl]>=3.2.0 in /usr/local/lib/python3.9/dist-packages (from jupyter-events->-r /content/drive/MyDrive/ColabNotebooks/requirements.txt (line 43)) (4.17.3)\n",
            "Requirement already satisfied: entrypoints>=0.2.2 in /usr/local/lib/python3.9/dist-packages (from nbconvert->-r /content/drive/MyDrive/ColabNotebooks/requirements.txt (line 61)) (0.4)\n",
            "Requirement already satisfied: lxml in /usr/local/lib/python3.9/dist-packages (from nbconvert->-r /content/drive/MyDrive/ColabNotebooks/requirements.txt (line 61)) (4.9.2)\n",
            "Requirement already satisfied: more-itertools>=4.0.0 in /usr/local/lib/python3.9/dist-packages (from pytest->-r /content/drive/MyDrive/ColabNotebooks/requirements.txt (line 85)) (9.1.0)\n",
            "Requirement already satisfied: py>=1.5.0 in /usr/local/lib/python3.9/dist-packages (from pytest->-r /content/drive/MyDrive/ColabNotebooks/requirements.txt (line 85)) (1.11.0)\n",
            "Requirement already satisfied: atomicwrites>=1.0 in /usr/local/lib/python3.9/dist-packages (from pytest->-r /content/drive/MyDrive/ColabNotebooks/requirements.txt (line 85)) (1.4.1)\n",
            "Requirement already satisfied: pandas>=0.23 in /usr/local/lib/python3.9/dist-packages (from seaborn->-r /content/drive/MyDrive/ColabNotebooks/requirements.txt (line 95)) (1.3.5)\n",
            "Requirement already satisfied: google-resumable-media<3.0dev,>=0.6.0 in /usr/local/lib/python3.9/dist-packages (from google-cloud-bigquery->-r /content/drive/MyDrive/ColabNotebooks/requirements.txt (line 115)) (2.4.1)\n",
            "Requirement already satisfied: google-cloud-core<3.0.0dev,>=1.4.1 in /usr/local/lib/python3.9/dist-packages (from google-cloud-bigquery->-r /content/drive/MyDrive/ColabNotebooks/requirements.txt (line 115)) (2.3.2)\n",
            "Requirement already satisfied: google-api-core[grpc]!=2.0.*,!=2.1.*,!=2.2.*,!=2.3.0,<3.0.0dev,>=1.31.5 in /usr/local/lib/python3.9/dist-packages (from google-cloud-bigquery->-r /content/drive/MyDrive/ColabNotebooks/requirements.txt (line 115)) (2.11.0)\n",
            "Requirement already satisfied: proto-plus<2.0.0dev,>=1.15.0 in /usr/local/lib/python3.9/dist-packages (from google-cloud-bigquery->-r /content/drive/MyDrive/ColabNotebooks/requirements.txt (line 115)) (1.22.2)\n",
            "Requirement already satisfied: google-auth<3.0dev,>=1.25.0 in /usr/local/lib/python3.9/dist-packages (from google-cloud-storage->-r /content/drive/MyDrive/ColabNotebooks/requirements.txt (line 116)) (2.16.2)\n",
            "Requirement already satisfied: regex!=2019.12.17 in /usr/local/lib/python3.9/dist-packages (from transformers->-r /content/drive/MyDrive/ColabNotebooks/requirements.txt (line 128)) (2022.6.2)\n",
            "Requirement already satisfied: tokenizers!=0.11.3,<0.14,>=0.11.1 in /usr/local/lib/python3.9/dist-packages (from transformers->-r /content/drive/MyDrive/ColabNotebooks/requirements.txt (line 128)) (0.13.2)\n",
            "Requirement already satisfied: filelock in /usr/local/lib/python3.9/dist-packages (from transformers->-r /content/drive/MyDrive/ColabNotebooks/requirements.txt (line 128)) (3.9.0)\n",
            "Requirement already satisfied: tqdm>=4.27 in /usr/local/lib/python3.9/dist-packages (from transformers->-r /content/drive/MyDrive/ColabNotebooks/requirements.txt (line 128)) (4.65.0)\n",
            "Requirement already satisfied: huggingface-hub<1.0,>=0.11.0 in /usr/local/lib/python3.9/dist-packages (from transformers->-r /content/drive/MyDrive/ColabNotebooks/requirements.txt (line 128)) (0.13.0)\n",
            "Requirement already satisfied: wheel<1.0,>=0.23.0 in /usr/local/lib/python3.9/dist-packages (from astunparse>=1.6.0->tensorflow==2.10.0->-r /content/drive/MyDrive/ColabNotebooks/requirements.txt (line 122)) (0.38.4)\n",
            "Requirement already satisfied: googleapis-common-protos<2.0dev,>=1.56.2 in /usr/local/lib/python3.9/dist-packages (from google-api-core[grpc]!=2.0.*,!=2.1.*,!=2.2.*,!=2.3.0,<3.0.0dev,>=1.31.5->google-cloud-bigquery->-r /content/drive/MyDrive/ColabNotebooks/requirements.txt (line 115)) (1.58.0)\n",
            "Requirement already satisfied: grpcio-status<2.0dev,>=1.33.2 in /usr/local/lib/python3.9/dist-packages (from google-api-core[grpc]!=2.0.*,!=2.1.*,!=2.2.*,!=2.3.0,<3.0.0dev,>=1.31.5->google-cloud-bigquery->-r /content/drive/MyDrive/ColabNotebooks/requirements.txt (line 115)) (1.48.2)\n",
            "Requirement already satisfied: cachetools<6.0,>=2.0.0 in /usr/local/lib/python3.9/dist-packages (from google-auth<3.0dev,>=1.25.0->google-cloud-storage->-r /content/drive/MyDrive/ColabNotebooks/requirements.txt (line 116)) (5.3.0)\n",
            "Requirement already satisfied: pyasn1-modules>=0.2.1 in /usr/local/lib/python3.9/dist-packages (from google-auth<3.0dev,>=1.25.0->google-cloud-storage->-r /content/drive/MyDrive/ColabNotebooks/requirements.txt (line 116)) (0.2.8)\n",
            "Requirement already satisfied: rsa<5,>=3.1.4 in /usr/local/lib/python3.9/dist-packages (from google-auth<3.0dev,>=1.25.0->google-cloud-storage->-r /content/drive/MyDrive/ColabNotebooks/requirements.txt (line 116)) (4.9)\n",
            "Requirement already satisfied: google-crc32c<2.0dev,>=1.0 in /usr/local/lib/python3.9/dist-packages (from google-resumable-media<3.0dev,>=0.6.0->google-cloud-bigquery->-r /content/drive/MyDrive/ColabNotebooks/requirements.txt (line 115)) (1.5.0)\n",
            "Requirement already satisfied: zipp>=0.5 in /usr/local/lib/python3.9/dist-packages (from importlib-metadata>=4.8.3->jupyter_client->-r /content/drive/MyDrive/ColabNotebooks/requirements.txt (line 41)) (3.15.0)\n",
            "Requirement already satisfied: tensorboard-plugin-wit>=1.6.0 in /usr/local/lib/python3.9/dist-packages (from tensorboard<2.11,>=2.10->tensorflow==2.10.0->-r /content/drive/MyDrive/ColabNotebooks/requirements.txt (line 122)) (1.8.1)\n",
            "Requirement already satisfied: markdown>=2.6.8 in /usr/local/lib/python3.9/dist-packages (from tensorboard<2.11,>=2.10->tensorflow==2.10.0->-r /content/drive/MyDrive/ColabNotebooks/requirements.txt (line 122)) (3.4.1)\n",
            "Requirement already satisfied: tensorboard-data-server<0.7.0,>=0.6.0 in /usr/local/lib/python3.9/dist-packages (from tensorboard<2.11,>=2.10->tensorflow==2.10.0->-r /content/drive/MyDrive/ColabNotebooks/requirements.txt (line 122)) (0.6.1)\n",
            "Requirement already satisfied: google-auth-oauthlib<0.5,>=0.4.1 in /usr/local/lib/python3.9/dist-packages (from tensorboard<2.11,>=2.10->tensorflow==2.10.0->-r /content/drive/MyDrive/ColabNotebooks/requirements.txt (line 122)) (0.4.6)\n",
            "Requirement already satisfied: werkzeug>=1.0.1 in /usr/local/lib/python3.9/dist-packages (from tensorboard<2.11,>=2.10->tensorflow==2.10.0->-r /content/drive/MyDrive/ColabNotebooks/requirements.txt (line 122)) (2.2.3)\n",
            "Requirement already satisfied: requests-oauthlib>=0.7.0 in /usr/local/lib/python3.9/dist-packages (from google-auth-oauthlib<0.5,>=0.4.1->tensorboard<2.11,>=2.10->tensorflow==2.10.0->-r /content/drive/MyDrive/ColabNotebooks/requirements.txt (line 122)) (1.3.1)\n",
            "Requirement already satisfied: pyasn1<0.5.0,>=0.4.6 in /usr/local/lib/python3.9/dist-packages (from pyasn1-modules>=0.2.1->google-auth<3.0dev,>=1.25.0->google-cloud-storage->-r /content/drive/MyDrive/ColabNotebooks/requirements.txt (line 116)) (0.4.8)\n",
            "Requirement already satisfied: oauthlib>=3.0.0 in /usr/local/lib/python3.9/dist-packages (from requests-oauthlib>=0.7.0->google-auth-oauthlib<0.5,>=0.4.1->tensorboard<2.11,>=2.10->tensorflow==2.10.0->-r /content/drive/MyDrive/ColabNotebooks/requirements.txt (line 122)) (3.2.2)\n"
          ]
        }
      ],
      "source": [
        "!pip install -r /content/drive/MyDrive/ColabNotebooks/requirements.txt"
      ]
    },
    {
      "cell_type": "code",
      "execution_count": null,
      "metadata": {
        "id": "7U698Gh5_oRr"
      },
      "outputs": [],
      "source": [
        "import pandas as pd\n",
        "import numpy as np\n",
        "import seaborn as sns\n",
        "import matplotlib.pyplot as plt\n",
        "from sklearn.model_selection import train_test_split\n",
        "import os\n",
        "from transformers import  TFDebertaModel, DebertaTokenizerFast\n",
        "\n",
        "import torch\n",
        "#import pytorch_lightning as pl\n",
        "#from pytorch_lightning import Trainer, seed_everything\n",
        "#from pytorch_lightning.callbacks import ModelCheckpoint, EarlyStopping\n",
        "from tensorflow.keras import layers, Input, Model, models"
      ]
    },
    {
      "cell_type": "markdown",
      "metadata": {
        "id": "2xXsytNUCyPa"
      },
      "source": [
        "# Configuration"
      ]
    },
    {
      "cell_type": "code",
      "execution_count": null,
      "metadata": {
        "id": "TZfDPZUPCzWr"
      },
      "outputs": [],
      "source": [
        "class config:\n",
        "    \n",
        "    train_dataset_path=\"/content/drive/MyDrive/ColabNotebooks/train.csv\"\n",
        "       \n",
        "    #save_dir=\"../input/colab-models-download-v2-0/\"\n",
        "    \n",
        "    #tokenizer params\n",
        "    truncation = True\n",
        "    padding = True #'max_length'\n",
        "    max_length = 512\n",
        "    \n",
        "    # model params\n",
        "    train_col='full_text'\n",
        "    model_name = \"microsoft/deberta-v3-large\"\n",
        "    target_cols = ['cohesion', 'syntax', 'vocabulary', 'phraseology', 'grammar', 'conventions']\n",
        "    load_from_disk = None\n",
        "    \n",
        "    #training params\n",
        "    learning_rate = 9e-6\n",
        "    batch_size = 2\n",
        "    epochs = 3\n",
        "    NFOLDS = 5"
      ]
    },
    {
      "cell_type": "markdown",
      "metadata": {
        "id": "6ox2OlviDErv"
      },
      "source": [
        "# Load the Tokenizer\n",
        "first, we define a function to tokenize the text from a dataframe"
      ]
    },
    {
      "cell_type": "code",
      "execution_count": null,
      "metadata": {
        "id": "zNLoaYQdDArv"
      },
      "outputs": [],
      "source": [
        "def tokenize (df):\n",
        "    texts=list(df[config.train_col])\n",
        "    tokenized=tokenizer(texts,\n",
        "                       padding=config.padding,\n",
        "                       truncating=True,\n",
        "                       max_length=config.max_length)\n",
        "    tokenized[\"labels\"]= [df[column] for column in config.target_cols]\n",
        "    tokenized['length'] = len(tokenized['input_ids'])\n",
        "    \n",
        "    return tokenized"
      ]
    },
    {
      "cell_type": "markdown",
      "metadata": {
        "id": "bK-vFHMwDYEm"
      },
      "source": [
        "Then, we load the tokenizer."
      ]
    },
    {
      "cell_type": "code",
      "execution_count": null,
      "metadata": {
        "id": "odHGwdToE6PK"
      },
      "outputs": [],
      "source": [
        "tokenizer = DebertaTokenizerFast.from_pretrained(\"microsoft/deberta-base\")"
      ]
    },
    {
      "cell_type": "markdown",
      "metadata": {
        "id": "tZY3dbkBFjhI"
      },
      "source": [
        "# Load the data"
      ]
    },
    {
      "cell_type": "code",
      "execution_count": null,
      "metadata": {
        "id": "OcCno0PaFlCn"
      },
      "outputs": [],
      "source": [
        "data=pd.read_csv(config.train_dataset_path).copy()\n",
        "texts=data[config.train_col]\n",
        "targets=data[config.target_cols]\n",
        "train_texts, val_texts, train_targets, val_targets=train_test_split(texts, targets, test_size=0.3)"
      ]
    },
    {
      "cell_type": "markdown",
      "metadata": {
        "id": "O-__ntMrFr_o"
      },
      "source": [
        "# Convert the data into a tokenized form\n",
        "Here we want the tokens to be read by a tf.keras model"
      ]
    },
    {
      "cell_type": "code",
      "execution_count": null,
      "metadata": {
        "id": "FOZK_YgXFqfg"
      },
      "outputs": [],
      "source": [
        "tokenized_train_texts = tokenizer(list(train_texts), return_tensors='tf',truncation=config.truncation, padding=config.padding)\n",
        "tokenized_val_texts = tokenizer(list(val_texts), return_tensors='tf', truncation=config.truncation, padding=config.padding)"
      ]
    },
    {
      "cell_type": "code",
      "execution_count": null,
      "metadata": {
        "colab": {
          "base_uri": "https://localhost:8080/"
        },
        "id": "z0WgM4IDF0Xs",
        "outputId": "98b4342a-d546-40da-c47e-59ad5d24d6c3"
      },
      "outputs": [
        {
          "data": {
            "text/plain": [
              "dict_keys(['input_ids', 'token_type_ids', 'attention_mask'])"
            ]
          },
          "execution_count": 38,
          "metadata": {},
          "output_type": "execute_result"
        }
      ],
      "source": [
        "tokenized_train_texts.keys()"
      ]
    },
    {
      "cell_type": "code",
      "execution_count": null,
      "metadata": {
        "colab": {
          "base_uri": "https://localhost:8080/"
        },
        "id": "Ryq-kqHVF6hJ",
        "outputId": "fefa7620-95ee-4d7e-915d-c74e99cba8cb"
      },
      "outputs": [
        {
          "data": {
            "text/plain": [
              "TensorShape([2737, 512])"
            ]
          },
          "execution_count": 39,
          "metadata": {},
          "output_type": "execute_result"
        }
      ],
      "source": [
        "tokenized_train_texts['input_ids'].shape"
      ]
    },
    {
      "cell_type": "markdown",
      "metadata": {
        "id": "TmPqCt3LF8sU"
      },
      "source": [
        "# Defining the model\n",
        "### Defining the loss function"
      ]
    },
    {
      "cell_type": "code",
      "execution_count": null,
      "metadata": {
        "id": "3G4S3uryF_q6"
      },
      "outputs": [],
      "source": [
        "from keras import backend as K\n",
        "def root_mean_squared_error(y_true, y_pred):\n",
        "        return K.sqrt(K.mean(K.square(y_pred - y_true), axis=-1))"
      ]
    },
    {
      "cell_type": "markdown",
      "metadata": {
        "id": "euTVAmcgGFyZ"
      },
      "source": [
        "### Model architecture\n",
        "Here we use the output of the pretrained DeBerta model as an input of a dense intermediate layer, then we input the result in the linear regression parallele output layers, for each target."
      ]
    },
    {
      "cell_type": "code",
      "execution_count": null,
      "metadata": {
        "id": "l7jj5iloGHz_"
      },
      "outputs": [],
      "source": [
        "input_ids = Input(shape=((512)),dtype='int32')"
      ]
    },
    {
      "cell_type": "code",
      "execution_count": null,
      "metadata": {
        "colab": {
          "base_uri": "https://localhost:8080/"
        },
        "id": "7TPuxgZakb2d",
        "outputId": "cb4bd73a-f4aa-4f1d-d116-433e6f4bb634"
      },
      "outputs": [
        {
          "name": "stderr",
          "output_type": "stream",
          "text": [
            "All model checkpoint layers were used when initializing TFDebertaModel.\n",
            "\n",
            "All the layers of TFDebertaModel were initialized from the model checkpoint at microsoft/deberta-base.\n",
            "If your task is similar to the task the model of the checkpoint was trained on, you can already use TFDebertaModel for predictions without further training.\n"
          ]
        }
      ],
      "source": [
        "transformer_model = TFDebertaModel.from_pretrained('microsoft/deberta-base', output_hidden_states=True, return_dict=True)"
      ]
    },
    {
      "cell_type": "code",
      "execution_count": null,
      "metadata": {
        "colab": {
          "base_uri": "https://localhost:8080/"
        },
        "id": "MFoZaLXvGKlF",
        "outputId": "f67f852a-83cc-4522-d248-598e7004386a"
      },
      "outputs": [
        {
          "name": "stderr",
          "output_type": "stream",
          "text": [
            "All model checkpoint layers were used when initializing TFDebertaModel.\n",
            "\n",
            "All the layers of TFDebertaModel were initialized from the model checkpoint at microsoft/deberta-base.\n",
            "If your task is similar to the task the model of the checkpoint was trained on, you can already use TFDebertaModel for predictions without further training.\n"
          ]
        },
        {
          "name": "stdout",
          "output_type": "stream",
          "text": [
            "Model: \"model_1\"\n",
            "__________________________________________________________________________________________________\n",
            " Layer (type)                   Output Shape         Param #     Connected to                     \n",
            "==================================================================================================\n",
            " attention_mask (InputLayer)    [(None, 512)]        0           []                               \n",
            "                                                                                                  \n",
            " input_ids (InputLayer)         [(None, 512)]        0           []                               \n",
            "                                                                                                  \n",
            " tf_deberta_model_3 (TFDebertaM  TFBaseModelOutput(l  138601728  ['attention_mask[0][0]',         \n",
            " odel)                          ast_hidden_state=(N               'input_ids[0][0]']              \n",
            "                                one, 512, 768),                                                   \n",
            "                                 hidden_states=((No                                               \n",
            "                                ne, 512, 768),                                                    \n",
            "                                 (None, 512, 768),                                                \n",
            "                                 (None, 512, 768),                                                \n",
            "                                 (None, 512, 768),                                                \n",
            "                                 (None, 512, 768),                                                \n",
            "                                 (None, 512, 768),                                                \n",
            "                                 (None, 512, 768),                                                \n",
            "                                 (None, 512, 768),                                                \n",
            "                                 (None, 512, 768),                                                \n",
            "                                 (None, 512, 768),                                                \n",
            "                                 (None, 512, 768),                                                \n",
            "                                 (None, 512, 768),                                                \n",
            "                                 (None, 512, 768)),                                               \n",
            "                                 attentions=None)                                                 \n",
            "                                                                                                  \n",
            " global_max_pooling1d_1 (Global  (None, 768)         0           ['tf_deberta_model_3[0][13]']    \n",
            " MaxPooling1D)                                                                                    \n",
            "                                                                                                  \n",
            " dense_1 (Dense)                (None, 128)          98432       ['global_max_pooling1d_1[0][0]'] \n",
            "                                                                                                  \n",
            " cohesion (Dense)               (None, 1)            129         ['dense_1[0][0]']                \n",
            "                                                                                                  \n",
            " syntax (Dense)                 (None, 1)            129         ['dense_1[0][0]']                \n",
            "                                                                                                  \n",
            " vocabulary (Dense)             (None, 1)            129         ['dense_1[0][0]']                \n",
            "                                                                                                  \n",
            " phraseology (Dense)            (None, 1)            129         ['dense_1[0][0]']                \n",
            "                                                                                                  \n",
            " grammar (Dense)                (None, 1)            129         ['dense_1[0][0]']                \n",
            "                                                                                                  \n",
            " conventions (Dense)            (None, 1)            129         ['dense_1[0][0]']                \n",
            "                                                                                                  \n",
            "==================================================================================================\n",
            "Total params: 138,700,934\n",
            "Trainable params: 99,206\n",
            "Non-trainable params: 138,601,728\n",
            "__________________________________________________________________________________________________\n"
          ]
        }
      ],
      "source": [
        "# Import the needed model(Bert, Roberta or DistilBert) with output_hidden_states=True\n",
        "transformer_model = TFDebertaModel.from_pretrained('microsoft/deberta-base', output_hidden_states=True, return_dict=True)\n",
        "transformer_model.trainable = False\n",
        "\n",
        "input_ids = Input(shape=((512)),dtype='int32', name='input_ids')\n",
        "attention_mask = Input(shape=((512)), dtype='int32', name='attention_mask')\n",
        "\n",
        "transformer = transformer_model(dict(input_ids=input_ids,attention_mask=attention_mask))    \n",
        "hidden_states = transformer[0] # get output_hidden_states\n",
        "\n",
        "#hidden_states_size = 4 # count of the last states \n",
        "#hiddes_states_ind = list(range(-hidden_states_size, 0, 1))\n",
        "\n",
        "#selected_hiddes_states = layers.concatenate(tuple([hidden_states[i] for i in hiddes_states_ind]))\n",
        "\n",
        "# Add a layer maxpool 1D\n",
        "pooling_layer = layers.GlobalMaxPooling1D()(hidden_states)\n",
        "\n",
        "# Now we can use selected_hiddes_states as we want\n",
        "last_hidden_layer = layers.Dense(128, activation='relu')(pooling_layer)\n",
        "\n",
        "# Defining the regression layer\n",
        "cohesion_output=layers.Dense(1, activation=\"linear\", name=\"cohesion\")(last_hidden_layer)\n",
        "syntax_output=layers.Dense(1, activation=\"linear\", name=\"syntax\")(last_hidden_layer)\n",
        "vocabulary_output=layers.Dense(1, activation=\"linear\", name=\"vocabulary\")(last_hidden_layer)\n",
        "phraseology_output=layers.Dense(1, activation=\"linear\", name=\"phraseology\")(last_hidden_layer)\n",
        "grammar_output=layers.Dense(1, activation=\"linear\", name=\"grammar\")(last_hidden_layer)\n",
        "conventions_output=layers.Dense(1, activation=\"linear\", name=\"conventions\")(last_hidden_layer)\n",
        "\n",
        "# output in a list\n",
        "output= [cohesion_output, syntax_output, vocabulary_output, phraseology_output, grammar_output, conventions_output]\n",
        "\n",
        "#Assembling the model\n",
        "model = Model(inputs = [input_ids, attention_mask], outputs = output)\n",
        "model.summary()"
      ]
    },
    {
      "cell_type": "code",
      "execution_count": null,
      "metadata": {
        "id": "nXZr9_c-HjMY"
      },
      "outputs": [],
      "source": [
        "model.compile(loss='mse', optimizer='adam', loss_weights=[1/6 for i in range(6)], metrics=root_mean_squared_error)"
      ]
    },
    {
      "cell_type": "code",
      "execution_count": null,
      "metadata": {
        "colab": {
          "background_save": true,
          "base_uri": "https://localhost:8080/"
        },
        "id": "CayIpvmQHgTI",
        "outputId": "23f06837-3ae0-4337-877b-db78b2306f23"
      },
      "outputs": [
        {
          "name": "stdout",
          "output_type": "stream",
          "text": [
            "Epoch 1/20\n",
            "137/137 [==============================] - 384s 2s/step - loss: 1.1955 - cohesion_loss: 0.7286 - syntax_loss: 2.8814 - vocabulary_loss: 1.2074 - phraseology_loss: 0.5724 - grammar_loss: 0.7761 - conventions_loss: 1.0071 - cohesion_root_mean_squared_error: 0.7329 - syntax_root_mean_squared_error: 0.9622 - vocabulary_root_mean_squared_error: 0.8654 - phraseology_root_mean_squared_error: 0.6702 - grammar_root_mean_squared_error: 0.7557 - conventions_root_mean_squared_error: 0.8280 - val_loss: 0.3879 - val_cohesion_loss: 0.3977 - val_syntax_loss: 0.3692 - val_vocabulary_loss: 0.3505 - val_phraseology_loss: 0.3585 - val_grammar_loss: 0.4445 - val_conventions_loss: 0.4073 - val_cohesion_root_mean_squared_error: 0.5773 - val_syntax_root_mean_squared_error: 0.5595 - val_vocabulary_root_mean_squared_error: 0.5426 - val_phraseology_root_mean_squared_error: 0.5514 - val_grammar_root_mean_squared_error: 0.6039 - val_conventions_root_mean_squared_error: 0.5802\n",
            "Epoch 2/20\n",
            "137/137 [==============================] - 314s 2s/step - loss: 0.4239 - cohesion_loss: 0.3987 - syntax_loss: 0.3982 - vocabulary_loss: 0.4598 - phraseology_loss: 0.4136 - grammar_loss: 0.4353 - conventions_loss: 0.4376 - cohesion_root_mean_squared_error: 0.5693 - syntax_root_mean_squared_error: 0.5735 - vocabulary_root_mean_squared_error: 0.6102 - phraseology_root_mean_squared_error: 0.5805 - grammar_root_mean_squared_error: 0.5946 - conventions_root_mean_squared_error: 0.5936 - val_loss: 0.4114 - val_cohesion_loss: 0.4050 - val_syntax_loss: 0.3274 - val_vocabulary_loss: 0.4653 - val_phraseology_loss: 0.3723 - val_grammar_loss: 0.3302 - val_conventions_loss: 0.5681 - val_cohesion_root_mean_squared_error: 0.5898 - val_syntax_root_mean_squared_error: 0.5325 - val_vocabulary_root_mean_squared_error: 0.6200 - val_phraseology_root_mean_squared_error: 0.5631 - val_grammar_root_mean_squared_error: 0.5317 - val_conventions_root_mean_squared_error: 0.6882\n",
            "Epoch 3/20\n",
            "137/137 [==============================] - 315s 2s/step - loss: 0.4008 - cohesion_loss: 0.3648 - syntax_loss: 0.3505 - vocabulary_loss: 0.4819 - phraseology_loss: 0.3833 - grammar_loss: 0.3622 - conventions_loss: 0.4619 - cohesion_root_mean_squared_error: 0.5507 - syntax_root_mean_squared_error: 0.5424 - vocabulary_root_mean_squared_error: 0.6228 - phraseology_root_mean_squared_error: 0.5632 - grammar_root_mean_squared_error: 0.5513 - conventions_root_mean_squared_error: 0.6096 - val_loss: 0.3333 - val_cohesion_loss: 0.2845 - val_syntax_loss: 0.3823 - val_vocabulary_loss: 0.3214 - val_phraseology_loss: 0.3201 - val_grammar_loss: 0.3550 - val_conventions_loss: 0.3365 - val_cohesion_root_mean_squared_error: 0.5000 - val_syntax_root_mean_squared_error: 0.5693 - val_vocabulary_root_mean_squared_error: 0.5238 - val_phraseology_root_mean_squared_error: 0.5241 - val_grammar_root_mean_squared_error: 0.5501 - val_conventions_root_mean_squared_error: 0.5348\n",
            "Epoch 4/20\n",
            "137/137 [==============================] - 315s 2s/step - loss: 0.3587 - cohesion_loss: 0.3244 - syntax_loss: 0.3560 - vocabulary_loss: 0.4096 - phraseology_loss: 0.3422 - grammar_loss: 0.3324 - conventions_loss: 0.3875 - cohesion_root_mean_squared_error: 0.5233 - syntax_root_mean_squared_error: 0.5449 - vocabulary_root_mean_squared_error: 0.5778 - phraseology_root_mean_squared_error: 0.5358 - grammar_root_mean_squared_error: 0.5288 - conventions_root_mean_squared_error: 0.5633 - val_loss: 0.3541 - val_cohesion_loss: 0.3277 - val_syntax_loss: 0.2879 - val_vocabulary_loss: 0.3794 - val_phraseology_loss: 0.3300 - val_grammar_loss: 0.3072 - val_conventions_loss: 0.4927 - val_cohesion_root_mean_squared_error: 0.5341 - val_syntax_root_mean_squared_error: 0.5038 - val_vocabulary_root_mean_squared_error: 0.5629 - val_phraseology_root_mean_squared_error: 0.5317 - val_grammar_root_mean_squared_error: 0.5151 - val_conventions_root_mean_squared_error: 0.6423\n",
            "Epoch 5/20\n",
            "137/137 [==============================] - 315s 2s/step - loss: 0.3526 - cohesion_loss: 0.3196 - syntax_loss: 0.3260 - vocabulary_loss: 0.4083 - phraseology_loss: 0.3395 - grammar_loss: 0.3347 - conventions_loss: 0.3877 - cohesion_root_mean_squared_error: 0.5198 - syntax_root_mean_squared_error: 0.5272 - vocabulary_root_mean_squared_error: 0.5789 - phraseology_root_mean_squared_error: 0.5344 - grammar_root_mean_squared_error: 0.5312 - conventions_root_mean_squared_error: 0.5671 - val_loss: 0.3084 - val_cohesion_loss: 0.2686 - val_syntax_loss: 0.2837 - val_vocabulary_loss: 0.3153 - val_phraseology_loss: 0.3717 - val_grammar_loss: 0.3147 - val_conventions_loss: 0.2962 - val_cohesion_root_mean_squared_error: 0.4869 - val_syntax_root_mean_squared_error: 0.5003 - val_vocabulary_root_mean_squared_error: 0.5203 - val_phraseology_root_mean_squared_error: 0.5579 - val_grammar_root_mean_squared_error: 0.5209 - val_conventions_root_mean_squared_error: 0.5061\n",
            "Epoch 6/20\n",
            "137/137 [==============================] - 315s 2s/step - loss: 0.3523 - cohesion_loss: 0.3200 - syntax_loss: 0.3217 - vocabulary_loss: 0.3750 - phraseology_loss: 0.3511 - grammar_loss: 0.3570 - conventions_loss: 0.3892 - cohesion_root_mean_squared_error: 0.5219 - syntax_root_mean_squared_error: 0.5226 - vocabulary_root_mean_squared_error: 0.5593 - phraseology_root_mean_squared_error: 0.5445 - grammar_root_mean_squared_error: 0.5473 - conventions_root_mean_squared_error: 0.5679 - val_loss: 0.3016 - val_cohesion_loss: 0.2952 - val_syntax_loss: 0.3338 - val_vocabulary_loss: 0.3091 - val_phraseology_loss: 0.3019 - val_grammar_loss: 0.2752 - val_conventions_loss: 0.2944 - val_cohesion_root_mean_squared_error: 0.5062 - val_syntax_root_mean_squared_error: 0.5360 - val_vocabulary_root_mean_squared_error: 0.5154 - val_phraseology_root_mean_squared_error: 0.5076 - val_grammar_root_mean_squared_error: 0.4918 - val_conventions_root_mean_squared_error: 0.5048\n",
            "Epoch 7/20\n",
            "137/137 [==============================] - 315s 2s/step - loss: 0.3469 - cohesion_loss: 0.3437 - syntax_loss: 0.3263 - vocabulary_loss: 0.3805 - phraseology_loss: 0.3222 - grammar_loss: 0.3150 - conventions_loss: 0.3935 - cohesion_root_mean_squared_error: 0.5372 - syntax_root_mean_squared_error: 0.5260 - vocabulary_root_mean_squared_error: 0.5630 - phraseology_root_mean_squared_error: 0.5247 - grammar_root_mean_squared_error: 0.5196 - conventions_root_mean_squared_error: 0.5683 - val_loss: 0.2762 - val_cohesion_loss: 0.2689 - val_syntax_loss: 0.2719 - val_vocabulary_loss: 0.3006 - val_phraseology_loss: 0.2645 - val_grammar_loss: 0.2757 - val_conventions_loss: 0.2755 - val_cohesion_root_mean_squared_error: 0.4871 - val_syntax_root_mean_squared_error: 0.4895 - val_vocabulary_root_mean_squared_error: 0.5094 - val_phraseology_root_mean_squared_error: 0.4811 - val_grammar_root_mean_squared_error: 0.4929 - val_conventions_root_mean_squared_error: 0.4924\n",
            "Epoch 8/20\n",
            "137/137 [==============================] - 316s 2s/step - loss: 0.3176 - cohesion_loss: 0.3043 - syntax_loss: 0.3197 - vocabulary_loss: 0.3373 - phraseology_loss: 0.3014 - grammar_loss: 0.2987 - conventions_loss: 0.3441 - cohesion_root_mean_squared_error: 0.5101 - syntax_root_mean_squared_error: 0.5223 - vocabulary_root_mean_squared_error: 0.5345 - phraseology_root_mean_squared_error: 0.5078 - grammar_root_mean_squared_error: 0.5062 - conventions_root_mean_squared_error: 0.5385 - val_loss: 0.2715 - val_cohesion_loss: 0.2603 - val_syntax_loss: 0.2932 - val_vocabulary_loss: 0.2751 - val_phraseology_loss: 0.2602 - val_grammar_loss: 0.2581 - val_conventions_loss: 0.2822 - val_cohesion_root_mean_squared_error: 0.4815 - val_syntax_root_mean_squared_error: 0.5061 - val_vocabulary_root_mean_squared_error: 0.4904 - val_phraseology_root_mean_squared_error: 0.4774 - val_grammar_root_mean_squared_error: 0.4787 - val_conventions_root_mean_squared_error: 0.4982\n",
            "Epoch 9/20\n",
            "137/137 [==============================] - 315s 2s/step - loss: 0.2959 - cohesion_loss: 0.2929 - syntax_loss: 0.2853 - vocabulary_loss: 0.3092 - phraseology_loss: 0.2880 - grammar_loss: 0.2886 - conventions_loss: 0.3116 - cohesion_root_mean_squared_error: 0.5013 - syntax_root_mean_squared_error: 0.4952 - vocabulary_root_mean_squared_error: 0.5127 - phraseology_root_mean_squared_error: 0.4986 - grammar_root_mean_squared_error: 0.4983 - conventions_root_mean_squared_error: 0.5163 - val_loss: 0.3360 - val_cohesion_loss: 0.3366 - val_syntax_loss: 0.3152 - val_vocabulary_loss: 0.3485 - val_phraseology_loss: 0.3991 - val_grammar_loss: 0.3466 - val_conventions_loss: 0.2699 - val_cohesion_root_mean_squared_error: 0.5365 - val_syntax_root_mean_squared_error: 0.5226 - val_vocabulary_root_mean_squared_error: 0.5452 - val_phraseology_root_mean_squared_error: 0.5813 - val_grammar_root_mean_squared_error: 0.5459 - val_conventions_root_mean_squared_error: 0.4876\n",
            "Epoch 10/20\n",
            "137/137 [==============================] - 316s 2s/step - loss: 0.2884 - cohesion_loss: 0.2777 - syntax_loss: 0.2880 - vocabulary_loss: 0.3008 - phraseology_loss: 0.2827 - grammar_loss: 0.2830 - conventions_loss: 0.2981 - cohesion_root_mean_squared_error: 0.4903 - syntax_root_mean_squared_error: 0.4989 - vocabulary_root_mean_squared_error: 0.5085 - phraseology_root_mean_squared_error: 0.4964 - grammar_root_mean_squared_error: 0.4962 - conventions_root_mean_squared_error: 0.5062 - val_loss: 0.2647 - val_cohesion_loss: 0.2546 - val_syntax_loss: 0.2643 - val_vocabulary_loss: 0.2756 - val_phraseology_loss: 0.2634 - val_grammar_loss: 0.2570 - val_conventions_loss: 0.2731 - val_cohesion_root_mean_squared_error: 0.4764 - val_syntax_root_mean_squared_error: 0.4839 - val_vocabulary_root_mean_squared_error: 0.4918 - val_phraseology_root_mean_squared_error: 0.4799 - val_grammar_root_mean_squared_error: 0.4777 - val_conventions_root_mean_squared_error: 0.4905\n",
            "Epoch 11/20\n",
            "137/137 [==============================] - 314s 2s/step - loss: 0.2910 - cohesion_loss: 0.2832 - syntax_loss: 0.2913 - vocabulary_loss: 0.2989 - phraseology_loss: 0.2841 - grammar_loss: 0.2774 - conventions_loss: 0.3114 - cohesion_root_mean_squared_error: 0.4952 - syntax_root_mean_squared_error: 0.5017 - vocabulary_root_mean_squared_error: 0.5081 - phraseology_root_mean_squared_error: 0.4965 - grammar_root_mean_squared_error: 0.4914 - conventions_root_mean_squared_error: 0.5170 - val_loss: 0.2648 - val_cohesion_loss: 0.2552 - val_syntax_loss: 0.2654 - val_vocabulary_loss: 0.2771 - val_phraseology_loss: 0.2636 - val_grammar_loss: 0.2578 - val_conventions_loss: 0.2698 - val_cohesion_root_mean_squared_error: 0.4767 - val_syntax_root_mean_squared_error: 0.4847 - val_vocabulary_root_mean_squared_error: 0.4930 - val_phraseology_root_mean_squared_error: 0.4808 - val_grammar_root_mean_squared_error: 0.4784 - val_conventions_root_mean_squared_error: 0.4886\n",
            "Epoch 12/20\n",
            "137/137 [==============================] - 318s 2s/step - loss: 0.2906 - cohesion_loss: 0.2814 - syntax_loss: 0.2935 - vocabulary_loss: 0.2981 - phraseology_loss: 0.2905 - grammar_loss: 0.2811 - conventions_loss: 0.2991 - cohesion_root_mean_squared_error: 0.4933 - syntax_root_mean_squared_error: 0.5026 - vocabulary_root_mean_squared_error: 0.5071 - phraseology_root_mean_squared_error: 0.5002 - grammar_root_mean_squared_error: 0.4946 - conventions_root_mean_squared_error: 0.5070 - val_loss: 0.2631 - val_cohesion_loss: 0.2505 - val_syntax_loss: 0.2660 - val_vocabulary_loss: 0.2727 - val_phraseology_loss: 0.2509 - val_grammar_loss: 0.2492 - val_conventions_loss: 0.2895 - val_cohesion_root_mean_squared_error: 0.4735 - val_syntax_root_mean_squared_error: 0.4860 - val_vocabulary_root_mean_squared_error: 0.4905 - val_phraseology_root_mean_squared_error: 0.4706 - val_grammar_root_mean_squared_error: 0.4710 - val_conventions_root_mean_squared_error: 0.5058\n",
            "Epoch 13/20\n",
            "137/137 [==============================] - 314s 2s/step - loss: 0.2702 - cohesion_loss: 0.2683 - syntax_loss: 0.2681 - vocabulary_loss: 0.2714 - phraseology_loss: 0.2659 - grammar_loss: 0.2648 - conventions_loss: 0.2826 - cohesion_root_mean_squared_error: 0.4833 - syntax_root_mean_squared_error: 0.4829 - vocabulary_root_mean_squared_error: 0.4853 - phraseology_root_mean_squared_error: 0.4815 - grammar_root_mean_squared_error: 0.4812 - conventions_root_mean_squared_error: 0.4940 - val_loss: 0.3061 - val_cohesion_loss: 0.2704 - val_syntax_loss: 0.3076 - val_vocabulary_loss: 0.2974 - val_phraseology_loss: 0.2787 - val_grammar_loss: 0.3041 - val_conventions_loss: 0.3786 - val_cohesion_root_mean_squared_error: 0.4894 - val_syntax_root_mean_squared_error: 0.5171 - val_vocabulary_root_mean_squared_error: 0.5092 - val_phraseology_root_mean_squared_error: 0.4945 - val_grammar_root_mean_squared_error: 0.5132 - val_conventions_root_mean_squared_error: 0.5715\n",
            "Epoch 14/20\n",
            "137/137 [==============================] - 314s 2s/step - loss: 0.2988 - cohesion_loss: 0.2887 - syntax_loss: 0.2982 - vocabulary_loss: 0.3168 - phraseology_loss: 0.2978 - grammar_loss: 0.2905 - conventions_loss: 0.3010 - cohesion_root_mean_squared_error: 0.4979 - syntax_root_mean_squared_error: 0.5055 - vocabulary_root_mean_squared_error: 0.5191 - phraseology_root_mean_squared_error: 0.5060 - grammar_root_mean_squared_error: 0.4995 - conventions_root_mean_squared_error: 0.5074 - val_loss: 0.2753 - val_cohesion_loss: 0.2827 - val_syntax_loss: 0.2515 - val_vocabulary_loss: 0.3032 - val_phraseology_loss: 0.2720 - val_grammar_loss: 0.2499 - val_conventions_loss: 0.2927 - val_cohesion_root_mean_squared_error: 0.4957 - val_syntax_root_mean_squared_error: 0.4747 - val_vocabulary_root_mean_squared_error: 0.5118 - val_phraseology_root_mean_squared_error: 0.4858 - val_grammar_root_mean_squared_error: 0.4706 - val_conventions_root_mean_squared_error: 0.5040\n",
            "Epoch 15/20\n",
            "137/137 [==============================] - 316s 2s/step - loss: 0.2694 - cohesion_loss: 0.2651 - syntax_loss: 0.2719 - vocabulary_loss: 0.2693 - phraseology_loss: 0.2654 - grammar_loss: 0.2676 - conventions_loss: 0.2773 - cohesion_root_mean_squared_error: 0.4801 - syntax_root_mean_squared_error: 0.4852 - vocabulary_root_mean_squared_error: 0.4843 - phraseology_root_mean_squared_error: 0.4819 - grammar_root_mean_squared_error: 0.4833 - conventions_root_mean_squared_error: 0.4894 - val_loss: 0.2588 - val_cohesion_loss: 0.2621 - val_syntax_loss: 0.2480 - val_vocabulary_loss: 0.2802 - val_phraseology_loss: 0.2427 - val_grammar_loss: 0.2438 - val_conventions_loss: 0.2762 - val_cohesion_root_mean_squared_error: 0.4814 - val_syntax_root_mean_squared_error: 0.4709 - val_vocabulary_root_mean_squared_error: 0.4951 - val_phraseology_root_mean_squared_error: 0.4638 - val_grammar_root_mean_squared_error: 0.4658 - val_conventions_root_mean_squared_error: 0.4927\n",
            "Epoch 16/20\n",
            "110/137 [=======================>......] - ETA: 55s - loss: 0.2796 - cohesion_loss: 0.2766 - syntax_loss: 0.2802 - vocabulary_loss: 0.2844 - phraseology_loss: 0.2756 - grammar_loss: 0.2733 - conventions_loss: 0.2878 - cohesion_root_mean_squared_error: 0.4890 - syntax_root_mean_squared_error: 0.4909 - vocabulary_root_mean_squared_error: 0.4960 - phraseology_root_mean_squared_error: 0.4886 - grammar_root_mean_squared_error: 0.4864 - conventions_root_mean_squared_error: 0.4971"
          ]
        }
      ],
      "source": [
        "from tensorflow.keras import callbacks\n",
        "\n",
        "es = callbacks.EarlyStopping(patience=5, restore_best_weights=True)\n",
        "history = model.fit(x={'input_ids':tokenized_train_texts['input_ids'],\n",
        "                        'attention_mask':tokenized_train_texts['attention_mask']},\n",
        "                    y=train_targets,epochs=40,batch_size=16,validation_split=0.2, callbacks=[es],\n",
        "          verbose=1)"
      ]
    },
    {
      "cell_type": "code",
      "execution_count": null,
      "metadata": {
        "id": "QQcM7aTP-9wE"
      },
      "outputs": [],
      "source": [
        "#model.save('/content/drive/MyDrive/ColabNotebooks/Houssam-Deberta-V1-Maxpool-Dense-128/houssam_deberta_V1_maxpool_dense_128_model.h5')\n",
        "#model.save_weights('/content/drive/MyDrive/ColabNotebooks/Houssam-Deberta-V1-Maxpool-Dense-128/houssam_deberta_V1_maxpool_dense_128_model_weights.h5')"
      ]
    },
    {
      "cell_type": "code",
      "execution_count": null,
      "metadata": {
        "id": "TMyORG2CBbXd"
      },
      "outputs": [],
      "source": [
        "# convert the history.history dict to a pandas DataFrame:     \n",
        "hist_deberta_df = pd.DataFrame(history.history)\n",
        "# Save to CSV\n",
        "hist_csv_file = '/content/drive/MyDrive/ColabNotebooks/Houssam-Deberta-V1-Maxpool-Dense-128/deberta_v1_history.csv'\n",
        "with open(hist_csv_file, mode='w') as deberta_v1_history:\n",
        "    hist_deberta_df.to_csv(deberta_v1_history)"
      ]
    },
    {
      "cell_type": "code",
      "execution_count": null,
      "metadata": {
        "id": "XF7jWoSu_tuM"
      },
      "outputs": [],
      "source": [
        "def plot_history(history, title='', axs=None, exp_name=\"\"):\n",
        "\n",
        "    #compute new metrics and add in 'history.history'\n",
        "    metrics=['cohesion', 'syntax', 'vocabulary', 'phraseology', 'grammar', 'conventions']\n",
        "    scores=['loss','root_mean_squared_error']\n",
        "    history.history['MCRMSE']=[]\n",
        "    history.history['val_MCRMSE']=[]\n",
        "    for epoch in range(len(history.history['loss'])):\n",
        "      mcrmse=0\n",
        "      val_mcrmse=0\n",
        "      for m in metrics:\n",
        "        mcrmse +=history.history[f'{m}_root_mean_squared_error'][epoch]\n",
        "        val_mcrmse +=history.history[f'val_{m}_root_mean_squared_error'][epoch]\n",
        "      history.history['MCRMSE'].append(mcrmse/len(metrics))\n",
        "      history.history['val_MCRMSE'].append(val_mcrmse/len(metrics))\n",
        "\n",
        "    if axs is not None:\n",
        "        ax1, ax2 = axs\n",
        "    else:\n",
        "        f, ax = plt.subplots(7, 2, figsize=(12, 2*7))\n",
        "    \n",
        "    if len(exp_name) > 0 and exp_name[0] != '_':\n",
        "        exp_name = '_' + exp_name\n",
        "\n",
        "    ax[0][0].plot(history.history['loss'], label='train' + exp_name)\n",
        "    ax[0][0].plot(history.history['val_loss'], label='val' + exp_name)\n",
        "    ax[0][0].set_title('loss')\n",
        "    ax[0][0].legend()\n",
        "   \n",
        "    ax[0][1].plot(history.history['MCRMSE'], label='train' + exp_name)\n",
        "    ax[0][1].plot(history.history['val_MCRMSE'], label='val' + exp_name)\n",
        "    ax[0][1].set_title('MCRMSE')\n",
        "    ax[0][1].legend()\n",
        "    i=0\n",
        "    for m in metrics:\n",
        "      j=0\n",
        "      i+=1\n",
        "      for s in scores:\n",
        "        ax[i][j].plot(history.history[f'{m}_{s}'], label='train' + exp_name)\n",
        "        ax[i][j].plot(history.history[f'val_{m}_{s}'], label='val' + exp_name)\n",
        "        ax[i][j].set_title(f'{m}_{s}')\n",
        "        ax[i][j].legend()\n",
        "        j+=1\n",
        "        \n",
        "    return ax\n",
        "plot_history(history, title='', axs=None, exp_name=\"\")"
      ]
    },
    {
      "cell_type": "code",
      "execution_count": null,
      "metadata": {
        "id": "-h7OYDykSg2Q"
      },
      "outputs": [],
      "source": [
        "\n",
        "model.load_weights('/content/drive/MyDrive/ColabNotebooks/Houssam-Deberta-V1-Maxpool-Dense-128/houssam_deberta_V1_maxpool_dense_128_model_weights.h5')"
      ]
    },
    {
      "cell_type": "code",
      "execution_count": null,
      "metadata": {
        "id": "yharvwhCSBMN"
      },
      "outputs": [],
      "source": [
        "model_eval=model.evaluate(x={'input_ids':tokenized_val_texts['input_ids'],\n",
        "                        'attention_mask':tokenized_val_texts['attention_mask']}, y=val_targets)"
      ]
    },
    {
      "cell_type": "code",
      "execution_count": null,
      "metadata": {
        "id": "NK-ONOpZpOtD"
      },
      "outputs": [],
      "source": [
        "np.mean(model_eval[-6:])"
      ]
    },
    {
      "cell_type": "code",
      "execution_count": null,
      "metadata": {
        "id": "8M1YtP8Sp7I8"
      },
      "outputs": [],
      "source": [
        "model.__dict__"
      ]
    }
  ],
  "metadata": {
    "accelerator": "GPU",
    "colab": {
      "provenance": []
    },
    "gpuClass": "standard",
    "kernelspec": {
      "display_name": "Python 3",
      "name": "python3"
    },
    "language_info": {
      "name": "python"
    }
  },
  "nbformat": 4,
  "nbformat_minor": 0
}