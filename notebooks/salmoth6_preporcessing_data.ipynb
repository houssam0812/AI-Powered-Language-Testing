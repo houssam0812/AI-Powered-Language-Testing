{
 "cells": [
  {
   "cell_type": "markdown",
   "id": "2583c215",
   "metadata": {},
   "source": [
    "# imports"
   ]
  },
  {
   "cell_type": "code",
   "execution_count": 86,
   "id": "fdd3580f",
   "metadata": {
    "ExecuteTime": {
     "end_time": "2023-03-09T00:51:26.527556Z",
     "start_time": "2023-03-09T00:51:26.519512Z"
    }
   },
   "outputs": [],
   "source": [
    "import pandas as pd\n",
    "import numpy as np\n",
    "import os\n",
    "import matplotlib.pyplot as plt"
   ]
  },
  {
   "cell_type": "code",
   "execution_count": 2,
   "id": "8a817b68",
   "metadata": {
    "ExecuteTime": {
     "end_time": "2023-03-08T13:38:29.706308Z",
     "start_time": "2023-03-08T13:38:29.406834Z"
    }
   },
   "outputs": [
    {
     "name": "stdout",
     "output_type": "stream",
     "text": [
      "plt\r\n"
     ]
    }
   ],
   "source": [
    "#check local virtual env (expected 'plt')\n",
    "!pyenv local"
   ]
  },
  {
   "cell_type": "code",
   "execution_count": 10,
   "id": "ceccc899",
   "metadata": {
    "ExecuteTime": {
     "end_time": "2023-03-08T23:01:47.715322Z",
     "start_time": "2023-03-08T23:01:47.708599Z"
    }
   },
   "outputs": [],
   "source": [
    "train_path=\"../raw_data/train.csv\""
   ]
  },
  {
   "cell_type": "markdown",
   "id": "34a7faf1",
   "metadata": {},
   "source": [
    "# load datasets"
   ]
  },
  {
   "cell_type": "markdown",
   "id": "7eef5721",
   "metadata": {},
   "source": [
    "## load functions"
   ]
  },
  {
   "cell_type": "code",
   "execution_count": 4,
   "id": "f5624f19",
   "metadata": {
    "ExecuteTime": {
     "end_time": "2023-03-08T22:52:25.278064Z",
     "start_time": "2023-03-08T22:52:25.270056Z"
    }
   },
   "outputs": [],
   "source": [
    "def load_data(file_path: str, size:int =-1, y_index:int=-1) -> (pd.DataFrame, pd.DataFrame) :\n",
    "    \"\"\"\n",
    "    'file_path' = the path to the required file (typically 'train.csv' or 'test.csv' under a 'raw_data' folder)\n",
    "    NB: it can be an absolute or a relative path !\n",
    "    if 'size'=-1 the entire data is returned, else only the 1st 'size' rows (might also suffle if this is better) are returned\n",
    "    'y_index' expected values = [-1,0,1,2,3,4,5] indicated which evaluation(s) will be returned\n",
    "    outputs= (X_raw,y):\n",
    "        X_raw= 2-column DataFrame ['text_id','full_text']  \n",
    "        y= a 6-column DataFrame (or a 1-column DataFrame if y_index is used)\n",
    "        nb of rows in X_raw and y is controlled by the 'size' kwarg\n",
    "    \"\"\"\n",
    "    df=pd.read_csv(file_path)\n",
    "    X_raw=df[['text_id','full_text']].iloc[0:size,:]\n",
    "    y=df[['cohesion', 'syntax', 'vocabulary', 'phraseology', 'grammar', 'conventions']].iloc[0:size,:]\n",
    "    if y_index >0 and y_index < len(y.columns):\n",
    "        y=y.iloc[:,[y_index]]         \n",
    "    \n",
    "    return X_raw,y"
   ]
  },
  {
   "cell_type": "code",
   "execution_count": 6,
   "id": "5c599a36",
   "metadata": {
    "ExecuteTime": {
     "end_time": "2023-03-08T23:00:47.844723Z",
     "start_time": "2023-03-08T23:00:47.836439Z"
    }
   },
   "outputs": [],
   "source": [
    "def load_train_test_data(file_path:str, y_index:int=-1, split_ratio:float=0.3,reshuffle:bool=True) -> (pd.DataFrame, pd.DataFrame,pd.DataFrame, pd.DataFrame) :\n",
    "    \"\"\"\n",
    "    'file_path' = the path to the required file (typically 'train.csv' or 'test.csv' under a 'raw_data' folder)\n",
    "    NB: it can be an absolute or a relative path !\n",
    "    'y_index' expected values = [-1,0,1,2,3,4,5] indicated which evaluation(s) will be returned\n",
    "    'split_ratio'is expected to be >0 and <1 ([0.01-0.99])\n",
    "    data is reshuffled when 'reshuffle'= True!\n",
    "    outputs= (X_train_raw,X_test_raw,y_train,y_test):\n",
    "        X_train_raw, X_test_raw= 2x 2-column DataFrames ['text_id','full_text']  \n",
    "        y_train, y_test= 2x 6-column DataFrames (or  1-column DataFrames if y_index is used)\n",
    "        nb of rows in (X_train_raw,y_train,X_val_raw,y_val) is controlled by the 'split_ratio' kwarg\n",
    "    \"\"\"\n",
    "    df=pd.read_csv(file_path)\n",
    "    if reshuffle:\n",
    "        df=df.sample(frac=1)\n",
    "    len_train=int(df.shape[0]*(1-split_ratio))\n",
    "    target_names=['cohesion', 'syntax', 'vocabulary', 'phraseology', 'grammar', 'conventions']\n",
    "    X_train_raw=df[['text_id','full_text']].iloc[:len_train,:]\n",
    "    y_train=df[target_names].iloc[:len_train,:]\n",
    "    X_test_raw=df[['text_id','full_text']].iloc[len_train:,:]\n",
    "    y_test=df[target_names].iloc[len_train:,:]    \n",
    "    if y_index >0 and y_index < len(y_train.columns):\n",
    "        y_train=y_train.iloc[:,[y_index]]         \n",
    "        y_test=y_val.iloc[:,[y_index]]         \n",
    "    return X_train_raw,X_test_raw,y_train,y_test"
   ]
  },
  {
   "cell_type": "markdown",
   "id": "bd33406d",
   "metadata": {},
   "source": [
    "## load"
   ]
  },
  {
   "cell_type": "code",
   "execution_count": 7,
   "id": "2deda76c",
   "metadata": {
    "ExecuteTime": {
     "end_time": "2023-03-08T13:39:04.936940Z",
     "start_time": "2023-03-08T13:39:04.731705Z"
    }
   },
   "outputs": [
    {
     "data": {
      "text/plain": [
       "((3910, 2), (3910, 6))"
      ]
     },
     "execution_count": 7,
     "metadata": {},
     "output_type": "execute_result"
    }
   ],
   "source": [
    "X_raw, y= load_data(train_path)\n",
    "X_raw.shape, y.shape"
   ]
  },
  {
   "cell_type": "code",
   "execution_count": 11,
   "id": "9535b362",
   "metadata": {
    "ExecuteTime": {
     "end_time": "2023-03-08T23:02:24.595200Z",
     "start_time": "2023-03-08T23:02:24.364574Z"
    }
   },
   "outputs": [
    {
     "data": {
      "text/plain": [
       "((2737, 2), (1174, 2), (2737, 6), (1174, 6))"
      ]
     },
     "execution_count": 11,
     "metadata": {},
     "output_type": "execute_result"
    }
   ],
   "source": [
    "X_train_raw,X_test_raw,y_train,y_test=load_train_val_data(train_path, split_ratio=0.3,reshuffle=False)\n",
    "X_train_raw.shape,X_test_raw.shape,y_train.shape,y_test.shape"
   ]
  },
  {
   "cell_type": "markdown",
   "id": "870b3d6a",
   "metadata": {
    "heading_collapsed": true
   },
   "source": [
    "## basic data analysis /unit testing"
   ]
  },
  {
   "cell_type": "code",
   "execution_count": 12,
   "id": "13141dea",
   "metadata": {
    "ExecuteTime": {
     "end_time": "2023-03-08T23:03:49.959224Z",
     "start_time": "2023-03-08T23:03:49.940229Z"
    },
    "hidden": true
   },
   "outputs": [
    {
     "data": {
      "text/html": [
       "<div>\n",
       "<style scoped>\n",
       "    .dataframe tbody tr th:only-of-type {\n",
       "        vertical-align: middle;\n",
       "    }\n",
       "\n",
       "    .dataframe tbody tr th {\n",
       "        vertical-align: top;\n",
       "    }\n",
       "\n",
       "    .dataframe thead th {\n",
       "        text-align: right;\n",
       "    }\n",
       "</style>\n",
       "<table border=\"1\" class=\"dataframe\">\n",
       "  <thead>\n",
       "    <tr style=\"text-align: right;\">\n",
       "      <th></th>\n",
       "      <th>text_id</th>\n",
       "      <th>full_text</th>\n",
       "    </tr>\n",
       "  </thead>\n",
       "  <tbody>\n",
       "    <tr>\n",
       "      <th>0</th>\n",
       "      <td>0016926B079C</td>\n",
       "      <td>I think that students would benefit from learn...</td>\n",
       "    </tr>\n",
       "    <tr>\n",
       "      <th>1</th>\n",
       "      <td>0022683E9EA5</td>\n",
       "      <td>When a problem is a change you have to let it ...</td>\n",
       "    </tr>\n",
       "    <tr>\n",
       "      <th>2</th>\n",
       "      <td>00299B378633</td>\n",
       "      <td>Dear, Principal\\n\\nIf u change the school poli...</td>\n",
       "    </tr>\n",
       "    <tr>\n",
       "      <th>3</th>\n",
       "      <td>003885A45F42</td>\n",
       "      <td>The best time in life is when you become yours...</td>\n",
       "    </tr>\n",
       "    <tr>\n",
       "      <th>4</th>\n",
       "      <td>0049B1DF5CCC</td>\n",
       "      <td>Small act of kindness can impact in other peop...</td>\n",
       "    </tr>\n",
       "    <tr>\n",
       "      <th>...</th>\n",
       "      <td>...</td>\n",
       "      <td>...</td>\n",
       "    </tr>\n",
       "    <tr>\n",
       "      <th>2732</th>\n",
       "      <td>C8F035B467A7</td>\n",
       "      <td>This generation is influenced by technology an...</td>\n",
       "    </tr>\n",
       "    <tr>\n",
       "      <th>2733</th>\n",
       "      <td>C928D32FE5C5</td>\n",
       "      <td>Are vacations a necessity to us and to our suc...</td>\n",
       "    </tr>\n",
       "    <tr>\n",
       "      <th>2734</th>\n",
       "      <td>C92C73888D49</td>\n",
       "      <td>In my opinion\\n\\nThomas Jefferson wrote a stat...</td>\n",
       "    </tr>\n",
       "    <tr>\n",
       "      <th>2735</th>\n",
       "      <td>C93925EDB882</td>\n",
       "      <td>Author Ralph Waldo Emerson wrote a quote that ...</td>\n",
       "    </tr>\n",
       "    <tr>\n",
       "      <th>2736</th>\n",
       "      <td>C954A6D0B707</td>\n",
       "      <td>~Aesop said: \"\\n\\nNo act of kindness, no matte...</td>\n",
       "    </tr>\n",
       "  </tbody>\n",
       "</table>\n",
       "<p>2737 rows × 2 columns</p>\n",
       "</div>"
      ],
      "text/plain": [
       "           text_id                                          full_text\n",
       "0     0016926B079C  I think that students would benefit from learn...\n",
       "1     0022683E9EA5  When a problem is a change you have to let it ...\n",
       "2     00299B378633  Dear, Principal\\n\\nIf u change the school poli...\n",
       "3     003885A45F42  The best time in life is when you become yours...\n",
       "4     0049B1DF5CCC  Small act of kindness can impact in other peop...\n",
       "...            ...                                                ...\n",
       "2732  C8F035B467A7  This generation is influenced by technology an...\n",
       "2733  C928D32FE5C5  Are vacations a necessity to us and to our suc...\n",
       "2734  C92C73888D49  In my opinion\\n\\nThomas Jefferson wrote a stat...\n",
       "2735  C93925EDB882  Author Ralph Waldo Emerson wrote a quote that ...\n",
       "2736  C954A6D0B707  ~Aesop said: \"\\n\\nNo act of kindness, no matte...\n",
       "\n",
       "[2737 rows x 2 columns]"
      ]
     },
     "execution_count": 12,
     "metadata": {},
     "output_type": "execute_result"
    }
   ],
   "source": [
    "X_train_raw"
   ]
  },
  {
   "cell_type": "code",
   "execution_count": 13,
   "id": "a80b43dd",
   "metadata": {
    "ExecuteTime": {
     "end_time": "2023-03-08T23:04:01.179722Z",
     "start_time": "2023-03-08T23:04:01.165363Z"
    },
    "hidden": true
   },
   "outputs": [
    {
     "data": {
      "text/html": [
       "<div>\n",
       "<style scoped>\n",
       "    .dataframe tbody tr th:only-of-type {\n",
       "        vertical-align: middle;\n",
       "    }\n",
       "\n",
       "    .dataframe tbody tr th {\n",
       "        vertical-align: top;\n",
       "    }\n",
       "\n",
       "    .dataframe thead th {\n",
       "        text-align: right;\n",
       "    }\n",
       "</style>\n",
       "<table border=\"1\" class=\"dataframe\">\n",
       "  <thead>\n",
       "    <tr style=\"text-align: right;\">\n",
       "      <th></th>\n",
       "      <th>cohesion</th>\n",
       "      <th>syntax</th>\n",
       "      <th>vocabulary</th>\n",
       "      <th>phraseology</th>\n",
       "      <th>grammar</th>\n",
       "      <th>conventions</th>\n",
       "    </tr>\n",
       "  </thead>\n",
       "  <tbody>\n",
       "    <tr>\n",
       "      <th>0</th>\n",
       "      <td>3.5</td>\n",
       "      <td>3.5</td>\n",
       "      <td>3.0</td>\n",
       "      <td>3.0</td>\n",
       "      <td>4.0</td>\n",
       "      <td>3.0</td>\n",
       "    </tr>\n",
       "    <tr>\n",
       "      <th>1</th>\n",
       "      <td>2.5</td>\n",
       "      <td>2.5</td>\n",
       "      <td>3.0</td>\n",
       "      <td>2.0</td>\n",
       "      <td>2.0</td>\n",
       "      <td>2.5</td>\n",
       "    </tr>\n",
       "    <tr>\n",
       "      <th>2</th>\n",
       "      <td>3.0</td>\n",
       "      <td>3.5</td>\n",
       "      <td>3.0</td>\n",
       "      <td>3.0</td>\n",
       "      <td>3.0</td>\n",
       "      <td>2.5</td>\n",
       "    </tr>\n",
       "    <tr>\n",
       "      <th>3</th>\n",
       "      <td>4.5</td>\n",
       "      <td>4.5</td>\n",
       "      <td>4.5</td>\n",
       "      <td>4.5</td>\n",
       "      <td>4.0</td>\n",
       "      <td>5.0</td>\n",
       "    </tr>\n",
       "    <tr>\n",
       "      <th>4</th>\n",
       "      <td>2.5</td>\n",
       "      <td>3.0</td>\n",
       "      <td>3.0</td>\n",
       "      <td>3.0</td>\n",
       "      <td>2.5</td>\n",
       "      <td>2.5</td>\n",
       "    </tr>\n",
       "    <tr>\n",
       "      <th>...</th>\n",
       "      <td>...</td>\n",
       "      <td>...</td>\n",
       "      <td>...</td>\n",
       "      <td>...</td>\n",
       "      <td>...</td>\n",
       "      <td>...</td>\n",
       "    </tr>\n",
       "    <tr>\n",
       "      <th>2732</th>\n",
       "      <td>3.0</td>\n",
       "      <td>3.5</td>\n",
       "      <td>3.5</td>\n",
       "      <td>3.0</td>\n",
       "      <td>3.5</td>\n",
       "      <td>3.5</td>\n",
       "    </tr>\n",
       "    <tr>\n",
       "      <th>2733</th>\n",
       "      <td>4.5</td>\n",
       "      <td>4.5</td>\n",
       "      <td>4.5</td>\n",
       "      <td>4.5</td>\n",
       "      <td>4.5</td>\n",
       "      <td>5.0</td>\n",
       "    </tr>\n",
       "    <tr>\n",
       "      <th>2734</th>\n",
       "      <td>2.0</td>\n",
       "      <td>2.5</td>\n",
       "      <td>2.5</td>\n",
       "      <td>3.0</td>\n",
       "      <td>2.0</td>\n",
       "      <td>2.5</td>\n",
       "    </tr>\n",
       "    <tr>\n",
       "      <th>2735</th>\n",
       "      <td>4.0</td>\n",
       "      <td>4.0</td>\n",
       "      <td>4.0</td>\n",
       "      <td>4.0</td>\n",
       "      <td>3.5</td>\n",
       "      <td>3.0</td>\n",
       "    </tr>\n",
       "    <tr>\n",
       "      <th>2736</th>\n",
       "      <td>3.0</td>\n",
       "      <td>3.5</td>\n",
       "      <td>2.5</td>\n",
       "      <td>3.0</td>\n",
       "      <td>4.0</td>\n",
       "      <td>3.0</td>\n",
       "    </tr>\n",
       "  </tbody>\n",
       "</table>\n",
       "<p>2737 rows × 6 columns</p>\n",
       "</div>"
      ],
      "text/plain": [
       "      cohesion  syntax  vocabulary  phraseology  grammar  conventions\n",
       "0          3.5     3.5         3.0          3.0      4.0          3.0\n",
       "1          2.5     2.5         3.0          2.0      2.0          2.5\n",
       "2          3.0     3.5         3.0          3.0      3.0          2.5\n",
       "3          4.5     4.5         4.5          4.5      4.0          5.0\n",
       "4          2.5     3.0         3.0          3.0      2.5          2.5\n",
       "...        ...     ...         ...          ...      ...          ...\n",
       "2732       3.0     3.5         3.5          3.0      3.5          3.5\n",
       "2733       4.5     4.5         4.5          4.5      4.5          5.0\n",
       "2734       2.0     2.5         2.5          3.0      2.0          2.5\n",
       "2735       4.0     4.0         4.0          4.0      3.5          3.0\n",
       "2736       3.0     3.5         2.5          3.0      4.0          3.0\n",
       "\n",
       "[2737 rows x 6 columns]"
      ]
     },
     "execution_count": 13,
     "metadata": {},
     "output_type": "execute_result"
    }
   ],
   "source": [
    "y_train"
   ]
  },
  {
   "cell_type": "code",
   "execution_count": 15,
   "id": "243c08ed",
   "metadata": {
    "ExecuteTime": {
     "end_time": "2023-03-08T23:04:27.061854Z",
     "start_time": "2023-03-08T23:04:27.048413Z"
    },
    "hidden": true
   },
   "outputs": [
    {
     "data": {
      "text/html": [
       "<div>\n",
       "<style scoped>\n",
       "    .dataframe tbody tr th:only-of-type {\n",
       "        vertical-align: middle;\n",
       "    }\n",
       "\n",
       "    .dataframe tbody tr th {\n",
       "        vertical-align: top;\n",
       "    }\n",
       "\n",
       "    .dataframe thead th {\n",
       "        text-align: right;\n",
       "    }\n",
       "</style>\n",
       "<table border=\"1\" class=\"dataframe\">\n",
       "  <thead>\n",
       "    <tr style=\"text-align: right;\">\n",
       "      <th></th>\n",
       "      <th>text_id</th>\n",
       "      <th>full_text</th>\n",
       "    </tr>\n",
       "  </thead>\n",
       "  <tbody>\n",
       "    <tr>\n",
       "      <th>2737</th>\n",
       "      <td>C968149003DE</td>\n",
       "      <td>So many people at my middle school want to sta...</td>\n",
       "    </tr>\n",
       "    <tr>\n",
       "      <th>2738</th>\n",
       "      <td>C972C565A819</td>\n",
       "      <td>Do you want to see a temple made with gold? I ...</td>\n",
       "    </tr>\n",
       "    <tr>\n",
       "      <th>2739</th>\n",
       "      <td>C97525A88E48</td>\n",
       "      <td>It has been said that a positive attitude is t...</td>\n",
       "    </tr>\n",
       "    <tr>\n",
       "      <th>2740</th>\n",
       "      <td>C97C2190DB65</td>\n",
       "      <td>Imagine someone asking another person wheither...</td>\n",
       "    </tr>\n",
       "    <tr>\n",
       "      <th>2741</th>\n",
       "      <td>C996AAF4ADF6</td>\n",
       "      <td>I think my preference is working with a group ...</td>\n",
       "    </tr>\n",
       "    <tr>\n",
       "      <th>...</th>\n",
       "      <td>...</td>\n",
       "      <td>...</td>\n",
       "    </tr>\n",
       "    <tr>\n",
       "      <th>3906</th>\n",
       "      <td>FFD29828A873</td>\n",
       "      <td>I believe using cellphones in class for educat...</td>\n",
       "    </tr>\n",
       "    <tr>\n",
       "      <th>3907</th>\n",
       "      <td>FFD9A83B0849</td>\n",
       "      <td>Working alone, students do not have to argue w...</td>\n",
       "    </tr>\n",
       "    <tr>\n",
       "      <th>3908</th>\n",
       "      <td>FFDC4011AC9C</td>\n",
       "      <td>\"A problem is a chance for you to do your best...</td>\n",
       "    </tr>\n",
       "    <tr>\n",
       "      <th>3909</th>\n",
       "      <td>FFE16D704B16</td>\n",
       "      <td>Many people disagree with Albert Schweitzer's ...</td>\n",
       "    </tr>\n",
       "    <tr>\n",
       "      <th>3910</th>\n",
       "      <td>FFED00D6E0BD</td>\n",
       "      <td>Do you think that failure is the main thing fo...</td>\n",
       "    </tr>\n",
       "  </tbody>\n",
       "</table>\n",
       "<p>1174 rows × 2 columns</p>\n",
       "</div>"
      ],
      "text/plain": [
       "           text_id                                          full_text\n",
       "2737  C968149003DE  So many people at my middle school want to sta...\n",
       "2738  C972C565A819  Do you want to see a temple made with gold? I ...\n",
       "2739  C97525A88E48  It has been said that a positive attitude is t...\n",
       "2740  C97C2190DB65  Imagine someone asking another person wheither...\n",
       "2741  C996AAF4ADF6  I think my preference is working with a group ...\n",
       "...            ...                                                ...\n",
       "3906  FFD29828A873  I believe using cellphones in class for educat...\n",
       "3907  FFD9A83B0849  Working alone, students do not have to argue w...\n",
       "3908  FFDC4011AC9C  \"A problem is a chance for you to do your best...\n",
       "3909  FFE16D704B16  Many people disagree with Albert Schweitzer's ...\n",
       "3910  FFED00D6E0BD  Do you think that failure is the main thing fo...\n",
       "\n",
       "[1174 rows x 2 columns]"
      ]
     },
     "execution_count": 15,
     "metadata": {},
     "output_type": "execute_result"
    }
   ],
   "source": [
    "X_test_raw"
   ]
  },
  {
   "cell_type": "code",
   "execution_count": null,
   "id": "5d044890",
   "metadata": {
    "ExecuteTime": {
     "end_time": "2023-03-08T11:21:35.010546Z",
     "start_time": "2023-03-08T11:21:34.998963Z"
    },
    "hidden": true
   },
   "outputs": [],
   "source": [
    "X_raw"
   ]
  },
  {
   "cell_type": "code",
   "execution_count": null,
   "id": "a95b1908",
   "metadata": {
    "ExecuteTime": {
     "end_time": "2023-03-08T09:26:03.393735Z",
     "start_time": "2023-03-08T09:26:03.375370Z"
    },
    "hidden": true
   },
   "outputs": [],
   "source": [
    "X_raw['len_text']=X_raw.full_text.apply(len)\n",
    "print(len(X_raw.full_text[0]))\n",
    "X_raw"
   ]
  },
  {
   "cell_type": "code",
   "execution_count": null,
   "id": "52897d11",
   "metadata": {
    "ExecuteTime": {
     "end_time": "2023-03-08T09:26:08.316742Z",
     "start_time": "2023-03-08T09:26:08.120672Z"
    },
    "hidden": true
   },
   "outputs": [],
   "source": [
    "X_raw.len_text.hist(bins=100)"
   ]
  },
  {
   "cell_type": "code",
   "execution_count": null,
   "id": "efa0e2e7",
   "metadata": {
    "ExecuteTime": {
     "end_time": "2023-03-08T09:26:24.907036Z",
     "start_time": "2023-03-08T09:26:24.898422Z"
    },
    "hidden": true
   },
   "outputs": [],
   "source": [
    "X_raw.len_text.min(),X_raw.len_text.max()"
   ]
  },
  {
   "cell_type": "code",
   "execution_count": null,
   "id": "e4d0a142",
   "metadata": {
    "ExecuteTime": {
     "end_time": "2023-03-08T10:07:00.622975Z",
     "start_time": "2023-03-08T10:07:00.608720Z"
    },
    "hidden": true
   },
   "outputs": [],
   "source": [
    "x0=X_raw.full_text[0]\n",
    "print(len(x0))\n",
    "x0"
   ]
  },
  {
   "cell_type": "code",
   "execution_count": null,
   "id": "7de06f77",
   "metadata": {
    "ExecuteTime": {
     "end_time": "2023-03-08T10:28:25.354232Z",
     "start_time": "2023-03-08T10:28:25.345893Z"
    },
    "hidden": true
   },
   "outputs": [],
   "source": [
    "x0_split=x0.split()\n",
    "print(len(x0_split))\n",
    "x0_split"
   ]
  },
  {
   "cell_type": "code",
   "execution_count": null,
   "id": "1b34b6ec",
   "metadata": {
    "ExecuteTime": {
     "end_time": "2023-03-08T10:41:39.092315Z",
     "start_time": "2023-03-08T10:41:39.070563Z"
    },
    "hidden": true
   },
   "outputs": [],
   "source": [
    "x1=x0.replace(\".\", \" . \")\n",
    "x2=x1.replace(\"\\n\\n\", \" CR \")\n",
    "print(len(x2.split()))\n",
    "x2.split()\n"
   ]
  },
  {
   "cell_type": "markdown",
   "id": "42c020d3",
   "metadata": {},
   "source": [
    "## functionize data pre_processing"
   ]
  },
  {
   "cell_type": "markdown",
   "id": "4fc5f870",
   "metadata": {},
   "source": [
    "### punctuation preproc"
   ]
  },
  {
   "cell_type": "code",
   "execution_count": 41,
   "id": "19eb243a",
   "metadata": {
    "ExecuteTime": {
     "end_time": "2023-03-09T00:01:14.324165Z",
     "start_time": "2023-03-09T00:01:14.311002Z"
    }
   },
   "outputs": [],
   "source": [
    "def punctuation_preproc_(X:pd.DataFrame)->pd.DataFrame:\n",
    "    \"\"\"\n",
    "    assumption X has a column labelled 'full_text'\n",
    "    modify 'full_text': \n",
    "        *replace '\\n\\n' by 'CR'(=Carriage Return)\n",
    "        *add spaces around dot ('.') punctation mark so that it is counted\n",
    "    add a new column ('character_count')\n",
    "    add a new column ('word_count')\n",
    "    add a new column ('element_count')\n",
    "    \"\"\"\n",
    "    def punctuation_processing(x:str)->str:\n",
    "        x=x.replace(\".\", \" . \")\n",
    "        x=x.replace(\"\\n\\n\", \" CR \")\n",
    "        return x\n",
    "    X1=pd.DataFrame.copy(X)\n",
    "    X1['character_count']=X1.full_text.apply(len)\n",
    "    X1['word_count']=X1.full_text.apply(lambda x: len(x.split()))\n",
    "    X1.full_text=X1.full_text.apply(punctuation_processing)\n",
    "    X1['element_count']=X1.full_text.apply(lambda x: len(x.split()))\n",
    "    return X1"
   ]
  },
  {
   "cell_type": "code",
   "execution_count": 42,
   "id": "121305cf",
   "metadata": {
    "ExecuteTime": {
     "end_time": "2023-03-09T00:01:20.400609Z",
     "start_time": "2023-03-09T00:01:20.388965Z"
    }
   },
   "outputs": [],
   "source": [
    "def punctuation_preproc(X:pd.DataFrame,X_test:pd.DataFrame=None,X_val:pd.DataFrame=None)->pd.DataFrame:\n",
    "    if X_test== None and X_val==None:\n",
    "        return punctuation_preproc_(X)\n",
    "    if X_test and X_val==None:\n",
    "        return punctuation_preproc_(X),punctuation_preproc_(X_test)\n",
    "    if X_test==None and X_val:\n",
    "        return punctuation_preproc_(X),punctuation_preproc_(X_val)\n",
    "    if X_test and X_val:\n",
    "        return punctuation_preproc_(X),punctuation_preproc_(X_test),punctuation_preproc_(X_val)\n",
    "    return None"
   ]
  },
  {
   "cell_type": "markdown",
   "id": "2a2d5236",
   "metadata": {},
   "source": [
    "### (full) sentence preproc"
   ]
  },
  {
   "cell_type": "code",
   "execution_count": 32,
   "id": "cf7ddcf1",
   "metadata": {
    "ExecuteTime": {
     "end_time": "2023-03-08T23:55:00.039499Z",
     "start_time": "2023-03-08T23:55:00.029680Z"
    }
   },
   "outputs": [],
   "source": [
    "def sentence_processing(x:str)->str:\n",
    "    tokens=x.split()\n",
    "    if len(tokens)>490:\n",
    "        tokens=tokens[:490]\n",
    "    x=' '.join(tokens)\n",
    "    x.rstrip('.')\n",
    "    return x"
   ]
  },
  {
   "cell_type": "code",
   "execution_count": 33,
   "id": "a62c1a95",
   "metadata": {
    "ExecuteTime": {
     "end_time": "2023-03-08T23:55:03.347176Z",
     "start_time": "2023-03-08T23:55:03.335076Z"
    }
   },
   "outputs": [],
   "source": [
    "def sentence_preproc_(X:pd.DataFrame)->pd.DataFrame:\n",
    "    \"\"\"\n",
    "    assumption X has a column labelled 'full_text'\n",
    "    shorten 'full_text' with following rules:\n",
    "        * it ends with a dot ('.')\n",
    "        * as long as possible but less than 490 elements (~words)    \n",
    "    add a new column ('new_element_count')\n",
    "    \"\"\"\n",
    "    def sentence_processing(x:str)->str:\n",
    "        tokens=x.split()\n",
    "        if len(tokens)>490:\n",
    "            tokens=tokens[:490]\n",
    "        x=' '.join(tokens)\n",
    "        x.rstrip('.')\n",
    "        return x\n",
    "    X1=pd.DataFrame.copy(X)\n",
    "    X1.full_text=X1.full_text.apply(sentence_processing)\n",
    "    X1['new_element_count']=X1.full_text.apply(lambda x: len(x.split()))\n",
    "    return X1"
   ]
  },
  {
   "cell_type": "code",
   "execution_count": 35,
   "id": "8526d98c",
   "metadata": {
    "ExecuteTime": {
     "end_time": "2023-03-08T23:55:35.849090Z",
     "start_time": "2023-03-08T23:55:35.843917Z"
    }
   },
   "outputs": [],
   "source": [
    "def sentence_preproc(X:pd.DataFrame,X_test:pd.DataFrame=None,X_val:pd.DataFrame=None)->pd.DataFrame:\n",
    "    if X_test== None and X_val==None:\n",
    "        return sentence_preproc_(X)\n",
    "    if X_test and X_val==None:\n",
    "        return sentence_preproc_(X),sentence_preproc_(X_test)\n",
    "    if X_test==None and X_val:\n",
    "        return sentence_preproc_(X),sentence_preproc_(X_val)\n",
    "    if X_test and X_val:\n",
    "        return sentence_preproc_(X),sentence_preproc_(X_test),sentence_preproc_(X_val)\n",
    "    return None"
   ]
  },
  {
   "cell_type": "markdown",
   "id": "d65b0575",
   "metadata": {
    "heading_collapsed": true
   },
   "source": [
    "### play with punctation preprocessing"
   ]
  },
  {
   "cell_type": "code",
   "execution_count": 25,
   "id": "ca742d74",
   "metadata": {
    "ExecuteTime": {
     "end_time": "2023-03-08T23:49:31.333782Z",
     "start_time": "2023-03-08T23:49:31.238866Z"
    },
    "hidden": true
   },
   "outputs": [
    {
     "data": {
      "text/plain": [
       "((3910, 2), (3910, 6))"
      ]
     },
     "execution_count": 25,
     "metadata": {},
     "output_type": "execute_result"
    }
   ],
   "source": [
    "X_raw, y= load_data(train_path)\n",
    "X_raw.shape, y.shape"
   ]
  },
  {
   "cell_type": "code",
   "execution_count": 46,
   "id": "86f18cbb",
   "metadata": {
    "ExecuteTime": {
     "end_time": "2023-03-09T00:02:49.744942Z",
     "start_time": "2023-03-09T00:02:49.556756Z"
    },
    "hidden": true
   },
   "outputs": [
    {
     "name": "stdout",
     "output_type": "stream",
     "text": [
      "(3910, 5)\n"
     ]
    },
    {
     "data": {
      "text/html": [
       "<div>\n",
       "<style scoped>\n",
       "    .dataframe tbody tr th:only-of-type {\n",
       "        vertical-align: middle;\n",
       "    }\n",
       "\n",
       "    .dataframe tbody tr th {\n",
       "        vertical-align: top;\n",
       "    }\n",
       "\n",
       "    .dataframe thead th {\n",
       "        text-align: right;\n",
       "    }\n",
       "</style>\n",
       "<table border=\"1\" class=\"dataframe\">\n",
       "  <thead>\n",
       "    <tr style=\"text-align: right;\">\n",
       "      <th></th>\n",
       "      <th>text_id</th>\n",
       "      <th>full_text</th>\n",
       "      <th>character_count</th>\n",
       "      <th>word_count</th>\n",
       "      <th>element_count</th>\n",
       "    </tr>\n",
       "  </thead>\n",
       "  <tbody>\n",
       "    <tr>\n",
       "      <th>0</th>\n",
       "      <td>0016926B079C</td>\n",
       "      <td>I think that students would benefit from learn...</td>\n",
       "      <td>1387</td>\n",
       "      <td>261</td>\n",
       "      <td>282</td>\n",
       "    </tr>\n",
       "    <tr>\n",
       "      <th>1</th>\n",
       "      <td>0022683E9EA5</td>\n",
       "      <td>When a problem is a change you have to let it ...</td>\n",
       "      <td>2635</td>\n",
       "      <td>533</td>\n",
       "      <td>552</td>\n",
       "    </tr>\n",
       "    <tr>\n",
       "      <th>2</th>\n",
       "      <td>00299B378633</td>\n",
       "      <td>Dear, Principal CR If u change the school poli...</td>\n",
       "      <td>1663</td>\n",
       "      <td>320</td>\n",
       "      <td>340</td>\n",
       "    </tr>\n",
       "    <tr>\n",
       "      <th>3</th>\n",
       "      <td>003885A45F42</td>\n",
       "      <td>The best time in life is when you become yours...</td>\n",
       "      <td>3973</td>\n",
       "      <td>728</td>\n",
       "      <td>773</td>\n",
       "    </tr>\n",
       "    <tr>\n",
       "      <th>4</th>\n",
       "      <td>0049B1DF5CCC</td>\n",
       "      <td>Small act of kindness can impact in other peop...</td>\n",
       "      <td>1326</td>\n",
       "      <td>234</td>\n",
       "      <td>239</td>\n",
       "    </tr>\n",
       "    <tr>\n",
       "      <th>...</th>\n",
       "      <td>...</td>\n",
       "      <td>...</td>\n",
       "      <td>...</td>\n",
       "      <td>...</td>\n",
       "      <td>...</td>\n",
       "    </tr>\n",
       "    <tr>\n",
       "      <th>3905</th>\n",
       "      <td>FFCDB2524616</td>\n",
       "      <td>I agree with Ralph Waldo Emerson's \" CR To be ...</td>\n",
       "      <td>1415</td>\n",
       "      <td>263</td>\n",
       "      <td>278</td>\n",
       "    </tr>\n",
       "    <tr>\n",
       "      <th>3906</th>\n",
       "      <td>FFD29828A873</td>\n",
       "      <td>I believe using cellphones in class for educat...</td>\n",
       "      <td>977</td>\n",
       "      <td>179</td>\n",
       "      <td>187</td>\n",
       "    </tr>\n",
       "    <tr>\n",
       "      <th>3907</th>\n",
       "      <td>FFD9A83B0849</td>\n",
       "      <td>Working alone, students do not have to argue w...</td>\n",
       "      <td>2603</td>\n",
       "      <td>465</td>\n",
       "      <td>487</td>\n",
       "    </tr>\n",
       "    <tr>\n",
       "      <th>3908</th>\n",
       "      <td>FFDC4011AC9C</td>\n",
       "      <td>\"A problem is a chance for you to do your best...</td>\n",
       "      <td>1298</td>\n",
       "      <td>257</td>\n",
       "      <td>264</td>\n",
       "    </tr>\n",
       "    <tr>\n",
       "      <th>3909</th>\n",
       "      <td>FFE16D704B16</td>\n",
       "      <td>Many people disagree with Albert Schweitzer's ...</td>\n",
       "      <td>2833</td>\n",
       "      <td>510</td>\n",
       "      <td>533</td>\n",
       "    </tr>\n",
       "  </tbody>\n",
       "</table>\n",
       "<p>3910 rows × 5 columns</p>\n",
       "</div>"
      ],
      "text/plain": [
       "           text_id                                          full_text  \\\n",
       "0     0016926B079C  I think that students would benefit from learn...   \n",
       "1     0022683E9EA5  When a problem is a change you have to let it ...   \n",
       "2     00299B378633  Dear, Principal CR If u change the school poli...   \n",
       "3     003885A45F42  The best time in life is when you become yours...   \n",
       "4     0049B1DF5CCC  Small act of kindness can impact in other peop...   \n",
       "...            ...                                                ...   \n",
       "3905  FFCDB2524616  I agree with Ralph Waldo Emerson's \" CR To be ...   \n",
       "3906  FFD29828A873  I believe using cellphones in class for educat...   \n",
       "3907  FFD9A83B0849  Working alone, students do not have to argue w...   \n",
       "3908  FFDC4011AC9C  \"A problem is a chance for you to do your best...   \n",
       "3909  FFE16D704B16  Many people disagree with Albert Schweitzer's ...   \n",
       "\n",
       "      character_count  word_count  element_count  \n",
       "0                1387         261            282  \n",
       "1                2635         533            552  \n",
       "2                1663         320            340  \n",
       "3                3973         728            773  \n",
       "4                1326         234            239  \n",
       "...               ...         ...            ...  \n",
       "3905             1415         263            278  \n",
       "3906              977         179            187  \n",
       "3907             2603         465            487  \n",
       "3908             1298         257            264  \n",
       "3909             2833         510            533  \n",
       "\n",
       "[3910 rows x 5 columns]"
      ]
     },
     "execution_count": 46,
     "metadata": {},
     "output_type": "execute_result"
    }
   ],
   "source": [
    "X_raw_preproc1=punctuation_preproc(X_raw)\n",
    "print(X_raw_preproc1.shape)\n",
    "X_raw_preproc1"
   ]
  },
  {
   "cell_type": "code",
   "execution_count": 44,
   "id": "f8b5c90b",
   "metadata": {
    "ExecuteTime": {
     "end_time": "2023-03-09T00:01:33.823332Z",
     "start_time": "2023-03-09T00:01:33.811071Z"
    },
    "hidden": true
   },
   "outputs": [
    {
     "name": "stdout",
     "output_type": "stream",
     "text": [
      "character range :  82 6044\n",
      "word range :  14 1260\n",
      "element range :  14 1302\n"
     ]
    }
   ],
   "source": [
    "print('character range : ',X_raw_preproc1.character_count.min(),X_raw_preproc1.character_count.max())\n",
    "print('word range : ',X_raw_preproc1.word_count.min(),X_raw_preproc1.word_count.max())\n",
    "print('element range : ',X_raw_preproc1.element_count.min(),X_raw_preproc1.element_count.max())"
   ]
  },
  {
   "cell_type": "code",
   "execution_count": 29,
   "id": "aa6ca40c",
   "metadata": {
    "ExecuteTime": {
     "end_time": "2023-03-08T23:49:51.065066Z",
     "start_time": "2023-03-08T23:49:50.743088Z"
    },
    "hidden": true,
    "scrolled": true
   },
   "outputs": [
    {
     "data": {
      "image/png": "[encoded data removed]",
      "text/plain": [
       "<Figure size 640x480 with 4 Axes>"
      ]
     },
     "metadata": {},
     "output_type": "display_data"
    }
   ],
   "source": [
    "X_raw_preproc1.hist();"
   ]
  },
  {
   "cell_type": "markdown",
   "id": "9b98680a",
   "metadata": {
    "heading_collapsed": true
   },
   "source": [
    "### sentence preprocessing unit tests"
   ]
  },
  {
   "cell_type": "code",
   "execution_count": 36,
   "id": "67278cf9",
   "metadata": {
    "ExecuteTime": {
     "end_time": "2023-03-08T23:55:47.250660Z",
     "start_time": "2023-03-08T23:55:47.243331Z"
    },
    "hidden": true
   },
   "outputs": [
    {
     "data": {
      "text/plain": [
       "(282, 552)"
      ]
     },
     "execution_count": 36,
     "metadata": {},
     "output_type": "execute_result"
    }
   ],
   "source": [
    "x0= X_raw_preproc1.full_text[0]\n",
    "x1=X_raw_preproc1.full_text[1]\n",
    "X_raw_preproc1.element_count[0],X_raw_preproc1.element_count[1],"
   ]
  },
  {
   "cell_type": "code",
   "execution_count": 38,
   "id": "1c0c5c31",
   "metadata": {
    "ExecuteTime": {
     "end_time": "2023-03-08T23:56:33.015538Z",
     "start_time": "2023-03-08T23:56:32.997173Z"
    },
    "hidden": true
   },
   "outputs": [
    {
     "data": {
      "text/plain": [
       "282"
      ]
     },
     "execution_count": 38,
     "metadata": {},
     "output_type": "execute_result"
    }
   ],
   "source": [
    "len(sentence_processing(x0).split())"
   ]
  },
  {
   "cell_type": "code",
   "execution_count": 39,
   "id": "f0f785b6",
   "metadata": {
    "ExecuteTime": {
     "end_time": "2023-03-08T23:56:52.135435Z",
     "start_time": "2023-03-08T23:56:52.123386Z"
    },
    "hidden": true
   },
   "outputs": [
    {
     "data": {
      "text/plain": [
       "490"
      ]
     },
     "execution_count": 39,
     "metadata": {},
     "output_type": "execute_result"
    }
   ],
   "source": [
    "len(sentence_processing(x1).split())"
   ]
  },
  {
   "cell_type": "markdown",
   "id": "715a8527",
   "metadata": {
    "heading_collapsed": true
   },
   "source": [
    "### play with sentence preprocessing"
   ]
  },
  {
   "cell_type": "code",
   "execution_count": 47,
   "id": "5256f68b",
   "metadata": {
    "ExecuteTime": {
     "end_time": "2023-03-09T00:03:32.632881Z",
     "start_time": "2023-03-09T00:03:32.299217Z"
    },
    "hidden": true,
    "scrolled": true
   },
   "outputs": [
    {
     "name": "stdout",
     "output_type": "stream",
     "text": [
      "(3910, 6)\n"
     ]
    },
    {
     "data": {
      "text/html": [
       "<div>\n",
       "<style scoped>\n",
       "    .dataframe tbody tr th:only-of-type {\n",
       "        vertical-align: middle;\n",
       "    }\n",
       "\n",
       "    .dataframe tbody tr th {\n",
       "        vertical-align: top;\n",
       "    }\n",
       "\n",
       "    .dataframe thead th {\n",
       "        text-align: right;\n",
       "    }\n",
       "</style>\n",
       "<table border=\"1\" class=\"dataframe\">\n",
       "  <thead>\n",
       "    <tr style=\"text-align: right;\">\n",
       "      <th></th>\n",
       "      <th>text_id</th>\n",
       "      <th>full_text</th>\n",
       "      <th>character_count</th>\n",
       "      <th>word_count</th>\n",
       "      <th>element_count</th>\n",
       "      <th>new_element_count</th>\n",
       "    </tr>\n",
       "  </thead>\n",
       "  <tbody>\n",
       "    <tr>\n",
       "      <th>0</th>\n",
       "      <td>0016926B079C</td>\n",
       "      <td>I think that students would benefit from learn...</td>\n",
       "      <td>1387</td>\n",
       "      <td>261</td>\n",
       "      <td>282</td>\n",
       "      <td>282</td>\n",
       "    </tr>\n",
       "    <tr>\n",
       "      <th>1</th>\n",
       "      <td>0022683E9EA5</td>\n",
       "      <td>When a problem is a change you have to let it ...</td>\n",
       "      <td>2635</td>\n",
       "      <td>533</td>\n",
       "      <td>552</td>\n",
       "      <td>490</td>\n",
       "    </tr>\n",
       "    <tr>\n",
       "      <th>2</th>\n",
       "      <td>00299B378633</td>\n",
       "      <td>Dear, Principal CR If u change the school poli...</td>\n",
       "      <td>1663</td>\n",
       "      <td>320</td>\n",
       "      <td>340</td>\n",
       "      <td>340</td>\n",
       "    </tr>\n",
       "    <tr>\n",
       "      <th>3</th>\n",
       "      <td>003885A45F42</td>\n",
       "      <td>The best time in life is when you become yours...</td>\n",
       "      <td>3973</td>\n",
       "      <td>728</td>\n",
       "      <td>773</td>\n",
       "      <td>490</td>\n",
       "    </tr>\n",
       "    <tr>\n",
       "      <th>4</th>\n",
       "      <td>0049B1DF5CCC</td>\n",
       "      <td>Small act of kindness can impact in other peop...</td>\n",
       "      <td>1326</td>\n",
       "      <td>234</td>\n",
       "      <td>239</td>\n",
       "      <td>239</td>\n",
       "    </tr>\n",
       "    <tr>\n",
       "      <th>...</th>\n",
       "      <td>...</td>\n",
       "      <td>...</td>\n",
       "      <td>...</td>\n",
       "      <td>...</td>\n",
       "      <td>...</td>\n",
       "      <td>...</td>\n",
       "    </tr>\n",
       "    <tr>\n",
       "      <th>3905</th>\n",
       "      <td>FFCDB2524616</td>\n",
       "      <td>I agree with Ralph Waldo Emerson's \" CR To be ...</td>\n",
       "      <td>1415</td>\n",
       "      <td>263</td>\n",
       "      <td>278</td>\n",
       "      <td>278</td>\n",
       "    </tr>\n",
       "    <tr>\n",
       "      <th>3906</th>\n",
       "      <td>FFD29828A873</td>\n",
       "      <td>I believe using cellphones in class for educat...</td>\n",
       "      <td>977</td>\n",
       "      <td>179</td>\n",
       "      <td>187</td>\n",
       "      <td>187</td>\n",
       "    </tr>\n",
       "    <tr>\n",
       "      <th>3907</th>\n",
       "      <td>FFD9A83B0849</td>\n",
       "      <td>Working alone, students do not have to argue w...</td>\n",
       "      <td>2603</td>\n",
       "      <td>465</td>\n",
       "      <td>487</td>\n",
       "      <td>487</td>\n",
       "    </tr>\n",
       "    <tr>\n",
       "      <th>3908</th>\n",
       "      <td>FFDC4011AC9C</td>\n",
       "      <td>\"A problem is a chance for you to do your best...</td>\n",
       "      <td>1298</td>\n",
       "      <td>257</td>\n",
       "      <td>264</td>\n",
       "      <td>264</td>\n",
       "    </tr>\n",
       "    <tr>\n",
       "      <th>3909</th>\n",
       "      <td>FFE16D704B16</td>\n",
       "      <td>Many people disagree with Albert Schweitzer's ...</td>\n",
       "      <td>2833</td>\n",
       "      <td>510</td>\n",
       "      <td>533</td>\n",
       "      <td>490</td>\n",
       "    </tr>\n",
       "  </tbody>\n",
       "</table>\n",
       "<p>3910 rows × 6 columns</p>\n",
       "</div>"
      ],
      "text/plain": [
       "           text_id                                          full_text  \\\n",
       "0     0016926B079C  I think that students would benefit from learn...   \n",
       "1     0022683E9EA5  When a problem is a change you have to let it ...   \n",
       "2     00299B378633  Dear, Principal CR If u change the school poli...   \n",
       "3     003885A45F42  The best time in life is when you become yours...   \n",
       "4     0049B1DF5CCC  Small act of kindness can impact in other peop...   \n",
       "...            ...                                                ...   \n",
       "3905  FFCDB2524616  I agree with Ralph Waldo Emerson's \" CR To be ...   \n",
       "3906  FFD29828A873  I believe using cellphones in class for educat...   \n",
       "3907  FFD9A83B0849  Working alone, students do not have to argue w...   \n",
       "3908  FFDC4011AC9C  \"A problem is a chance for you to do your best...   \n",
       "3909  FFE16D704B16  Many people disagree with Albert Schweitzer's ...   \n",
       "\n",
       "      character_count  word_count  element_count  new_element_count  \n",
       "0                1387         261            282                282  \n",
       "1                2635         533            552                490  \n",
       "2                1663         320            340                340  \n",
       "3                3973         728            773                490  \n",
       "4                1326         234            239                239  \n",
       "...               ...         ...            ...                ...  \n",
       "3905             1415         263            278                278  \n",
       "3906              977         179            187                187  \n",
       "3907             2603         465            487                487  \n",
       "3908             1298         257            264                264  \n",
       "3909             2833         510            533                490  \n",
       "\n",
       "[3910 rows x 6 columns]"
      ]
     },
     "execution_count": 47,
     "metadata": {},
     "output_type": "execute_result"
    }
   ],
   "source": [
    "X_raw_preproc2=sentence_preproc(X_raw_preproc1)\n",
    "print(X_raw_preproc2.shape)\n",
    "X_raw_preproc2"
   ]
  },
  {
   "cell_type": "code",
   "execution_count": 48,
   "id": "ef3f1665",
   "metadata": {
    "ExecuteTime": {
     "end_time": "2023-03-09T00:05:19.407697Z",
     "start_time": "2023-03-09T00:05:19.398429Z"
    },
    "hidden": true,
    "scrolled": true
   },
   "outputs": [
    {
     "name": "stdout",
     "output_type": "stream",
     "text": [
      "character range :  82 6044\n",
      "word range :  14 1260\n",
      "element range :  14 1302\n",
      "new_element range :  14 490\n"
     ]
    }
   ],
   "source": [
    "print('character range : ',X_raw_preproc2.character_count.min(),X_raw_preproc2.character_count.max())\n",
    "print('word range : ',X_raw_preproc2.word_count.min(),X_raw_preproc2.word_count.max())\n",
    "print('element range : ',X_raw_preproc2.element_count.min(),X_raw_preproc2.element_count.max())\n",
    "print('new_element range : ',X_raw_preproc2.new_element_count.min(),X_raw_preproc2.new_element_count.max())"
   ]
  },
  {
   "cell_type": "code",
   "execution_count": 49,
   "id": "2ffc5b0a",
   "metadata": {
    "ExecuteTime": {
     "end_time": "2023-03-09T00:05:28.895980Z",
     "start_time": "2023-03-09T00:05:28.242855Z"
    },
    "hidden": true,
    "scrolled": false
   },
   "outputs": [
    {
     "data": {
      "image/png": "[encoded data removed]",
      "text/plain": [
       "<Figure size 640x480 with 4 Axes>"
      ]
     },
     "metadata": {},
     "output_type": "display_data"
    }
   ],
   "source": [
    "X_raw_preproc2.hist();"
   ]
  },
  {
   "cell_type": "code",
   "execution_count": null,
   "id": "dc3e5a78",
   "metadata": {
    "hidden": true
   },
   "outputs": [],
   "source": []
  },
  {
   "cell_type": "markdown",
   "id": "6c87ecdf",
   "metadata": {
    "ExecuteTime": {
     "end_time": "2023-03-07T09:14:45.196369Z",
     "start_time": "2023-03-07T09:14:45.190834Z"
    },
    "heading_collapsed": true
   },
   "source": [
    "# Baseline (simple mean)"
   ]
  },
  {
   "cell_type": "markdown",
   "id": "7dbad3b2",
   "metadata": {
    "heading_collapsed": true,
    "hidden": true
   },
   "source": [
    "## baseline in one cell"
   ]
  },
  {
   "cell_type": "code",
   "execution_count": null,
   "id": "dabf02a3",
   "metadata": {
    "ExecuteTime": {
     "end_time": "2023-03-07T15:10:20.018697Z",
     "start_time": "2023-03-07T15:10:19.960401Z"
    },
    "hidden": true
   },
   "outputs": [],
   "source": [
    "X_train_raw, y_train= load_data(train_path)\n",
    "baseline_score=np.sqrt(((y_train-y_train.mean())**2).mean(axis=0)).mean()\n",
    "baseline_score"
   ]
  },
  {
   "cell_type": "markdown",
   "id": "390c5a4e",
   "metadata": {},
   "source": [
    "# BERT Basic Model"
   ]
  },
  {
   "cell_type": "markdown",
   "id": "a7f63908",
   "metadata": {},
   "source": [
    "## Tokenize inputs"
   ]
  },
  {
   "cell_type": "markdown",
   "id": "33400fc5",
   "metadata": {},
   "source": [
    "### load tokenizer"
   ]
  },
  {
   "cell_type": "code",
   "execution_count": 51,
   "id": "27d631de",
   "metadata": {
    "ExecuteTime": {
     "end_time": "2023-03-09T00:09:26.803556Z",
     "start_time": "2023-03-09T00:09:26.798687Z"
    }
   },
   "outputs": [],
   "source": [
    "from transformers import BertTokenizer"
   ]
  },
  {
   "cell_type": "code",
   "execution_count": 52,
   "id": "0b8908dd",
   "metadata": {
    "ExecuteTime": {
     "end_time": "2023-03-09T00:09:30.450748Z",
     "start_time": "2023-03-09T00:09:29.838331Z"
    }
   },
   "outputs": [],
   "source": [
    "tokenizer = BertTokenizer.from_pretrained('bert-base-cased')"
   ]
  },
  {
   "cell_type": "markdown",
   "id": "6b4538c6",
   "metadata": {
    "heading_collapsed": true
   },
   "source": [
    "### unit test tokenizer"
   ]
  },
  {
   "cell_type": "code",
   "execution_count": null,
   "id": "66499274",
   "metadata": {
    "ExecuteTime": {
     "end_time": "2023-03-08T11:36:02.029814Z",
     "start_time": "2023-03-08T11:36:02.018809Z"
    },
    "hidden": true
   },
   "outputs": [],
   "source": [
    "X_raw"
   ]
  },
  {
   "cell_type": "code",
   "execution_count": 63,
   "id": "ecb1f8ed",
   "metadata": {
    "ExecuteTime": {
     "end_time": "2023-03-09T00:18:48.200719Z",
     "start_time": "2023-03-09T00:18:48.195290Z"
    },
    "hidden": true
   },
   "outputs": [],
   "source": [
    "list_x=[X_raw.full_text[0],X_raw.full_text[1],\n",
    "        X_raw_preproc1.full_text[0],X_raw_preproc1.full_text[1],\n",
    "        X_raw_preproc2.full_text[0],X_raw_preproc2.full_text[1],\n",
    "       ]"
   ]
  },
  {
   "cell_type": "code",
   "execution_count": 72,
   "id": "f19c83b4",
   "metadata": {
    "ExecuteTime": {
     "end_time": "2023-03-09T00:27:46.890558Z",
     "start_time": "2023-03-09T00:27:46.803803Z"
    },
    "hidden": true
   },
   "outputs": [],
   "source": [
    "x0_raw_tokenized=tokenizer(X_raw.full_text[0],return_tensors=\"tf\",return_token_type_ids=False)\n",
    "x1_raw_tokenized=tokenizer(X_raw.full_text[1],return_tensors=\"tf\",return_token_type_ids=False)\n",
    "x0_raw__preproc1_tokenized=tokenizer(X_raw_preproc1.full_text[0],return_tensors=\"tf\",return_token_type_ids=False)\n",
    "x1_raw__preproc1_tokenized=tokenizer(X_raw_preproc1.full_text[1],return_tensors=\"tf\",return_token_type_ids=False)\n",
    "x0_raw__preproc2_tokenized=tokenizer(X_raw_preproc2.full_text[0],return_tensors=\"tf\",return_token_type_ids=False)\n",
    "x1_raw__preproc2_tokenized=tokenizer(X_raw_preproc2.full_text[1],return_tensors=\"tf\",return_token_type_ids=False)"
   ]
  },
  {
   "cell_type": "code",
   "execution_count": 71,
   "id": "1362ca6b",
   "metadata": {
    "ExecuteTime": {
     "end_time": "2023-03-09T00:27:27.912266Z",
     "start_time": "2023-03-09T00:27:27.901513Z"
    },
    "hidden": true
   },
   "outputs": [
    {
     "name": "stdout",
     "output_type": "stream",
     "text": [
      "(1, 295)\n",
      "(1, 567)\n",
      "(1, 298)\n",
      "(1, 572)\n",
      "(1, 298)\n",
      "(1, 510)\n"
     ]
    }
   ],
   "source": [
    "print(x0_raw_tokenized['input_ids'].shape)\n",
    "print(x1_raw_tokenized['input_ids'].shape)\n",
    "print(x0_raw__preproc1_tokenized['input_ids'].shape)\n",
    "print(x1_raw__preproc1_tokenized['input_ids'].shape)\n",
    "print(x0_raw__preproc2_tokenized['input_ids'].shape)\n",
    "print(x1_raw__preproc2_tokenized['input_ids'].shape)"
   ]
  },
  {
   "cell_type": "code",
   "execution_count": 84,
   "id": "193c1a7d",
   "metadata": {
    "ExecuteTime": {
     "end_time": "2023-03-09T00:49:39.182440Z",
     "start_time": "2023-03-09T00:49:39.168604Z"
    },
    "hidden": true
   },
   "outputs": [
    {
     "data": {
      "text/plain": [
       "295"
      ]
     },
     "execution_count": 84,
     "metadata": {},
     "output_type": "execute_result"
    }
   ],
   "source": [
    "x0_raw_tokenized['input_ids'].shape[1]"
   ]
  },
  {
   "cell_type": "code",
   "execution_count": 76,
   "id": "44ee47f9",
   "metadata": {
    "ExecuteTime": {
     "end_time": "2023-03-09T00:35:31.786255Z",
     "start_time": "2023-03-09T00:35:31.764771Z"
    },
    "hidden": true
   },
   "outputs": [
    {
     "data": {
      "text/plain": [
       "0       I think that students would benefit from learn...\n",
       "1       When a problem is a change you have to let it ...\n",
       "2       Dear, Principal\\n\\nIf u change the school poli...\n",
       "3       The best time in life is when you become yours...\n",
       "4       Small act of kindness can impact in other peop...\n",
       "                              ...                        \n",
       "3905    I agree with Ralph Waldo Emerson's \"\\n\\nTo be ...\n",
       "3906    I believe using cellphones in class for educat...\n",
       "3907    Working alone, students do not have to argue w...\n",
       "3908    \"A problem is a chance for you to do your best...\n",
       "3909    Many people disagree with Albert Schweitzer's ...\n",
       "Name: full_text, Length: 3910, dtype: object"
      ]
     },
     "execution_count": 76,
     "metadata": {},
     "output_type": "execute_result"
    }
   ],
   "source": [
    "X_raw.full_text"
   ]
  },
  {
   "cell_type": "code",
   "execution_count": 109,
   "id": "5d9866eb",
   "metadata": {
    "ExecuteTime": {
     "end_time": "2023-03-09T01:49:26.565458Z",
     "start_time": "2023-03-09T01:49:12.480801Z"
    },
    "hidden": true
   },
   "outputs": [],
   "source": [
    "# X_raw_tokenized=tokenizer(list(X_raw.full_text),return_tensors=\"tf\",return_token_type_ids=False)\n",
    "#  X_raw__preproc1_tokenized=tokenizer(list(X_raw_preproc1.full_text),return_tensors=\"tf\",return_token_type_ids=False)\n",
    "X_raw__preproc2_tokenized=tokenizer(list(X_raw_preproc2.full_text),return_tensors=\"tf\",return_token_type_ids=False, padding='max_length',truncation=True)"
   ]
  },
  {
   "cell_type": "code",
   "execution_count": 112,
   "id": "09e2d7c7",
   "metadata": {
    "ExecuteTime": {
     "end_time": "2023-03-09T01:53:18.511882Z",
     "start_time": "2023-03-09T01:53:18.035299Z"
    },
    "hidden": true
   },
   "outputs": [],
   "source": [
    "indexes = []\n",
    "for i in X_raw__preproc2_tokenized['attention_mask']:\n",
    "    indexes.append(np.unique(i,return_index=True))"
   ]
  },
  {
   "cell_type": "code",
   "execution_count": 141,
   "id": "a702e36a",
   "metadata": {
    "ExecuteTime": {
     "end_time": "2023-03-09T02:13:13.050435Z",
     "start_time": "2023-03-09T02:13:13.043591Z"
    },
    "hidden": true
   },
   "outputs": [
    {
     "data": {
      "text/plain": [
       "3910"
      ]
     },
     "execution_count": 141,
     "metadata": {},
     "output_type": "execute_result"
    }
   ],
   "source": [
    "len(indexes)"
   ]
  },
  {
   "cell_type": "code",
   "execution_count": 122,
   "id": "d3af3eff",
   "metadata": {
    "ExecuteTime": {
     "end_time": "2023-03-09T01:58:13.401885Z",
     "start_time": "2023-03-09T01:58:13.391746Z"
    },
    "hidden": true
   },
   "outputs": [],
   "source": [
    "counts = {}\n",
    "counts['no padding'] = 0\n",
    "counts['index first zero'] = []\n",
    "counts['ntext'] = []\n",
    "for index,(i,j) in enumerate(indexes):\n",
    "    if len(i)<2:\n",
    "        counts['no padding']+=1\n",
    "        continue\n",
    "    counts['index first zero'].append(j[0])\n",
    "    counts['ntext'].append(index)"
   ]
  },
  {
   "cell_type": "code",
   "execution_count": 146,
   "id": "8b634ec1",
   "metadata": {
    "ExecuteTime": {
     "end_time": "2023-03-09T02:14:16.495598Z",
     "start_time": "2023-03-09T02:14:16.488574Z"
    },
    "hidden": true
   },
   "outputs": [
    {
     "data": {
      "text/plain": [
       "True"
      ]
     },
     "execution_count": 146,
     "metadata": {},
     "output_type": "execute_result"
    }
   ],
   "source": [
    "counts[\"no padding\"]+len(counts['index first zero'])==len(X_raw_preproc2)"
   ]
  },
  {
   "cell_type": "code",
   "execution_count": 147,
   "id": "e17ce801",
   "metadata": {
    "ExecuteTime": {
     "end_time": "2023-03-09T02:14:57.974197Z",
     "start_time": "2023-03-09T02:14:57.966860Z"
    },
    "hidden": true
   },
   "outputs": [
    {
     "data": {
      "text/plain": [
       "True"
      ]
     },
     "execution_count": 147,
     "metadata": {},
     "output_type": "execute_result"
    }
   ],
   "source": [
    "counts[\"no padding\"]+len(counts['ntext'])==len(X_raw_preproc2)"
   ]
  },
  {
   "cell_type": "code",
   "execution_count": 121,
   "id": "88058769",
   "metadata": {
    "ExecuteTime": {
     "end_time": "2023-03-09T01:56:58.313550Z",
     "start_time": "2023-03-09T01:56:58.099713Z"
    },
    "hidden": true
   },
   "outputs": [
    {
     "data": {
      "text/plain": [
       "(array([  3.,  17.,  34., 106., 284., 297., 368., 391., 379., 502.]),\n",
       " array([ 16. ,  65.5, 115. , 164.5, 214. , 263.5, 313. , 362.5, 412. ,\n",
       "        461.5, 511. ]),\n",
       " <BarContainer object of 10 artists>)"
      ]
     },
     "execution_count": 121,
     "metadata": {},
     "output_type": "execute_result"
    },
    {
     "data": {
      "image/png": "[encoded data removed]",
      "text/plain": [
       "<Figure size 640x480 with 1 Axes>"
      ]
     },
     "metadata": {},
     "output_type": "display_data"
    }
   ],
   "source": [
    "plt.hist(counts['index first zero'])"
   ]
  },
  {
   "cell_type": "code",
   "execution_count": 129,
   "id": "7a55fb82",
   "metadata": {
    "ExecuteTime": {
     "end_time": "2023-03-09T02:02:28.053920Z",
     "start_time": "2023-03-09T02:02:27.964068Z"
    },
    "hidden": true
   },
   "outputs": [
    {
     "data": {
      "text/html": [
       "<div>\n",
       "<style scoped>\n",
       "    .dataframe tbody tr th:only-of-type {\n",
       "        vertical-align: middle;\n",
       "    }\n",
       "\n",
       "    .dataframe tbody tr th {\n",
       "        vertical-align: top;\n",
       "    }\n",
       "\n",
       "    .dataframe thead th {\n",
       "        text-align: right;\n",
       "    }\n",
       "</style>\n",
       "<table border=\"1\" class=\"dataframe\">\n",
       "  <thead>\n",
       "    <tr style=\"text-align: right;\">\n",
       "      <th></th>\n",
       "      <th>index</th>\n",
       "      <th>text_id</th>\n",
       "      <th>full_text</th>\n",
       "      <th>character_count</th>\n",
       "      <th>word_count</th>\n",
       "      <th>element_count</th>\n",
       "      <th>new_element_count</th>\n",
       "    </tr>\n",
       "  </thead>\n",
       "  <tbody>\n",
       "    <tr>\n",
       "      <th>0</th>\n",
       "      <td>0</td>\n",
       "      <td>0016926B079C</td>\n",
       "      <td>I think that students would benefit from learn...</td>\n",
       "      <td>1387</td>\n",
       "      <td>261</td>\n",
       "      <td>282</td>\n",
       "      <td>282</td>\n",
       "    </tr>\n",
       "    <tr>\n",
       "      <th>1</th>\n",
       "      <td>1</td>\n",
       "      <td>0022683E9EA5</td>\n",
       "      <td>When a problem is a change you have to let it ...</td>\n",
       "      <td>2635</td>\n",
       "      <td>533</td>\n",
       "      <td>552</td>\n",
       "      <td>490</td>\n",
       "    </tr>\n",
       "    <tr>\n",
       "      <th>2</th>\n",
       "      <td>2</td>\n",
       "      <td>00299B378633</td>\n",
       "      <td>Dear, Principal CR If u change the school poli...</td>\n",
       "      <td>1663</td>\n",
       "      <td>320</td>\n",
       "      <td>340</td>\n",
       "      <td>340</td>\n",
       "    </tr>\n",
       "    <tr>\n",
       "      <th>3</th>\n",
       "      <td>3</td>\n",
       "      <td>003885A45F42</td>\n",
       "      <td>The best time in life is when you become yours...</td>\n",
       "      <td>3973</td>\n",
       "      <td>728</td>\n",
       "      <td>773</td>\n",
       "      <td>490</td>\n",
       "    </tr>\n",
       "    <tr>\n",
       "      <th>4</th>\n",
       "      <td>4</td>\n",
       "      <td>0049B1DF5CCC</td>\n",
       "      <td>Small act of kindness can impact in other peop...</td>\n",
       "      <td>1326</td>\n",
       "      <td>234</td>\n",
       "      <td>239</td>\n",
       "      <td>239</td>\n",
       "    </tr>\n",
       "  </tbody>\n",
       "</table>\n",
       "</div>"
      ],
      "text/plain": [
       "   index       text_id                                          full_text  \\\n",
       "0      0  0016926B079C  I think that students would benefit from learn...   \n",
       "1      1  0022683E9EA5  When a problem is a change you have to let it ...   \n",
       "2      2  00299B378633  Dear, Principal CR If u change the school poli...   \n",
       "3      3  003885A45F42  The best time in life is when you become yours...   \n",
       "4      4  0049B1DF5CCC  Small act of kindness can impact in other peop...   \n",
       "\n",
       "   character_count  word_count  element_count  new_element_count  \n",
       "0             1387         261            282                282  \n",
       "1             2635         533            552                490  \n",
       "2             1663         320            340                340  \n",
       "3             3973         728            773                490  \n",
       "4             1326         234            239                239  "
      ]
     },
     "execution_count": 129,
     "metadata": {},
     "output_type": "execute_result"
    }
   ],
   "source": [
    "X_raw_preproc2.reset_index().head()"
   ]
  },
  {
   "cell_type": "code",
   "execution_count": 152,
   "id": "e39abcac",
   "metadata": {
    "ExecuteTime": {
     "end_time": "2023-03-09T02:16:32.011698Z",
     "start_time": "2023-03-09T02:16:31.637504Z"
    },
    "hidden": true
   },
   "outputs": [
    {
     "data": {
      "text/plain": [
       "array([[<Axes: title={'center': 'character_count'}>,\n",
       "        <Axes: title={'center': 'word_count'}>],\n",
       "       [<Axes: title={'center': 'element_count'}>,\n",
       "        <Axes: title={'center': 'new_element_count'}>]], dtype=object)"
      ]
     },
     "execution_count": 152,
     "metadata": {},
     "output_type": "execute_result"
    },
    {
     "data": {
      "image/png": "[encoded data removed]",
      "text/plain": [
       "<Figure size 640x480 with 4 Axes>"
      ]
     },
     "metadata": {},
     "output_type": "display_data"
    }
   ],
   "source": [
    "X_raw_preproc2[~X_raw_preproc2.reset_index()['index'].isin(counts['ntext'])].hist()"
   ]
  },
  {
   "cell_type": "code",
   "execution_count": 159,
   "id": "cf7ccc45",
   "metadata": {
    "ExecuteTime": {
     "end_time": "2023-03-09T02:22:05.546791Z",
     "start_time": "2023-03-09T02:22:05.420689Z"
    },
    "hidden": true
   },
   "outputs": [],
   "source": [
    "non = [i for i in range(len(X_raw_preproc2)) if i not in counts['ntext']]"
   ]
  },
  {
   "cell_type": "code",
   "execution_count": 160,
   "id": "1ac20ef9",
   "metadata": {
    "ExecuteTime": {
     "end_time": "2023-03-09T02:22:13.187188Z",
     "start_time": "2023-03-09T02:22:13.178891Z"
    },
    "hidden": true
   },
   "outputs": [
    {
     "data": {
      "text/plain": [
       "1529"
      ]
     },
     "execution_count": 160,
     "metadata": {},
     "output_type": "execute_result"
    }
   ],
   "source": [
    "len(non)"
   ]
  },
  {
   "cell_type": "code",
   "execution_count": 161,
   "id": "63d707ad",
   "metadata": {
    "ExecuteTime": {
     "end_time": "2023-03-09T02:22:20.446453Z",
     "start_time": "2023-03-09T02:22:20.388625Z"
    },
    "hidden": true,
    "scrolled": true
   },
   "outputs": [
    {
     "name": "stdout",
     "output_type": "stream",
     "text": [
      "====================================================\n",
      "\n",
      "490\n",
      "Winston Churchill is a good person everybody knows that, a person that give good idea or a person that bring idea to life . Thing he say they are true, they can open your mind, and make you think . CR Yes : I agree with Winston Churchill . I know some people say that too, to be success at first; you going failure to failure, in once you try not to failure guest what, you fail again . This can be happen , but Winston was right , to success you can fail all the time . When somebody want to be success in he/she fail, that doesn't mean they cannot \" try\" again . But the thing is, they need to get up in keep trying on till then . CR If success brought people failure to failure, then what would that be in life, when you fail on try to be success, it not a bad thing cause sometime in life either you: win or you loos, but at least you can try one more time . Failure might be discourages you, but you can Always keeping going to accomplish your gold, or maybe you might \" successful\" after all . CR 1)Success is a good thing for those who fail in fail in the results, they successful . Winston idea was right, so my position is that success consists of going from failure to failure without loosing enthusiasm are lesson you . With enthusiasm your success going greats and fast . Thats it true enthusiasm try to find your success can make a big differences . An in endurance can bring you to successful too, in time you'd need it . CR 2)If you pursuit or enthusiasm your can success anything that you thing that hard can be easier's for you, cause you put your ; Enthusiasm, and convicted your issue . Failure without trying \" does not\" gave nothing excepted discourage, in that will be stupid of you if you failure in you give up in the same time . CR 3) Failure to failure without loss of enthusiasm will give you something in return, in that is \"fact\" no dispute about it . Even those who loves you can make fun of you, it they sees you keeping failure; or stay away from you on till you \"win\" or find what you want's . CR Anabel for you to be success you need enthusiasm, it gonna give courage, and not to focusing on you failure, then you'll never success or accomplish your gold . For example : Generic_Name his a psychology teacher in Generic_School,Generic_Name never thought he will be a teacher cause his gold was to teach psychology, unfortunately he cant past his test so that he can graduated, but he thought about it , he put all his enthusiasm on it Generic_Name past the test in now his a successful guy . There\n",
      "580\n",
      "====================================================\n",
      "\n",
      "490\n",
      "Meet new people and make new friends is fun . Having social relationships; is a good way to have a good community . Always, when we see new people that we are about to meet, we have first impressions- ideas, feelings or opinions about a person based on the superficial . For some people, first impressions are almost impossible to change . However, I disagree with this statement, because this can change by: introducing each other, know more about favorite things, and ask questions about their life, then our first impressions will change . CR When a person is about to meet another person, they act differently as they are in their daily life, which is totally fine, because they are going to introduce each other and it will change . One day, when I was in my freshman year, I was really nervous and exciting at the same time, and this because I did not know anyone at the school, but I meet one girl; she was really kind and friendly . So, we introduce each other, and my first impression before introduce each other was, that she was serious and shy . The importance of this, is that our first impression can change after introducing each other, because we can have an idea of how the person is, based on their look or way to act, but this idea can be totally different after cross a few words each other . CR Furthermore, a good way to change our impression is knowing more about the other person, know about their favorite things such as hobbies, sports, and others; putting this in practice it can change the way of thinking of both persons . In my way of thinking about the impressions, these can be bad or good impressions, and a personality is part of the impression because it shows the behavior of a people . So, it is important to know more about the person; about their personality and by this could have a clue about the personality of the person . CR Finally, different person has a something important in their life, and that is what makes special to a person . For example, all my friends before they know me, they think that I look shy, calm and serious before they know me, but time later these impressions change for them . They told me now \"when we saw you for the first time, we though that you was so quite and serious\" . And they said this, because they know more about me and about my life now, and they think that I am a fun friend and happy, so this is what makes me special, that I always look serious, but when the people know me, they think that I am friendly and happy . And I think that always, when we see a person that we never seem before, we should think to\n",
      "547\n",
      "====================================================\n",
      "\n",
      "490\n",
      "Think about the benefits of working with a group or working alone and what do you feel is more beneficial? I think that working with a group is more beneficial because you can get things done quicker, share creative ideas, and it shows teamwork . It also saves up time when working in a group and when having deadlines . CR First, working with a group gets things done quicker and you don't have to worry about much things when working with a group . When you have a group, they could be doing something else while you do another thing at the same time . However, having to do all that stuff by yourself slows you down and might not have time to finish . Your group and you are all doing something and that makes everything go quicker because your not doing it all by yourself . If you work alone you could be stressed and have to think of all the ideas . Working in a group can really bring more ideas to the stuff you and your group are working on . Also, you can divide the work with your group members and make things faster . CR Second, sharing the ideas with your group can be helpful . It can also be very fun working with other people and having different opinions around . Someone in your group can be the most creative person and really help out on what you are working on . If you don't share your ideas then whats the point of being in the group . Everyone needs to have something to say and something to work on . If you work alone you will miss the opportunity to have someone helping you and have an opinion on it because when you present it, other people might something to say about it . Working alone can be frustrating and exhausting for some people because when they don't know something on one will be there to help them . Also, having to work alone might make you to multitask a lot and difficult for you to finish on what you are doing . CR Last, shows teamwork and that teamwork makes everything better than having to work alone . When you show teamwork with your group it shows that all of you can be leaders in that group . Working in a group can be really fun because you be partnered up and meet new people or be with the same people you know and make the work effort exciting . When being in a group, you can your part while everyone else does theirs and it makes everything go quicker . CR In conclusion, I would prefer working with a group than working alone because working with a group make things much easier and less work too . I wouldn't want to work alone because I wouldnt have anyone to\n",
      "526\n",
      "====================================================\n",
      "\n",
      "447\n",
      "Some schools have programs where younger students can work with older students . For example, At my school there's homework club right after school . Teachers of all sort of subjects come to the libary and help out with your questions . The teachers also let you communicate with any grade level students . So I think that students of all ages should interact with each other . CR So I think it can help younger students understand if they can't capture the meaning or they need an older student to clarify for them . Because younger students look up to the older students . Meaning that when there the oldest in the school or one of the oldest, they can help out kids/students who need help and use the same strategy that the older student tought them when they we're younger . So then, the younger students would always wanna go to the programs that the older students go to for some help . CR It benefits for the older students because, For example, If one of the students wanted to become a teacher and is really shy, Then they can work on their communication skills on the younger students and become more secure about them selves and become a teacher . For example, When they were teaching they young ones, they could use that exact same stragety when they were \"teaching\" when they were young . CR It defenitly can help both because, It can help with communitcation skills and meet new people you've never meet i your life, And then later on in the future you'll become really good friends with them . This can help out a lot not only one way but a lot, Because if you're the young one then you still have a long way to go . And if you're the older one then if you thought you can pursue your teaching carrear then you still have a chance to be a teacher in life . CR In conclusion, My essay was yes . Why? Because some younger students parents didn't go to school, or finished school . So they have no one to ask for help . But this isn't only for homework club, this can be for any activty or program there's in the school . It can be sports,cooking, teaching, ect . For example, If you played a sport and you were the youngest, you can ask the oldest for help . Like how can i improve my skills, or how can i improve my passes, ect . So yes I think all schools should let every age group in a certain activity or program .\n",
      "518\n",
      "====================================================\n",
      "\n",
      "447\n",
      "Generic_Name CR Generic_Name CR 03/20/19 CR ''Unless you try to do something beyond what you have already mastered, you will never grow'' . Try to be better, and learn things that we don't know is the only way to grow . Trying new things to be better on things that we are already good . Having always family's motivation to keep going up, and for our learning proces . Learn from our mistakes, to grow as a person and never say never to anthing is a goog meaning of grow . For these reason i think we have to learn something beyond wath we have already mastered . CR Trying new things to be better on things that we are already good, to grow . Meny people practise new different sports, to learn somethings new . take clases in the school, that we never taked to improve as a student . Have a different job, where we can improne our workers skills . For these reasons and many hothers i think try new things can help to grow and improve and what we have already mastered . CR Having always family's motivation is the best support and our learning process . many people always try to think about this word ''family'' because, is the word that give averyone power to keep giong . Motivation to be learning, to help our familis is a big example of grow . Help others can have a big meaning end the others persons and for you too . For these reasons and many others i think having family's motivation is the best support and our learning process . CR Keep learning from our mistakes, is the best way to grow as a person . When we try to learn something and so many times we make a lot of mistakes, that mean that something good is coming . Some people like to make correction to help, and that is one of the best wat to improve . Never say never, always keep going because that's way the mistakes exist, becuse we learn from them . For these reasons and any others, keep learning from out misrakes, is the best way to grow as a person . CR In conclution, i am agree with Ralph Emerson Wrote . We have to try to do something beyond what we have already mastered . Trying new things to be better on things that we are already good . Having always family's motivation . Keep learning from our mistakes . This are many raison to be agree with Raph Waldo Emerson wrote and, if we want to grow we have to learn somethings new .\n",
      "535\n",
      "====================================================\n",
      "\n",
      "490\n",
      "Have you ever felt that the weekend isn't enough? that you might wanted to do some kind of activities during weekend, but the time wasn't enough . I bet that you did it, and I'm going show you my point of view of why we should keep having a normal school week of five days instead of a four-day school week . CR Although some say that my school should adopt a four-day school week by adding two hours each day . Actually, my school should not adopt that kind schedule, because the standard week with eight hours each day increases the productive time, and the standard week allows student to do other activities after school, such as: work, to do homework, sports or even spend more time with family and friends . CR Those who believe that the school should changed their schedule from standard five-day work week to a different schedule model that consists of ten hours per day have their reasons . They think that weekends aren't enough and they really need and extra day off to cover their needs . They also think that two extra hours each day are not a big sacrifice, knowing that they are going to have an extended weekend and making the same amount of hours which means the same paycheck amount, and they might have time . CR One reason why the school should not changed their schedule of five-day school week to four-day school week is because, the standard week of five days increases the productive time of each student . In this case students might feel tired of being ten hours in school, and at the end during the last period of class they wouldn't pay attention to the class, because they would feel to tired of had spent almost half-day in school . As example of this is myself . If my school adopt this new policy, I wouldn't be able to keep my grades high and I wouldn't pay attention to the last period of class, because by that time I would be tired and bored of have stayed that long and having classes the all day . Therefore the schedule of five-day school week should not be changed . CR Another reason why my school should keep its schedule of five-day school week is that, the standard week of five days gives the opportunity to do activities after school, such as: work, homework, sports or spend more time with our families . A perfect example of this is my friend, PROPER_NAME . PROPER_NAME goes to school, but he lives alone . So, he pays rent, his cell-phone payment and food . Then, he really needs to work after school to pay himself . If our school changes the schedule of five-day school week that each day is formed for eight hours, instead having a four-day school week of ten hours per day, but having an\n",
      "571\n",
      "====================================================\n",
      "\n",
      "490\n",
      "The greats benefits to work with a group CR To work on groups is better for many reasons,everybody can help each others,in groups student's can do a better work,and it can help all the people on the group to learn more skills,it can help students to know each others and be friends, more communications, more ideas and sometimes it can be helpful to work in groups because some students don't know what to do,i thing teachers should let student's to work more on groups so like that they would help each other and work better,and is good to work with a group because that can help you for the rest of your life like on your job also with your family and you con do better and a great job if you work in group CR It can be helpful for students to work in group,First, because with more people helping are more and betters ideas and more helpful for every students,and sometimes student's don't know what to do,but if somebody on the group help so he would understand and know how to do a great job and work with a group is much helpful than work alone on many ways like to understand better with communication with your group and it can be helpful so you can do a good work and pass the class and not failed,and work in group it can help you to know others people that are in the same classroom but you never have the oportunity to talk wich their so in the teacher make a group and you can joing to one there is going to be new people and you can know others people CR ,Second,it is good for student's to work in groups because they can learn more skills such like the communication and they can help each others with the written,and also they can help each others how the way they talk . The communication is important and many cases because with communication you can do many things, like if you don't understand something you can tell somebody for help and all the persons on the groups can practice all days to do a great work,and also some student's need a lot of help so students that know more can join to the groups to help the others,but sometimes is not because some students don't know how to do the work sometimes it because they don't understand sometimes is because the language is a problems for some student's so there is good to make groups to help them,Third it can be an experience to work in groups because some students that don't know each others later on they can be friends and work in groups it can be helpful to students,but also to school because work on groups students can understand more and they can get betters grades also work in groups and a a good relationship it can be\n",
      "560\n",
      "====================================================\n",
      "\n",
      "490\n",
      "Careers are a big part of a person's life . People can choose from thousands of careers that interests them . Careers usually tell a person's personality . A lot of people take careers very seriously and want to know more about careers . Students committing to a career at a young age is a good idea because students will know what a career is really like, they will find something fun to do everyday, and they won't have to worry about it in their adult lives . CR Students committing to a career at a young age is a good idea because students will know what a career is really like . Some students lack information about becoming a doctor . Students often don't know what it is like to become a doctor, or know the basics . In order for students to obtain information and knowing how to treat a patient, they need to experience it physically . It is a good idea for students to take action in a career because they will get more information about it . In addition to knowing what is like to become a doctor, students can look up a career they want to know more information about . For example, if a student wants to know more information about dentistry, they can easily research what do you need to do to become a dentist . Students should engage in a career early because they can find a lot of resources to get there . CR A second reason students should be in a career early is because they will find something fun to do . Most students don't really do anything after school or in their free time . The students who don't take action in doing anything, will more likely become miserable and bored . For these students the only thing they should do is join in after school program that helps and educates students about careers . Students should be involved in a career at a young age because a lot of students don't know what to do in their free time . Also, students don't really have a hobby they can do . Students sometimes don't really think about having a hobby that can keep them happy . Students can find that hobby by taking part in a career and actually find something that really interests them . CR Students need to be in a career at a young age because they will find something that is important to them . CR A final reason students should commit to a career early is because they won't have to worry about it in their adult lives . Most teens don't know what they wanna do later on as they become adults . These people usually struggle in finding a job, and also getting that job . If a student spends extra amount of time in school reading and getting\n",
      "531\n",
      "====================================================\n",
      "\n",
      "470\n",
      "I agree with Churchill's statement about the important role that failure plays in the pursuit of success because, the more the try the more experiance they will get, they will get more power, they can cortrol people, and they will get freedom and respect . CR Most of people are scared of losing or failing . They think failure is the end of the carrer . For example most people when they fail in business they give up, or some people don't try things because they are scared of the unknown . CR One of my mintor alwasy telling me the more you try the more experiance you will get . For example i tried many types of business and i failed on some of them like i tried to do real estate i brought a house and i lost $50,000 because i didn't know how much the house worth . Also i tried Bitcoins and because i joined late i lose $7,000 . But i never said i'll quit, what i did is i got a mintor his name is Generic_Name, he is doing real estate and i leanred a lot of things from him and one of my friends is good on bitcoins so i asked him to teach me and he became my mintor . CR After you get the experiance you will get power and what i mean by that is it will be hard to fail . For example Bill Gates is a powerful man in business do you think he will be in debt? the answer is no it will never happend because if he lost everything he made other people will help him to success again and everybody want to work with him . CR Then, you have to have a control because you don't want other people to tell you what to do . for example who has the cotrol in the hosptal? the doctors or who has the control on companys? the ceos . The reson why they have the control is they are more succesful, or more educated, or they are powerful . Another exapmle if someone has a company he will have the most cotrol because he'll be the most powerful person in the company . CR The last thing you will get is the freedom and respect . As a business man what i mean by freedom is you can go where ever you want when ever you want, and what i mean by getting recpect from people are two ways the first one is when you are more educated than them and when you make more money than them . CR At the end success is like the marathone, you don't want to be the first preson who get it but you want to enjoy it .\n",
      "550\n",
      "====================================================\n",
      "\n",
      "490\n",
      "If you master a subject you like and dont try pushing your limits you wont succeed . CR Why wouldnt you want to push your limits? CR Theirs a reason why people get stuck in life, when they master their subject . CR They get fustrated when they can't find jobs or good pay wage . CR I agree on what Author Ralph Waldo Emereson because if you dont have that motivation on what you master it can affect you . CR If you dont push yourself into doing more than beyond than life will not treat you as you wanted . CR I agree on Author Ralph because I've experience things in life that if you dont try on something , than you wont be able to grow . CR If you look at bill gates he master on his program and what did he do he share his product and open stores . He grew just by mastering his program . My experience was mastering in learning how rebuild a engine from just the block to how to make more power . Now im fixing peoples cars and doing tunes for their cars . CR I know these guys that called themself diesel brothers . They are master diesel technician . So what did they do? They bought a shop , got a crew and got sign to do a tv show . They work on diesel trucks, diesel cars and anything that is diesel . Then they decided to do custom trucks and custom military cars . That wasn't enough for them, so they came up with ideas to use military axles and putting them on custom trucks making those trucks so heavy duty they can even pull a train! CR My father told me that you should never stop, even if you reach that goal . He said,\" you reach that goal make another goal, you can't stop at what your doing and if you do,than theirs going to be bumps in the road and than your going to make huge mistakes . \" just from those words it's like million bucks to me . Why because if you stop at what you master ,than somebody is going to master it better than you ever thought and your not going to grow from it . CR When they master their subject, those people get happy right but whats next? Lets say you master your subject and than you find a job that pays good . The money looks good and you stay at that job for a couple of years . I'd say that probably 75 percent of you staying at that job will make your miserable . People get bored and can't find nothing else to do,but do the exact samething over again . It's going to make you want ot quit and find something else to do . Then once you quit your job\n",
      "545\n"
     ]
    }
   ],
   "source": [
    "for index in np.random.choice(non,10):\n",
    "    print('====================================================')\n",
    "    print()\n",
    "    print(len(X_raw_preproc2.loc[index,'full_text'].split(' ')))\n",
    "    print(X_raw_preproc2.loc[index,'full_text'])\n",
    "    print(len(tokenizer(X_raw_preproc2.loc[index,'full_text'])['input_ids']))"
   ]
  },
  {
   "cell_type": "code",
   "execution_count": 140,
   "id": "bff2c2c2",
   "metadata": {
    "ExecuteTime": {
     "end_time": "2023-03-09T02:08:03.653335Z",
     "start_time": "2023-03-09T02:08:03.639379Z"
    },
    "hidden": true
   },
   "outputs": [
    {
     "data": {
      "text/plain": [
       "(3910, 2381)"
      ]
     },
     "execution_count": 140,
     "metadata": {},
     "output_type": "execute_result"
    }
   ],
   "source": [
    "len(X_raw_preproc2),len(counts['index first zero'])"
   ]
  },
  {
   "cell_type": "code",
   "execution_count": 153,
   "id": "97c65a44",
   "metadata": {
    "ExecuteTime": {
     "end_time": "2023-03-09T02:16:50.156111Z",
     "start_time": "2023-03-09T02:16:49.763233Z"
    },
    "hidden": true
   },
   "outputs": [
    {
     "data": {
      "text/plain": [
       "array([[<Axes: title={'center': 'character_count'}>,\n",
       "        <Axes: title={'center': 'word_count'}>],\n",
       "       [<Axes: title={'center': 'element_count'}>,\n",
       "        <Axes: title={'center': 'new_element_count'}>]], dtype=object)"
      ]
     },
     "execution_count": 153,
     "metadata": {},
     "output_type": "execute_result"
    },
    {
     "data": {
      "image/png": "[encoded data removed]",
      "text/plain": [
       "<Figure size 640x480 with 4 Axes>"
      ]
     },
     "metadata": {},
     "output_type": "display_data"
    }
   ],
   "source": [
    "X_raw_preproc2[X_raw_preproc2.reset_index()['index'].isin(counts['ntext'])].hist()"
   ]
  },
  {
   "cell_type": "code",
   "execution_count": 136,
   "id": "5c4b9bf0",
   "metadata": {
    "ExecuteTime": {
     "end_time": "2023-03-09T02:05:52.215833Z",
     "start_time": "2023-03-09T02:05:52.200952Z"
    },
    "hidden": true
   },
   "outputs": [
    {
     "data": {
      "text/plain": [
       "[298,\n",
       " 510,\n",
       " 374,\n",
       " 258,\n",
       " 372,\n",
       " 482,\n",
       " 483,\n",
       " 445,\n",
       " 362,\n",
       " 459,\n",
       " 235,\n",
       " 343,\n",
       " 446,\n",
       " 274,\n",
       " 333,\n",
       " 446,\n",
       " 480,\n",
       " 352,\n",
       " 239,\n",
       " 349,\n",
       " 303,\n",
       " 476,\n",
       " 495,\n",
       " 277,\n",
       " 482,\n",
       " 425,\n",
       " 364,\n",
       " 311,\n",
       " 479,\n",
       " 506,\n",
       " 393,\n",
       " 195,\n",
       " 224,\n",
       " 479,\n",
       " 470,\n",
       " 503,\n",
       " 290,\n",
       " 472,\n",
       " 421,\n",
       " 466,\n",
       " 290,\n",
       " 470,\n",
       " 403,\n",
       " 256,\n",
       " 340,\n",
       " 270,\n",
       " 386,\n",
       " 433,\n",
       " 209,\n",
       " 369,\n",
       " 463,\n",
       " 415,\n",
       " 276,\n",
       " 281,\n",
       " 433,\n",
       " 510,\n",
       " 226,\n",
       " 238,\n",
       " 478,\n",
       " 304,\n",
       " 289,\n",
       " 396,\n",
       " 456,\n",
       " 509,\n",
       " 284,\n",
       " 456,\n",
       " 306,\n",
       " 463,\n",
       " 508,\n",
       " 389,\n",
       " 439,\n",
       " 335,\n",
       " 343,\n",
       " 364,\n",
       " 509,\n",
       " 466,\n",
       " 369,\n",
       " 380,\n",
       " 219,\n",
       " 341,\n",
       " 501,\n",
       " 468,\n",
       " 370,\n",
       " 427,\n",
       " 284,\n",
       " 368,\n",
       " 201,\n",
       " 393,\n",
       " 247,\n",
       " 481,\n",
       " 346,\n",
       " 394,\n",
       " 425,\n",
       " 327,\n",
       " 463,\n",
       " 207,\n",
       " 401,\n",
       " 293,\n",
       " 386,\n",
       " 262,\n",
       " 361,\n",
       " 347,\n",
       " 446,\n",
       " 315,\n",
       " 254,\n",
       " 478,\n",
       " 184,\n",
       " 236,\n",
       " 482,\n",
       " 264,\n",
       " 357,\n",
       " 234,\n",
       " 422,\n",
       " 71,\n",
       " 217,\n",
       " 492,\n",
       " 239,\n",
       " 117,\n",
       " 506,\n",
       " 452,\n",
       " 431,\n",
       " 469,\n",
       " 260,\n",
       " 378,\n",
       " 206,\n",
       " 507,\n",
       " 447,\n",
       " 305,\n",
       " 466,\n",
       " 475,\n",
       " 303,\n",
       " 474,\n",
       " 350,\n",
       " 214,\n",
       " 306,\n",
       " 152,\n",
       " 383,\n",
       " 271,\n",
       " 367,\n",
       " 414,\n",
       " 255,\n",
       " 285,\n",
       " 373,\n",
       " 358,\n",
       " 222,\n",
       " 474,\n",
       " 424,\n",
       " 227,\n",
       " 377,\n",
       " 444,\n",
       " 201,\n",
       " 376,\n",
       " 507,\n",
       " 369,\n",
       " 400,\n",
       " 465,\n",
       " 509,\n",
       " 364,\n",
       " 488,\n",
       " 298,\n",
       " 414,\n",
       " 423,\n",
       " 348,\n",
       " 351,\n",
       " 511,\n",
       " 248,\n",
       " 433,\n",
       " 419,\n",
       " 388,\n",
       " 421,\n",
       " 477,\n",
       " 357,\n",
       " 405,\n",
       " 242,\n",
       " 507,\n",
       " 128,\n",
       " 357,\n",
       " 434,\n",
       " 489,\n",
       " 364,\n",
       " 437,\n",
       " 474,\n",
       " 471,\n",
       " 236,\n",
       " 344,\n",
       " 397,\n",
       " 430,\n",
       " 490,\n",
       " 304,\n",
       " 346,\n",
       " 493,\n",
       " 326,\n",
       " 414,\n",
       " 239,\n",
       " 486,\n",
       " 361,\n",
       " 212,\n",
       " 341,\n",
       " 359,\n",
       " 395,\n",
       " 372,\n",
       " 302,\n",
       " 497,\n",
       " 292,\n",
       " 444,\n",
       " 273,\n",
       " 357,\n",
       " 456,\n",
       " 322,\n",
       " 503,\n",
       " 392,\n",
       " 281,\n",
       " 447,\n",
       " 449,\n",
       " 427,\n",
       " 365,\n",
       " 316,\n",
       " 226,\n",
       " 380,\n",
       " 466,\n",
       " 253,\n",
       " 438,\n",
       " 333,\n",
       " 504,\n",
       " 289,\n",
       " 320,\n",
       " 503,\n",
       " 501,\n",
       " 441,\n",
       " 345,\n",
       " 312,\n",
       " 465,\n",
       " 352,\n",
       " 355,\n",
       " 348,\n",
       " 473,\n",
       " 353,\n",
       " 267,\n",
       " 150,\n",
       " 383,\n",
       " 315,\n",
       " 378,\n",
       " 383,\n",
       " 92,\n",
       " 321,\n",
       " 327,\n",
       " 374,\n",
       " 407,\n",
       " 269,\n",
       " 387,\n",
       " 357,\n",
       " 394,\n",
       " 473,\n",
       " 445,\n",
       " 342,\n",
       " 435,\n",
       " 183,\n",
       " 466,\n",
       " 453,\n",
       " 505,\n",
       " 261,\n",
       " 287,\n",
       " 354,\n",
       " 163,\n",
       " 389,\n",
       " 215,\n",
       " 507,\n",
       " 249,\n",
       " 270,\n",
       " 466,\n",
       " 478,\n",
       " 425,\n",
       " 407,\n",
       " 498,\n",
       " 413,\n",
       " 336,\n",
       " 355,\n",
       " 406,\n",
       " 488,\n",
       " 510,\n",
       " 392,\n",
       " 402,\n",
       " 506,\n",
       " 297,\n",
       " 321,\n",
       " 467,\n",
       " 428,\n",
       " 329,\n",
       " 237,\n",
       " 408,\n",
       " 417,\n",
       " 486,\n",
       " 224,\n",
       " 402,\n",
       " 215,\n",
       " 509,\n",
       " 327,\n",
       " 460,\n",
       " 498,\n",
       " 501,\n",
       " 238,\n",
       " 447,\n",
       " 264,\n",
       " 396,\n",
       " 340,\n",
       " 243,\n",
       " 503,\n",
       " 430,\n",
       " 293,\n",
       " 209,\n",
       " 440,\n",
       " 488,\n",
       " 422,\n",
       " 373,\n",
       " 211,\n",
       " 283,\n",
       " 348,\n",
       " 415,\n",
       " 243,\n",
       " 419,\n",
       " 385,\n",
       " 298,\n",
       " 253,\n",
       " 355,\n",
       " 342,\n",
       " 261,\n",
       " 97,\n",
       " 454,\n",
       " 474,\n",
       " 290,\n",
       " 344,\n",
       " 454,\n",
       " 422,\n",
       " 211,\n",
       " 424,\n",
       " 182,\n",
       " 446,\n",
       " 443,\n",
       " 386,\n",
       " 505,\n",
       " 305,\n",
       " 181,\n",
       " 341,\n",
       " 349,\n",
       " 430,\n",
       " 231,\n",
       " 389,\n",
       " 206,\n",
       " 450,\n",
       " 241,\n",
       " 189,\n",
       " 497,\n",
       " 360,\n",
       " 349,\n",
       " 331,\n",
       " 478,\n",
       " 491,\n",
       " 339,\n",
       " 223,\n",
       " 506,\n",
       " 231,\n",
       " 456,\n",
       " 291,\n",
       " 468,\n",
       " 475,\n",
       " 417,\n",
       " 481,\n",
       " 185,\n",
       " 273,\n",
       " 259,\n",
       " 306,\n",
       " 351,\n",
       " 280,\n",
       " 462,\n",
       " 435,\n",
       " 175,\n",
       " 452,\n",
       " 315,\n",
       " 344,\n",
       " 400,\n",
       " 423,\n",
       " 259,\n",
       " 290,\n",
       " 426,\n",
       " 396,\n",
       " 384,\n",
       " 185,\n",
       " 351,\n",
       " 208,\n",
       " 452,\n",
       " 415,\n",
       " 425,\n",
       " 364,\n",
       " 249,\n",
       " 426,\n",
       " 464,\n",
       " 237,\n",
       " 450,\n",
       " 157,\n",
       " 223,\n",
       " 334,\n",
       " 434,\n",
       " 382,\n",
       " 446,\n",
       " 451,\n",
       " 339,\n",
       " 425,\n",
       " 463,\n",
       " 301,\n",
       " 491,\n",
       " 246,\n",
       " 498,\n",
       " 502,\n",
       " 248,\n",
       " 250,\n",
       " 337,\n",
       " 509,\n",
       " 446,\n",
       " 502,\n",
       " 455,\n",
       " 356,\n",
       " 494,\n",
       " 231,\n",
       " 445,\n",
       " 483,\n",
       " 504,\n",
       " 482,\n",
       " 457,\n",
       " 221,\n",
       " 337,\n",
       " 375,\n",
       " 272,\n",
       " 284,\n",
       " 439,\n",
       " 465,\n",
       " 318,\n",
       " 445,\n",
       " 369,\n",
       " 510,\n",
       " 502,\n",
       " 384,\n",
       " 200,\n",
       " 487,\n",
       " 96,\n",
       " 270,\n",
       " 397,\n",
       " 509,\n",
       " 310,\n",
       " 376,\n",
       " 325,\n",
       " 259,\n",
       " 143,\n",
       " 236,\n",
       " 169,\n",
       " 468,\n",
       " 490,\n",
       " 304,\n",
       " 379,\n",
       " 302,\n",
       " 349,\n",
       " 285,\n",
       " 237,\n",
       " 464,\n",
       " 510,\n",
       " 332,\n",
       " 346,\n",
       " 268,\n",
       " 374,\n",
       " 448,\n",
       " 256,\n",
       " 441,\n",
       " 495,\n",
       " 508,\n",
       " 454,\n",
       " 357,\n",
       " 376,\n",
       " 286,\n",
       " 310,\n",
       " 503,\n",
       " 412,\n",
       " 316,\n",
       " 457,\n",
       " 251,\n",
       " 432,\n",
       " 263,\n",
       " 337,\n",
       " 360,\n",
       " 221,\n",
       " 392,\n",
       " 493,\n",
       " 189,\n",
       " 311,\n",
       " 318,\n",
       " 231,\n",
       " 511,\n",
       " 261,\n",
       " 484,\n",
       " 220,\n",
       " 509,\n",
       " 274,\n",
       " 509,\n",
       " 375,\n",
       " 475,\n",
       " 381,\n",
       " 442,\n",
       " 351,\n",
       " 364,\n",
       " 354,\n",
       " 384,\n",
       " 444,\n",
       " 312,\n",
       " 285,\n",
       " 193,\n",
       " 310,\n",
       " 297,\n",
       " 508,\n",
       " 452,\n",
       " 207,\n",
       " 424,\n",
       " 473,\n",
       " 494,\n",
       " 370,\n",
       " 480,\n",
       " 466,\n",
       " 453,\n",
       " 271,\n",
       " 235,\n",
       " 274,\n",
       " 326,\n",
       " 410,\n",
       " 360,\n",
       " 509,\n",
       " 370,\n",
       " 246,\n",
       " 328,\n",
       " 474,\n",
       " 483,\n",
       " 257,\n",
       " 365,\n",
       " 296,\n",
       " 341,\n",
       " 499,\n",
       " 243,\n",
       " 375,\n",
       " 364,\n",
       " 455,\n",
       " 398,\n",
       " 356,\n",
       " 400,\n",
       " 264,\n",
       " 381,\n",
       " 286,\n",
       " 323,\n",
       " 322,\n",
       " 80,\n",
       " 502,\n",
       " 464,\n",
       " 412,\n",
       " 247,\n",
       " 227,\n",
       " 464,\n",
       " 397,\n",
       " 222,\n",
       " 386,\n",
       " 503,\n",
       " 453,\n",
       " 419,\n",
       " 461,\n",
       " 247,\n",
       " 336,\n",
       " 490,\n",
       " 247,\n",
       " 256,\n",
       " 206,\n",
       " 293,\n",
       " 370,\n",
       " 382,\n",
       " 392,\n",
       " 222,\n",
       " 256,\n",
       " 210,\n",
       " 227,\n",
       " 503,\n",
       " 434,\n",
       " 337,\n",
       " 505,\n",
       " 405,\n",
       " 323,\n",
       " 511,\n",
       " 487,\n",
       " 236,\n",
       " 338,\n",
       " 271,\n",
       " 281,\n",
       " 301,\n",
       " 238,\n",
       " 337,\n",
       " 359,\n",
       " 442,\n",
       " 402,\n",
       " 427,\n",
       " 272,\n",
       " 394,\n",
       " 262,\n",
       " 507,\n",
       " 395,\n",
       " 397,\n",
       " 222,\n",
       " 465,\n",
       " 476,\n",
       " 428,\n",
       " 377,\n",
       " 293,\n",
       " 209,\n",
       " 344,\n",
       " 422,\n",
       " 440,\n",
       " 190,\n",
       " 238,\n",
       " 510,\n",
       " 474,\n",
       " 385,\n",
       " 340,\n",
       " 385,\n",
       " 206,\n",
       " 435,\n",
       " 346,\n",
       " 321,\n",
       " 309,\n",
       " 226,\n",
       " 475,\n",
       " 264,\n",
       " 155,\n",
       " 262,\n",
       " 434,\n",
       " 215,\n",
       " 242,\n",
       " 482,\n",
       " 272,\n",
       " 461,\n",
       " 362,\n",
       " 342,\n",
       " 509,\n",
       " 269,\n",
       " 335,\n",
       " 375,\n",
       " 432,\n",
       " 198,\n",
       " 470,\n",
       " 368,\n",
       " 415,\n",
       " 473,\n",
       " 233,\n",
       " 364,\n",
       " 376,\n",
       " 234,\n",
       " 443,\n",
       " 396,\n",
       " 232,\n",
       " 510,\n",
       " 393,\n",
       " 204,\n",
       " 294,\n",
       " 342,\n",
       " 494,\n",
       " 338,\n",
       " 510,\n",
       " 446,\n",
       " 280,\n",
       " 295,\n",
       " 507,\n",
       " 406,\n",
       " 448,\n",
       " 283,\n",
       " 510,\n",
       " 408,\n",
       " 403,\n",
       " 156,\n",
       " 346,\n",
       " 398,\n",
       " 345,\n",
       " 279,\n",
       " 478,\n",
       " 291,\n",
       " 393,\n",
       " 467,\n",
       " 203,\n",
       " 439,\n",
       " 225,\n",
       " 297,\n",
       " 509,\n",
       " 126,\n",
       " 330,\n",
       " 509,\n",
       " 223,\n",
       " 435,\n",
       " 300,\n",
       " 493,\n",
       " 230,\n",
       " 204,\n",
       " 437,\n",
       " 292,\n",
       " 386,\n",
       " 416,\n",
       " 307,\n",
       " 476,\n",
       " 371,\n",
       " 488,\n",
       " 302,\n",
       " 412,\n",
       " 247,\n",
       " 465,\n",
       " 400,\n",
       " 160,\n",
       " 467,\n",
       " 485,\n",
       " 208,\n",
       " 334,\n",
       " 150,\n",
       " 259,\n",
       " 505,\n",
       " 329,\n",
       " 224,\n",
       " 405,\n",
       " 487,\n",
       " 391,\n",
       " 473,\n",
       " 238,\n",
       " 211,\n",
       " 241,\n",
       " 384,\n",
       " 363,\n",
       " 346,\n",
       " 368,\n",
       " 386,\n",
       " 277,\n",
       " 463,\n",
       " 441,\n",
       " 326,\n",
       " 469,\n",
       " 225,\n",
       " 434,\n",
       " 310,\n",
       " 185,\n",
       " 162,\n",
       " 306,\n",
       " 506,\n",
       " 421,\n",
       " 400,\n",
       " 508,\n",
       " 510,\n",
       " 367,\n",
       " 496,\n",
       " 289,\n",
       " 320,\n",
       " 386,\n",
       " 509,\n",
       " 298,\n",
       " 196,\n",
       " 385,\n",
       " 64,\n",
       " 220,\n",
       " 307,\n",
       " 338,\n",
       " 511,\n",
       " 422,\n",
       " 221,\n",
       " 228,\n",
       " 498,\n",
       " 323,\n",
       " 496,\n",
       " 280,\n",
       " 366,\n",
       " 209,\n",
       " 498,\n",
       " 210,\n",
       " 327,\n",
       " 353,\n",
       " 503,\n",
       " 382,\n",
       " 299,\n",
       " 371,\n",
       " 318,\n",
       " 510,\n",
       " 477,\n",
       " 432,\n",
       " 191,\n",
       " 326,\n",
       " 262,\n",
       " 335,\n",
       " 370,\n",
       " 296,\n",
       " 208,\n",
       " 361,\n",
       " 458,\n",
       " 427,\n",
       " 338,\n",
       " 201,\n",
       " 275,\n",
       " 437,\n",
       " 411,\n",
       " 303,\n",
       " 409,\n",
       " 413,\n",
       " 258,\n",
       " 384,\n",
       " 237,\n",
       " 389,\n",
       " 259,\n",
       " 349,\n",
       " 346,\n",
       " 393,\n",
       " 327,\n",
       " 340,\n",
       " 484,\n",
       " 311,\n",
       " 437,\n",
       " 246,\n",
       " 357,\n",
       " 293,\n",
       " 226,\n",
       " 465,\n",
       " 511,\n",
       " 68,\n",
       " 337,\n",
       " 406,\n",
       " 492,\n",
       " 288,\n",
       " 478,\n",
       " 348,\n",
       " 399,\n",
       " 447,\n",
       " 294,\n",
       " 249,\n",
       " 401,\n",
       " 457,\n",
       " 506,\n",
       " 350,\n",
       " 409,\n",
       " 493,\n",
       " 341,\n",
       " 387,\n",
       " 260,\n",
       " 369,\n",
       " 402,\n",
       " 418,\n",
       " 229,\n",
       " 297,\n",
       " 372,\n",
       " 305,\n",
       " 271,\n",
       " 377,\n",
       " 431,\n",
       " 335,\n",
       " 443,\n",
       " 448,\n",
       " 467,\n",
       " 357,\n",
       " 484,\n",
       " 351,\n",
       " 328,\n",
       " 360,\n",
       " 413,\n",
       " 479,\n",
       " 448,\n",
       " 342,\n",
       " 325,\n",
       " 369,\n",
       " 396,\n",
       " 506,\n",
       " 343,\n",
       " 293,\n",
       " 444,\n",
       " 349,\n",
       " 395,\n",
       " 398,\n",
       " 379,\n",
       " 470,\n",
       " 245,\n",
       " 506,\n",
       " 354,\n",
       " 509,\n",
       " 332,\n",
       " 330,\n",
       " 460,\n",
       " 401,\n",
       " 271,\n",
       " 424,\n",
       " 233,\n",
       " 229,\n",
       " 331,\n",
       " 350,\n",
       " 96,\n",
       " 417,\n",
       " 416,\n",
       " 308,\n",
       " 508,\n",
       " 465,\n",
       " 500,\n",
       " 331,\n",
       " 464,\n",
       " 482,\n",
       " 407,\n",
       " 402,\n",
       " 333,\n",
       " 470,\n",
       " 504,\n",
       " 346,\n",
       " 261,\n",
       " 331,\n",
       " 438,\n",
       " 345,\n",
       " 390,\n",
       " 345,\n",
       " 476,\n",
       " 193,\n",
       " 455,\n",
       " 202,\n",
       " 192,\n",
       " 507,\n",
       " 283,\n",
       " 360,\n",
       " 508,\n",
       " 413,\n",
       " 285,\n",
       " 320,\n",
       " 204,\n",
       " 507,\n",
       " 497,\n",
       " 360,\n",
       " 410,\n",
       " 239,\n",
       " 479,\n",
       " 366,\n",
       " 414,\n",
       " 268,\n",
       " 423,\n",
       " 322,\n",
       " 281,\n",
       " 229,\n",
       " 282,\n",
       " 456,\n",
       " 77,\n",
       " 236,\n",
       " 506,\n",
       " 493,\n",
       " 462,\n",
       " 373,\n",
       " 124,\n",
       " 185,\n",
       " 463,\n",
       " 287,\n",
       " 416,\n",
       " 326,\n",
       " 435,\n",
       " 383,\n",
       " 357,\n",
       " 260,\n",
       " 409,\n",
       " 360,\n",
       " 475,\n",
       " 418,\n",
       " 476,\n",
       " 376,\n",
       " 510,\n",
       " 232,\n",
       " 338,\n",
       " 450,\n",
       " 341,\n",
       " 448,\n",
       " 423,\n",
       " 394,\n",
       " 489,\n",
       " 469,\n",
       " 445,\n",
       " 447,\n",
       " 421,\n",
       " 506,\n",
       " 482,\n",
       " 347,\n",
       " 259,\n",
       " 396,\n",
       " 442,\n",
       " 454,\n",
       " 407,\n",
       " 388,\n",
       " 483,\n",
       " 455,\n",
       " 419,\n",
       " 351,\n",
       " 508,\n",
       " 328,\n",
       " 274,\n",
       " 511,\n",
       " 264,\n",
       " 410,\n",
       " 338,\n",
       " 425,\n",
       " 281,\n",
       " 504,\n",
       " ...]"
      ]
     },
     "execution_count": 136,
     "metadata": {},
     "output_type": "execute_result"
    }
   ],
   "source": [
    "counts['index first zero']"
   ]
  },
  {
   "cell_type": "code",
   "execution_count": 132,
   "id": "8b7fb985",
   "metadata": {
    "ExecuteTime": {
     "end_time": "2023-03-09T02:03:35.903561Z",
     "start_time": "2023-03-09T02:03:35.887851Z"
    },
    "collapsed": true,
    "hidden": true
   },
   "outputs": [
    {
     "data": {
      "text/plain": [
       "0          0\n",
       "1          1\n",
       "2          2\n",
       "3          3\n",
       "4          4\n",
       "        ... \n",
       "3905    3905\n",
       "3906    3906\n",
       "3907    3907\n",
       "3908    3908\n",
       "3909    3909\n",
       "Name: index, Length: 3910, dtype: int64"
      ]
     },
     "execution_count": 132,
     "metadata": {},
     "output_type": "execute_result"
    }
   ],
   "source": [
    "X_raw_preproc2.reset_index()['index']"
   ]
  },
  {
   "cell_type": "code",
   "execution_count": 88,
   "id": "982023dd",
   "metadata": {
    "ExecuteTime": {
     "end_time": "2023-03-09T00:53:55.542694Z",
     "start_time": "2023-03-09T00:53:55.535900Z"
    },
    "collapsed": true,
    "hidden": true
   },
   "outputs": [
    {
     "name": "stdout",
     "output_type": "stream",
     "text": [
      "new_element range :  14 490\n"
     ]
    }
   ],
   "source": [
    "print('new_element range : ',X_raw_preproc2.new_element_count.min(),X_raw_preproc2.new_element_count.max())"
   ]
  },
  {
   "cell_type": "code",
   "execution_count": 101,
   "id": "331f3d7d",
   "metadata": {
    "ExecuteTime": {
     "end_time": "2023-03-09T01:19:13.651823Z",
     "start_time": "2023-03-09T01:18:58.833419Z"
    },
    "hidden": true,
    "scrolled": true
   },
   "outputs": [],
   "source": [
    "tokenized_text_length={}\n",
    "max_length=-1\n",
    "index_max_length=-1\n",
    "index=0\n",
    "for text in list(X_raw_preproc2.full_text):\n",
    "    token=tokenizer(text,return_tensors=\"tf\",return_token_type_ids=False)\n",
    "    tokenized_text_length[index]=token['input_ids'].shape[1]\n",
    "    if token['input_ids'].shape[1] > max_length:\n",
    "        max_length= token['input_ids'].shape[1]\n",
    "        index_max_length=index\n",
    "    index+=1"
   ]
  },
  {
   "cell_type": "code",
   "execution_count": 102,
   "id": "abd867b4",
   "metadata": {
    "ExecuteTime": {
     "end_time": "2023-03-09T01:19:16.712476Z",
     "start_time": "2023-03-09T01:19:16.550455Z"
    },
    "hidden": true
   },
   "outputs": [
    {
     "data": {
      "text/plain": [
       "[<matplotlib.lines.Line2D at 0x7fe0c04dc610>]"
      ]
     },
     "execution_count": 102,
     "metadata": {},
     "output_type": "execute_result"
    },
    {
     "data": {
      "image/png": "[encoded data removed]",
      "text/plain": [
       "<Figure size 640x480 with 1 Axes>"
      ]
     },
     "metadata": {},
     "output_type": "display_data"
    }
   ],
   "source": [
    "plt.plot(tokenized_text_length.values())"
   ]
  },
  {
   "cell_type": "code",
   "execution_count": 103,
   "id": "3ebddff8",
   "metadata": {
    "ExecuteTime": {
     "end_time": "2023-03-09T01:19:40.163343Z",
     "start_time": "2023-03-09T01:19:40.149567Z"
    },
    "hidden": true
   },
   "outputs": [
    {
     "data": {
      "text/plain": [
       "(678, 1107)"
      ]
     },
     "execution_count": 103,
     "metadata": {},
     "output_type": "execute_result"
    }
   ],
   "source": [
    "index_max_length,max_length"
   ]
  },
  {
   "cell_type": "code",
   "execution_count": 108,
   "id": "75071133",
   "metadata": {
    "ExecuteTime": {
     "end_time": "2023-03-09T01:45:44.842972Z",
     "start_time": "2023-03-09T01:45:44.835970Z"
    },
    "hidden": true
   },
   "outputs": [
    {
     "data": {
      "text/plain": [
       "2202"
      ]
     },
     "execution_count": 108,
     "metadata": {},
     "output_type": "execute_result"
    }
   ],
   "source": [
    "len(X_raw.full_text[678])"
   ]
  },
  {
   "cell_type": "markdown",
   "id": "e28c9429",
   "metadata": {
    "heading_collapsed": true
   },
   "source": [
    "### tokenize clean sheet"
   ]
  },
  {
   "cell_type": "code",
   "execution_count": 81,
   "id": "9c1fe97c",
   "metadata": {
    "ExecuteTime": {
     "end_time": "2023-03-08T15:11:10.918003Z",
     "start_time": "2023-03-08T15:10:36.625176Z"
    },
    "hidden": true
   },
   "outputs": [],
   "source": [
    "X_tokenized=tokenizer(list(X_raw.full_text), padding='max_length',truncation=True,return_tensors=\"tf\",return_token_type_ids=False)"
   ]
  },
  {
   "cell_type": "code",
   "execution_count": 82,
   "id": "cfddcf45",
   "metadata": {
    "ExecuteTime": {
     "end_time": "2023-03-08T15:11:14.676869Z",
     "start_time": "2023-03-08T15:11:14.667728Z"
    },
    "hidden": true
   },
   "outputs": [
    {
     "data": {
      "text/plain": [
       "(dict_keys(['input_ids', 'attention_mask']), TensorShape([3910, 512]))"
      ]
     },
     "execution_count": 82,
     "metadata": {},
     "output_type": "execute_result"
    }
   ],
   "source": [
    "X_tokenized.keys(), X_tokenized['input_ids'].shape"
   ]
  },
  {
   "cell_type": "code",
   "execution_count": 83,
   "id": "feeb517a",
   "metadata": {
    "ExecuteTime": {
     "end_time": "2023-03-08T15:11:24.072169Z",
     "start_time": "2023-03-08T15:11:24.058537Z"
    },
    "hidden": true
   },
   "outputs": [
    {
     "data": {
      "text/plain": [
       "{'input_ids': <tf.Tensor: shape=(3910, 512), dtype=int32, numpy=\n",
       "array([[  101,   146,  1341, ...,     0,     0,     0],\n",
       "       [  101,  1332,   170, ...,  1106,  1838,   102],\n",
       "       [  101, 12956,   117, ...,     0,     0,     0],\n",
       "       ...,\n",
       "       [  101,  9612,  2041, ...,  2148,  1111,   102],\n",
       "       [  101,   107,   138, ...,     0,     0,     0],\n",
       "       [  101,  2408,  1234, ...,  1112,  1128,   102]], dtype=int32)>, 'attention_mask': <tf.Tensor: shape=(3910, 512), dtype=int32, numpy=\n",
       "array([[1, 1, 1, ..., 0, 0, 0],\n",
       "       [1, 1, 1, ..., 1, 1, 1],\n",
       "       [1, 1, 1, ..., 0, 0, 0],\n",
       "       ...,\n",
       "       [1, 1, 1, ..., 1, 1, 1],\n",
       "       [1, 1, 1, ..., 0, 0, 0],\n",
       "       [1, 1, 1, ..., 1, 1, 1]], dtype=int32)>}"
      ]
     },
     "execution_count": 83,
     "metadata": {},
     "output_type": "execute_result"
    }
   ],
   "source": [
    "X_tokenized"
   ]
  },
  {
   "cell_type": "code",
   "execution_count": 84,
   "id": "72b1a1b2",
   "metadata": {
    "ExecuteTime": {
     "end_time": "2023-03-08T15:12:10.965452Z",
     "start_time": "2023-03-08T15:12:10.951961Z"
    },
    "hidden": true,
    "scrolled": true
   },
   "outputs": [
    {
     "data": {
      "text/plain": [
       "<tf.Tensor: shape=(512,), dtype=int32, numpy=\n",
       "array([  101,   146,  1341,  1115,  1651,  1156,  5257,  1121,  3776,\n",
       "        1120,  1313,   117,  1272,  1152,  1281,  1204,  1138,  1106,\n",
       "        1849,  1105,  1243,  1146,  1346,  1107,  1103,  2106,  1106,\n",
       "        5946,  1105,  1202,  1175,  1716,   119,  1781,  1178,  3553,\n",
       "        6618,  1172,  1272,  1120,  1175,  1402,  1152,   112,  1325,\n",
       "        1129,  2653,  1167,  2209,   119,  1152,  1209,  1129,  6062,\n",
       "        1120,  1313,   119,  1109, 20773,  1226,  1104,  1278,  1110,\n",
       "        2033,  2407,   119,  1128,  5314,  1146,  1301,  8415,  1240,\n",
       "        3307,  1105,  1301,  1106,  1240,  9369,  1105,  1440,  1120,\n",
       "        1240,  8217,  1116,   119,  1170,  1128,  1341,  1128,  3015,\n",
       "         170, 11378,   190,  1301,  1440,  1107,  1103,  5220,  1105,\n",
       "        1128,  2339,  1719,  1136,  1176,  1122,  1137,  1128,  1440,\n",
       "        1105,  1267,   170, 24754,   119,  1599,  1128,   112,  1325,\n",
       "        1138,  1106,  1849,   119,  1114,  1103,  3294,  3553,  1128,\n",
       "        1169,  4330,  1625,  1105,  2215,  1313,  1105,  1128,  1281,\n",
       "        1204,  1444,  1106,  6600,  1164,  1184,  1106,  4330,   119,\n",
       "        1211,  1651,  1932,  1321,  5946,  1116,  1196,  1278,   119,\n",
       "        1152,  1719,  1321,  1122,  1196,  1152,  2946,  1137,  1165,\n",
       "        1152,  5314,  1146,   119,  1199,  1651,  1202,  1241,  1106,\n",
       "        4773,  1363,   119,  1115,  4680,  1172,  1202,  5529,  1103,\n",
       "        3592,  1105,  3154,  1113,  1175, 11788,  1159,  2612,  1152,\n",
       "        1435,  1523,  1106,  1278,   119,  1165,   190,  1138,  3294,\n",
       "        3553,   190,  1281,  1204,  1444,  1106,  5529,  8497,  2612,\n",
       "        1128,  1169,  1243,  1917,  1383,  1146,  1105,  1301,  1321,\n",
       "         170,  5946,  1105,  1165,   190,  1243,  1149,  1240,  2407,\n",
       "        1106,  1301,   119,  1165,  1240,  1313,  1240,  6062,  1105,\n",
       "        1128,  2653,  2209,   119,  1122,  3114,  1173,  1126,  4316,\n",
       "        1106,  1129,  6866,  1200,  1105,  1256,  2789,  1175, 22150,\n",
       "        1113,  1705,  1250,   119,  1470,  2126,  1132,  2846,  1256,\n",
       "        1191,  1128,  2222,   119,  1199,  3218,  1274,  1204,  1221,\n",
       "        1293,  1106,  6215,  1122,  1107,  1173,  1236,  1115,  1651,\n",
       "        2437,  1122,   119,  1115,  4680,  1651,  1106,  8693,  1105,\n",
       "        1152,  1336,  9488,  1103,  1705,   119,   102,     0,     0,\n",
       "           0,     0,     0,     0,     0,     0,     0,     0,     0,\n",
       "           0,     0,     0,     0,     0,     0,     0,     0,     0,\n",
       "           0,     0,     0,     0,     0,     0,     0,     0,     0,\n",
       "           0,     0,     0,     0,     0,     0,     0,     0,     0,\n",
       "           0,     0,     0,     0,     0,     0,     0,     0,     0,\n",
       "           0,     0,     0,     0,     0,     0,     0,     0,     0,\n",
       "           0,     0,     0,     0,     0,     0,     0,     0,     0,\n",
       "           0,     0,     0,     0,     0,     0,     0,     0,     0,\n",
       "           0,     0,     0,     0,     0,     0,     0,     0,     0,\n",
       "           0,     0,     0,     0,     0,     0,     0,     0,     0,\n",
       "           0,     0,     0,     0,     0,     0,     0,     0,     0,\n",
       "           0,     0,     0,     0,     0,     0,     0,     0,     0,\n",
       "           0,     0,     0,     0,     0,     0,     0,     0,     0,\n",
       "           0,     0,     0,     0,     0,     0,     0,     0,     0,\n",
       "           0,     0,     0,     0,     0,     0,     0,     0,     0,\n",
       "           0,     0,     0,     0,     0,     0,     0,     0,     0,\n",
       "           0,     0,     0,     0,     0,     0,     0,     0,     0,\n",
       "           0,     0,     0,     0,     0,     0,     0,     0,     0,\n",
       "           0,     0,     0,     0,     0,     0,     0,     0,     0,\n",
       "           0,     0,     0,     0,     0,     0,     0,     0,     0,\n",
       "           0,     0,     0,     0,     0,     0,     0,     0,     0,\n",
       "           0,     0,     0,     0,     0,     0,     0,     0,     0,\n",
       "           0,     0,     0,     0,     0,     0,     0,     0,     0,\n",
       "           0,     0,     0,     0,     0,     0,     0,     0],\n",
       "      dtype=int32)>"
      ]
     },
     "execution_count": 84,
     "metadata": {},
     "output_type": "execute_result"
    }
   ],
   "source": [
    "X_tokenized['input_ids'][0]"
   ]
  }
 ],
 "metadata": {
  "kernelspec": {
   "display_name": "Python 3 (ipykernel)",
   "language": "python",
   "name": "python3"
  },
  "language_info": {
   "codemirror_mode": {
    "name": "ipython",
    "version": 3
   },
   "file_extension": ".py",
   "mimetype": "text/x-python",
   "name": "python",
   "nbconvert_exporter": "python",
   "pygments_lexer": "ipython3",
   "version": "3.10.6"
  },
  "toc": {
   "base_numbering": 1,
   "nav_menu": {},
   "number_sections": true,
   "sideBar": true,
   "skip_h1_title": false,
   "title_cell": "Table of Contents",
   "title_sidebar": "Contents",
   "toc_cell": false,
   "toc_position": {
    "height": "calc(100% - 180px)",
    "left": "10px",
    "top": "150px",
    "width": "279.273px"
   },
   "toc_section_display": true,
   "toc_window_display": false
  }
 },
 "nbformat": 4,
 "nbformat_minor": 5
}
