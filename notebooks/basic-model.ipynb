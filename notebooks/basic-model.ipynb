{
 "cells": [
  {
   "cell_type": "code",
   "execution_count": 1,
   "metadata": {},
   "outputs": [],
   "source": [
    "import os\n",
    "import pandas as pd\n",
    "import numpy as np\n",
    "import seaborn as sns\n",
    "import matplotlib.pyplot as plt\n",
    "from sklearn.model_selection import train_test_split"
   ]
  },
  {
   "cell_type": "markdown",
   "metadata": {},
   "source": [
    "# Load the data"
   ]
  },
  {
   "cell_type": "code",
   "execution_count": 2,
   "metadata": {},
   "outputs": [
    {
     "data": {
      "text/html": [
       "<div>\n",
       "<style scoped>\n",
       "    .dataframe tbody tr th:only-of-type {\n",
       "        vertical-align: middle;\n",
       "    }\n",
       "\n",
       "    .dataframe tbody tr th {\n",
       "        vertical-align: top;\n",
       "    }\n",
       "\n",
       "    .dataframe thead th {\n",
       "        text-align: right;\n",
       "    }\n",
       "</style>\n",
       "<table border=\"1\" class=\"dataframe\">\n",
       "  <thead>\n",
       "    <tr style=\"text-align: right;\">\n",
       "      <th></th>\n",
       "      <th>text_id</th>\n",
       "      <th>full_text</th>\n",
       "      <th>cohesion</th>\n",
       "      <th>syntax</th>\n",
       "      <th>vocabulary</th>\n",
       "      <th>phraseology</th>\n",
       "      <th>grammar</th>\n",
       "      <th>conventions</th>\n",
       "    </tr>\n",
       "  </thead>\n",
       "  <tbody>\n",
       "    <tr>\n",
       "      <th>0</th>\n",
       "      <td>0016926B079C</td>\n",
       "      <td>I think that students would benefit from learn...</td>\n",
       "      <td>3.5</td>\n",
       "      <td>3.5</td>\n",
       "      <td>3.0</td>\n",
       "      <td>3.0</td>\n",
       "      <td>4.0</td>\n",
       "      <td>3.0</td>\n",
       "    </tr>\n",
       "    <tr>\n",
       "      <th>1</th>\n",
       "      <td>0022683E9EA5</td>\n",
       "      <td>When a problem is a change you have to let it ...</td>\n",
       "      <td>2.5</td>\n",
       "      <td>2.5</td>\n",
       "      <td>3.0</td>\n",
       "      <td>2.0</td>\n",
       "      <td>2.0</td>\n",
       "      <td>2.5</td>\n",
       "    </tr>\n",
       "    <tr>\n",
       "      <th>2</th>\n",
       "      <td>00299B378633</td>\n",
       "      <td>Dear, Principal\\n\\nIf u change the school poli...</td>\n",
       "      <td>3.0</td>\n",
       "      <td>3.5</td>\n",
       "      <td>3.0</td>\n",
       "      <td>3.0</td>\n",
       "      <td>3.0</td>\n",
       "      <td>2.5</td>\n",
       "    </tr>\n",
       "    <tr>\n",
       "      <th>3</th>\n",
       "      <td>003885A45F42</td>\n",
       "      <td>The best time in life is when you become yours...</td>\n",
       "      <td>4.5</td>\n",
       "      <td>4.5</td>\n",
       "      <td>4.5</td>\n",
       "      <td>4.5</td>\n",
       "      <td>4.0</td>\n",
       "      <td>5.0</td>\n",
       "    </tr>\n",
       "    <tr>\n",
       "      <th>4</th>\n",
       "      <td>0049B1DF5CCC</td>\n",
       "      <td>Small act of kindness can impact in other peop...</td>\n",
       "      <td>2.5</td>\n",
       "      <td>3.0</td>\n",
       "      <td>3.0</td>\n",
       "      <td>3.0</td>\n",
       "      <td>2.5</td>\n",
       "      <td>2.5</td>\n",
       "    </tr>\n",
       "  </tbody>\n",
       "</table>\n",
       "</div>"
      ],
      "text/plain": [
       "        text_id                                          full_text  cohesion  \\\n",
       "0  0016926B079C  I think that students would benefit from learn...       3.5   \n",
       "1  0022683E9EA5  When a problem is a change you have to let it ...       2.5   \n",
       "2  00299B378633  Dear, Principal\\n\\nIf u change the school poli...       3.0   \n",
       "3  003885A45F42  The best time in life is when you become yours...       4.5   \n",
       "4  0049B1DF5CCC  Small act of kindness can impact in other peop...       2.5   \n",
       "\n",
       "   syntax  vocabulary  phraseology  grammar  conventions  \n",
       "0     3.5         3.0          3.0      4.0          3.0  \n",
       "1     2.5         3.0          2.0      2.0          2.5  \n",
       "2     3.5         3.0          3.0      3.0          2.5  \n",
       "3     4.5         4.5          4.5      4.0          5.0  \n",
       "4     3.0         3.0          3.0      2.5          2.5  "
      ]
     },
     "execution_count": 2,
     "metadata": {},
     "output_type": "execute_result"
    }
   ],
   "source": [
    "parent_path=os.path.join(os.getcwd(), os.pardir)\n",
    "file_path=os.path.join(parent_path, \"raw_data/train.csv\")\n",
    "data=pd.read_csv(file_path).copy()\n",
    "data.head()"
   ]
  },
  {
   "cell_type": "code",
   "execution_count": 3,
   "metadata": {},
   "outputs": [],
   "source": [
    "texts=data[\"full_text\"]\n",
    "text_scores=data.drop(columns=[\"text_id\", \"full_text\"])\n",
    "train_texts, val_texts, train_targets, val_targets=train_test_split(texts, text_scores, test_size=0.3)"
   ]
  },
  {
   "cell_type": "code",
   "execution_count": 4,
   "metadata": {},
   "outputs": [
    {
     "data": {
      "text/plain": [
       "<Axes: xlabel='size', ylabel='Count'>"
      ]
     },
     "execution_count": 4,
     "metadata": {},
     "output_type": "execute_result"
    },
    {
     "data": {
      "image/png": "[encoded data removed]",
      "text/plain": [
       "<Figure size 640x480 with 1 Axes>"
      ]
     },
     "metadata": {},
     "output_type": "display_data"
    }
   ],
   "source": [
    "data[\"size\"]=data[\"full_text\"].apply(lambda x : len(x.split()))\n",
    "sns.histplot(data[\"size\"], kde=True)"
   ]
  },
  {
   "cell_type": "code",
   "execution_count": 5,
   "metadata": {},
   "outputs": [
    {
     "data": {
      "text/plain": [
       "1260"
      ]
     },
     "execution_count": 5,
     "metadata": {},
     "output_type": "execute_result"
    }
   ],
   "source": [
    "data[\"size\"].max()"
   ]
  },
  {
   "cell_type": "markdown",
   "metadata": {},
   "source": [
    "# Defining the loss function"
   ]
  },
  {
   "cell_type": "code",
   "execution_count": 6,
   "metadata": {},
   "outputs": [],
   "source": [
    "def loss_func(y_true, y_pred):\n",
    "    losses=[]\n",
    "    for column in y_true.columns:\n",
    "        res=np.sqrt(sum((y_true[column]-y_pred[column])**2)/len(y_true))\n",
    "        losses.append(res)\n",
    "    return np.mean(losses)"
   ]
  },
  {
   "cell_type": "markdown",
   "metadata": {},
   "source": [
    "# Embedding with Word2vec"
   ]
  },
  {
   "attachments": {},
   "cell_type": "markdown",
   "metadata": {},
   "source": [
    "### Preprocessing texts with keras built-in text preprocessing tool"
   ]
  },
  {
   "cell_type": "code",
   "execution_count": 7,
   "metadata": {},
   "outputs": [
    {
     "name": "stderr",
     "output_type": "stream",
     "text": [
      "2023-03-07 17:03:32.128997: I tensorflow/core/platform/cpu_feature_guard.cc:193] This TensorFlow binary is optimized with oneAPI Deep Neural Network Library (oneDNN) to use the following CPU instructions in performance-critical operations:  AVX2 FMA\n",
      "To enable them in other operations, rebuild TensorFlow with the appropriate compiler flags.\n",
      "2023-03-07 17:03:33.301412: W tensorflow/stream_executor/platform/default/dso_loader.cc:64] Could not load dynamic library 'libcudart.so.11.0'; dlerror: libcudart.so.11.0: cannot open shared object file: No such file or directory\n",
      "2023-03-07 17:03:33.301494: I tensorflow/stream_executor/cuda/cudart_stub.cc:29] Ignore above cudart dlerror if you do not have a GPU set up on your machine.\n",
      "2023-03-07 17:03:33.443299: E tensorflow/stream_executor/cuda/cuda_blas.cc:2981] Unable to register cuBLAS factory: Attempting to register factory for plugin cuBLAS when one has already been registered\n",
      "2023-03-07 17:03:36.207995: W tensorflow/stream_executor/platform/default/dso_loader.cc:64] Could not load dynamic library 'libnvinfer.so.7'; dlerror: libnvinfer.so.7: cannot open shared object file: No such file or directory\n",
      "2023-03-07 17:03:36.208269: W tensorflow/stream_executor/platform/default/dso_loader.cc:64] Could not load dynamic library 'libnvinfer_plugin.so.7'; dlerror: libnvinfer_plugin.so.7: cannot open shared object file: No such file or directory\n",
      "2023-03-07 17:03:36.208283: W tensorflow/compiler/tf2tensorrt/utils/py_utils.cc:38] TF-TRT Warning: Cannot dlopen some TensorRT libraries. If you would like to use Nvidia GPU with TensorRT, please make sure the missing libraries mentioned above are installed properly.\n"
     ]
    }
   ],
   "source": [
    "from tensorflow.keras.preprocessing.text import text_to_word_sequence\n",
    "\n",
    "X_train = [text_to_word_sequence(_) for _ in list(train_texts)]\n",
    "X_val = [text_to_word_sequence(_) for _ in list(val_texts)]\n"
   ]
  },
  {
   "cell_type": "markdown",
   "metadata": {},
   "source": [
    "### Embedding with Word2vec"
   ]
  },
  {
   "cell_type": "code",
   "execution_count": 8,
   "metadata": {},
   "outputs": [],
   "source": [
    "# YOUR CODE HERE\n",
    "from gensim.models import Word2Vec\n",
    "\n",
    "word2vec = Word2Vec(sentences=X_train)\n",
    "wv = word2vec.wv"
   ]
  },
  {
   "cell_type": "code",
   "execution_count": 9,
   "metadata": {},
   "outputs": [],
   "source": [
    "from tensorflow.keras.preprocessing.sequence import pad_sequences\n",
    "import numpy as np\n",
    "\n",
    "# Function to convert a sentence (list of words) into a matrix representing the words in the embedding space\n",
    "def embed_sentence(word2vec, sentence):\n",
    "    embedded_sentence = []\n",
    "    for word in sentence:\n",
    "        if word in word2vec.wv:\n",
    "            embedded_sentence.append(word2vec.wv[word])\n",
    "        \n",
    "    return np.array(embedded_sentence)\n",
    "\n",
    "# Function that converts a list of sentences into a list of matrices\n",
    "def embedding(word2vec, sentences):\n",
    "    embed = []\n",
    "    \n",
    "    for sentence in sentences:\n",
    "        embedded_sentence = embed_sentence(word2vec, sentence)\n",
    "        embed.append(embedded_sentence)\n",
    "        \n",
    "    return embed\n",
    "\n",
    "# Embed the training and test sentences\n",
    "X_train_embed = embedding(word2vec, X_train)\n",
    "X_val_embed = embedding(word2vec, X_val)\n",
    "\n",
    "\n",
    "# Pad the training and test embedded sentences\n",
    "X_train_pad = pad_sequences(X_train_embed, dtype='float32', padding='post', maxlen=1260)\n",
    "X_val_pad = pad_sequences(X_val_embed, dtype='float32', padding='post', maxlen=1260)"
   ]
  },
  {
   "cell_type": "code",
   "execution_count": 10,
   "metadata": {},
   "outputs": [
    {
     "data": {
      "text/plain": [
       "(2737, 1260, 100)"
      ]
     },
     "execution_count": 10,
     "metadata": {},
     "output_type": "execute_result"
    }
   ],
   "source": [
    "X_train_pad.shape"
   ]
  },
  {
   "cell_type": "code",
   "execution_count": 11,
   "metadata": {},
   "outputs": [],
   "source": [
    "for X in [X_train_pad]:\n",
    "    assert type(X) == np.ndarray\n",
    "    assert X.shape[-1] == word2vec.wv.vector_size\n",
    "\n",
    "\n",
    "assert X_train_pad.shape[0] == len(X_train)"
   ]
  },
  {
   "attachments": {},
   "cell_type": "markdown",
   "metadata": {},
   "source": [
    "# The model\n",
    "\n",
    "is an RNN with the following layers:\n",
    "- a `Masking` layer\n",
    "- a `LSTM` with 20 units and `tanh` activation function\n",
    "- a `Dense` with 10 units\n",
    "- an output layer with 6 neurons"
   ]
  },
  {
   "cell_type": "code",
   "execution_count": 12,
   "metadata": {},
   "outputs": [],
   "source": [
    "#from tensorflow.keras import layers, Input, Sequential\n",
    "#from keras import backend as K\n",
    "#def build_model():\n",
    "#    model = Sequential()\n",
    "#\n",
    "#    model.add(layers.Masking(mask_value=0.0, input_shape=(1260,100))\n",
    "#    # Built-in masking layer :)\n",
    "#    )\n",
    "#    model.add(layers.LSTM(20))\n",
    "#    model.add(layers.Dense(10, activation=\"relu\"))\n",
    "#    \n",
    "#    model.add(layers.Dense(6, activation=\"linear\"))\n",
    "#    return model\n",
    "#\n",
    "#model = build_model()\n",
    "#\n",
    "#def root_mean_squared_error(y_true, y_pred):\n",
    "#        return K.sqrt(K.mean(K.square(y_pred - y_true))) \n",
    "#\n",
    "#model.compile(loss='mse',\n",
    "#              optimizer='adam',\n",
    "#              metrics=root_mean_squared_error)"
   ]
  },
  {
   "cell_type": "code",
   "execution_count": 13,
   "metadata": {},
   "outputs": [],
   "source": [
    "#model.summary()"
   ]
  },
  {
   "cell_type": "code",
   "execution_count": 14,
   "metadata": {},
   "outputs": [],
   "source": [
    "#np.array(train_targets).shape"
   ]
  },
  {
   "cell_type": "code",
   "execution_count": 15,
   "metadata": {},
   "outputs": [],
   "source": [
    "#from tensorflow.keras import callbacks\n",
    "\n",
    "#es = callbacks.EarlyStopping(patience=5, restore_best_weights=True)\n",
    "#model.fit(X_train_pad,\n",
    "          #train_targets,\n",
    "          #validation_split=0.2,\n",
    "          #batch_size=56,\n",
    "          #epochs=300,\n",
    "          #verbose=1,\n",
    "          #callbacks=[es])\n"
   ]
  },
  {
   "cell_type": "code",
   "execution_count": 16,
   "metadata": {},
   "outputs": [
    {
     "name": "stderr",
     "output_type": "stream",
     "text": [
      "2023-03-07 17:03:50.572342: W tensorflow/stream_executor/platform/default/dso_loader.cc:64] Could not load dynamic library 'libcuda.so.1'; dlerror: libcuda.so.1: cannot open shared object file: No such file or directory\n",
      "2023-03-07 17:03:50.572919: W tensorflow/stream_executor/cuda/cuda_driver.cc:263] failed call to cuInit: UNKNOWN ERROR (303)\n",
      "2023-03-07 17:03:50.572954: I tensorflow/stream_executor/cuda/cuda_diagnostics.cc:156] kernel driver does not appear to be running on this host (DESKTOP-0OMFI0Q): /proc/driver/nvidia/version does not exist\n",
      "2023-03-07 17:03:50.573277: I tensorflow/core/platform/cpu_feature_guard.cc:193] This TensorFlow binary is optimized with oneAPI Deep Neural Network Library (oneDNN) to use the following CPU instructions in performance-critical operations:  AVX2 FMA\n",
      "To enable them in other operations, rebuild TensorFlow with the appropriate compiler flags.\n"
     ]
    }
   ],
   "source": [
    "from tensorflow.keras import layers, Input, Sequential, Model\n",
    "from keras import backend as K\n",
    "def root_mean_squared_error(y_true, y_pred):\n",
    "        return K.sqrt(K.mean(K.square(y_pred - y_true), axis=-1))\n",
    "    \n",
    "def initiate_model():\n",
    "    main_input = Input((1260,100))\n",
    "    masking_layer = layers.Masking(mask_value=0.0, input_shape=(1260,100))(main_input)\n",
    "    lstm_layer=layers.LSTM(20)(masking_layer)\n",
    "    dense_layer = layers.Dense(10, activation=\"relu\")(lstm_layer)\n",
    "    \n",
    "    #parallele layers : 1 layer for each output (score)\n",
    "    outputs=['cohesion_output', 'syntax_output', 'vocabulary_output', 'phraseology_output', 'grammar_output', 'conventions_output']\n",
    "    cohesion_output=layers.Dense(1, activation=\"linear\", name=\"cohesion\")(dense_layer)\n",
    "    syntax_output=layers.Dense(1, activation=\"linear\", name=\"syntax\")(dense_layer)\n",
    "    vocabulary_output=layers.Dense(1, activation=\"linear\", name=\"vocabulary\")(dense_layer)\n",
    "    phraseology_output=layers.Dense(1, activation=\"linear\", name=\"phraseology\")(dense_layer)\n",
    "    grammar_output=layers.Dense(1, activation=\"linear\", name=\"grammar\")(dense_layer)\n",
    "    conventions_output=layers.Dense(1, activation=\"linear\", name=\"conventions\")(dense_layer)\n",
    "    \n",
    "    # Assembling the model\n",
    "    model = Model(main_input, [cohesion_output, syntax_output, vocabulary_output, phraseology_output, grammar_output, conventions_output])\n",
    "    return model\n",
    "model=initiate_model()\n"
   ]
  },
  {
   "cell_type": "code",
   "execution_count": 17,
   "metadata": {},
   "outputs": [
    {
     "name": "stdout",
     "output_type": "stream",
     "text": [
      "Model: \"model\"\n",
      "__________________________________________________________________________________________________\n",
      " Layer (type)                   Output Shape         Param #     Connected to                     \n",
      "==================================================================================================\n",
      " input_1 (InputLayer)           [(None, 1260, 100)]  0           []                               \n",
      "                                                                                                  \n",
      " masking (Masking)              (None, 1260, 100)    0           ['input_1[0][0]']                \n",
      "                                                                                                  \n",
      " lstm (LSTM)                    (None, 20)           9680        ['masking[0][0]']                \n",
      "                                                                                                  \n",
      " dense (Dense)                  (None, 10)           210         ['lstm[0][0]']                   \n",
      "                                                                                                  \n",
      " cohesion (Dense)               (None, 1)            11          ['dense[0][0]']                  \n",
      "                                                                                                  \n",
      " syntax (Dense)                 (None, 1)            11          ['dense[0][0]']                  \n",
      "                                                                                                  \n",
      " vocabulary (Dense)             (None, 1)            11          ['dense[0][0]']                  \n",
      "                                                                                                  \n",
      " phraseology (Dense)            (None, 1)            11          ['dense[0][0]']                  \n",
      "                                                                                                  \n",
      " grammar (Dense)                (None, 1)            11          ['dense[0][0]']                  \n",
      "                                                                                                  \n",
      " conventions (Dense)            (None, 1)            11          ['dense[0][0]']                  \n",
      "                                                                                                  \n",
      "==================================================================================================\n",
      "Total params: 9,956\n",
      "Trainable params: 9,956\n",
      "Non-trainable params: 0\n",
      "__________________________________________________________________________________________________\n"
     ]
    }
   ],
   "source": [
    "# compiling the model\n",
    "model.summary()"
   ]
  },
  {
   "cell_type": "code",
   "execution_count": 18,
   "metadata": {},
   "outputs": [],
   "source": [
    "# compiling the model\n",
    "model.compile(loss='mse', optimizer='adam', loss_weights=[1/6 for i in range(6)], metrics=root_mean_squared_error)"
   ]
  },
  {
   "cell_type": "code",
   "execution_count": 19,
   "metadata": {},
   "outputs": [
    {
     "name": "stderr",
     "output_type": "stream",
     "text": [
      "2023-03-07 17:03:52.810062: W tensorflow/core/framework/cpu_allocator_impl.cc:82] Allocation of 1103256000 exceeds 10% of free system memory.\n"
     ]
    },
    {
     "name": "stdout",
     "output_type": "stream",
     "text": [
      "Epoch 1/100\n",
      "40/40 [==============================] - 48s 955ms/step - loss: 5.9512 - cohesion_loss: 8.1616 - syntax_loss: 3.7258 - vocabulary_loss: 3.2614 - phraseology_loss: 7.5783 - grammar_loss: 4.8291 - conventions_loss: 8.1512 - cohesion_root_mean_squared_error: 2.7499 - syntax_root_mean_squared_error: 1.6658 - vocabulary_root_mean_squared_error: 1.5590 - phraseology_root_mean_squared_error: 2.6516 - grammar_root_mean_squared_error: 1.9878 - conventions_root_mean_squared_error: 2.7881 - val_loss: 2.4732 - val_cohesion_loss: 2.6210 - val_syntax_loss: 0.8583 - val_vocabulary_loss: 0.7915 - val_phraseology_loss: 4.9554 - val_grammar_loss: 0.8233 - val_conventions_loss: 4.7899 - val_cohesion_root_mean_squared_error: 1.5072 - val_syntax_root_mean_squared_error: 0.8131 - val_vocabulary_root_mean_squared_error: 0.7840 - val_phraseology_root_mean_squared_error: 2.1385 - val_grammar_root_mean_squared_error: 0.7853 - val_conventions_root_mean_squared_error: 2.1141\n",
      "Epoch 2/100\n",
      "40/40 [==============================] - 38s 953ms/step - loss: 1.7507 - cohesion_loss: 1.0024 - syntax_loss: 1.1738 - vocabulary_loss: 0.7599 - phraseology_loss: 3.6852 - grammar_loss: 0.5601 - conventions_loss: 3.3229 - cohesion_root_mean_squared_error: 0.8617 - syntax_root_mean_squared_error: 0.9598 - vocabulary_root_mean_squared_error: 0.7715 - phraseology_root_mean_squared_error: 1.7914 - grammar_root_mean_squared_error: 0.6627 - conventions_root_mean_squared_error: 1.7297 - val_loss: 1.1325 - val_cohesion_loss: 0.5509 - val_syntax_loss: 1.0919 - val_vocabulary_loss: 0.5566 - val_phraseology_loss: 1.5823 - val_grammar_loss: 0.4796 - val_conventions_loss: 2.5339 - val_cohesion_root_mean_squared_error: 0.6586 - val_syntax_root_mean_squared_error: 0.9348 - val_vocabulary_root_mean_squared_error: 0.6653 - val_phraseology_root_mean_squared_error: 1.1400 - val_grammar_root_mean_squared_error: 0.6198 - val_conventions_root_mean_squared_error: 1.4960\n",
      "Epoch 3/100\n",
      "40/40 [==============================] - 37s 936ms/step - loss: 0.8854 - cohesion_loss: 0.4921 - syntax_loss: 0.8042 - vocabulary_loss: 0.4705 - phraseology_loss: 0.9978 - grammar_loss: 0.4538 - conventions_loss: 2.0941 - cohesion_root_mean_squared_error: 0.6314 - syntax_root_mean_squared_error: 0.8001 - vocabulary_root_mean_squared_error: 0.6218 - phraseology_root_mean_squared_error: 0.8757 - grammar_root_mean_squared_error: 0.6118 - conventions_root_mean_squared_error: 1.3404 - val_loss: 0.6896 - val_cohesion_loss: 0.5204 - val_syntax_loss: 0.7050 - val_vocabulary_loss: 0.4712 - val_phraseology_loss: 0.5831 - val_grammar_loss: 0.4696 - val_conventions_loss: 1.3883 - val_cohesion_root_mean_squared_error: 0.6452 - val_syntax_root_mean_squared_error: 0.7501 - val_vocabulary_root_mean_squared_error: 0.6168 - val_phraseology_root_mean_squared_error: 0.6753 - val_grammar_root_mean_squared_error: 0.6170 - val_conventions_root_mean_squared_error: 1.0692\n",
      "Epoch 4/100\n",
      "40/40 [==============================] - 38s 936ms/step - loss: 0.5913 - cohesion_loss: 0.4789 - syntax_loss: 0.5536 - vocabulary_loss: 0.4409 - phraseology_loss: 0.5340 - grammar_loss: 0.4392 - conventions_loss: 1.1010 - cohesion_root_mean_squared_error: 0.6266 - syntax_root_mean_squared_error: 0.6700 - vocabulary_root_mean_squared_error: 0.6044 - phraseology_root_mean_squared_error: 0.6545 - grammar_root_mean_squared_error: 0.6039 - conventions_root_mean_squared_error: 0.9358 - val_loss: 0.5206 - val_cohesion_loss: 0.4934 - val_syntax_loss: 0.5200 - val_vocabulary_loss: 0.4494 - val_phraseology_loss: 0.4678 - val_grammar_loss: 0.4466 - val_conventions_loss: 0.7465 - val_cohesion_root_mean_squared_error: 0.6306 - val_syntax_root_mean_squared_error: 0.6477 - val_vocabulary_root_mean_squared_error: 0.6046 - val_phraseology_root_mean_squared_error: 0.6144 - val_grammar_root_mean_squared_error: 0.6039 - val_conventions_root_mean_squared_error: 0.7656\n",
      "Epoch 5/100\n",
      "40/40 [==============================] - 37s 934ms/step - loss: 0.4789 - cohesion_loss: 0.4537 - syntax_loss: 0.4612 - vocabulary_loss: 0.4331 - phraseology_loss: 0.4656 - grammar_loss: 0.4290 - conventions_loss: 0.6310 - cohesion_root_mean_squared_error: 0.6121 - syntax_root_mean_squared_error: 0.6178 - vocabulary_root_mean_squared_error: 0.5996 - phraseology_root_mean_squared_error: 0.6189 - grammar_root_mean_squared_error: 0.5978 - conventions_root_mean_squared_error: 0.7044 - val_loss: 0.4588 - val_cohesion_loss: 0.4647 - val_syntax_loss: 0.4614 - val_vocabulary_loss: 0.4381 - val_phraseology_loss: 0.4494 - val_grammar_loss: 0.4350 - val_conventions_loss: 0.5040 - val_cohesion_root_mean_squared_error: 0.6147 - val_syntax_root_mean_squared_error: 0.6140 - val_vocabulary_root_mean_squared_error: 0.5984 - val_phraseology_root_mean_squared_error: 0.6054 - val_grammar_root_mean_squared_error: 0.5973 - val_conventions_root_mean_squared_error: 0.6364\n",
      "Epoch 6/100\n",
      "40/40 [==============================] - 38s 945ms/step - loss: 0.4396 - cohesion_loss: 0.4372 - syntax_loss: 0.4342 - vocabulary_loss: 0.4265 - phraseology_loss: 0.4487 - grammar_loss: 0.4233 - conventions_loss: 0.4676 - cohesion_root_mean_squared_error: 0.6022 - syntax_root_mean_squared_error: 0.6018 - vocabulary_root_mean_squared_error: 0.5960 - phraseology_root_mean_squared_error: 0.6099 - grammar_root_mean_squared_error: 0.5946 - conventions_root_mean_squared_error: 0.6181 - val_loss: 0.4417 - val_cohesion_loss: 0.4518 - val_syntax_loss: 0.4455 - val_vocabulary_loss: 0.4356 - val_phraseology_loss: 0.4443 - val_grammar_loss: 0.4328 - val_conventions_loss: 0.4400 - val_cohesion_root_mean_squared_error: 0.6077 - val_syntax_root_mean_squared_error: 0.6049 - val_vocabulary_root_mean_squared_error: 0.5972 - val_phraseology_root_mean_squared_error: 0.6033 - val_grammar_root_mean_squared_error: 0.5962 - val_conventions_root_mean_squared_error: 0.6008\n",
      "Epoch 7/100\n",
      "40/40 [==============================] - 39s 978ms/step - loss: 0.4276 - cohesion_loss: 0.4293 - syntax_loss: 0.4248 - vocabulary_loss: 0.4235 - phraseology_loss: 0.4412 - grammar_loss: 0.4202 - conventions_loss: 0.4266 - cohesion_root_mean_squared_error: 0.5971 - syntax_root_mean_squared_error: 0.5957 - vocabulary_root_mean_squared_error: 0.5934 - phraseology_root_mean_squared_error: 0.6053 - grammar_root_mean_squared_error: 0.5920 - conventions_root_mean_squared_error: 0.5949 - val_loss: 0.4375 - val_cohesion_loss: 0.4463 - val_syntax_loss: 0.4394 - val_vocabulary_loss: 0.4348 - val_phraseology_loss: 0.4415 - val_grammar_loss: 0.4317 - val_conventions_loss: 0.4311 - val_cohesion_root_mean_squared_error: 0.6050 - val_syntax_root_mean_squared_error: 0.6015 - val_vocabulary_root_mean_squared_error: 0.5972 - val_phraseology_root_mean_squared_error: 0.6020 - val_grammar_root_mean_squared_error: 0.5960 - val_conventions_root_mean_squared_error: 0.5964\n",
      "Epoch 8/100\n",
      "40/40 [==============================] - 38s 950ms/step - loss: 0.4223 - cohesion_loss: 0.4235 - syntax_loss: 0.4198 - vocabulary_loss: 0.4201 - phraseology_loss: 0.4363 - grammar_loss: 0.4168 - conventions_loss: 0.4170 - cohesion_root_mean_squared_error: 0.5937 - syntax_root_mean_squared_error: 0.5925 - vocabulary_root_mean_squared_error: 0.5915 - phraseology_root_mean_squared_error: 0.6024 - grammar_root_mean_squared_error: 0.5900 - conventions_root_mean_squared_error: 0.5900 - val_loss: 0.4356 - val_cohesion_loss: 0.4410 - val_syntax_loss: 0.4363 - val_vocabulary_loss: 0.4346 - val_phraseology_loss: 0.4399 - val_grammar_loss: 0.4311 - val_conventions_loss: 0.4306 - val_cohesion_root_mean_squared_error: 0.6023 - val_syntax_root_mean_squared_error: 0.5997 - val_vocabulary_root_mean_squared_error: 0.5969 - val_phraseology_root_mean_squared_error: 0.6012 - val_grammar_root_mean_squared_error: 0.5956 - val_conventions_root_mean_squared_error: 0.5963\n",
      "Epoch 9/100\n",
      "40/40 [==============================] - 37s 919ms/step - loss: 0.4200 - cohesion_loss: 0.4206 - syntax_loss: 0.4174 - vocabulary_loss: 0.4189 - phraseology_loss: 0.4335 - grammar_loss: 0.4154 - conventions_loss: 0.4142 - cohesion_root_mean_squared_error: 0.5918 - syntax_root_mean_squared_error: 0.5908 - vocabulary_root_mean_squared_error: 0.5906 - phraseology_root_mean_squared_error: 0.6006 - grammar_root_mean_squared_error: 0.5890 - conventions_root_mean_squared_error: 0.5884 - val_loss: 0.4404 - val_cohesion_loss: 0.4481 - val_syntax_loss: 0.4418 - val_vocabulary_loss: 0.4351 - val_phraseology_loss: 0.4485 - val_grammar_loss: 0.4347 - val_conventions_loss: 0.4343 - val_cohesion_root_mean_squared_error: 0.6039 - val_syntax_root_mean_squared_error: 0.6006 - val_vocabulary_root_mean_squared_error: 0.5965 - val_phraseology_root_mean_squared_error: 0.6030 - val_grammar_root_mean_squared_error: 0.5959 - val_conventions_root_mean_squared_error: 0.5977\n",
      "Epoch 10/100\n",
      "40/40 [==============================] - 39s 980ms/step - loss: 0.4170 - cohesion_loss: 0.4178 - syntax_loss: 0.4145 - vocabulary_loss: 0.4155 - phraseology_loss: 0.4306 - grammar_loss: 0.4125 - conventions_loss: 0.4111 - cohesion_root_mean_squared_error: 0.5900 - syntax_root_mean_squared_error: 0.5889 - vocabulary_root_mean_squared_error: 0.5885 - phraseology_root_mean_squared_error: 0.5989 - grammar_root_mean_squared_error: 0.5872 - conventions_root_mean_squared_error: 0.5865 - val_loss: 0.4421 - val_cohesion_loss: 0.4474 - val_syntax_loss: 0.4436 - val_vocabulary_loss: 0.4389 - val_phraseology_loss: 0.4486 - val_grammar_loss: 0.4386 - val_conventions_loss: 0.4357 - val_cohesion_root_mean_squared_error: 0.6036 - val_syntax_root_mean_squared_error: 0.6019 - val_vocabulary_root_mean_squared_error: 0.5990 - val_phraseology_root_mean_squared_error: 0.6035 - val_grammar_root_mean_squared_error: 0.5984 - val_conventions_root_mean_squared_error: 0.5988\n",
      "Epoch 11/100\n",
      "40/40 [==============================] - 37s 925ms/step - loss: 0.4163 - cohesion_loss: 0.4160 - syntax_loss: 0.4135 - vocabulary_loss: 0.4161 - phraseology_loss: 0.4291 - grammar_loss: 0.4130 - conventions_loss: 0.4100 - cohesion_root_mean_squared_error: 0.5890 - syntax_root_mean_squared_error: 0.5884 - vocabulary_root_mean_squared_error: 0.5889 - phraseology_root_mean_squared_error: 0.5980 - grammar_root_mean_squared_error: 0.5875 - conventions_root_mean_squared_error: 0.5858 - val_loss: 0.4408 - val_cohesion_loss: 0.4465 - val_syntax_loss: 0.4423 - val_vocabulary_loss: 0.4372 - val_phraseology_loss: 0.4466 - val_grammar_loss: 0.4368 - val_conventions_loss: 0.4353 - val_cohesion_root_mean_squared_error: 0.6032 - val_syntax_root_mean_squared_error: 0.6012 - val_vocabulary_root_mean_squared_error: 0.5985 - val_phraseology_root_mean_squared_error: 0.6023 - val_grammar_root_mean_squared_error: 0.5977 - val_conventions_root_mean_squared_error: 0.5986\n",
      "Epoch 12/100\n",
      "40/40 [==============================] - 37s 937ms/step - loss: 0.4118 - cohesion_loss: 0.4126 - syntax_loss: 0.4091 - vocabulary_loss: 0.4101 - phraseology_loss: 0.4253 - grammar_loss: 0.4077 - conventions_loss: 0.4062 - cohesion_root_mean_squared_error: 0.5867 - syntax_root_mean_squared_error: 0.5855 - vocabulary_root_mean_squared_error: 0.5852 - phraseology_root_mean_squared_error: 0.5956 - grammar_root_mean_squared_error: 0.5841 - conventions_root_mean_squared_error: 0.5833 - val_loss: 0.4368 - val_cohesion_loss: 0.4430 - val_syntax_loss: 0.4390 - val_vocabulary_loss: 0.4307 - val_phraseology_loss: 0.4442 - val_grammar_loss: 0.4318 - val_conventions_loss: 0.4320 - val_cohesion_root_mean_squared_error: 0.6012 - val_syntax_root_mean_squared_error: 0.5993 - val_vocabulary_root_mean_squared_error: 0.5951 - val_phraseology_root_mean_squared_error: 0.6007 - val_grammar_root_mean_squared_error: 0.5949 - val_conventions_root_mean_squared_error: 0.5968\n",
      "Epoch 13/100\n",
      "40/40 [==============================] - 37s 931ms/step - loss: 0.4109 - cohesion_loss: 0.4110 - syntax_loss: 0.4084 - vocabulary_loss: 0.4100 - phraseology_loss: 0.4234 - grammar_loss: 0.4073 - conventions_loss: 0.4051 - cohesion_root_mean_squared_error: 0.5855 - syntax_root_mean_squared_error: 0.5848 - vocabulary_root_mean_squared_error: 0.5851 - phraseology_root_mean_squared_error: 0.5944 - grammar_root_mean_squared_error: 0.5838 - conventions_root_mean_squared_error: 0.5825 - val_loss: 0.4368 - val_cohesion_loss: 0.4423 - val_syntax_loss: 0.4394 - val_vocabulary_loss: 0.4321 - val_phraseology_loss: 0.4426 - val_grammar_loss: 0.4322 - val_conventions_loss: 0.4321 - val_cohesion_root_mean_squared_error: 0.6008 - val_syntax_root_mean_squared_error: 0.5994 - val_vocabulary_root_mean_squared_error: 0.5962 - val_phraseology_root_mean_squared_error: 0.5995 - val_grammar_root_mean_squared_error: 0.5953 - val_conventions_root_mean_squared_error: 0.5968\n"
     ]
    },
    {
     "data": {
      "text/plain": [
       "<keras.callbacks.History at 0x7fad0c4bae90>"
      ]
     },
     "execution_count": 19,
     "metadata": {},
     "output_type": "execute_result"
    }
   ],
   "source": [
    "from tensorflow.keras import callbacks\n",
    "\n",
    "es = callbacks.EarlyStopping(patience=5, restore_best_weights=True)\n",
    "model.fit(X_train_pad,\n",
    "          train_targets,\n",
    "          validation_split=0.2,\n",
    "          batch_size=56,\n",
    "          epochs=100,\n",
    "          verbose=1,\n",
    "          callbacks=[es])"
   ]
  },
  {
   "cell_type": "code",
   "execution_count": 22,
   "metadata": {},
   "outputs": [
    {
     "name": "stderr",
     "output_type": "stream",
     "text": [
      "2023-03-07 17:42:26.083021: W tensorflow/core/framework/cpu_allocator_impl.cc:82] Allocation of 591696000 exceeds 10% of free system memory.\n"
     ]
    },
    {
     "name": "stdout",
     "output_type": "stream",
     "text": [
      "37/37 [==============================] - 8s 209ms/step - loss: 0.4511 - cohesion_loss: 0.4555 - syntax_loss: 0.4491 - vocabulary_loss: 0.4522 - phraseology_loss: 0.4562 - grammar_loss: 0.4461 - conventions_loss: 0.4473 - cohesion_root_mean_squared_error: 0.6087 - syntax_root_mean_squared_error: 0.6058 - vocabulary_root_mean_squared_error: 0.6090 - phraseology_root_mean_squared_error: 0.6093 - grammar_root_mean_squared_error: 0.6054 - conventions_root_mean_squared_error: 0.6049\n"
     ]
    }
   ],
   "source": [
    "results=model.evaluate(X_val_pad, val_targets)"
   ]
  },
  {
   "cell_type": "code",
   "execution_count": 31,
   "metadata": {},
   "outputs": [
    {
     "data": {
      "text/plain": [
       "0.607193519671758"
      ]
     },
     "execution_count": 31,
     "metadata": {},
     "output_type": "execute_result"
    }
   ],
   "source": [
    "MCRMSE=np.mean(results[7:])\n",
    "MCRMSE"
   ]
  },
  {
   "attachments": {},
   "cell_type": "markdown",
   "metadata": {},
   "source": [
    "## Conclusion\n",
    "We computed a baseline of 0.653, the LSTM model has improved the score of 0.046(decrease by 6%)"
   ]
  }
 ],
 "metadata": {
  "kernelspec": {
   "display_name": "plt",
   "language": "python",
   "name": "python3"
  },
  "language_info": {
   "codemirror_mode": {
    "name": "ipython",
    "version": 3
   },
   "file_extension": ".py",
   "mimetype": "text/x-python",
   "name": "python",
   "nbconvert_exporter": "python",
   "pygments_lexer": "ipython3",
   "version": "3.10.6"
  },
  "orig_nbformat": 4
 },
 "nbformat": 4,
 "nbformat_minor": 2
}
