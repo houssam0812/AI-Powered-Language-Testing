{
 "cells": [
  {
   "cell_type": "markdown",
   "id": "e2fd0e80",
   "metadata": {},
   "source": [
    "# Imports"
   ]
  },
  {
   "cell_type": "code",
   "execution_count": 33,
   "id": "fdd3580f",
   "metadata": {
    "ExecuteTime": {
     "end_time": "2023-03-07T09:33:37.142658Z",
     "start_time": "2023-03-07T09:33:37.135696Z"
    }
   },
   "outputs": [],
   "source": [
    "import pandas as pd\n",
    "import numpy as np\n",
    "import os"
   ]
  },
  {
   "cell_type": "code",
   "execution_count": 3,
   "id": "8a817b68",
   "metadata": {
    "ExecuteTime": {
     "end_time": "2023-03-07T08:37:25.368556Z",
     "start_time": "2023-03-07T08:37:25.130578Z"
    }
   },
   "outputs": [
    {
     "name": "stdout",
     "output_type": "stream",
     "text": [
      "plt\r\n"
     ]
    }
   ],
   "source": [
    "#check local virtual env (expected 'plt')\n",
    "!pyenv local"
   ]
  },
  {
   "cell_type": "markdown",
   "id": "34a7faf1",
   "metadata": {},
   "source": [
    "# load datasets"
   ]
  },
  {
   "cell_type": "markdown",
   "id": "6df88dd0",
   "metadata": {},
   "source": [
    "## load dataset *Manually*"
   ]
  },
  {
   "cell_type": "code",
   "execution_count": 38,
   "id": "c7743c99",
   "metadata": {
    "ExecuteTime": {
     "end_time": "2023-03-07T09:58:30.234388Z",
     "start_time": "2023-03-07T09:58:30.102602Z"
    }
   },
   "outputs": [
    {
     "name": "stdout",
     "output_type": "stream",
     "text": [
      "/home/tsl/code/houssam0812/AI-Powered-Language-Testing/notebooks\r\n"
     ]
    }
   ],
   "source": [
    "!pwd"
   ]
  },
  {
   "cell_type": "code",
   "execution_count": 61,
   "id": "aed509f6",
   "metadata": {
    "ExecuteTime": {
     "end_time": "2023-03-07T10:18:26.524484Z",
     "start_time": "2023-03-07T10:18:26.518710Z"
    }
   },
   "outputs": [],
   "source": [
    "train_path=\"../raw_data/train.csv\"\n",
    "test_path=\"../raw_data/test.csv\""
   ]
  },
  {
   "cell_type": "code",
   "execution_count": 114,
   "id": "a0ebd8bd",
   "metadata": {
    "ExecuteTime": {
     "end_time": "2023-03-07T11:23:17.396943Z",
     "start_time": "2023-03-07T11:23:17.278304Z"
    }
   },
   "outputs": [],
   "source": [
    "train_df=pd.read_csv(train_path)\n",
    "test_df=pd.read_csv(test_path)"
   ]
  },
  {
   "cell_type": "code",
   "execution_count": 156,
   "id": "70981461",
   "metadata": {
    "ExecuteTime": {
     "end_time": "2023-03-07T12:53:13.893991Z",
     "start_time": "2023-03-07T12:53:13.861266Z"
    }
   },
   "outputs": [
    {
     "data": {
      "text/html": [
       "<div>\n",
       "<style scoped>\n",
       "    .dataframe tbody tr th:only-of-type {\n",
       "        vertical-align: middle;\n",
       "    }\n",
       "\n",
       "    .dataframe tbody tr th {\n",
       "        vertical-align: top;\n",
       "    }\n",
       "\n",
       "    .dataframe thead th {\n",
       "        text-align: right;\n",
       "    }\n",
       "</style>\n",
       "<table border=\"1\" class=\"dataframe\">\n",
       "  <thead>\n",
       "    <tr style=\"text-align: right;\">\n",
       "      <th></th>\n",
       "      <th>text_id</th>\n",
       "      <th>full_text</th>\n",
       "      <th>cohesion</th>\n",
       "      <th>syntax</th>\n",
       "      <th>vocabulary</th>\n",
       "      <th>phraseology</th>\n",
       "      <th>grammar</th>\n",
       "      <th>conventions</th>\n",
       "    </tr>\n",
       "  </thead>\n",
       "  <tbody>\n",
       "    <tr>\n",
       "      <th>0</th>\n",
       "      <td>0016926B079C</td>\n",
       "      <td>I think that students would benefit from learn...</td>\n",
       "      <td>3.5</td>\n",
       "      <td>3.5</td>\n",
       "      <td>3.0</td>\n",
       "      <td>3.0</td>\n",
       "      <td>4.0</td>\n",
       "      <td>3.0</td>\n",
       "    </tr>\n",
       "    <tr>\n",
       "      <th>1</th>\n",
       "      <td>0022683E9EA5</td>\n",
       "      <td>When a problem is a change you have to let it ...</td>\n",
       "      <td>2.5</td>\n",
       "      <td>2.5</td>\n",
       "      <td>3.0</td>\n",
       "      <td>2.0</td>\n",
       "      <td>2.0</td>\n",
       "      <td>2.5</td>\n",
       "    </tr>\n",
       "    <tr>\n",
       "      <th>2</th>\n",
       "      <td>00299B378633</td>\n",
       "      <td>Dear, Principal\\n\\nIf u change the school poli...</td>\n",
       "      <td>3.0</td>\n",
       "      <td>3.5</td>\n",
       "      <td>3.0</td>\n",
       "      <td>3.0</td>\n",
       "      <td>3.0</td>\n",
       "      <td>2.5</td>\n",
       "    </tr>\n",
       "    <tr>\n",
       "      <th>3</th>\n",
       "      <td>003885A45F42</td>\n",
       "      <td>The best time in life is when you become yours...</td>\n",
       "      <td>4.5</td>\n",
       "      <td>4.5</td>\n",
       "      <td>4.5</td>\n",
       "      <td>4.5</td>\n",
       "      <td>4.0</td>\n",
       "      <td>5.0</td>\n",
       "    </tr>\n",
       "    <tr>\n",
       "      <th>4</th>\n",
       "      <td>0049B1DF5CCC</td>\n",
       "      <td>Small act of kindness can impact in other peop...</td>\n",
       "      <td>2.5</td>\n",
       "      <td>3.0</td>\n",
       "      <td>3.0</td>\n",
       "      <td>3.0</td>\n",
       "      <td>2.5</td>\n",
       "      <td>2.5</td>\n",
       "    </tr>\n",
       "    <tr>\n",
       "      <th>...</th>\n",
       "      <td>...</td>\n",
       "      <td>...</td>\n",
       "      <td>...</td>\n",
       "      <td>...</td>\n",
       "      <td>...</td>\n",
       "      <td>...</td>\n",
       "      <td>...</td>\n",
       "      <td>...</td>\n",
       "    </tr>\n",
       "    <tr>\n",
       "      <th>3906</th>\n",
       "      <td>FFD29828A873</td>\n",
       "      <td>I believe using cellphones in class for educat...</td>\n",
       "      <td>2.5</td>\n",
       "      <td>3.0</td>\n",
       "      <td>3.0</td>\n",
       "      <td>3.5</td>\n",
       "      <td>2.5</td>\n",
       "      <td>2.5</td>\n",
       "    </tr>\n",
       "    <tr>\n",
       "      <th>3907</th>\n",
       "      <td>FFD9A83B0849</td>\n",
       "      <td>Working alone, students do not have to argue w...</td>\n",
       "      <td>4.0</td>\n",
       "      <td>4.0</td>\n",
       "      <td>4.0</td>\n",
       "      <td>4.0</td>\n",
       "      <td>3.5</td>\n",
       "      <td>3.0</td>\n",
       "    </tr>\n",
       "    <tr>\n",
       "      <th>3908</th>\n",
       "      <td>FFDC4011AC9C</td>\n",
       "      <td>\"A problem is a chance for you to do your best...</td>\n",
       "      <td>2.5</td>\n",
       "      <td>3.0</td>\n",
       "      <td>3.0</td>\n",
       "      <td>3.0</td>\n",
       "      <td>3.5</td>\n",
       "      <td>3.0</td>\n",
       "    </tr>\n",
       "    <tr>\n",
       "      <th>3909</th>\n",
       "      <td>FFE16D704B16</td>\n",
       "      <td>Many people disagree with Albert Schweitzer's ...</td>\n",
       "      <td>4.0</td>\n",
       "      <td>4.5</td>\n",
       "      <td>4.5</td>\n",
       "      <td>4.0</td>\n",
       "      <td>4.5</td>\n",
       "      <td>4.5</td>\n",
       "    </tr>\n",
       "    <tr>\n",
       "      <th>3910</th>\n",
       "      <td>FFED00D6E0BD</td>\n",
       "      <td>Do you think that failure is the main thing fo...</td>\n",
       "      <td>3.5</td>\n",
       "      <td>2.5</td>\n",
       "      <td>3.5</td>\n",
       "      <td>3.0</td>\n",
       "      <td>3.0</td>\n",
       "      <td>3.5</td>\n",
       "    </tr>\n",
       "  </tbody>\n",
       "</table>\n",
       "<p>3911 rows × 8 columns</p>\n",
       "</div>"
      ],
      "text/plain": [
       "           text_id                                          full_text  \\\n",
       "0     0016926B079C  I think that students would benefit from learn...   \n",
       "1     0022683E9EA5  When a problem is a change you have to let it ...   \n",
       "2     00299B378633  Dear, Principal\\n\\nIf u change the school poli...   \n",
       "3     003885A45F42  The best time in life is when you become yours...   \n",
       "4     0049B1DF5CCC  Small act of kindness can impact in other peop...   \n",
       "...            ...                                                ...   \n",
       "3906  FFD29828A873  I believe using cellphones in class for educat...   \n",
       "3907  FFD9A83B0849  Working alone, students do not have to argue w...   \n",
       "3908  FFDC4011AC9C  \"A problem is a chance for you to do your best...   \n",
       "3909  FFE16D704B16  Many people disagree with Albert Schweitzer's ...   \n",
       "3910  FFED00D6E0BD  Do you think that failure is the main thing fo...   \n",
       "\n",
       "      cohesion  syntax  vocabulary  phraseology  grammar  conventions  \n",
       "0          3.5     3.5         3.0          3.0      4.0          3.0  \n",
       "1          2.5     2.5         3.0          2.0      2.0          2.5  \n",
       "2          3.0     3.5         3.0          3.0      3.0          2.5  \n",
       "3          4.5     4.5         4.5          4.5      4.0          5.0  \n",
       "4          2.5     3.0         3.0          3.0      2.5          2.5  \n",
       "...        ...     ...         ...          ...      ...          ...  \n",
       "3906       2.5     3.0         3.0          3.5      2.5          2.5  \n",
       "3907       4.0     4.0         4.0          4.0      3.5          3.0  \n",
       "3908       2.5     3.0         3.0          3.0      3.5          3.0  \n",
       "3909       4.0     4.5         4.5          4.0      4.5          4.5  \n",
       "3910       3.5     2.5         3.5          3.0      3.0          3.5  \n",
       "\n",
       "[3911 rows x 8 columns]"
      ]
     },
     "execution_count": 156,
     "metadata": {},
     "output_type": "execute_result"
    }
   ],
   "source": [
    "train_df"
   ]
  },
  {
   "cell_type": "code",
   "execution_count": 157,
   "id": "2a261425",
   "metadata": {
    "ExecuteTime": {
     "end_time": "2023-03-07T12:53:17.729947Z",
     "start_time": "2023-03-07T12:53:17.711385Z"
    }
   },
   "outputs": [
    {
     "data": {
      "text/html": [
       "<div>\n",
       "<style scoped>\n",
       "    .dataframe tbody tr th:only-of-type {\n",
       "        vertical-align: middle;\n",
       "    }\n",
       "\n",
       "    .dataframe tbody tr th {\n",
       "        vertical-align: top;\n",
       "    }\n",
       "\n",
       "    .dataframe thead th {\n",
       "        text-align: right;\n",
       "    }\n",
       "</style>\n",
       "<table border=\"1\" class=\"dataframe\">\n",
       "  <thead>\n",
       "    <tr style=\"text-align: right;\">\n",
       "      <th></th>\n",
       "      <th>text_id</th>\n",
       "      <th>full_text</th>\n",
       "    </tr>\n",
       "  </thead>\n",
       "  <tbody>\n",
       "    <tr>\n",
       "      <th>0</th>\n",
       "      <td>0000C359D63E</td>\n",
       "      <td>when a person has no experience on a job their...</td>\n",
       "    </tr>\n",
       "    <tr>\n",
       "      <th>1</th>\n",
       "      <td>000BAD50D026</td>\n",
       "      <td>Do you think students would benefit from being...</td>\n",
       "    </tr>\n",
       "    <tr>\n",
       "      <th>2</th>\n",
       "      <td>00367BB2546B</td>\n",
       "      <td>Thomas Jefferson once states that \"it is wonde...</td>\n",
       "    </tr>\n",
       "  </tbody>\n",
       "</table>\n",
       "</div>"
      ],
      "text/plain": [
       "        text_id                                          full_text\n",
       "0  0000C359D63E  when a person has no experience on a job their...\n",
       "1  000BAD50D026  Do you think students would benefit from being...\n",
       "2  00367BB2546B  Thomas Jefferson once states that \"it is wonde..."
      ]
     },
     "execution_count": 157,
     "metadata": {},
     "output_type": "execute_result"
    }
   ],
   "source": [
    "test_df"
   ]
  },
  {
   "cell_type": "code",
   "execution_count": 159,
   "id": "d897e590",
   "metadata": {
    "ExecuteTime": {
     "end_time": "2023-03-07T12:54:20.015195Z",
     "start_time": "2023-03-07T12:54:19.926524Z"
    }
   },
   "outputs": [
    {
     "data": {
      "text/html": [
       "<div>\n",
       "<style scoped>\n",
       "    .dataframe tbody tr th:only-of-type {\n",
       "        vertical-align: middle;\n",
       "    }\n",
       "\n",
       "    .dataframe tbody tr th {\n",
       "        vertical-align: top;\n",
       "    }\n",
       "\n",
       "    .dataframe thead th {\n",
       "        text-align: right;\n",
       "    }\n",
       "</style>\n",
       "<table border=\"1\" class=\"dataframe\">\n",
       "  <thead>\n",
       "    <tr style=\"text-align: right;\">\n",
       "      <th></th>\n",
       "      <th>text_id</th>\n",
       "      <th>full_text</th>\n",
       "    </tr>\n",
       "  </thead>\n",
       "  <tbody>\n",
       "    <tr>\n",
       "      <th>0</th>\n",
       "      <td>0016926B079C</td>\n",
       "      <td>I think that students would benefit from learn...</td>\n",
       "    </tr>\n",
       "    <tr>\n",
       "      <th>1</th>\n",
       "      <td>0022683E9EA5</td>\n",
       "      <td>When a problem is a change you have to let it ...</td>\n",
       "    </tr>\n",
       "    <tr>\n",
       "      <th>2</th>\n",
       "      <td>00299B378633</td>\n",
       "      <td>Dear, Principal\\n\\nIf u change the school poli...</td>\n",
       "    </tr>\n",
       "    <tr>\n",
       "      <th>3</th>\n",
       "      <td>003885A45F42</td>\n",
       "      <td>The best time in life is when you become yours...</td>\n",
       "    </tr>\n",
       "    <tr>\n",
       "      <th>4</th>\n",
       "      <td>0049B1DF5CCC</td>\n",
       "      <td>Small act of kindness can impact in other peop...</td>\n",
       "    </tr>\n",
       "    <tr>\n",
       "      <th>...</th>\n",
       "      <td>...</td>\n",
       "      <td>...</td>\n",
       "    </tr>\n",
       "    <tr>\n",
       "      <th>3906</th>\n",
       "      <td>FFD29828A873</td>\n",
       "      <td>I believe using cellphones in class for educat...</td>\n",
       "    </tr>\n",
       "    <tr>\n",
       "      <th>3907</th>\n",
       "      <td>FFD9A83B0849</td>\n",
       "      <td>Working alone, students do not have to argue w...</td>\n",
       "    </tr>\n",
       "    <tr>\n",
       "      <th>3908</th>\n",
       "      <td>FFDC4011AC9C</td>\n",
       "      <td>\"A problem is a chance for you to do your best...</td>\n",
       "    </tr>\n",
       "    <tr>\n",
       "      <th>3909</th>\n",
       "      <td>FFE16D704B16</td>\n",
       "      <td>Many people disagree with Albert Schweitzer's ...</td>\n",
       "    </tr>\n",
       "    <tr>\n",
       "      <th>3910</th>\n",
       "      <td>FFED00D6E0BD</td>\n",
       "      <td>Do you think that failure is the main thing fo...</td>\n",
       "    </tr>\n",
       "  </tbody>\n",
       "</table>\n",
       "<p>3911 rows × 2 columns</p>\n",
       "</div>"
      ],
      "text/plain": [
       "           text_id                                          full_text\n",
       "0     0016926B079C  I think that students would benefit from learn...\n",
       "1     0022683E9EA5  When a problem is a change you have to let it ...\n",
       "2     00299B378633  Dear, Principal\\n\\nIf u change the school poli...\n",
       "3     003885A45F42  The best time in life is when you become yours...\n",
       "4     0049B1DF5CCC  Small act of kindness can impact in other peop...\n",
       "...            ...                                                ...\n",
       "3906  FFD29828A873  I believe using cellphones in class for educat...\n",
       "3907  FFD9A83B0849  Working alone, students do not have to argue w...\n",
       "3908  FFDC4011AC9C  \"A problem is a chance for you to do your best...\n",
       "3909  FFE16D704B16  Many people disagree with Albert Schweitzer's ...\n",
       "3910  FFED00D6E0BD  Do you think that failure is the main thing fo...\n",
       "\n",
       "[3911 rows x 2 columns]"
      ]
     },
     "execution_count": 159,
     "metadata": {},
     "output_type": "execute_result"
    }
   ],
   "source": [
    "X_train_raw=train_df[['text_id','full_text']]\n",
    "X_train_raw"
   ]
  },
  {
   "cell_type": "code",
   "execution_count": 160,
   "id": "9063fb5e",
   "metadata": {
    "ExecuteTime": {
     "end_time": "2023-03-07T12:54:27.327234Z",
     "start_time": "2023-03-07T12:54:27.315287Z"
    }
   },
   "outputs": [
    {
     "data": {
      "text/html": [
       "<div>\n",
       "<style scoped>\n",
       "    .dataframe tbody tr th:only-of-type {\n",
       "        vertical-align: middle;\n",
       "    }\n",
       "\n",
       "    .dataframe tbody tr th {\n",
       "        vertical-align: top;\n",
       "    }\n",
       "\n",
       "    .dataframe thead th {\n",
       "        text-align: right;\n",
       "    }\n",
       "</style>\n",
       "<table border=\"1\" class=\"dataframe\">\n",
       "  <thead>\n",
       "    <tr style=\"text-align: right;\">\n",
       "      <th></th>\n",
       "      <th>text_id</th>\n",
       "      <th>full_text</th>\n",
       "    </tr>\n",
       "  </thead>\n",
       "  <tbody>\n",
       "    <tr>\n",
       "      <th>0</th>\n",
       "      <td>0016926B079C</td>\n",
       "      <td>I think that students would benefit from learn...</td>\n",
       "    </tr>\n",
       "    <tr>\n",
       "      <th>1</th>\n",
       "      <td>0022683E9EA5</td>\n",
       "      <td>When a problem is a change you have to let it ...</td>\n",
       "    </tr>\n",
       "    <tr>\n",
       "      <th>2</th>\n",
       "      <td>00299B378633</td>\n",
       "      <td>Dear, Principal\\n\\nIf u change the school poli...</td>\n",
       "    </tr>\n",
       "    <tr>\n",
       "      <th>3</th>\n",
       "      <td>003885A45F42</td>\n",
       "      <td>The best time in life is when you become yours...</td>\n",
       "    </tr>\n",
       "    <tr>\n",
       "      <th>4</th>\n",
       "      <td>0049B1DF5CCC</td>\n",
       "      <td>Small act of kindness can impact in other peop...</td>\n",
       "    </tr>\n",
       "    <tr>\n",
       "      <th>...</th>\n",
       "      <td>...</td>\n",
       "      <td>...</td>\n",
       "    </tr>\n",
       "    <tr>\n",
       "      <th>3906</th>\n",
       "      <td>FFD29828A873</td>\n",
       "      <td>I believe using cellphones in class for educat...</td>\n",
       "    </tr>\n",
       "    <tr>\n",
       "      <th>3907</th>\n",
       "      <td>FFD9A83B0849</td>\n",
       "      <td>Working alone, students do not have to argue w...</td>\n",
       "    </tr>\n",
       "    <tr>\n",
       "      <th>3908</th>\n",
       "      <td>FFDC4011AC9C</td>\n",
       "      <td>\"A problem is a chance for you to do your best...</td>\n",
       "    </tr>\n",
       "    <tr>\n",
       "      <th>3909</th>\n",
       "      <td>FFE16D704B16</td>\n",
       "      <td>Many people disagree with Albert Schweitzer's ...</td>\n",
       "    </tr>\n",
       "    <tr>\n",
       "      <th>3910</th>\n",
       "      <td>FFED00D6E0BD</td>\n",
       "      <td>Do you think that failure is the main thing fo...</td>\n",
       "    </tr>\n",
       "  </tbody>\n",
       "</table>\n",
       "<p>3911 rows × 2 columns</p>\n",
       "</div>"
      ],
      "text/plain": [
       "           text_id                                          full_text\n",
       "0     0016926B079C  I think that students would benefit from learn...\n",
       "1     0022683E9EA5  When a problem is a change you have to let it ...\n",
       "2     00299B378633  Dear, Principal\\n\\nIf u change the school poli...\n",
       "3     003885A45F42  The best time in life is when you become yours...\n",
       "4     0049B1DF5CCC  Small act of kindness can impact in other peop...\n",
       "...            ...                                                ...\n",
       "3906  FFD29828A873  I believe using cellphones in class for educat...\n",
       "3907  FFD9A83B0849  Working alone, students do not have to argue w...\n",
       "3908  FFDC4011AC9C  \"A problem is a chance for you to do your best...\n",
       "3909  FFE16D704B16  Many people disagree with Albert Schweitzer's ...\n",
       "3910  FFED00D6E0BD  Do you think that failure is the main thing fo...\n",
       "\n",
       "[3911 rows x 2 columns]"
      ]
     },
     "execution_count": 160,
     "metadata": {},
     "output_type": "execute_result"
    }
   ],
   "source": [
    "X_train_raw=train_df[['text_id','full_text']]\n",
    "X_train_raw"
   ]
  },
  {
   "cell_type": "code",
   "execution_count": 161,
   "id": "d261d9af",
   "metadata": {
    "ExecuteTime": {
     "end_time": "2023-03-07T12:54:31.242005Z",
     "start_time": "2023-03-07T12:54:31.229322Z"
    }
   },
   "outputs": [
    {
     "data": {
      "text/plain": [
       "'Do you accomplish more when you always keep yourself busy? In this essay i will argue that keeping yourself busy serves a purpose. You get more things done, you will not be considered lazy and you get to learn new things.\\n\\nWhen you are always doing something you get more things done and out of the way. You will not be behind on anything. This is a good habit to have because it can affect you in the long run. For example, when you get older and have to pay taxes or bills. You will be caught up and on time which is really good for your credit score.\\n\\nYou will not be considered lazy. Many people in your life will notice how you like to get things done. This habit will definitely get you a job. No employer is looking for someone lazy and does not like to do things. Keeping yourself busy can be therapeutic. Many people do this to relive stress or think about things instead of being useless.\\n\\nYou will learn new things. Take advantage of the things you do because it can lead you to new opportunities. You can experience different things which is phenomenal. It is always fun keeping yourself busy because you feel great after the things you have accomplished. The more things you learn the more things you can try to keep yourself busy.\\n\\nSome people say inactivity serves a purpose, but they are wrong because when you are always doing something it keeps you motivated, experienced and makes a good habit to have. In the future I hope we have less useless people and more people who like to get things done.  '"
      ]
     },
     "execution_count": 161,
     "metadata": {},
     "output_type": "execute_result"
    }
   ],
   "source": [
    "X_train_raw.full_text[3500]"
   ]
  },
  {
   "cell_type": "code",
   "execution_count": 162,
   "id": "cae983cb",
   "metadata": {
    "ExecuteTime": {
     "end_time": "2023-03-07T12:54:35.049829Z",
     "start_time": "2023-03-07T12:54:35.010664Z"
    },
    "scrolled": true
   },
   "outputs": [
    {
     "data": {
      "text/html": [
       "<div>\n",
       "<style scoped>\n",
       "    .dataframe tbody tr th:only-of-type {\n",
       "        vertical-align: middle;\n",
       "    }\n",
       "\n",
       "    .dataframe tbody tr th {\n",
       "        vertical-align: top;\n",
       "    }\n",
       "\n",
       "    .dataframe thead th {\n",
       "        text-align: right;\n",
       "    }\n",
       "</style>\n",
       "<table border=\"1\" class=\"dataframe\">\n",
       "  <thead>\n",
       "    <tr style=\"text-align: right;\">\n",
       "      <th></th>\n",
       "      <th>cohesion</th>\n",
       "      <th>syntax</th>\n",
       "      <th>vocabulary</th>\n",
       "      <th>phraseology</th>\n",
       "      <th>grammar</th>\n",
       "      <th>conventions</th>\n",
       "    </tr>\n",
       "  </thead>\n",
       "  <tbody>\n",
       "    <tr>\n",
       "      <th>0</th>\n",
       "      <td>3.5</td>\n",
       "      <td>3.5</td>\n",
       "      <td>3.0</td>\n",
       "      <td>3.0</td>\n",
       "      <td>4.0</td>\n",
       "      <td>3.0</td>\n",
       "    </tr>\n",
       "    <tr>\n",
       "      <th>1</th>\n",
       "      <td>2.5</td>\n",
       "      <td>2.5</td>\n",
       "      <td>3.0</td>\n",
       "      <td>2.0</td>\n",
       "      <td>2.0</td>\n",
       "      <td>2.5</td>\n",
       "    </tr>\n",
       "    <tr>\n",
       "      <th>2</th>\n",
       "      <td>3.0</td>\n",
       "      <td>3.5</td>\n",
       "      <td>3.0</td>\n",
       "      <td>3.0</td>\n",
       "      <td>3.0</td>\n",
       "      <td>2.5</td>\n",
       "    </tr>\n",
       "    <tr>\n",
       "      <th>3</th>\n",
       "      <td>4.5</td>\n",
       "      <td>4.5</td>\n",
       "      <td>4.5</td>\n",
       "      <td>4.5</td>\n",
       "      <td>4.0</td>\n",
       "      <td>5.0</td>\n",
       "    </tr>\n",
       "    <tr>\n",
       "      <th>4</th>\n",
       "      <td>2.5</td>\n",
       "      <td>3.0</td>\n",
       "      <td>3.0</td>\n",
       "      <td>3.0</td>\n",
       "      <td>2.5</td>\n",
       "      <td>2.5</td>\n",
       "    </tr>\n",
       "    <tr>\n",
       "      <th>...</th>\n",
       "      <td>...</td>\n",
       "      <td>...</td>\n",
       "      <td>...</td>\n",
       "      <td>...</td>\n",
       "      <td>...</td>\n",
       "      <td>...</td>\n",
       "    </tr>\n",
       "    <tr>\n",
       "      <th>3906</th>\n",
       "      <td>2.5</td>\n",
       "      <td>3.0</td>\n",
       "      <td>3.0</td>\n",
       "      <td>3.5</td>\n",
       "      <td>2.5</td>\n",
       "      <td>2.5</td>\n",
       "    </tr>\n",
       "    <tr>\n",
       "      <th>3907</th>\n",
       "      <td>4.0</td>\n",
       "      <td>4.0</td>\n",
       "      <td>4.0</td>\n",
       "      <td>4.0</td>\n",
       "      <td>3.5</td>\n",
       "      <td>3.0</td>\n",
       "    </tr>\n",
       "    <tr>\n",
       "      <th>3908</th>\n",
       "      <td>2.5</td>\n",
       "      <td>3.0</td>\n",
       "      <td>3.0</td>\n",
       "      <td>3.0</td>\n",
       "      <td>3.5</td>\n",
       "      <td>3.0</td>\n",
       "    </tr>\n",
       "    <tr>\n",
       "      <th>3909</th>\n",
       "      <td>4.0</td>\n",
       "      <td>4.5</td>\n",
       "      <td>4.5</td>\n",
       "      <td>4.0</td>\n",
       "      <td>4.5</td>\n",
       "      <td>4.5</td>\n",
       "    </tr>\n",
       "    <tr>\n",
       "      <th>3910</th>\n",
       "      <td>3.5</td>\n",
       "      <td>2.5</td>\n",
       "      <td>3.5</td>\n",
       "      <td>3.0</td>\n",
       "      <td>3.0</td>\n",
       "      <td>3.5</td>\n",
       "    </tr>\n",
       "  </tbody>\n",
       "</table>\n",
       "<p>3911 rows × 6 columns</p>\n",
       "</div>"
      ],
      "text/plain": [
       "      cohesion  syntax  vocabulary  phraseology  grammar  conventions\n",
       "0          3.5     3.5         3.0          3.0      4.0          3.0\n",
       "1          2.5     2.5         3.0          2.0      2.0          2.5\n",
       "2          3.0     3.5         3.0          3.0      3.0          2.5\n",
       "3          4.5     4.5         4.5          4.5      4.0          5.0\n",
       "4          2.5     3.0         3.0          3.0      2.5          2.5\n",
       "...        ...     ...         ...          ...      ...          ...\n",
       "3906       2.5     3.0         3.0          3.5      2.5          2.5\n",
       "3907       4.0     4.0         4.0          4.0      3.5          3.0\n",
       "3908       2.5     3.0         3.0          3.0      3.5          3.0\n",
       "3909       4.0     4.5         4.5          4.0      4.5          4.5\n",
       "3910       3.5     2.5         3.5          3.0      3.0          3.5\n",
       "\n",
       "[3911 rows x 6 columns]"
      ]
     },
     "execution_count": 162,
     "metadata": {},
     "output_type": "execute_result"
    }
   ],
   "source": [
    "y_train=train_df[['cohesion', 'syntax', 'vocabulary', 'phraseology', 'grammar', 'conventions']]\n",
    "y_train"
   ]
  },
  {
   "cell_type": "code",
   "execution_count": 163,
   "id": "61b38f8d",
   "metadata": {
    "ExecuteTime": {
     "end_time": "2023-03-07T12:54:45.597013Z",
     "start_time": "2023-03-07T12:54:45.590360Z"
    }
   },
   "outputs": [],
   "source": [
    "size=10\n",
    "y_index=2"
   ]
  },
  {
   "cell_type": "code",
   "execution_count": 164,
   "id": "3e94a57a",
   "metadata": {
    "ExecuteTime": {
     "end_time": "2023-03-07T12:54:47.697734Z",
     "start_time": "2023-03-07T12:54:47.684426Z"
    },
    "scrolled": true
   },
   "outputs": [
    {
     "data": {
      "text/html": [
       "<div>\n",
       "<style scoped>\n",
       "    .dataframe tbody tr th:only-of-type {\n",
       "        vertical-align: middle;\n",
       "    }\n",
       "\n",
       "    .dataframe tbody tr th {\n",
       "        vertical-align: top;\n",
       "    }\n",
       "\n",
       "    .dataframe thead th {\n",
       "        text-align: right;\n",
       "    }\n",
       "</style>\n",
       "<table border=\"1\" class=\"dataframe\">\n",
       "  <thead>\n",
       "    <tr style=\"text-align: right;\">\n",
       "      <th></th>\n",
       "      <th>text_id</th>\n",
       "      <th>full_text</th>\n",
       "    </tr>\n",
       "  </thead>\n",
       "  <tbody>\n",
       "    <tr>\n",
       "      <th>0</th>\n",
       "      <td>0016926B079C</td>\n",
       "      <td>I think that students would benefit from learn...</td>\n",
       "    </tr>\n",
       "    <tr>\n",
       "      <th>1</th>\n",
       "      <td>0022683E9EA5</td>\n",
       "      <td>When a problem is a change you have to let it ...</td>\n",
       "    </tr>\n",
       "    <tr>\n",
       "      <th>2</th>\n",
       "      <td>00299B378633</td>\n",
       "      <td>Dear, Principal\\n\\nIf u change the school poli...</td>\n",
       "    </tr>\n",
       "    <tr>\n",
       "      <th>3</th>\n",
       "      <td>003885A45F42</td>\n",
       "      <td>The best time in life is when you become yours...</td>\n",
       "    </tr>\n",
       "    <tr>\n",
       "      <th>4</th>\n",
       "      <td>0049B1DF5CCC</td>\n",
       "      <td>Small act of kindness can impact in other peop...</td>\n",
       "    </tr>\n",
       "    <tr>\n",
       "      <th>5</th>\n",
       "      <td>004AC288D833</td>\n",
       "      <td>Dear Principal,\\r\\n\\r\\nOur school should have ...</td>\n",
       "    </tr>\n",
       "    <tr>\n",
       "      <th>6</th>\n",
       "      <td>005661280443</td>\n",
       "      <td>Imagine if you could prove other people that y...</td>\n",
       "    </tr>\n",
       "    <tr>\n",
       "      <th>7</th>\n",
       "      <td>008DDDDD8E8D</td>\n",
       "      <td>I think it's a good idea for the estudnets to ...</td>\n",
       "    </tr>\n",
       "    <tr>\n",
       "      <th>8</th>\n",
       "      <td>009BCCC61C2A</td>\n",
       "      <td>positive attitude is the key to success. I agr...</td>\n",
       "    </tr>\n",
       "    <tr>\n",
       "      <th>9</th>\n",
       "      <td>009F4E9310CB</td>\n",
       "      <td>Asking more than one person for and advice hel...</td>\n",
       "    </tr>\n",
       "  </tbody>\n",
       "</table>\n",
       "</div>"
      ],
      "text/plain": [
       "        text_id                                          full_text\n",
       "0  0016926B079C  I think that students would benefit from learn...\n",
       "1  0022683E9EA5  When a problem is a change you have to let it ...\n",
       "2  00299B378633  Dear, Principal\\n\\nIf u change the school poli...\n",
       "3  003885A45F42  The best time in life is when you become yours...\n",
       "4  0049B1DF5CCC  Small act of kindness can impact in other peop...\n",
       "5  004AC288D833  Dear Principal,\\r\\n\\r\\nOur school should have ...\n",
       "6  005661280443  Imagine if you could prove other people that y...\n",
       "7  008DDDDD8E8D  I think it's a good idea for the estudnets to ...\n",
       "8  009BCCC61C2A  positive attitude is the key to success. I agr...\n",
       "9  009F4E9310CB  Asking more than one person for and advice hel..."
      ]
     },
     "execution_count": 164,
     "metadata": {},
     "output_type": "execute_result"
    }
   ],
   "source": [
    "X_train_raw=train_df[['text_id','full_text']].iloc[0:size,:]\n",
    "X_train_raw"
   ]
  },
  {
   "cell_type": "code",
   "execution_count": 165,
   "id": "6dff892a",
   "metadata": {
    "ExecuteTime": {
     "end_time": "2023-03-07T12:55:00.763750Z",
     "start_time": "2023-03-07T12:55:00.732324Z"
    }
   },
   "outputs": [
    {
     "data": {
      "text/html": [
       "<div>\n",
       "<style scoped>\n",
       "    .dataframe tbody tr th:only-of-type {\n",
       "        vertical-align: middle;\n",
       "    }\n",
       "\n",
       "    .dataframe tbody tr th {\n",
       "        vertical-align: top;\n",
       "    }\n",
       "\n",
       "    .dataframe thead th {\n",
       "        text-align: right;\n",
       "    }\n",
       "</style>\n",
       "<table border=\"1\" class=\"dataframe\">\n",
       "  <thead>\n",
       "    <tr style=\"text-align: right;\">\n",
       "      <th></th>\n",
       "      <th>cohesion</th>\n",
       "      <th>syntax</th>\n",
       "      <th>vocabulary</th>\n",
       "      <th>phraseology</th>\n",
       "      <th>grammar</th>\n",
       "      <th>conventions</th>\n",
       "    </tr>\n",
       "  </thead>\n",
       "  <tbody>\n",
       "    <tr>\n",
       "      <th>0</th>\n",
       "      <td>3.5</td>\n",
       "      <td>3.5</td>\n",
       "      <td>3.0</td>\n",
       "      <td>3.0</td>\n",
       "      <td>4.0</td>\n",
       "      <td>3.0</td>\n",
       "    </tr>\n",
       "    <tr>\n",
       "      <th>1</th>\n",
       "      <td>2.5</td>\n",
       "      <td>2.5</td>\n",
       "      <td>3.0</td>\n",
       "      <td>2.0</td>\n",
       "      <td>2.0</td>\n",
       "      <td>2.5</td>\n",
       "    </tr>\n",
       "    <tr>\n",
       "      <th>2</th>\n",
       "      <td>3.0</td>\n",
       "      <td>3.5</td>\n",
       "      <td>3.0</td>\n",
       "      <td>3.0</td>\n",
       "      <td>3.0</td>\n",
       "      <td>2.5</td>\n",
       "    </tr>\n",
       "    <tr>\n",
       "      <th>3</th>\n",
       "      <td>4.5</td>\n",
       "      <td>4.5</td>\n",
       "      <td>4.5</td>\n",
       "      <td>4.5</td>\n",
       "      <td>4.0</td>\n",
       "      <td>5.0</td>\n",
       "    </tr>\n",
       "    <tr>\n",
       "      <th>4</th>\n",
       "      <td>2.5</td>\n",
       "      <td>3.0</td>\n",
       "      <td>3.0</td>\n",
       "      <td>3.0</td>\n",
       "      <td>2.5</td>\n",
       "      <td>2.5</td>\n",
       "    </tr>\n",
       "    <tr>\n",
       "      <th>5</th>\n",
       "      <td>3.5</td>\n",
       "      <td>4.0</td>\n",
       "      <td>4.0</td>\n",
       "      <td>3.5</td>\n",
       "      <td>3.5</td>\n",
       "      <td>4.0</td>\n",
       "    </tr>\n",
       "    <tr>\n",
       "      <th>6</th>\n",
       "      <td>3.5</td>\n",
       "      <td>4.0</td>\n",
       "      <td>3.5</td>\n",
       "      <td>3.5</td>\n",
       "      <td>4.0</td>\n",
       "      <td>4.0</td>\n",
       "    </tr>\n",
       "    <tr>\n",
       "      <th>7</th>\n",
       "      <td>2.5</td>\n",
       "      <td>2.5</td>\n",
       "      <td>2.5</td>\n",
       "      <td>2.5</td>\n",
       "      <td>2.5</td>\n",
       "      <td>2.0</td>\n",
       "    </tr>\n",
       "    <tr>\n",
       "      <th>8</th>\n",
       "      <td>3.0</td>\n",
       "      <td>3.0</td>\n",
       "      <td>3.5</td>\n",
       "      <td>3.5</td>\n",
       "      <td>3.0</td>\n",
       "      <td>3.0</td>\n",
       "    </tr>\n",
       "    <tr>\n",
       "      <th>9</th>\n",
       "      <td>3.0</td>\n",
       "      <td>3.0</td>\n",
       "      <td>3.5</td>\n",
       "      <td>2.5</td>\n",
       "      <td>3.0</td>\n",
       "      <td>2.5</td>\n",
       "    </tr>\n",
       "  </tbody>\n",
       "</table>\n",
       "</div>"
      ],
      "text/plain": [
       "   cohesion  syntax  vocabulary  phraseology  grammar  conventions\n",
       "0       3.5     3.5         3.0          3.0      4.0          3.0\n",
       "1       2.5     2.5         3.0          2.0      2.0          2.5\n",
       "2       3.0     3.5         3.0          3.0      3.0          2.5\n",
       "3       4.5     4.5         4.5          4.5      4.0          5.0\n",
       "4       2.5     3.0         3.0          3.0      2.5          2.5\n",
       "5       3.5     4.0         4.0          3.5      3.5          4.0\n",
       "6       3.5     4.0         3.5          3.5      4.0          4.0\n",
       "7       2.5     2.5         2.5          2.5      2.5          2.0\n",
       "8       3.0     3.0         3.5          3.5      3.0          3.0\n",
       "9       3.0     3.0         3.5          2.5      3.0          2.5"
      ]
     },
     "execution_count": 165,
     "metadata": {},
     "output_type": "execute_result"
    }
   ],
   "source": [
    "y_train=train_df[['cohesion', 'syntax', 'vocabulary', 'phraseology', 'grammar', 'conventions']].iloc[0:size,:]\n",
    "y_train"
   ]
  },
  {
   "cell_type": "code",
   "execution_count": 166,
   "id": "5e1efb38",
   "metadata": {
    "ExecuteTime": {
     "end_time": "2023-03-07T12:55:03.415491Z",
     "start_time": "2023-03-07T12:55:03.405573Z"
    }
   },
   "outputs": [
    {
     "data": {
      "text/html": [
       "<div>\n",
       "<style scoped>\n",
       "    .dataframe tbody tr th:only-of-type {\n",
       "        vertical-align: middle;\n",
       "    }\n",
       "\n",
       "    .dataframe tbody tr th {\n",
       "        vertical-align: top;\n",
       "    }\n",
       "\n",
       "    .dataframe thead th {\n",
       "        text-align: right;\n",
       "    }\n",
       "</style>\n",
       "<table border=\"1\" class=\"dataframe\">\n",
       "  <thead>\n",
       "    <tr style=\"text-align: right;\">\n",
       "      <th></th>\n",
       "      <th>vocabulary</th>\n",
       "    </tr>\n",
       "  </thead>\n",
       "  <tbody>\n",
       "    <tr>\n",
       "      <th>0</th>\n",
       "      <td>3.0</td>\n",
       "    </tr>\n",
       "    <tr>\n",
       "      <th>1</th>\n",
       "      <td>3.0</td>\n",
       "    </tr>\n",
       "    <tr>\n",
       "      <th>2</th>\n",
       "      <td>3.0</td>\n",
       "    </tr>\n",
       "    <tr>\n",
       "      <th>3</th>\n",
       "      <td>4.5</td>\n",
       "    </tr>\n",
       "    <tr>\n",
       "      <th>4</th>\n",
       "      <td>3.0</td>\n",
       "    </tr>\n",
       "    <tr>\n",
       "      <th>5</th>\n",
       "      <td>4.0</td>\n",
       "    </tr>\n",
       "    <tr>\n",
       "      <th>6</th>\n",
       "      <td>3.5</td>\n",
       "    </tr>\n",
       "    <tr>\n",
       "      <th>7</th>\n",
       "      <td>2.5</td>\n",
       "    </tr>\n",
       "    <tr>\n",
       "      <th>8</th>\n",
       "      <td>3.5</td>\n",
       "    </tr>\n",
       "    <tr>\n",
       "      <th>9</th>\n",
       "      <td>3.5</td>\n",
       "    </tr>\n",
       "  </tbody>\n",
       "</table>\n",
       "</div>"
      ],
      "text/plain": [
       "   vocabulary\n",
       "0         3.0\n",
       "1         3.0\n",
       "2         3.0\n",
       "3         4.5\n",
       "4         3.0\n",
       "5         4.0\n",
       "6         3.5\n",
       "7         2.5\n",
       "8         3.5\n",
       "9         3.5"
      ]
     },
     "execution_count": 166,
     "metadata": {},
     "output_type": "execute_result"
    }
   ],
   "source": [
    "y_train.iloc[:,[y_index]]"
   ]
  },
  {
   "cell_type": "markdown",
   "id": "559aacb1",
   "metadata": {},
   "source": [
    "## factorize / functionize"
   ]
  },
  {
   "cell_type": "code",
   "execution_count": 90,
   "id": "f5624f19",
   "metadata": {
    "ExecuteTime": {
     "end_time": "2023-03-07T10:41:26.473034Z",
     "start_time": "2023-03-07T10:41:26.466396Z"
    }
   },
   "outputs": [],
   "source": [
    "def load_data(file_path: str, size:int =-1, y_index:int=-1) -> (pd.DataFrame, pd.DataFrame) :\n",
    "    \"\"\"\n",
    "    'file_path' = the path to the required file (typically 'train.csv' or 'test.csv' under a 'raw_data' folder)\n",
    "    NB: it can be an absolute or a relative path !\n",
    "    if 'size'=-1 the entire data is returned, else only the 1st 'size' rows (might also suffle if this is better) are returned\n",
    "    'y_index' expected values = [-1,0,1,2,3,4,5] indicated which evaluation(s) will be returned\n",
    "    outputs= (X_raw,y):\n",
    "        X_raw= 2-column DataFrame ['text_id','full_text']  \n",
    "        y= a 6-column DataFrame (or a 1-column DataFrame if y_index is used)\n",
    "        nb of rows in X_raw and y is controlled by the 'size' kwarg\n",
    "    \"\"\"\n",
    "    df=pd.read_csv(file_path)\n",
    "    X_raw=df[['text_id','full_text']].iloc[0:size,:]\n",
    "    y=df[['cohesion', 'syntax', 'vocabulary', 'phraseology', 'grammar', 'conventions']].iloc[0:size,:]\n",
    "    if y_index >0 and y_index < len(y.columns):\n",
    "        y=y.iloc[:,[y_index]]         \n",
    "    \n",
    "    return X_raw,y"
   ]
  },
  {
   "cell_type": "code",
   "execution_count": 154,
   "id": "5c599a36",
   "metadata": {
    "ExecuteTime": {
     "end_time": "2023-03-07T12:51:22.706134Z",
     "start_time": "2023-03-07T12:51:22.687177Z"
    }
   },
   "outputs": [],
   "source": [
    "def load_train_val_data(file_path:str, y_index:int=-1, split_ratio:float=0.3,reshuffle:bool=True) -> (pd.DataFrame, pd.DataFrame) :\n",
    "    \"\"\"\n",
    "    'file_path' = the path to the required file (typically 'train.csv' or 'test.csv' under a 'raw_data' folder)\n",
    "    NB: it can be an absolute or a relative path !\n",
    "    'y_index' expected values = [-1,0,1,2,3,4,5] indicated which evaluation(s) will be returned\n",
    "    'split_ratio'is expected to be >0 and <1 ([0.01-0.99])\n",
    "    data is reshuffled when 'reshuffle'= True!\n",
    "    outputs= (X_train_raw,y_train,X_val_raw,y_val):\n",
    "        X_train_raw, X_test_raw= 2x 2-column DataFrames ['text_id','full_text']  \n",
    "        y_train, y_test= 2x 6-column DataFrames (or  1-column DataFrames if y_index is used)\n",
    "        nb of rows in (X_train_raw,y_train,X_val_raw,y_val) is controlled by the 'split_ratio' kwarg\n",
    "    \"\"\"\n",
    "    df=pd.read_csv(file_path)\n",
    "    if reshuffle:\n",
    "        df=df.sample(frac=1)\n",
    "    len_train=int(df.shape[0]*(1-split_ratio))\n",
    "    X_train_raw=df[['text_id','full_text']].iloc[:len_train,:]\n",
    "    y_train=df[['cohesion', 'syntax', 'vocabulary', 'phraseology', 'grammar', 'conventions']].iloc[:len_train,:]\n",
    "    X_val_raw=df[['text_id','full_text']].iloc[len_train:,:]\n",
    "    y_val=df[['cohesion', 'syntax', 'vocabulary', 'phraseology', 'grammar', 'conventions']].iloc[len_train:,:]    \n",
    "    if y_index >0 and y_index < len(y.columns):\n",
    "        y_train=y_train.iloc[:,[y_index]]         \n",
    "        y_val=y_val.iloc[:,[y_index]]         \n",
    "    return X_train_raw,X_val_raw,y_train,y_val"
   ]
  },
  {
   "cell_type": "code",
   "execution_count": 168,
   "id": "f8a12b1f",
   "metadata": {
    "ExecuteTime": {
     "end_time": "2023-03-07T12:56:29.702609Z",
     "start_time": "2023-03-07T12:56:29.699733Z"
    }
   },
   "outputs": [],
   "source": [
    "train_path=\"../raw_data/train.csv\""
   ]
  },
  {
   "cell_type": "code",
   "execution_count": 169,
   "id": "2deda76c",
   "metadata": {
    "ExecuteTime": {
     "end_time": "2023-03-07T12:56:34.297199Z",
     "start_time": "2023-03-07T12:56:34.233831Z"
    }
   },
   "outputs": [
    {
     "data": {
      "text/plain": [
       "((3910, 2), (3910, 6))"
      ]
     },
     "execution_count": 169,
     "metadata": {},
     "output_type": "execute_result"
    }
   ],
   "source": [
    "X_train_raw, y_train= load_data(train_path)\n",
    "X_train_raw.shape, y_train.shape"
   ]
  },
  {
   "cell_type": "code",
   "execution_count": 170,
   "id": "f24f4b9f",
   "metadata": {
    "ExecuteTime": {
     "end_time": "2023-03-07T12:56:37.600768Z",
     "start_time": "2023-03-07T12:56:37.467111Z"
    }
   },
   "outputs": [
    {
     "data": {
      "text/plain": [
       "((3519, 2), (392, 2), (3519, 6), (392, 6))"
      ]
     },
     "execution_count": 170,
     "metadata": {},
     "output_type": "execute_result"
    }
   ],
   "source": [
    "X_train_raw,X_val_raw,y_train,y_val=load_train_val_data(train_path, split_ratio=0.1,reshuffle=False)\n",
    "X_train_raw.shape,X_val_raw.shape,y_train.shape,y_val.shape"
   ]
  },
  {
   "cell_type": "markdown",
   "id": "436991a9",
   "metadata": {
    "heading_collapsed": true
   },
   "source": [
    "### unit tests"
   ]
  },
  {
   "cell_type": "code",
   "execution_count": 171,
   "id": "c994c00d",
   "metadata": {
    "ExecuteTime": {
     "end_time": "2023-03-07T12:56:53.259928Z",
     "start_time": "2023-03-07T12:56:53.235769Z"
    },
    "hidden": true
   },
   "outputs": [
    {
     "data": {
      "text/html": [
       "<div>\n",
       "<style scoped>\n",
       "    .dataframe tbody tr th:only-of-type {\n",
       "        vertical-align: middle;\n",
       "    }\n",
       "\n",
       "    .dataframe tbody tr th {\n",
       "        vertical-align: top;\n",
       "    }\n",
       "\n",
       "    .dataframe thead th {\n",
       "        text-align: right;\n",
       "    }\n",
       "</style>\n",
       "<table border=\"1\" class=\"dataframe\">\n",
       "  <thead>\n",
       "    <tr style=\"text-align: right;\">\n",
       "      <th></th>\n",
       "      <th>text_id</th>\n",
       "      <th>full_text</th>\n",
       "    </tr>\n",
       "  </thead>\n",
       "  <tbody>\n",
       "    <tr>\n",
       "      <th>3519</th>\n",
       "      <td>EFBD506FC8F2</td>\n",
       "      <td>Select me to visit your company It would be a ...</td>\n",
       "    </tr>\n",
       "    <tr>\n",
       "      <th>3520</th>\n",
       "      <td>EFBF293CC2AF</td>\n",
       "      <td>Dear, Local hospital manager\\n\\nI would love t...</td>\n",
       "    </tr>\n",
       "    <tr>\n",
       "      <th>3521</th>\n",
       "      <td>EFCC45260444</td>\n",
       "      <td>Well on my opinion I think that the best accom...</td>\n",
       "    </tr>\n",
       "    <tr>\n",
       "      <th>3522</th>\n",
       "      <td>EFD563DFAC60</td>\n",
       "      <td>Although some people might say that students s...</td>\n",
       "    </tr>\n",
       "    <tr>\n",
       "      <th>3523</th>\n",
       "      <td>EFD7D87EF4C9</td>\n",
       "      <td>Most employers are looking for specific charac...</td>\n",
       "    </tr>\n",
       "    <tr>\n",
       "      <th>...</th>\n",
       "      <td>...</td>\n",
       "      <td>...</td>\n",
       "    </tr>\n",
       "    <tr>\n",
       "      <th>3906</th>\n",
       "      <td>FFD29828A873</td>\n",
       "      <td>I believe using cellphones in class for educat...</td>\n",
       "    </tr>\n",
       "    <tr>\n",
       "      <th>3907</th>\n",
       "      <td>FFD9A83B0849</td>\n",
       "      <td>Working alone, students do not have to argue w...</td>\n",
       "    </tr>\n",
       "    <tr>\n",
       "      <th>3908</th>\n",
       "      <td>FFDC4011AC9C</td>\n",
       "      <td>\"A problem is a chance for you to do your best...</td>\n",
       "    </tr>\n",
       "    <tr>\n",
       "      <th>3909</th>\n",
       "      <td>FFE16D704B16</td>\n",
       "      <td>Many people disagree with Albert Schweitzer's ...</td>\n",
       "    </tr>\n",
       "    <tr>\n",
       "      <th>3910</th>\n",
       "      <td>FFED00D6E0BD</td>\n",
       "      <td>Do you think that failure is the main thing fo...</td>\n",
       "    </tr>\n",
       "  </tbody>\n",
       "</table>\n",
       "<p>392 rows × 2 columns</p>\n",
       "</div>"
      ],
      "text/plain": [
       "           text_id                                          full_text\n",
       "3519  EFBD506FC8F2  Select me to visit your company It would be a ...\n",
       "3520  EFBF293CC2AF  Dear, Local hospital manager\\n\\nI would love t...\n",
       "3521  EFCC45260444  Well on my opinion I think that the best accom...\n",
       "3522  EFD563DFAC60  Although some people might say that students s...\n",
       "3523  EFD7D87EF4C9  Most employers are looking for specific charac...\n",
       "...            ...                                                ...\n",
       "3906  FFD29828A873  I believe using cellphones in class for educat...\n",
       "3907  FFD9A83B0849  Working alone, students do not have to argue w...\n",
       "3908  FFDC4011AC9C  \"A problem is a chance for you to do your best...\n",
       "3909  FFE16D704B16  Many people disagree with Albert Schweitzer's ...\n",
       "3910  FFED00D6E0BD  Do you think that failure is the main thing fo...\n",
       "\n",
       "[392 rows x 2 columns]"
      ]
     },
     "execution_count": 171,
     "metadata": {},
     "output_type": "execute_result"
    }
   ],
   "source": [
    "X_val_raw"
   ]
  },
  {
   "cell_type": "code",
   "execution_count": 172,
   "id": "0d6efc54",
   "metadata": {
    "ExecuteTime": {
     "end_time": "2023-03-07T12:57:09.661993Z",
     "start_time": "2023-03-07T12:57:09.634700Z"
    },
    "hidden": true
   },
   "outputs": [
    {
     "data": {
      "text/html": [
       "<div>\n",
       "<style scoped>\n",
       "    .dataframe tbody tr th:only-of-type {\n",
       "        vertical-align: middle;\n",
       "    }\n",
       "\n",
       "    .dataframe tbody tr th {\n",
       "        vertical-align: top;\n",
       "    }\n",
       "\n",
       "    .dataframe thead th {\n",
       "        text-align: right;\n",
       "    }\n",
       "</style>\n",
       "<table border=\"1\" class=\"dataframe\">\n",
       "  <thead>\n",
       "    <tr style=\"text-align: right;\">\n",
       "      <th></th>\n",
       "      <th>text_id</th>\n",
       "      <th>full_text</th>\n",
       "    </tr>\n",
       "  </thead>\n",
       "  <tbody>\n",
       "    <tr>\n",
       "      <th>0</th>\n",
       "      <td>0016926B079C</td>\n",
       "      <td>I think that students would benefit from learn...</td>\n",
       "    </tr>\n",
       "    <tr>\n",
       "      <th>1</th>\n",
       "      <td>0022683E9EA5</td>\n",
       "      <td>When a problem is a change you have to let it ...</td>\n",
       "    </tr>\n",
       "    <tr>\n",
       "      <th>2</th>\n",
       "      <td>00299B378633</td>\n",
       "      <td>Dear, Principal\\n\\nIf u change the school poli...</td>\n",
       "    </tr>\n",
       "    <tr>\n",
       "      <th>3</th>\n",
       "      <td>003885A45F42</td>\n",
       "      <td>The best time in life is when you become yours...</td>\n",
       "    </tr>\n",
       "    <tr>\n",
       "      <th>4</th>\n",
       "      <td>0049B1DF5CCC</td>\n",
       "      <td>Small act of kindness can impact in other peop...</td>\n",
       "    </tr>\n",
       "    <tr>\n",
       "      <th>...</th>\n",
       "      <td>...</td>\n",
       "      <td>...</td>\n",
       "    </tr>\n",
       "    <tr>\n",
       "      <th>3514</th>\n",
       "      <td>EF8047505E53</td>\n",
       "      <td>Thomas Jefferson once said, \"Determine never t...</td>\n",
       "    </tr>\n",
       "    <tr>\n",
       "      <th>3515</th>\n",
       "      <td>EF9677DEFA79</td>\n",
       "      <td>I think the teacher should let any students pl...</td>\n",
       "    </tr>\n",
       "    <tr>\n",
       "      <th>3516</th>\n",
       "      <td>EF9D616EAC4E</td>\n",
       "      <td>On group works either at school, job or any ot...</td>\n",
       "    </tr>\n",
       "    <tr>\n",
       "      <th>3517</th>\n",
       "      <td>EFACA593A52B</td>\n",
       "      <td>Can you imagine a world where every person is ...</td>\n",
       "    </tr>\n",
       "    <tr>\n",
       "      <th>3518</th>\n",
       "      <td>EFB208F9EF60</td>\n",
       "      <td>They say that conserving energy and resources,...</td>\n",
       "    </tr>\n",
       "  </tbody>\n",
       "</table>\n",
       "<p>3519 rows × 2 columns</p>\n",
       "</div>"
      ],
      "text/plain": [
       "           text_id                                          full_text\n",
       "0     0016926B079C  I think that students would benefit from learn...\n",
       "1     0022683E9EA5  When a problem is a change you have to let it ...\n",
       "2     00299B378633  Dear, Principal\\n\\nIf u change the school poli...\n",
       "3     003885A45F42  The best time in life is when you become yours...\n",
       "4     0049B1DF5CCC  Small act of kindness can impact in other peop...\n",
       "...            ...                                                ...\n",
       "3514  EF8047505E53  Thomas Jefferson once said, \"Determine never t...\n",
       "3515  EF9677DEFA79  I think the teacher should let any students pl...\n",
       "3516  EF9D616EAC4E  On group works either at school, job or any ot...\n",
       "3517  EFACA593A52B  Can you imagine a world where every person is ...\n",
       "3518  EFB208F9EF60  They say that conserving energy and resources,...\n",
       "\n",
       "[3519 rows x 2 columns]"
      ]
     },
     "execution_count": 172,
     "metadata": {},
     "output_type": "execute_result"
    }
   ],
   "source": [
    "X_train_raw"
   ]
  },
  {
   "cell_type": "code",
   "execution_count": 173,
   "id": "747268cd",
   "metadata": {
    "ExecuteTime": {
     "end_time": "2023-03-07T12:57:30.863498Z",
     "start_time": "2023-03-07T12:57:30.849548Z"
    },
    "hidden": true
   },
   "outputs": [
    {
     "data": {
      "text/html": [
       "<div>\n",
       "<style scoped>\n",
       "    .dataframe tbody tr th:only-of-type {\n",
       "        vertical-align: middle;\n",
       "    }\n",
       "\n",
       "    .dataframe tbody tr th {\n",
       "        vertical-align: top;\n",
       "    }\n",
       "\n",
       "    .dataframe thead th {\n",
       "        text-align: right;\n",
       "    }\n",
       "</style>\n",
       "<table border=\"1\" class=\"dataframe\">\n",
       "  <thead>\n",
       "    <tr style=\"text-align: right;\">\n",
       "      <th></th>\n",
       "      <th>cohesion</th>\n",
       "      <th>syntax</th>\n",
       "      <th>vocabulary</th>\n",
       "      <th>phraseology</th>\n",
       "      <th>grammar</th>\n",
       "      <th>conventions</th>\n",
       "    </tr>\n",
       "  </thead>\n",
       "  <tbody>\n",
       "    <tr>\n",
       "      <th>0</th>\n",
       "      <td>3.5</td>\n",
       "      <td>3.5</td>\n",
       "      <td>3.0</td>\n",
       "      <td>3.0</td>\n",
       "      <td>4.0</td>\n",
       "      <td>3.0</td>\n",
       "    </tr>\n",
       "    <tr>\n",
       "      <th>1</th>\n",
       "      <td>2.5</td>\n",
       "      <td>2.5</td>\n",
       "      <td>3.0</td>\n",
       "      <td>2.0</td>\n",
       "      <td>2.0</td>\n",
       "      <td>2.5</td>\n",
       "    </tr>\n",
       "    <tr>\n",
       "      <th>2</th>\n",
       "      <td>3.0</td>\n",
       "      <td>3.5</td>\n",
       "      <td>3.0</td>\n",
       "      <td>3.0</td>\n",
       "      <td>3.0</td>\n",
       "      <td>2.5</td>\n",
       "    </tr>\n",
       "    <tr>\n",
       "      <th>3</th>\n",
       "      <td>4.5</td>\n",
       "      <td>4.5</td>\n",
       "      <td>4.5</td>\n",
       "      <td>4.5</td>\n",
       "      <td>4.0</td>\n",
       "      <td>5.0</td>\n",
       "    </tr>\n",
       "    <tr>\n",
       "      <th>4</th>\n",
       "      <td>2.5</td>\n",
       "      <td>3.0</td>\n",
       "      <td>3.0</td>\n",
       "      <td>3.0</td>\n",
       "      <td>2.5</td>\n",
       "      <td>2.5</td>\n",
       "    </tr>\n",
       "    <tr>\n",
       "      <th>...</th>\n",
       "      <td>...</td>\n",
       "      <td>...</td>\n",
       "      <td>...</td>\n",
       "      <td>...</td>\n",
       "      <td>...</td>\n",
       "      <td>...</td>\n",
       "    </tr>\n",
       "    <tr>\n",
       "      <th>3514</th>\n",
       "      <td>2.5</td>\n",
       "      <td>3.0</td>\n",
       "      <td>2.5</td>\n",
       "      <td>3.0</td>\n",
       "      <td>3.5</td>\n",
       "      <td>3.0</td>\n",
       "    </tr>\n",
       "    <tr>\n",
       "      <th>3515</th>\n",
       "      <td>3.0</td>\n",
       "      <td>4.0</td>\n",
       "      <td>3.5</td>\n",
       "      <td>3.5</td>\n",
       "      <td>3.0</td>\n",
       "      <td>3.5</td>\n",
       "    </tr>\n",
       "    <tr>\n",
       "      <th>3516</th>\n",
       "      <td>3.0</td>\n",
       "      <td>3.0</td>\n",
       "      <td>3.0</td>\n",
       "      <td>3.5</td>\n",
       "      <td>3.5</td>\n",
       "      <td>3.0</td>\n",
       "    </tr>\n",
       "    <tr>\n",
       "      <th>3517</th>\n",
       "      <td>3.5</td>\n",
       "      <td>3.5</td>\n",
       "      <td>4.0</td>\n",
       "      <td>4.0</td>\n",
       "      <td>2.5</td>\n",
       "      <td>3.5</td>\n",
       "    </tr>\n",
       "    <tr>\n",
       "      <th>3518</th>\n",
       "      <td>3.0</td>\n",
       "      <td>2.5</td>\n",
       "      <td>2.5</td>\n",
       "      <td>2.5</td>\n",
       "      <td>3.5</td>\n",
       "      <td>2.5</td>\n",
       "    </tr>\n",
       "  </tbody>\n",
       "</table>\n",
       "<p>3519 rows × 6 columns</p>\n",
       "</div>"
      ],
      "text/plain": [
       "      cohesion  syntax  vocabulary  phraseology  grammar  conventions\n",
       "0          3.5     3.5         3.0          3.0      4.0          3.0\n",
       "1          2.5     2.5         3.0          2.0      2.0          2.5\n",
       "2          3.0     3.5         3.0          3.0      3.0          2.5\n",
       "3          4.5     4.5         4.5          4.5      4.0          5.0\n",
       "4          2.5     3.0         3.0          3.0      2.5          2.5\n",
       "...        ...     ...         ...          ...      ...          ...\n",
       "3514       2.5     3.0         2.5          3.0      3.5          3.0\n",
       "3515       3.0     4.0         3.5          3.5      3.0          3.5\n",
       "3516       3.0     3.0         3.0          3.5      3.5          3.0\n",
       "3517       3.5     3.5         4.0          4.0      2.5          3.5\n",
       "3518       3.0     2.5         2.5          2.5      3.5          2.5\n",
       "\n",
       "[3519 rows x 6 columns]"
      ]
     },
     "execution_count": 173,
     "metadata": {},
     "output_type": "execute_result"
    }
   ],
   "source": [
    "y_train"
   ]
  },
  {
   "cell_type": "code",
   "execution_count": 179,
   "id": "21488a72",
   "metadata": {
    "ExecuteTime": {
     "end_time": "2023-03-07T12:58:38.604927Z",
     "start_time": "2023-03-07T12:58:38.597845Z"
    },
    "hidden": true
   },
   "outputs": [],
   "source": [
    "size=3\n",
    "y_index=2"
   ]
  },
  {
   "cell_type": "code",
   "execution_count": 180,
   "id": "e605fd84",
   "metadata": {
    "ExecuteTime": {
     "end_time": "2023-03-07T12:58:41.108579Z",
     "start_time": "2023-03-07T12:58:41.036558Z"
    },
    "hidden": true
   },
   "outputs": [],
   "source": [
    "X_train_raw, y_train= load_data(train_path,size=size,y_index=y_index)"
   ]
  },
  {
   "cell_type": "code",
   "execution_count": 181,
   "id": "4415f665",
   "metadata": {
    "ExecuteTime": {
     "end_time": "2023-03-07T12:58:42.823433Z",
     "start_time": "2023-03-07T12:58:42.813358Z"
    },
    "hidden": true
   },
   "outputs": [
    {
     "data": {
      "text/html": [
       "<div>\n",
       "<style scoped>\n",
       "    .dataframe tbody tr th:only-of-type {\n",
       "        vertical-align: middle;\n",
       "    }\n",
       "\n",
       "    .dataframe tbody tr th {\n",
       "        vertical-align: top;\n",
       "    }\n",
       "\n",
       "    .dataframe thead th {\n",
       "        text-align: right;\n",
       "    }\n",
       "</style>\n",
       "<table border=\"1\" class=\"dataframe\">\n",
       "  <thead>\n",
       "    <tr style=\"text-align: right;\">\n",
       "      <th></th>\n",
       "      <th>text_id</th>\n",
       "      <th>full_text</th>\n",
       "    </tr>\n",
       "  </thead>\n",
       "  <tbody>\n",
       "    <tr>\n",
       "      <th>0</th>\n",
       "      <td>0016926B079C</td>\n",
       "      <td>I think that students would benefit from learn...</td>\n",
       "    </tr>\n",
       "    <tr>\n",
       "      <th>1</th>\n",
       "      <td>0022683E9EA5</td>\n",
       "      <td>When a problem is a change you have to let it ...</td>\n",
       "    </tr>\n",
       "    <tr>\n",
       "      <th>2</th>\n",
       "      <td>00299B378633</td>\n",
       "      <td>Dear, Principal\\n\\nIf u change the school poli...</td>\n",
       "    </tr>\n",
       "  </tbody>\n",
       "</table>\n",
       "</div>"
      ],
      "text/plain": [
       "        text_id                                          full_text\n",
       "0  0016926B079C  I think that students would benefit from learn...\n",
       "1  0022683E9EA5  When a problem is a change you have to let it ...\n",
       "2  00299B378633  Dear, Principal\\n\\nIf u change the school poli..."
      ]
     },
     "execution_count": 181,
     "metadata": {},
     "output_type": "execute_result"
    }
   ],
   "source": [
    "X_train_raw"
   ]
  },
  {
   "cell_type": "code",
   "execution_count": 182,
   "id": "9983d504",
   "metadata": {
    "ExecuteTime": {
     "end_time": "2023-03-07T12:58:45.039032Z",
     "start_time": "2023-03-07T12:58:45.031280Z"
    },
    "hidden": true,
    "scrolled": false
   },
   "outputs": [
    {
     "data": {
      "text/html": [
       "<div>\n",
       "<style scoped>\n",
       "    .dataframe tbody tr th:only-of-type {\n",
       "        vertical-align: middle;\n",
       "    }\n",
       "\n",
       "    .dataframe tbody tr th {\n",
       "        vertical-align: top;\n",
       "    }\n",
       "\n",
       "    .dataframe thead th {\n",
       "        text-align: right;\n",
       "    }\n",
       "</style>\n",
       "<table border=\"1\" class=\"dataframe\">\n",
       "  <thead>\n",
       "    <tr style=\"text-align: right;\">\n",
       "      <th></th>\n",
       "      <th>vocabulary</th>\n",
       "    </tr>\n",
       "  </thead>\n",
       "  <tbody>\n",
       "    <tr>\n",
       "      <th>0</th>\n",
       "      <td>3.0</td>\n",
       "    </tr>\n",
       "    <tr>\n",
       "      <th>1</th>\n",
       "      <td>3.0</td>\n",
       "    </tr>\n",
       "    <tr>\n",
       "      <th>2</th>\n",
       "      <td>3.0</td>\n",
       "    </tr>\n",
       "  </tbody>\n",
       "</table>\n",
       "</div>"
      ],
      "text/plain": [
       "   vocabulary\n",
       "0         3.0\n",
       "1         3.0\n",
       "2         3.0"
      ]
     },
     "execution_count": 182,
     "metadata": {},
     "output_type": "execute_result"
    }
   ],
   "source": [
    "y_train"
   ]
  },
  {
   "cell_type": "markdown",
   "id": "6c87ecdf",
   "metadata": {
    "ExecuteTime": {
     "end_time": "2023-03-07T09:14:45.196369Z",
     "start_time": "2023-03-07T09:14:45.190834Z"
    }
   },
   "source": [
    "# Baseline (simple mean)"
   ]
  },
  {
   "cell_type": "code",
   "execution_count": 184,
   "id": "ef2e3559",
   "metadata": {
    "ExecuteTime": {
     "end_time": "2023-03-07T13:05:07.246000Z",
     "start_time": "2023-03-07T13:05:07.107910Z"
    }
   },
   "outputs": [
    {
     "data": {
      "text/plain": [
       "((3910, 2), (3910, 6))"
      ]
     },
     "execution_count": 184,
     "metadata": {},
     "output_type": "execute_result"
    }
   ],
   "source": [
    "X_train_raw, y_train= load_data(train_path)\n",
    "X_train_raw.shape, y_train.shape"
   ]
  },
  {
   "cell_type": "code",
   "execution_count": 199,
   "id": "8fe4ab63",
   "metadata": {
    "ExecuteTime": {
     "end_time": "2023-03-07T13:33:48.851047Z",
     "start_time": "2023-03-07T13:33:48.839461Z"
    }
   },
   "outputs": [
    {
     "data": {
      "text/plain": [
       "cohesion       3.126982\n",
       "syntax         3.028389\n",
       "vocabulary     3.235678\n",
       "phraseology    3.116880\n",
       "grammar        3.032864\n",
       "conventions    3.080946\n",
       "dtype: float64"
      ]
     },
     "execution_count": 199,
     "metadata": {},
     "output_type": "execute_result"
    }
   ],
   "source": [
    "y_train_mean= y_train.mean()\n",
    "y_train_mean"
   ]
  },
  {
   "cell_type": "code",
   "execution_count": 189,
   "id": "53378522",
   "metadata": {
    "ExecuteTime": {
     "end_time": "2023-03-07T13:07:01.326394Z",
     "start_time": "2023-03-07T13:07:01.307610Z"
    }
   },
   "outputs": [
    {
     "data": {
      "text/html": [
       "<div>\n",
       "<style scoped>\n",
       "    .dataframe tbody tr th:only-of-type {\n",
       "        vertical-align: middle;\n",
       "    }\n",
       "\n",
       "    .dataframe tbody tr th {\n",
       "        vertical-align: top;\n",
       "    }\n",
       "\n",
       "    .dataframe thead th {\n",
       "        text-align: right;\n",
       "    }\n",
       "</style>\n",
       "<table border=\"1\" class=\"dataframe\">\n",
       "  <thead>\n",
       "    <tr style=\"text-align: right;\">\n",
       "      <th></th>\n",
       "      <th>cohesion</th>\n",
       "      <th>syntax</th>\n",
       "      <th>vocabulary</th>\n",
       "      <th>phraseology</th>\n",
       "      <th>grammar</th>\n",
       "      <th>conventions</th>\n",
       "    </tr>\n",
       "  </thead>\n",
       "  <tbody>\n",
       "    <tr>\n",
       "      <th>0</th>\n",
       "      <td>3.5</td>\n",
       "      <td>3.5</td>\n",
       "      <td>3.0</td>\n",
       "      <td>3.0</td>\n",
       "      <td>4.0</td>\n",
       "      <td>3.0</td>\n",
       "    </tr>\n",
       "    <tr>\n",
       "      <th>1</th>\n",
       "      <td>2.5</td>\n",
       "      <td>2.5</td>\n",
       "      <td>3.0</td>\n",
       "      <td>2.0</td>\n",
       "      <td>2.0</td>\n",
       "      <td>2.5</td>\n",
       "    </tr>\n",
       "    <tr>\n",
       "      <th>2</th>\n",
       "      <td>3.0</td>\n",
       "      <td>3.5</td>\n",
       "      <td>3.0</td>\n",
       "      <td>3.0</td>\n",
       "      <td>3.0</td>\n",
       "      <td>2.5</td>\n",
       "    </tr>\n",
       "    <tr>\n",
       "      <th>3</th>\n",
       "      <td>4.5</td>\n",
       "      <td>4.5</td>\n",
       "      <td>4.5</td>\n",
       "      <td>4.5</td>\n",
       "      <td>4.0</td>\n",
       "      <td>5.0</td>\n",
       "    </tr>\n",
       "    <tr>\n",
       "      <th>4</th>\n",
       "      <td>2.5</td>\n",
       "      <td>3.0</td>\n",
       "      <td>3.0</td>\n",
       "      <td>3.0</td>\n",
       "      <td>2.5</td>\n",
       "      <td>2.5</td>\n",
       "    </tr>\n",
       "    <tr>\n",
       "      <th>...</th>\n",
       "      <td>...</td>\n",
       "      <td>...</td>\n",
       "      <td>...</td>\n",
       "      <td>...</td>\n",
       "      <td>...</td>\n",
       "      <td>...</td>\n",
       "    </tr>\n",
       "    <tr>\n",
       "      <th>3905</th>\n",
       "      <td>2.5</td>\n",
       "      <td>3.0</td>\n",
       "      <td>3.0</td>\n",
       "      <td>4.0</td>\n",
       "      <td>3.5</td>\n",
       "      <td>3.0</td>\n",
       "    </tr>\n",
       "    <tr>\n",
       "      <th>3906</th>\n",
       "      <td>2.5</td>\n",
       "      <td>3.0</td>\n",
       "      <td>3.0</td>\n",
       "      <td>3.5</td>\n",
       "      <td>2.5</td>\n",
       "      <td>2.5</td>\n",
       "    </tr>\n",
       "    <tr>\n",
       "      <th>3907</th>\n",
       "      <td>4.0</td>\n",
       "      <td>4.0</td>\n",
       "      <td>4.0</td>\n",
       "      <td>4.0</td>\n",
       "      <td>3.5</td>\n",
       "      <td>3.0</td>\n",
       "    </tr>\n",
       "    <tr>\n",
       "      <th>3908</th>\n",
       "      <td>2.5</td>\n",
       "      <td>3.0</td>\n",
       "      <td>3.0</td>\n",
       "      <td>3.0</td>\n",
       "      <td>3.5</td>\n",
       "      <td>3.0</td>\n",
       "    </tr>\n",
       "    <tr>\n",
       "      <th>3909</th>\n",
       "      <td>4.0</td>\n",
       "      <td>4.5</td>\n",
       "      <td>4.5</td>\n",
       "      <td>4.0</td>\n",
       "      <td>4.5</td>\n",
       "      <td>4.5</td>\n",
       "    </tr>\n",
       "  </tbody>\n",
       "</table>\n",
       "<p>3910 rows × 6 columns</p>\n",
       "</div>"
      ],
      "text/plain": [
       "      cohesion  syntax  vocabulary  phraseology  grammar  conventions\n",
       "0          3.5     3.5         3.0          3.0      4.0          3.0\n",
       "1          2.5     2.5         3.0          2.0      2.0          2.5\n",
       "2          3.0     3.5         3.0          3.0      3.0          2.5\n",
       "3          4.5     4.5         4.5          4.5      4.0          5.0\n",
       "4          2.5     3.0         3.0          3.0      2.5          2.5\n",
       "...        ...     ...         ...          ...      ...          ...\n",
       "3905       2.5     3.0         3.0          4.0      3.5          3.0\n",
       "3906       2.5     3.0         3.0          3.5      2.5          2.5\n",
       "3907       4.0     4.0         4.0          4.0      3.5          3.0\n",
       "3908       2.5     3.0         3.0          3.0      3.5          3.0\n",
       "3909       4.0     4.5         4.5          4.0      4.5          4.5\n",
       "\n",
       "[3910 rows x 6 columns]"
      ]
     },
     "execution_count": 189,
     "metadata": {},
     "output_type": "execute_result"
    }
   ],
   "source": [
    "y_train"
   ]
  },
  {
   "cell_type": "code",
   "execution_count": 202,
   "id": "f390ed64",
   "metadata": {
    "ExecuteTime": {
     "end_time": "2023-03-07T13:38:37.889008Z",
     "start_time": "2023-03-07T13:38:37.872779Z"
    }
   },
   "outputs": [
    {
     "data": {
      "text/html": [
       "<div>\n",
       "<style scoped>\n",
       "    .dataframe tbody tr th:only-of-type {\n",
       "        vertical-align: middle;\n",
       "    }\n",
       "\n",
       "    .dataframe tbody tr th {\n",
       "        vertical-align: top;\n",
       "    }\n",
       "\n",
       "    .dataframe thead th {\n",
       "        text-align: right;\n",
       "    }\n",
       "</style>\n",
       "<table border=\"1\" class=\"dataframe\">\n",
       "  <thead>\n",
       "    <tr style=\"text-align: right;\">\n",
       "      <th></th>\n",
       "      <th>cohesion</th>\n",
       "      <th>syntax</th>\n",
       "      <th>vocabulary</th>\n",
       "      <th>phraseology</th>\n",
       "      <th>grammar</th>\n",
       "      <th>conventions</th>\n",
       "    </tr>\n",
       "  </thead>\n",
       "  <tbody>\n",
       "    <tr>\n",
       "      <th>0</th>\n",
       "      <td>0.373018</td>\n",
       "      <td>0.471611</td>\n",
       "      <td>-0.235678</td>\n",
       "      <td>-0.11688</td>\n",
       "      <td>0.967136</td>\n",
       "      <td>-0.080946</td>\n",
       "    </tr>\n",
       "    <tr>\n",
       "      <th>1</th>\n",
       "      <td>-0.626982</td>\n",
       "      <td>-0.528389</td>\n",
       "      <td>-0.235678</td>\n",
       "      <td>-1.11688</td>\n",
       "      <td>-1.032864</td>\n",
       "      <td>-0.580946</td>\n",
       "    </tr>\n",
       "    <tr>\n",
       "      <th>2</th>\n",
       "      <td>-0.126982</td>\n",
       "      <td>0.471611</td>\n",
       "      <td>-0.235678</td>\n",
       "      <td>-0.11688</td>\n",
       "      <td>-0.032864</td>\n",
       "      <td>-0.580946</td>\n",
       "    </tr>\n",
       "    <tr>\n",
       "      <th>3</th>\n",
       "      <td>1.373018</td>\n",
       "      <td>1.471611</td>\n",
       "      <td>1.264322</td>\n",
       "      <td>1.38312</td>\n",
       "      <td>0.967136</td>\n",
       "      <td>1.919054</td>\n",
       "    </tr>\n",
       "    <tr>\n",
       "      <th>4</th>\n",
       "      <td>-0.626982</td>\n",
       "      <td>-0.028389</td>\n",
       "      <td>-0.235678</td>\n",
       "      <td>-0.11688</td>\n",
       "      <td>-0.532864</td>\n",
       "      <td>-0.580946</td>\n",
       "    </tr>\n",
       "    <tr>\n",
       "      <th>...</th>\n",
       "      <td>...</td>\n",
       "      <td>...</td>\n",
       "      <td>...</td>\n",
       "      <td>...</td>\n",
       "      <td>...</td>\n",
       "      <td>...</td>\n",
       "    </tr>\n",
       "    <tr>\n",
       "      <th>3905</th>\n",
       "      <td>-0.626982</td>\n",
       "      <td>-0.028389</td>\n",
       "      <td>-0.235678</td>\n",
       "      <td>0.88312</td>\n",
       "      <td>0.467136</td>\n",
       "      <td>-0.080946</td>\n",
       "    </tr>\n",
       "    <tr>\n",
       "      <th>3906</th>\n",
       "      <td>-0.626982</td>\n",
       "      <td>-0.028389</td>\n",
       "      <td>-0.235678</td>\n",
       "      <td>0.38312</td>\n",
       "      <td>-0.532864</td>\n",
       "      <td>-0.580946</td>\n",
       "    </tr>\n",
       "    <tr>\n",
       "      <th>3907</th>\n",
       "      <td>0.873018</td>\n",
       "      <td>0.971611</td>\n",
       "      <td>0.764322</td>\n",
       "      <td>0.88312</td>\n",
       "      <td>0.467136</td>\n",
       "      <td>-0.080946</td>\n",
       "    </tr>\n",
       "    <tr>\n",
       "      <th>3908</th>\n",
       "      <td>-0.626982</td>\n",
       "      <td>-0.028389</td>\n",
       "      <td>-0.235678</td>\n",
       "      <td>-0.11688</td>\n",
       "      <td>0.467136</td>\n",
       "      <td>-0.080946</td>\n",
       "    </tr>\n",
       "    <tr>\n",
       "      <th>3909</th>\n",
       "      <td>0.873018</td>\n",
       "      <td>1.471611</td>\n",
       "      <td>1.264322</td>\n",
       "      <td>0.88312</td>\n",
       "      <td>1.467136</td>\n",
       "      <td>1.419054</td>\n",
       "    </tr>\n",
       "  </tbody>\n",
       "</table>\n",
       "<p>3910 rows × 6 columns</p>\n",
       "</div>"
      ],
      "text/plain": [
       "      cohesion    syntax  vocabulary  phraseology   grammar  conventions\n",
       "0     0.373018  0.471611   -0.235678     -0.11688  0.967136    -0.080946\n",
       "1    -0.626982 -0.528389   -0.235678     -1.11688 -1.032864    -0.580946\n",
       "2    -0.126982  0.471611   -0.235678     -0.11688 -0.032864    -0.580946\n",
       "3     1.373018  1.471611    1.264322      1.38312  0.967136     1.919054\n",
       "4    -0.626982 -0.028389   -0.235678     -0.11688 -0.532864    -0.580946\n",
       "...        ...       ...         ...          ...       ...          ...\n",
       "3905 -0.626982 -0.028389   -0.235678      0.88312  0.467136    -0.080946\n",
       "3906 -0.626982 -0.028389   -0.235678      0.38312 -0.532864    -0.580946\n",
       "3907  0.873018  0.971611    0.764322      0.88312  0.467136    -0.080946\n",
       "3908 -0.626982 -0.028389   -0.235678     -0.11688  0.467136    -0.080946\n",
       "3909  0.873018  1.471611    1.264322      0.88312  1.467136     1.419054\n",
       "\n",
       "[3910 rows x 6 columns]"
      ]
     },
     "execution_count": 202,
     "metadata": {},
     "output_type": "execute_result"
    }
   ],
   "source": [
    "error=y_train-y_mean\n",
    "error"
   ]
  },
  {
   "cell_type": "code",
   "execution_count": 214,
   "id": "0250f56e",
   "metadata": {
    "ExecuteTime": {
     "end_time": "2023-03-07T13:43:43.340838Z",
     "start_time": "2023-03-07T13:43:43.328044Z"
    },
    "collapsed": true
   },
   "outputs": [
    {
     "data": {
      "text/html": [
       "<div>\n",
       "<style scoped>\n",
       "    .dataframe tbody tr th:only-of-type {\n",
       "        vertical-align: middle;\n",
       "    }\n",
       "\n",
       "    .dataframe tbody tr th {\n",
       "        vertical-align: top;\n",
       "    }\n",
       "\n",
       "    .dataframe thead th {\n",
       "        text-align: right;\n",
       "    }\n",
       "</style>\n",
       "<table border=\"1\" class=\"dataframe\">\n",
       "  <thead>\n",
       "    <tr style=\"text-align: right;\">\n",
       "      <th></th>\n",
       "      <th>cohesion</th>\n",
       "      <th>syntax</th>\n",
       "      <th>vocabulary</th>\n",
       "      <th>phraseology</th>\n",
       "      <th>grammar</th>\n",
       "      <th>conventions</th>\n",
       "    </tr>\n",
       "  </thead>\n",
       "  <tbody>\n",
       "    <tr>\n",
       "      <th>0</th>\n",
       "      <td>0.139142</td>\n",
       "      <td>0.222417</td>\n",
       "      <td>0.055544</td>\n",
       "      <td>0.013661</td>\n",
       "      <td>0.935351</td>\n",
       "      <td>0.006552</td>\n",
       "    </tr>\n",
       "    <tr>\n",
       "      <th>1</th>\n",
       "      <td>0.393107</td>\n",
       "      <td>0.279195</td>\n",
       "      <td>0.055544</td>\n",
       "      <td>1.247420</td>\n",
       "      <td>1.066809</td>\n",
       "      <td>0.337499</td>\n",
       "    </tr>\n",
       "    <tr>\n",
       "      <th>2</th>\n",
       "      <td>0.016124</td>\n",
       "      <td>0.222417</td>\n",
       "      <td>0.055544</td>\n",
       "      <td>0.013661</td>\n",
       "      <td>0.001080</td>\n",
       "      <td>0.337499</td>\n",
       "    </tr>\n",
       "    <tr>\n",
       "      <th>3</th>\n",
       "      <td>1.885178</td>\n",
       "      <td>2.165640</td>\n",
       "      <td>1.598511</td>\n",
       "      <td>1.913022</td>\n",
       "      <td>0.935351</td>\n",
       "      <td>3.682767</td>\n",
       "    </tr>\n",
       "    <tr>\n",
       "      <th>4</th>\n",
       "      <td>0.393107</td>\n",
       "      <td>0.000806</td>\n",
       "      <td>0.055544</td>\n",
       "      <td>0.013661</td>\n",
       "      <td>0.283945</td>\n",
       "      <td>0.337499</td>\n",
       "    </tr>\n",
       "    <tr>\n",
       "      <th>...</th>\n",
       "      <td>...</td>\n",
       "      <td>...</td>\n",
       "      <td>...</td>\n",
       "      <td>...</td>\n",
       "      <td>...</td>\n",
       "      <td>...</td>\n",
       "    </tr>\n",
       "    <tr>\n",
       "      <th>3905</th>\n",
       "      <td>0.393107</td>\n",
       "      <td>0.000806</td>\n",
       "      <td>0.055544</td>\n",
       "      <td>0.779901</td>\n",
       "      <td>0.218216</td>\n",
       "      <td>0.006552</td>\n",
       "    </tr>\n",
       "    <tr>\n",
       "      <th>3906</th>\n",
       "      <td>0.393107</td>\n",
       "      <td>0.000806</td>\n",
       "      <td>0.055544</td>\n",
       "      <td>0.146781</td>\n",
       "      <td>0.283945</td>\n",
       "      <td>0.337499</td>\n",
       "    </tr>\n",
       "    <tr>\n",
       "      <th>3907</th>\n",
       "      <td>0.762160</td>\n",
       "      <td>0.944028</td>\n",
       "      <td>0.584189</td>\n",
       "      <td>0.779901</td>\n",
       "      <td>0.218216</td>\n",
       "      <td>0.006552</td>\n",
       "    </tr>\n",
       "    <tr>\n",
       "      <th>3908</th>\n",
       "      <td>0.393107</td>\n",
       "      <td>0.000806</td>\n",
       "      <td>0.055544</td>\n",
       "      <td>0.013661</td>\n",
       "      <td>0.218216</td>\n",
       "      <td>0.006552</td>\n",
       "    </tr>\n",
       "    <tr>\n",
       "      <th>3909</th>\n",
       "      <td>0.762160</td>\n",
       "      <td>2.165640</td>\n",
       "      <td>1.598511</td>\n",
       "      <td>0.779901</td>\n",
       "      <td>2.152487</td>\n",
       "      <td>2.013713</td>\n",
       "    </tr>\n",
       "  </tbody>\n",
       "</table>\n",
       "<p>3910 rows × 6 columns</p>\n",
       "</div>"
      ],
      "text/plain": [
       "      cohesion    syntax  vocabulary  phraseology   grammar  conventions\n",
       "0     0.139142  0.222417    0.055544     0.013661  0.935351     0.006552\n",
       "1     0.393107  0.279195    0.055544     1.247420  1.066809     0.337499\n",
       "2     0.016124  0.222417    0.055544     0.013661  0.001080     0.337499\n",
       "3     1.885178  2.165640    1.598511     1.913022  0.935351     3.682767\n",
       "4     0.393107  0.000806    0.055544     0.013661  0.283945     0.337499\n",
       "...        ...       ...         ...          ...       ...          ...\n",
       "3905  0.393107  0.000806    0.055544     0.779901  0.218216     0.006552\n",
       "3906  0.393107  0.000806    0.055544     0.146781  0.283945     0.337499\n",
       "3907  0.762160  0.944028    0.584189     0.779901  0.218216     0.006552\n",
       "3908  0.393107  0.000806    0.055544     0.013661  0.218216     0.006552\n",
       "3909  0.762160  2.165640    1.598511     0.779901  2.152487     2.013713\n",
       "\n",
       "[3910 rows x 6 columns]"
      ]
     },
     "execution_count": 214,
     "metadata": {},
     "output_type": "execute_result"
    }
   ],
   "source": [
    "SE=error**2\n",
    "SE"
   ]
  },
  {
   "cell_type": "code",
   "execution_count": 217,
   "id": "16314ba7",
   "metadata": {
    "ExecuteTime": {
     "end_time": "2023-03-07T13:44:47.615447Z",
     "start_time": "2023-03-07T13:44:47.606884Z"
    }
   },
   "outputs": [
    {
     "data": {
      "text/plain": [
       "cohesion       0.438927\n",
       "syntax         0.415179\n",
       "vocabulary     0.340044\n",
       "phraseology    0.430329\n",
       "grammar        0.489777\n",
       "conventions    0.450801\n",
       "dtype: float64"
      ]
     },
     "execution_count": 217,
     "metadata": {},
     "output_type": "execute_result"
    }
   ],
   "source": [
    "MSE=SE.mean(axis=0)\n",
    "MSE"
   ]
  },
  {
   "cell_type": "code",
   "execution_count": 218,
   "id": "1c90741b",
   "metadata": {
    "ExecuteTime": {
     "end_time": "2023-03-07T13:45:36.291556Z",
     "start_time": "2023-03-07T13:45:36.281478Z"
    }
   },
   "outputs": [
    {
     "data": {
      "text/plain": [
       "cohesion       0.662515\n",
       "syntax         0.644344\n",
       "vocabulary     0.583133\n",
       "phraseology    0.655995\n",
       "grammar        0.699840\n",
       "conventions    0.671417\n",
       "dtype: float64"
      ]
     },
     "execution_count": 218,
     "metadata": {},
     "output_type": "execute_result"
    }
   ],
   "source": [
    "RMSE=np.sqrt(MSE)\n",
    "RMSE"
   ]
  },
  {
   "cell_type": "code",
   "execution_count": 220,
   "id": "577b07c7",
   "metadata": {
    "ExecuteTime": {
     "end_time": "2023-03-07T13:46:11.524571Z",
     "start_time": "2023-03-07T13:46:11.517661Z"
    }
   },
   "outputs": [
    {
     "data": {
      "text/plain": [
       "0.6528740244626897"
      ]
     },
     "execution_count": 220,
     "metadata": {},
     "output_type": "execute_result"
    }
   ],
   "source": [
    "MCRMSE=RMSE.mean()\n",
    "MCRMSE"
   ]
  },
  {
   "cell_type": "markdown",
   "id": "15339eaf",
   "metadata": {},
   "source": [
    "# loss / metrics RMSE"
   ]
  },
  {
   "cell_type": "code",
   "execution_count": null,
   "id": "92db1137",
   "metadata": {},
   "outputs": [],
   "source": [
    "def loss_func(y_true, y_pred):\n",
    "    losses=[]\n",
    "    for column in y_true.columns:\n",
    "        res=np.sqrt(sum((y_true[column]-y_pred[column])**2)/len(y_true))\n",
    "        losses.append(res)\n",
    "    return np.mean(losses)"
   ]
  },
  {
   "cell_type": "code",
   "execution_count": null,
   "id": "04ec869d",
   "metadata": {},
   "outputs": [],
   "source": []
  },
  {
   "cell_type": "markdown",
   "id": "7b896b68",
   "metadata": {
    "ExecuteTime": {
     "end_time": "2023-03-07T09:14:45.196369Z",
     "start_time": "2023-03-07T09:14:45.190834Z"
    }
   },
   "source": [
    "# Baseline (simple mean)"
   ]
  },
  {
   "cell_type": "markdown",
   "id": "390c5a4e",
   "metadata": {},
   "source": [
    "# basic Model (LSTM / conv1D)"
   ]
  },
  {
   "cell_type": "code",
   "execution_count": null,
   "id": "27d631de",
   "metadata": {},
   "outputs": [],
   "source": []
  }
 ],
 "metadata": {
  "kernelspec": {
   "display_name": "Python 3 (ipykernel)",
   "language": "python",
   "name": "python3"
  },
  "language_info": {
   "codemirror_mode": {
    "name": "ipython",
    "version": 3
   },
   "file_extension": ".py",
   "mimetype": "text/x-python",
   "name": "python",
   "nbconvert_exporter": "python",
   "pygments_lexer": "ipython3",
   "version": "3.10.6"
  },
  "toc": {
   "base_numbering": 1,
   "nav_menu": {},
   "number_sections": true,
   "sideBar": true,
   "skip_h1_title": false,
   "title_cell": "Table of Contents",
   "title_sidebar": "Contents",
   "toc_cell": false,
   "toc_position": {},
   "toc_section_display": true,
   "toc_window_display": false
  }
 },
 "nbformat": 4,
 "nbformat_minor": 5
}
