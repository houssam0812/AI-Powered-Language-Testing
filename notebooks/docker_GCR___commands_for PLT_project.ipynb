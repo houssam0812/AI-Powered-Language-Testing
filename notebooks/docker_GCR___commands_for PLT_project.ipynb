{
 "cells": [
  {
   "cell_type": "code",
   "execution_count": null,
   "id": "80517e47",
   "metadata": {},
   "outputs": [],
   "source": [
    "# list of docker images\n",
    "!docker images"
   ]
  },
  {
   "cell_type": "code",
   "execution_count": null,
   "id": "2ce553e1",
   "metadata": {},
   "outputs": [],
   "source": [
    "#build an image from Dockerfile present on cwd and give it a name\n",
    "!docker build -t <image_name> ."
   ]
  },
  {
   "cell_type": "code",
   "execution_count": null,
   "id": "e53f247b",
   "metadata": {},
   "outputs": [],
   "source": [
    "# launch a container in interactice mode based on agiven image\n",
    "!docker run -it <image_name> sh"
   ]
  },
  {
   "cell_type": "code",
   "execution_count": null,
   "id": "b0bfd7be",
   "metadata": {},
   "outputs": [],
   "source": [
    "# launch a container \n",
    "# mapping the container ports with the localhost ports\n",
    "!docker run -p 8080:8000 <image_name> "
   ]
  },
  {
   "cell_type": "markdown",
   "id": "a6aa3212",
   "metadata": {},
   "source": [
    "`-p 8080:8000` flag maps the 8080 port on your machine to the 8000 port inside the container (default port used by Uvicorn ... it can be changed with `--port xyz` flag)"
   ]
  },
  {
   "cell_type": "markdown",
   "id": "f1426b64",
   "metadata": {},
   "source": [
    "with `http://localhost:8080/` !"
   ]
  },
  {
   "cell_type": "code",
   "execution_count": null,
   "id": "68d8fd58",
   "metadata": {},
   "outputs": [],
   "source": [
    "!docker system prune"
   ]
  },
  {
   "cell_type": "markdown",
   "id": "281a6f0a",
   "metadata": {},
   "source": [
    "## commande pour built image GCR"
   ]
  },
  {
   "cell_type": "code",
   "execution_count": null,
   "id": "fa0ed6dd",
   "metadata": {},
   "outputs": [],
   "source": [
    "!docker build -t $GCR_MULTI_REGION/$GCP_PROJECT_ID/$GCR_DOCKER_IMAGE ."
   ]
  },
  {
   "cell_type": "code",
   "execution_count": null,
   "id": "f9bc74b3",
   "metadata": {},
   "outputs": [],
   "source": [
    "#to test locally the GCR image:\n",
    "!docker run -e PORT=8000 -p 8080:8000 $GCR_MULTI_REGION/$GCP_PROJECT_ID/$GCR_DOCKER_IMAGE"
   ]
  },
  {
   "cell_type": "code",
   "execution_count": null,
   "id": "f3bdae7c",
   "metadata": {},
   "outputs": [],
   "source": [
    "!docker push $GCR_MULTI_REGION/$GCP_PROJECT_ID/$GCR_DOCKER_IMAGE"
   ]
  },
  {
   "cell_type": "code",
   "execution_count": null,
   "id": "64bc4ebc",
   "metadata": {},
   "outputs": [],
   "source": [
    "!gcloud run deploy --image $GCR_MULTI_REGION/$GCP_PROJECT_ID/$GCR_DOCKER_IMAGE --region $GCP_REGION"
   ]
  },
  {
   "cell_type": "code",
   "execution_count": null,
   "id": "8bc7f5e1",
   "metadata": {},
   "outputs": [],
   "source": [
    "!gcloud run deploy --image $GCR_MULTI_REGION/$GCP_PROJECT_ID/$GCR_DOCKER_IMAGE --memory $GCR_MEMORY --region $GCP_REGION --env-vars-file .env.yaml"
   ]
  },
  {
   "cell_type": "markdown",
   "id": "15f897de",
   "metadata": {},
   "source": [
    "## plt project:  final docker and GCR commands"
   ]
  },
  {
   "cell_type": "code",
   "execution_count": null,
   "id": "9db6c192",
   "metadata": {},
   "outputs": [],
   "source": [
    "docker build -t $GCR_MULTI_REGION/$GCP_PROJECT_ID/$GCR_DOCKER_IMAGE ."
   ]
  },
  {
   "cell_type": "code",
   "execution_count": null,
   "id": "2d9458a5",
   "metadata": {},
   "outputs": [],
   "source": [
    "docker push $GCR_MULTI_REGION/$GCP_PROJECT_ID/$GCR_DOCKER_IMAGE"
   ]
  },
  {
   "cell_type": "code",
   "execution_count": null,
   "id": "80ed4548",
   "metadata": {},
   "outputs": [],
   "source": [
    "gcloud run deploy --image $GCR_MULTI_REGION/$GCP_PROJECT_ID/$GCR_DOCKER_IMAGE --memory $GCR_MEMORY --region $GCP_REGION --env-vars-file .env.yaml"
   ]
  }
 ],
 "metadata": {
  "kernelspec": {
   "display_name": "Python 3 (ipykernel)",
   "language": "python",
   "name": "python3"
  },
  "language_info": {
   "codemirror_mode": {
    "name": "ipython",
    "version": 3
   },
   "file_extension": ".py",
   "mimetype": "text/x-python",
   "name": "python",
   "nbconvert_exporter": "python",
   "pygments_lexer": "ipython3",
   "version": "3.10.6"
  },
  "toc": {
   "base_numbering": 1,
   "nav_menu": {},
   "number_sections": true,
   "sideBar": true,
   "skip_h1_title": false,
   "title_cell": "Table of Contents",
   "title_sidebar": "Contents",
   "toc_cell": false,
   "toc_position": {},
   "toc_section_display": true,
   "toc_window_display": false
  }
 },
 "nbformat": 4,
 "nbformat_minor": 5
}
