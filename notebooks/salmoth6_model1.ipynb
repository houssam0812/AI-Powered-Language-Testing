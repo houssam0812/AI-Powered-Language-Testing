{
 "cells": [
  {
   "cell_type": "markdown",
   "id": "2583c215",
   "metadata": {},
   "source": [
    "# imports"
   ]
  },
  {
   "cell_type": "code",
   "execution_count": 1,
   "id": "fdd3580f",
   "metadata": {
    "ExecuteTime": {
     "end_time": "2023-03-08T13:38:29.404106Z",
     "start_time": "2023-03-08T13:38:24.969252Z"
    },
    "collapsed": true
   },
   "outputs": [
    {
     "name": "stderr",
     "output_type": "stream",
     "text": [
      "/home/tsl/.pyenv/versions/3.10.6/envs/plt/lib/python3.10/site-packages/tqdm/auto.py:21: TqdmWarning: IProgress not found. Please update jupyter and ipywidgets. See https://ipywidgets.readthedocs.io/en/stable/user_install.html\n",
      "  from .autonotebook import tqdm as notebook_tqdm\n",
      "2023-03-08 14:38:25.999971: I tensorflow/core/platform/cpu_feature_guard.cc:193] This TensorFlow binary is optimized with oneAPI Deep Neural Network Library (oneDNN) to use the following CPU instructions in performance-critical operations:  AVX2 AVX_VNNI FMA\n",
      "To enable them in other operations, rebuild TensorFlow with the appropriate compiler flags.\n",
      "2023-03-08 14:38:26.653203: I tensorflow/core/util/util.cc:169] oneDNN custom operations are on. You may see slightly different numerical results due to floating-point round-off errors from different computation orders. To turn them off, set the environment variable `TF_ENABLE_ONEDNN_OPTS=0`.\n",
      "2023-03-08 14:38:26.766873: W tensorflow/stream_executor/platform/default/dso_loader.cc:64] Could not load dynamic library 'libcudart.so.11.0'; dlerror: libcudart.so.11.0: cannot open shared object file: No such file or directory\n",
      "2023-03-08 14:38:26.766901: I tensorflow/stream_executor/cuda/cudart_stub.cc:29] Ignore above cudart dlerror if you do not have a GPU set up on your machine.\n",
      "2023-03-08 14:38:26.948194: E tensorflow/stream_executor/cuda/cuda_blas.cc:2981] Unable to register cuBLAS factory: Attempting to register factory for plugin cuBLAS when one has already been registered\n",
      "2023-03-08 14:38:28.196666: W tensorflow/stream_executor/platform/default/dso_loader.cc:64] Could not load dynamic library 'libnvinfer.so.7'; dlerror: libnvinfer.so.7: cannot open shared object file: No such file or directory\n",
      "2023-03-08 14:38:28.196791: W tensorflow/stream_executor/platform/default/dso_loader.cc:64] Could not load dynamic library 'libnvinfer_plugin.so.7'; dlerror: libnvinfer_plugin.so.7: cannot open shared object file: No such file or directory\n",
      "2023-03-08 14:38:28.196798: W tensorflow/compiler/tf2tensorrt/utils/py_utils.cc:38] TF-TRT Warning: Cannot dlopen some TensorRT libraries. If you would like to use Nvidia GPU with TensorRT, please make sure the missing libraries mentioned above are installed properly.\n"
     ]
    }
   ],
   "source": [
    "import pandas as pd\n",
    "import numpy as np\n",
    "#import os\n",
    "from transformers import BertTokenizer"
   ]
  },
  {
   "cell_type": "code",
   "execution_count": 2,
   "id": "8a817b68",
   "metadata": {
    "ExecuteTime": {
     "end_time": "2023-03-08T13:38:29.706308Z",
     "start_time": "2023-03-08T13:38:29.406834Z"
    }
   },
   "outputs": [
    {
     "name": "stdout",
     "output_type": "stream",
     "text": [
      "plt\r\n"
     ]
    }
   ],
   "source": [
    "#check local virtual env (expected 'plt')\n",
    "!pyenv local"
   ]
  },
  {
   "cell_type": "markdown",
   "id": "34a7faf1",
   "metadata": {},
   "source": [
    "# load datasets"
   ]
  },
  {
   "cell_type": "markdown",
   "id": "7eef5721",
   "metadata": {},
   "source": [
    "## load functions"
   ]
  },
  {
   "cell_type": "code",
   "execution_count": 4,
   "id": "f5624f19",
   "metadata": {
    "ExecuteTime": {
     "end_time": "2023-03-08T13:38:53.969896Z",
     "start_time": "2023-03-08T13:38:53.961794Z"
    }
   },
   "outputs": [],
   "source": [
    "def load_data(file_path: str, size:int =-1, y_index:int=-1) -> (pd.DataFrame, pd.DataFrame) :\n",
    "    \"\"\"\n",
    "    'file_path' = the path to the required file (typically 'train.csv' or 'test.csv' under a 'raw_data' folder)\n",
    "    NB: it can be an absolute or a relative path !\n",
    "    if 'size'=-1 the entire data is returned, else only the 1st 'size' rows (might also suffle if this is better) are returned\n",
    "    'y_index' expected values = [-1,0,1,2,3,4,5] indicated which evaluation(s) will be returned\n",
    "    outputs= (X_raw,y):\n",
    "        X_raw= 2-column DataFrame ['text_id','full_text']  \n",
    "        y= a 6-column DataFrame (or a 1-column DataFrame if y_index is used)\n",
    "        nb of rows in X_raw and y is controlled by the 'size' kwarg\n",
    "    \"\"\"\n",
    "    df=pd.read_csv(file_path)\n",
    "    X_raw=df[['text_id','full_text']].iloc[0:size,:]\n",
    "    y=df[['cohesion', 'syntax', 'vocabulary', 'phraseology', 'grammar', 'conventions']].iloc[0:size,:]\n",
    "    if y_index >0 and y_index < len(y.columns):\n",
    "        y=y.iloc[:,[y_index]]         \n",
    "    \n",
    "    return X_raw,y"
   ]
  },
  {
   "cell_type": "code",
   "execution_count": 5,
   "id": "5c599a36",
   "metadata": {
    "ExecuteTime": {
     "end_time": "2023-03-08T13:38:56.326189Z",
     "start_time": "2023-03-08T13:38:56.316824Z"
    }
   },
   "outputs": [],
   "source": [
    "def load_train_val_data(file_path:str, y_index:int=-1, split_ratio:float=0.3,reshuffle:bool=True) -> (pd.DataFrame, pd.DataFrame,pd.DataFrame, pd.DataFrame) :\n",
    "    \"\"\"\n",
    "    'file_path' = the path to the required file (typically 'train.csv' or 'test.csv' under a 'raw_data' folder)\n",
    "    NB: it can be an absolute or a relative path !\n",
    "    'y_index' expected values = [-1,0,1,2,3,4,5] indicated which evaluation(s) will be returned\n",
    "    'split_ratio'is expected to be >0 and <1 ([0.01-0.99])\n",
    "    data is reshuffled when 'reshuffle'= True!\n",
    "    outputs= (X_train_raw,y_train,X_val_raw,y_val):\n",
    "        X_train_raw, X_test_raw= 2x 2-column DataFrames ['text_id','full_text']  \n",
    "        y_train, y_test= 2x 6-column DataFrames (or  1-column DataFrames if y_index is used)\n",
    "        nb of rows in (X_train_raw,y_train,X_val_raw,y_val) is controlled by the 'split_ratio' kwarg\n",
    "    \"\"\"\n",
    "    df=pd.read_csv(file_path)\n",
    "    if reshuffle:\n",
    "        df=df.sample(frac=1)\n",
    "    len_train=int(df.shape[0]*(1-split_ratio))\n",
    "    X_train_raw=df[['text_id','full_text']].iloc[:len_train,:]\n",
    "    y_train=df[['cohesion', 'syntax', 'vocabulary', 'phraseology', 'grammar', 'conventions']].iloc[:len_train,:]\n",
    "    X_val_raw=df[['text_id','full_text']].iloc[len_train:,:]\n",
    "    y_val=df[['cohesion', 'syntax', 'vocabulary', 'phraseology', 'grammar', 'conventions']].iloc[len_train:,:]    \n",
    "    if y_index >0 and y_index < len(y_train.columns):\n",
    "        y_train=y_train.iloc[:,[y_index]]         \n",
    "        y_val=y_val.iloc[:,[y_index]]         \n",
    "    return X_train_raw,X_val_raw,y_train,y_val"
   ]
  },
  {
   "cell_type": "markdown",
   "id": "bd33406d",
   "metadata": {},
   "source": [
    "## load"
   ]
  },
  {
   "cell_type": "code",
   "execution_count": 6,
   "id": "f8a12b1f",
   "metadata": {
    "ExecuteTime": {
     "end_time": "2023-03-08T13:39:01.869681Z",
     "start_time": "2023-03-08T13:39:01.863966Z"
    }
   },
   "outputs": [],
   "source": [
    "train_path=\"../raw_data/train.csv\""
   ]
  },
  {
   "cell_type": "code",
   "execution_count": 7,
   "id": "2deda76c",
   "metadata": {
    "ExecuteTime": {
     "end_time": "2023-03-08T13:39:04.936940Z",
     "start_time": "2023-03-08T13:39:04.731705Z"
    }
   },
   "outputs": [
    {
     "data": {
      "text/plain": [
       "((3910, 2), (3910, 6))"
      ]
     },
     "execution_count": 7,
     "metadata": {},
     "output_type": "execute_result"
    }
   ],
   "source": [
    "X_raw, y= load_data(train_path)\n",
    "X_raw.shape, y.shape"
   ]
  },
  {
   "cell_type": "code",
   "execution_count": 8,
   "id": "9535b362",
   "metadata": {
    "ExecuteTime": {
     "end_time": "2023-03-08T13:39:07.776440Z",
     "start_time": "2023-03-08T13:39:07.673635Z"
    }
   },
   "outputs": [
    {
     "data": {
      "text/plain": [
       "((2737, 2), (1174, 2), (2737, 6), (1174, 6))"
      ]
     },
     "execution_count": 8,
     "metadata": {},
     "output_type": "execute_result"
    }
   ],
   "source": [
    "X_train_raw,X_val_raw,y_train,y_val=load_train_val_data(train_path, split_ratio=0.3,reshuffle=False)\n",
    "X_train_raw.shape,X_val_raw.shape,y_train.shape,y_val.shape"
   ]
  },
  {
   "cell_type": "markdown",
   "id": "870b3d6a",
   "metadata": {
    "heading_collapsed": true
   },
   "source": [
    "## basic data analysis /unit testing"
   ]
  },
  {
   "cell_type": "code",
   "execution_count": null,
   "id": "5d044890",
   "metadata": {
    "ExecuteTime": {
     "end_time": "2023-03-08T11:21:35.010546Z",
     "start_time": "2023-03-08T11:21:34.998963Z"
    },
    "hidden": true
   },
   "outputs": [],
   "source": [
    "X_raw"
   ]
  },
  {
   "cell_type": "code",
   "execution_count": null,
   "id": "a95b1908",
   "metadata": {
    "ExecuteTime": {
     "end_time": "2023-03-08T09:26:03.393735Z",
     "start_time": "2023-03-08T09:26:03.375370Z"
    },
    "hidden": true
   },
   "outputs": [],
   "source": [
    "X_raw['len_text']=X_raw.full_text.apply(len)\n",
    "print(len(X_raw.full_text[0]))\n",
    "X_raw"
   ]
  },
  {
   "cell_type": "code",
   "execution_count": null,
   "id": "52897d11",
   "metadata": {
    "ExecuteTime": {
     "end_time": "2023-03-08T09:26:08.316742Z",
     "start_time": "2023-03-08T09:26:08.120672Z"
    },
    "hidden": true
   },
   "outputs": [],
   "source": [
    "X_raw.len_text.hist(bins=100)"
   ]
  },
  {
   "cell_type": "code",
   "execution_count": null,
   "id": "efa0e2e7",
   "metadata": {
    "ExecuteTime": {
     "end_time": "2023-03-08T09:26:24.907036Z",
     "start_time": "2023-03-08T09:26:24.898422Z"
    },
    "hidden": true
   },
   "outputs": [],
   "source": [
    "X_raw.len_text.min(),X_raw.len_text.max()"
   ]
  },
  {
   "cell_type": "code",
   "execution_count": null,
   "id": "e4d0a142",
   "metadata": {
    "ExecuteTime": {
     "end_time": "2023-03-08T10:07:00.622975Z",
     "start_time": "2023-03-08T10:07:00.608720Z"
    },
    "hidden": true
   },
   "outputs": [],
   "source": [
    "x0=X_raw.full_text[0]\n",
    "print(len(x0))\n",
    "x0"
   ]
  },
  {
   "cell_type": "code",
   "execution_count": null,
   "id": "7de06f77",
   "metadata": {
    "ExecuteTime": {
     "end_time": "2023-03-08T10:28:25.354232Z",
     "start_time": "2023-03-08T10:28:25.345893Z"
    },
    "hidden": true
   },
   "outputs": [],
   "source": [
    "x0_split=x0.split()\n",
    "print(len(x0_split))\n",
    "x0_split"
   ]
  },
  {
   "cell_type": "code",
   "execution_count": null,
   "id": "1b34b6ec",
   "metadata": {
    "ExecuteTime": {
     "end_time": "2023-03-08T10:41:39.092315Z",
     "start_time": "2023-03-08T10:41:39.070563Z"
    },
    "hidden": true
   },
   "outputs": [],
   "source": [
    "x1=x0.replace(\".\", \" . \")\n",
    "x2=x1.replace(\"\\n\\n\", \" CR \")\n",
    "print(len(x2.split()))\n",
    "x2.split()\n"
   ]
  },
  {
   "cell_type": "markdown",
   "id": "42c020d3",
   "metadata": {},
   "source": [
    "## functionize data pre_processing"
   ]
  },
  {
   "cell_type": "code",
   "execution_count": 9,
   "id": "19eb243a",
   "metadata": {
    "ExecuteTime": {
     "end_time": "2023-03-08T13:39:20.660067Z",
     "start_time": "2023-03-08T13:39:20.654251Z"
    }
   },
   "outputs": [],
   "source": [
    "def simple_text_transform(X:pd.DataFrame)->pd.DataFrame:\n",
    "    \"\"\"\n",
    "    assumption X has a column labelled 'full_text'\n",
    "    modify 'full_text': \n",
    "        *replace '\\n\\n' by 'CR'(=Carriage Return)\n",
    "        *add spaces around dot ('.') punctation mark so that it is counted\n",
    "    add a new column ('character_count')\n",
    "    add a new column ('word_count')\n",
    "    add a new column ('element_count')\n",
    "    \"\"\"\n",
    "    def punctuation_processing(x:str)->str:\n",
    "        x=x.replace(\".\", \" . \")\n",
    "        x=x.replace(\"\\n\\n\", \" CR \")\n",
    "        return x\n",
    "    X1=pd.DataFrame.copy(X)\n",
    "    \n",
    "    X1['character_count']=X1.full_text.apply(len)\n",
    "    X1['word_count']=X1.full_text.apply(lambda x: len(x.split()))\n",
    "    X1.full_text=X1.full_text.apply(punctuation_processing)\n",
    "    X1['element_count']=X1.full_text.apply(lambda x: len(x.split()))\n",
    "    return X1"
   ]
  },
  {
   "cell_type": "code",
   "execution_count": 10,
   "id": "ca742d74",
   "metadata": {
    "ExecuteTime": {
     "end_time": "2023-03-08T13:39:23.586413Z",
     "start_time": "2023-03-08T13:39:23.489399Z"
    }
   },
   "outputs": [
    {
     "data": {
      "text/plain": [
       "((3910, 2), (3910, 6))"
      ]
     },
     "execution_count": 10,
     "metadata": {},
     "output_type": "execute_result"
    }
   ],
   "source": [
    "X_raw, y= load_data(train_path)\n",
    "X_raw.shape, y.shape"
   ]
  },
  {
   "cell_type": "code",
   "execution_count": 11,
   "id": "86f18cbb",
   "metadata": {
    "ExecuteTime": {
     "end_time": "2023-03-08T13:39:25.851350Z",
     "start_time": "2023-03-08T13:39:25.674982Z"
    }
   },
   "outputs": [
    {
     "name": "stdout",
     "output_type": "stream",
     "text": [
      "(3910, 5)\n"
     ]
    },
    {
     "data": {
      "text/html": [
       "<div>\n",
       "<style scoped>\n",
       "    .dataframe tbody tr th:only-of-type {\n",
       "        vertical-align: middle;\n",
       "    }\n",
       "\n",
       "    .dataframe tbody tr th {\n",
       "        vertical-align: top;\n",
       "    }\n",
       "\n",
       "    .dataframe thead th {\n",
       "        text-align: right;\n",
       "    }\n",
       "</style>\n",
       "<table border=\"1\" class=\"dataframe\">\n",
       "  <thead>\n",
       "    <tr style=\"text-align: right;\">\n",
       "      <th></th>\n",
       "      <th>text_id</th>\n",
       "      <th>full_text</th>\n",
       "      <th>character_count</th>\n",
       "      <th>word_count</th>\n",
       "      <th>element_count</th>\n",
       "    </tr>\n",
       "  </thead>\n",
       "  <tbody>\n",
       "    <tr>\n",
       "      <th>0</th>\n",
       "      <td>0016926B079C</td>\n",
       "      <td>I think that students would benefit from learn...</td>\n",
       "      <td>1387</td>\n",
       "      <td>261</td>\n",
       "      <td>282</td>\n",
       "    </tr>\n",
       "    <tr>\n",
       "      <th>1</th>\n",
       "      <td>0022683E9EA5</td>\n",
       "      <td>When a problem is a change you have to let it ...</td>\n",
       "      <td>2635</td>\n",
       "      <td>533</td>\n",
       "      <td>552</td>\n",
       "    </tr>\n",
       "    <tr>\n",
       "      <th>2</th>\n",
       "      <td>00299B378633</td>\n",
       "      <td>Dear, Principal CR If u change the school poli...</td>\n",
       "      <td>1663</td>\n",
       "      <td>320</td>\n",
       "      <td>340</td>\n",
       "    </tr>\n",
       "    <tr>\n",
       "      <th>3</th>\n",
       "      <td>003885A45F42</td>\n",
       "      <td>The best time in life is when you become yours...</td>\n",
       "      <td>3973</td>\n",
       "      <td>728</td>\n",
       "      <td>773</td>\n",
       "    </tr>\n",
       "    <tr>\n",
       "      <th>4</th>\n",
       "      <td>0049B1DF5CCC</td>\n",
       "      <td>Small act of kindness can impact in other peop...</td>\n",
       "      <td>1326</td>\n",
       "      <td>234</td>\n",
       "      <td>239</td>\n",
       "    </tr>\n",
       "    <tr>\n",
       "      <th>...</th>\n",
       "      <td>...</td>\n",
       "      <td>...</td>\n",
       "      <td>...</td>\n",
       "      <td>...</td>\n",
       "      <td>...</td>\n",
       "    </tr>\n",
       "    <tr>\n",
       "      <th>3905</th>\n",
       "      <td>FFCDB2524616</td>\n",
       "      <td>I agree with Ralph Waldo Emerson's \" CR To be ...</td>\n",
       "      <td>1415</td>\n",
       "      <td>263</td>\n",
       "      <td>278</td>\n",
       "    </tr>\n",
       "    <tr>\n",
       "      <th>3906</th>\n",
       "      <td>FFD29828A873</td>\n",
       "      <td>I believe using cellphones in class for educat...</td>\n",
       "      <td>977</td>\n",
       "      <td>179</td>\n",
       "      <td>187</td>\n",
       "    </tr>\n",
       "    <tr>\n",
       "      <th>3907</th>\n",
       "      <td>FFD9A83B0849</td>\n",
       "      <td>Working alone, students do not have to argue w...</td>\n",
       "      <td>2603</td>\n",
       "      <td>465</td>\n",
       "      <td>487</td>\n",
       "    </tr>\n",
       "    <tr>\n",
       "      <th>3908</th>\n",
       "      <td>FFDC4011AC9C</td>\n",
       "      <td>\"A problem is a chance for you to do your best...</td>\n",
       "      <td>1298</td>\n",
       "      <td>257</td>\n",
       "      <td>264</td>\n",
       "    </tr>\n",
       "    <tr>\n",
       "      <th>3909</th>\n",
       "      <td>FFE16D704B16</td>\n",
       "      <td>Many people disagree with Albert Schweitzer's ...</td>\n",
       "      <td>2833</td>\n",
       "      <td>510</td>\n",
       "      <td>533</td>\n",
       "    </tr>\n",
       "  </tbody>\n",
       "</table>\n",
       "<p>3910 rows × 5 columns</p>\n",
       "</div>"
      ],
      "text/plain": [
       "           text_id                                          full_text  \\\n",
       "0     0016926B079C  I think that students would benefit from learn...   \n",
       "1     0022683E9EA5  When a problem is a change you have to let it ...   \n",
       "2     00299B378633  Dear, Principal CR If u change the school poli...   \n",
       "3     003885A45F42  The best time in life is when you become yours...   \n",
       "4     0049B1DF5CCC  Small act of kindness can impact in other peop...   \n",
       "...            ...                                                ...   \n",
       "3905  FFCDB2524616  I agree with Ralph Waldo Emerson's \" CR To be ...   \n",
       "3906  FFD29828A873  I believe using cellphones in class for educat...   \n",
       "3907  FFD9A83B0849  Working alone, students do not have to argue w...   \n",
       "3908  FFDC4011AC9C  \"A problem is a chance for you to do your best...   \n",
       "3909  FFE16D704B16  Many people disagree with Albert Schweitzer's ...   \n",
       "\n",
       "      character_count  word_count  element_count  \n",
       "0                1387         261            282  \n",
       "1                2635         533            552  \n",
       "2                1663         320            340  \n",
       "3                3973         728            773  \n",
       "4                1326         234            239  \n",
       "...               ...         ...            ...  \n",
       "3905             1415         263            278  \n",
       "3906              977         179            187  \n",
       "3907             2603         465            487  \n",
       "3908             1298         257            264  \n",
       "3909             2833         510            533  \n",
       "\n",
       "[3910 rows x 5 columns]"
      ]
     },
     "execution_count": 11,
     "metadata": {},
     "output_type": "execute_result"
    }
   ],
   "source": [
    "X_raw1=simple_text_transform(X_raw)\n",
    "print(X_raw1.shape)\n",
    "X_raw1"
   ]
  },
  {
   "cell_type": "code",
   "execution_count": 12,
   "id": "f8b5c90b",
   "metadata": {
    "ExecuteTime": {
     "end_time": "2023-03-08T13:39:32.090312Z",
     "start_time": "2023-03-08T13:39:32.082783Z"
    }
   },
   "outputs": [
    {
     "name": "stdout",
     "output_type": "stream",
     "text": [
      "character range :  82 6044\n",
      "word range :  14 1260\n",
      "element range :  14 1302\n"
     ]
    }
   ],
   "source": [
    "print('character range : ',X_raw1.character_count.min(),X_raw1.character_count.max())\n",
    "print('word range : ',X_raw1.word_count.min(),X_raw1.word_count.max())\n",
    "print('element range : ',X_raw1.element_count.min(),X_raw1.element_count.max())"
   ]
  },
  {
   "cell_type": "code",
   "execution_count": 13,
   "id": "aa6ca40c",
   "metadata": {
    "ExecuteTime": {
     "end_time": "2023-03-08T13:39:35.276566Z",
     "start_time": "2023-03-08T13:39:34.391978Z"
    }
   },
   "outputs": [
    {
     "data": {
      "text/plain": [
       "array([[<Axes: title={'center': 'character_count'}>,\n",
       "        <Axes: title={'center': 'word_count'}>],\n",
       "       [<Axes: title={'center': 'element_count'}>, <Axes: >]],\n",
       "      dtype=object)"
      ]
     },
     "execution_count": 13,
     "metadata": {},
     "output_type": "execute_result"
    },
    {
     "data": {
      "image/png": "[encoded data removed]",
      "text/plain": [
       "<Figure size 640x480 with 4 Axes>"
      ]
     },
     "metadata": {},
     "output_type": "display_data"
    }
   ],
   "source": [
    "X_raw1.hist()"
   ]
  },
  {
   "cell_type": "markdown",
   "id": "6c87ecdf",
   "metadata": {
    "ExecuteTime": {
     "end_time": "2023-03-07T09:14:45.196369Z",
     "start_time": "2023-03-07T09:14:45.190834Z"
    },
    "heading_collapsed": true
   },
   "source": [
    "# Baseline (simple mean)"
   ]
  },
  {
   "cell_type": "markdown",
   "id": "7dbad3b2",
   "metadata": {
    "heading_collapsed": true,
    "hidden": true
   },
   "source": [
    "## baseline in one cell"
   ]
  },
  {
   "cell_type": "code",
   "execution_count": null,
   "id": "dabf02a3",
   "metadata": {
    "ExecuteTime": {
     "end_time": "2023-03-07T15:10:20.018697Z",
     "start_time": "2023-03-07T15:10:19.960401Z"
    },
    "hidden": true
   },
   "outputs": [],
   "source": [
    "X_train_raw, y_train= load_data(train_path)\n",
    "baseline_score=np.sqrt(((y_train-y_train.mean())**2).mean(axis=0)).mean()\n",
    "baseline_score"
   ]
  },
  {
   "cell_type": "markdown",
   "id": "390c5a4e",
   "metadata": {},
   "source": [
    "# BERT Basic Model"
   ]
  },
  {
   "cell_type": "markdown",
   "id": "a7f63908",
   "metadata": {
    "heading_collapsed": true
   },
   "source": [
    "## Tokenize inputs"
   ]
  },
  {
   "cell_type": "markdown",
   "id": "33400fc5",
   "metadata": {
    "heading_collapsed": true,
    "hidden": true
   },
   "source": [
    "### load tokenizer"
   ]
  },
  {
   "cell_type": "code",
   "execution_count": 14,
   "id": "27d631de",
   "metadata": {
    "ExecuteTime": {
     "end_time": "2023-03-08T13:40:01.529457Z",
     "start_time": "2023-03-08T13:40:01.520879Z"
    },
    "hidden": true
   },
   "outputs": [],
   "source": [
    "from transformers import BertTokenizer"
   ]
  },
  {
   "cell_type": "code",
   "execution_count": 15,
   "id": "0b8908dd",
   "metadata": {
    "ExecuteTime": {
     "end_time": "2023-03-08T13:40:05.136825Z",
     "start_time": "2023-03-08T13:40:04.418031Z"
    },
    "hidden": true
   },
   "outputs": [],
   "source": [
    "tokenizer = BertTokenizer.from_pretrained('bert-base-cased')"
   ]
  },
  {
   "cell_type": "markdown",
   "id": "6b4538c6",
   "metadata": {
    "heading_collapsed": true,
    "hidden": true
   },
   "source": [
    "### unit test tokenizer"
   ]
  },
  {
   "cell_type": "code",
   "execution_count": null,
   "id": "66499274",
   "metadata": {
    "ExecuteTime": {
     "end_time": "2023-03-08T11:36:02.029814Z",
     "start_time": "2023-03-08T11:36:02.018809Z"
    },
    "hidden": true
   },
   "outputs": [],
   "source": [
    "X_raw"
   ]
  },
  {
   "cell_type": "code",
   "execution_count": null,
   "id": "f19c83b4",
   "metadata": {
    "ExecuteTime": {
     "end_time": "2023-03-08T11:36:32.573658Z",
     "start_time": "2023-03-08T11:36:32.563232Z"
    },
    "hidden": true
   },
   "outputs": [],
   "source": [
    "x0_tokenized=tokenizer(X_raw.full_text[0])\n",
    "x0_tokenized"
   ]
  },
  {
   "cell_type": "code",
   "execution_count": null,
   "id": "1362ca6b",
   "metadata": {
    "ExecuteTime": {
     "end_time": "2023-03-08T11:36:38.832829Z",
     "start_time": "2023-03-08T11:36:38.824311Z"
    },
    "hidden": true
   },
   "outputs": [],
   "source": [
    "print(len(x0_tokenized['input_ids']))"
   ]
  },
  {
   "cell_type": "code",
   "execution_count": null,
   "id": "5d9866eb",
   "metadata": {
    "ExecuteTime": {
     "end_time": "2023-03-08T11:37:00.313068Z",
     "start_time": "2023-03-08T11:37:00.307555Z"
    },
    "hidden": true
   },
   "outputs": [],
   "source": [
    "print(tokenizer.decode(x0_tokenized['input_ids']))"
   ]
  },
  {
   "cell_type": "markdown",
   "id": "e28c9429",
   "metadata": {
    "heading_collapsed": true,
    "hidden": true
   },
   "source": [
    "### tokenize clean sheet"
   ]
  },
  {
   "cell_type": "code",
   "execution_count": 81,
   "id": "9c1fe97c",
   "metadata": {
    "ExecuteTime": {
     "end_time": "2023-03-08T15:11:10.918003Z",
     "start_time": "2023-03-08T15:10:36.625176Z"
    },
    "hidden": true
   },
   "outputs": [],
   "source": [
    "X_tokenized=tokenizer(list(X_raw.full_text), padding='max_length',truncation=True,return_tensors=\"tf\",return_token_type_ids=False)"
   ]
  },
  {
   "cell_type": "code",
   "execution_count": 82,
   "id": "cfddcf45",
   "metadata": {
    "ExecuteTime": {
     "end_time": "2023-03-08T15:11:14.676869Z",
     "start_time": "2023-03-08T15:11:14.667728Z"
    },
    "hidden": true
   },
   "outputs": [
    {
     "data": {
      "text/plain": [
       "(dict_keys(['input_ids', 'attention_mask']), TensorShape([3910, 512]))"
      ]
     },
     "execution_count": 82,
     "metadata": {},
     "output_type": "execute_result"
    }
   ],
   "source": [
    "X_tokenized.keys(), X_tokenized['input_ids'].shape"
   ]
  },
  {
   "cell_type": "code",
   "execution_count": 83,
   "id": "feeb517a",
   "metadata": {
    "ExecuteTime": {
     "end_time": "2023-03-08T15:11:24.072169Z",
     "start_time": "2023-03-08T15:11:24.058537Z"
    },
    "collapsed": true,
    "hidden": true
   },
   "outputs": [
    {
     "data": {
      "text/plain": [
       "{'input_ids': <tf.Tensor: shape=(3910, 512), dtype=int32, numpy=\n",
       "array([[  101,   146,  1341, ...,     0,     0,     0],\n",
       "       [  101,  1332,   170, ...,  1106,  1838,   102],\n",
       "       [  101, 12956,   117, ...,     0,     0,     0],\n",
       "       ...,\n",
       "       [  101,  9612,  2041, ...,  2148,  1111,   102],\n",
       "       [  101,   107,   138, ...,     0,     0,     0],\n",
       "       [  101,  2408,  1234, ...,  1112,  1128,   102]], dtype=int32)>, 'attention_mask': <tf.Tensor: shape=(3910, 512), dtype=int32, numpy=\n",
       "array([[1, 1, 1, ..., 0, 0, 0],\n",
       "       [1, 1, 1, ..., 1, 1, 1],\n",
       "       [1, 1, 1, ..., 0, 0, 0],\n",
       "       ...,\n",
       "       [1, 1, 1, ..., 1, 1, 1],\n",
       "       [1, 1, 1, ..., 0, 0, 0],\n",
       "       [1, 1, 1, ..., 1, 1, 1]], dtype=int32)>}"
      ]
     },
     "execution_count": 83,
     "metadata": {},
     "output_type": "execute_result"
    }
   ],
   "source": [
    "X_tokenized"
   ]
  },
  {
   "cell_type": "code",
   "execution_count": 84,
   "id": "72b1a1b2",
   "metadata": {
    "ExecuteTime": {
     "end_time": "2023-03-08T15:12:10.965452Z",
     "start_time": "2023-03-08T15:12:10.951961Z"
    },
    "collapsed": true,
    "hidden": true
   },
   "outputs": [
    {
     "data": {
      "text/plain": [
       "<tf.Tensor: shape=(512,), dtype=int32, numpy=\n",
       "array([  101,   146,  1341,  1115,  1651,  1156,  5257,  1121,  3776,\n",
       "        1120,  1313,   117,  1272,  1152,  1281,  1204,  1138,  1106,\n",
       "        1849,  1105,  1243,  1146,  1346,  1107,  1103,  2106,  1106,\n",
       "        5946,  1105,  1202,  1175,  1716,   119,  1781,  1178,  3553,\n",
       "        6618,  1172,  1272,  1120,  1175,  1402,  1152,   112,  1325,\n",
       "        1129,  2653,  1167,  2209,   119,  1152,  1209,  1129,  6062,\n",
       "        1120,  1313,   119,  1109, 20773,  1226,  1104,  1278,  1110,\n",
       "        2033,  2407,   119,  1128,  5314,  1146,  1301,  8415,  1240,\n",
       "        3307,  1105,  1301,  1106,  1240,  9369,  1105,  1440,  1120,\n",
       "        1240,  8217,  1116,   119,  1170,  1128,  1341,  1128,  3015,\n",
       "         170, 11378,   190,  1301,  1440,  1107,  1103,  5220,  1105,\n",
       "        1128,  2339,  1719,  1136,  1176,  1122,  1137,  1128,  1440,\n",
       "        1105,  1267,   170, 24754,   119,  1599,  1128,   112,  1325,\n",
       "        1138,  1106,  1849,   119,  1114,  1103,  3294,  3553,  1128,\n",
       "        1169,  4330,  1625,  1105,  2215,  1313,  1105,  1128,  1281,\n",
       "        1204,  1444,  1106,  6600,  1164,  1184,  1106,  4330,   119,\n",
       "        1211,  1651,  1932,  1321,  5946,  1116,  1196,  1278,   119,\n",
       "        1152,  1719,  1321,  1122,  1196,  1152,  2946,  1137,  1165,\n",
       "        1152,  5314,  1146,   119,  1199,  1651,  1202,  1241,  1106,\n",
       "        4773,  1363,   119,  1115,  4680,  1172,  1202,  5529,  1103,\n",
       "        3592,  1105,  3154,  1113,  1175, 11788,  1159,  2612,  1152,\n",
       "        1435,  1523,  1106,  1278,   119,  1165,   190,  1138,  3294,\n",
       "        3553,   190,  1281,  1204,  1444,  1106,  5529,  8497,  2612,\n",
       "        1128,  1169,  1243,  1917,  1383,  1146,  1105,  1301,  1321,\n",
       "         170,  5946,  1105,  1165,   190,  1243,  1149,  1240,  2407,\n",
       "        1106,  1301,   119,  1165,  1240,  1313,  1240,  6062,  1105,\n",
       "        1128,  2653,  2209,   119,  1122,  3114,  1173,  1126,  4316,\n",
       "        1106,  1129,  6866,  1200,  1105,  1256,  2789,  1175, 22150,\n",
       "        1113,  1705,  1250,   119,  1470,  2126,  1132,  2846,  1256,\n",
       "        1191,  1128,  2222,   119,  1199,  3218,  1274,  1204,  1221,\n",
       "        1293,  1106,  6215,  1122,  1107,  1173,  1236,  1115,  1651,\n",
       "        2437,  1122,   119,  1115,  4680,  1651,  1106,  8693,  1105,\n",
       "        1152,  1336,  9488,  1103,  1705,   119,   102,     0,     0,\n",
       "           0,     0,     0,     0,     0,     0,     0,     0,     0,\n",
       "           0,     0,     0,     0,     0,     0,     0,     0,     0,\n",
       "           0,     0,     0,     0,     0,     0,     0,     0,     0,\n",
       "           0,     0,     0,     0,     0,     0,     0,     0,     0,\n",
       "           0,     0,     0,     0,     0,     0,     0,     0,     0,\n",
       "           0,     0,     0,     0,     0,     0,     0,     0,     0,\n",
       "           0,     0,     0,     0,     0,     0,     0,     0,     0,\n",
       "           0,     0,     0,     0,     0,     0,     0,     0,     0,\n",
       "           0,     0,     0,     0,     0,     0,     0,     0,     0,\n",
       "           0,     0,     0,     0,     0,     0,     0,     0,     0,\n",
       "           0,     0,     0,     0,     0,     0,     0,     0,     0,\n",
       "           0,     0,     0,     0,     0,     0,     0,     0,     0,\n",
       "           0,     0,     0,     0,     0,     0,     0,     0,     0,\n",
       "           0,     0,     0,     0,     0,     0,     0,     0,     0,\n",
       "           0,     0,     0,     0,     0,     0,     0,     0,     0,\n",
       "           0,     0,     0,     0,     0,     0,     0,     0,     0,\n",
       "           0,     0,     0,     0,     0,     0,     0,     0,     0,\n",
       "           0,     0,     0,     0,     0,     0,     0,     0,     0,\n",
       "           0,     0,     0,     0,     0,     0,     0,     0,     0,\n",
       "           0,     0,     0,     0,     0,     0,     0,     0,     0,\n",
       "           0,     0,     0,     0,     0,     0,     0,     0,     0,\n",
       "           0,     0,     0,     0,     0,     0,     0,     0,     0,\n",
       "           0,     0,     0,     0,     0,     0,     0,     0,     0,\n",
       "           0,     0,     0,     0,     0,     0,     0,     0],\n",
       "      dtype=int32)>"
      ]
     },
     "execution_count": 84,
     "metadata": {},
     "output_type": "execute_result"
    }
   ],
   "source": [
    "X_tokenized['input_ids'][0]"
   ]
  },
  {
   "cell_type": "markdown",
   "id": "ec511fef",
   "metadata": {},
   "source": [
    "## Built model"
   ]
  },
  {
   "cell_type": "markdown",
   "id": "ed3294fc",
   "metadata": {
    "heading_collapsed": true
   },
   "source": [
    "### model dirty gardenning"
   ]
  },
  {
   "cell_type": "code",
   "execution_count": 16,
   "id": "b41f9cad",
   "metadata": {
    "ExecuteTime": {
     "end_time": "2023-03-08T13:40:12.513945Z",
     "start_time": "2023-03-08T13:40:12.495004Z"
    },
    "hidden": true
   },
   "outputs": [
    {
     "data": {
      "text/html": [
       "<div>\n",
       "<style scoped>\n",
       "    .dataframe tbody tr th:only-of-type {\n",
       "        vertical-align: middle;\n",
       "    }\n",
       "\n",
       "    .dataframe tbody tr th {\n",
       "        vertical-align: top;\n",
       "    }\n",
       "\n",
       "    .dataframe thead th {\n",
       "        text-align: right;\n",
       "    }\n",
       "</style>\n",
       "<table border=\"1\" class=\"dataframe\">\n",
       "  <thead>\n",
       "    <tr style=\"text-align: right;\">\n",
       "      <th></th>\n",
       "      <th>text_id</th>\n",
       "      <th>full_text</th>\n",
       "    </tr>\n",
       "  </thead>\n",
       "  <tbody>\n",
       "    <tr>\n",
       "      <th>0</th>\n",
       "      <td>0016926B079C</td>\n",
       "      <td>I think that students would benefit from learn...</td>\n",
       "    </tr>\n",
       "    <tr>\n",
       "      <th>1</th>\n",
       "      <td>0022683E9EA5</td>\n",
       "      <td>When a problem is a change you have to let it ...</td>\n",
       "    </tr>\n",
       "    <tr>\n",
       "      <th>2</th>\n",
       "      <td>00299B378633</td>\n",
       "      <td>Dear, Principal\\n\\nIf u change the school poli...</td>\n",
       "    </tr>\n",
       "    <tr>\n",
       "      <th>3</th>\n",
       "      <td>003885A45F42</td>\n",
       "      <td>The best time in life is when you become yours...</td>\n",
       "    </tr>\n",
       "    <tr>\n",
       "      <th>4</th>\n",
       "      <td>0049B1DF5CCC</td>\n",
       "      <td>Small act of kindness can impact in other peop...</td>\n",
       "    </tr>\n",
       "    <tr>\n",
       "      <th>...</th>\n",
       "      <td>...</td>\n",
       "      <td>...</td>\n",
       "    </tr>\n",
       "    <tr>\n",
       "      <th>3905</th>\n",
       "      <td>FFCDB2524616</td>\n",
       "      <td>I agree with Ralph Waldo Emerson's \"\\n\\nTo be ...</td>\n",
       "    </tr>\n",
       "    <tr>\n",
       "      <th>3906</th>\n",
       "      <td>FFD29828A873</td>\n",
       "      <td>I believe using cellphones in class for educat...</td>\n",
       "    </tr>\n",
       "    <tr>\n",
       "      <th>3907</th>\n",
       "      <td>FFD9A83B0849</td>\n",
       "      <td>Working alone, students do not have to argue w...</td>\n",
       "    </tr>\n",
       "    <tr>\n",
       "      <th>3908</th>\n",
       "      <td>FFDC4011AC9C</td>\n",
       "      <td>\"A problem is a chance for you to do your best...</td>\n",
       "    </tr>\n",
       "    <tr>\n",
       "      <th>3909</th>\n",
       "      <td>FFE16D704B16</td>\n",
       "      <td>Many people disagree with Albert Schweitzer's ...</td>\n",
       "    </tr>\n",
       "  </tbody>\n",
       "</table>\n",
       "<p>3910 rows × 2 columns</p>\n",
       "</div>"
      ],
      "text/plain": [
       "           text_id                                          full_text\n",
       "0     0016926B079C  I think that students would benefit from learn...\n",
       "1     0022683E9EA5  When a problem is a change you have to let it ...\n",
       "2     00299B378633  Dear, Principal\\n\\nIf u change the school poli...\n",
       "3     003885A45F42  The best time in life is when you become yours...\n",
       "4     0049B1DF5CCC  Small act of kindness can impact in other peop...\n",
       "...            ...                                                ...\n",
       "3905  FFCDB2524616  I agree with Ralph Waldo Emerson's \"\\n\\nTo be ...\n",
       "3906  FFD29828A873  I believe using cellphones in class for educat...\n",
       "3907  FFD9A83B0849  Working alone, students do not have to argue w...\n",
       "3908  FFDC4011AC9C  \"A problem is a chance for you to do your best...\n",
       "3909  FFE16D704B16  Many people disagree with Albert Schweitzer's ...\n",
       "\n",
       "[3910 rows x 2 columns]"
      ]
     },
     "execution_count": 16,
     "metadata": {},
     "output_type": "execute_result"
    }
   ],
   "source": [
    "X_raw"
   ]
  },
  {
   "cell_type": "code",
   "execution_count": 79,
   "id": "e8f30a18",
   "metadata": {
    "ExecuteTime": {
     "end_time": "2023-03-08T15:09:47.979509Z",
     "start_time": "2023-03-08T15:09:47.971584Z"
    },
    "hidden": true
   },
   "outputs": [],
   "source": [
    "from transformers import TFBertModel"
   ]
  },
  {
   "cell_type": "code",
   "execution_count": 80,
   "id": "cda17aa0",
   "metadata": {
    "ExecuteTime": {
     "end_time": "2023-03-08T15:10:00.172451Z",
     "start_time": "2023-03-08T15:09:56.012603Z"
    },
    "hidden": true
   },
   "outputs": [
    {
     "name": "stderr",
     "output_type": "stream",
     "text": [
      "Some layers from the model checkpoint at bert-base-cased were not used when initializing TFBertModel: ['mlm___cls', 'nsp___cls']\n",
      "- This IS expected if you are initializing TFBertModel from the checkpoint of a model trained on another task or with another architecture (e.g. initializing a BertForSequenceClassification model from a BertForPreTraining model).\n",
      "- This IS NOT expected if you are initializing TFBertModel from the checkpoint of a model that you expect to be exactly identical (initializing a BertForSequenceClassification model from a BertForSequenceClassification model).\n",
      "All the layers of TFBertModel were initialized from the model checkpoint at bert-base-cased.\n",
      "If your task is similar to the task the model of the checkpoint was trained on, you can already use TFBertModel for predictions without further training.\n"
     ]
    }
   ],
   "source": [
    "# Load pretrained model/tokenizer\n",
    "model = TFBertModel.from_pretrained('bert-base-cased')"
   ]
  },
  {
   "cell_type": "code",
   "execution_count": 32,
   "id": "6b4a14a2",
   "metadata": {
    "ExecuteTime": {
     "end_time": "2023-03-08T13:55:58.023915Z",
     "start_time": "2023-03-08T13:55:57.984916Z"
    },
    "collapsed": true,
    "hidden": true
   },
   "outputs": [
    {
     "data": {
      "text/plain": [
       "<tf.Tensor: shape=(512,), dtype=int32, numpy=\n",
       "array([  101,   146,  1341,  1115,  1651,  1156,  5257,  1121,  3776,\n",
       "        1120,  1313,   117,  1272,  1152,  1281,  1204,  1138,  1106,\n",
       "        1849,  1105,  1243,  1146,  1346,  1107,  1103,  2106,  1106,\n",
       "        5946,  1105,  1202,  1175,  1716,   119,  1781,  1178,  3553,\n",
       "        6618,  1172,  1272,  1120,  1175,  1402,  1152,   112,  1325,\n",
       "        1129,  2653,  1167,  2209,   119,  1152,  1209,  1129,  6062,\n",
       "        1120,  1313,   119,  1109, 20773,  1226,  1104,  1278,  1110,\n",
       "        2033,  2407,   119,  1128,  5314,  1146,  1301,  8415,  1240,\n",
       "        3307,  1105,  1301,  1106,  1240,  9369,  1105,  1440,  1120,\n",
       "        1240,  8217,  1116,   119,  1170,  1128,  1341,  1128,  3015,\n",
       "         170, 11378,   190,  1301,  1440,  1107,  1103,  5220,  1105,\n",
       "        1128,  2339,  1719,  1136,  1176,  1122,  1137,  1128,  1440,\n",
       "        1105,  1267,   170, 24754,   119,  1599,  1128,   112,  1325,\n",
       "        1138,  1106,  1849,   119,  1114,  1103,  3294,  3553,  1128,\n",
       "        1169,  4330,  1625,  1105,  2215,  1313,  1105,  1128,  1281,\n",
       "        1204,  1444,  1106,  6600,  1164,  1184,  1106,  4330,   119,\n",
       "        1211,  1651,  1932,  1321,  5946,  1116,  1196,  1278,   119,\n",
       "        1152,  1719,  1321,  1122,  1196,  1152,  2946,  1137,  1165,\n",
       "        1152,  5314,  1146,   119,  1199,  1651,  1202,  1241,  1106,\n",
       "        4773,  1363,   119,  1115,  4680,  1172,  1202,  5529,  1103,\n",
       "        3592,  1105,  3154,  1113,  1175, 11788,  1159,  2612,  1152,\n",
       "        1435,  1523,  1106,  1278,   119,  1165,   190,  1138,  3294,\n",
       "        3553,   190,  1281,  1204,  1444,  1106,  5529,  8497,  2612,\n",
       "        1128,  1169,  1243,  1917,  1383,  1146,  1105,  1301,  1321,\n",
       "         170,  5946,  1105,  1165,   190,  1243,  1149,  1240,  2407,\n",
       "        1106,  1301,   119,  1165,  1240,  1313,  1240,  6062,  1105,\n",
       "        1128,  2653,  2209,   119,  1122,  3114,  1173,  1126,  4316,\n",
       "        1106,  1129,  6866,  1200,  1105,  1256,  2789,  1175, 22150,\n",
       "        1113,  1705,  1250,   119,  1470,  2126,  1132,  2846,  1256,\n",
       "        1191,  1128,  2222,   119,  1199,  3218,  1274,  1204,  1221,\n",
       "        1293,  1106,  6215,  1122,  1107,  1173,  1236,  1115,  1651,\n",
       "        2437,  1122,   119,  1115,  4680,  1651,  1106,  8693,  1105,\n",
       "        1152,  1336,  9488,  1103,  1705,   119,   102,     0,     0,\n",
       "           0,     0,     0,     0,     0,     0,     0,     0,     0,\n",
       "           0,     0,     0,     0,     0,     0,     0,     0,     0,\n",
       "           0,     0,     0,     0,     0,     0,     0,     0,     0,\n",
       "           0,     0,     0,     0,     0,     0,     0,     0,     0,\n",
       "           0,     0,     0,     0,     0,     0,     0,     0,     0,\n",
       "           0,     0,     0,     0,     0,     0,     0,     0,     0,\n",
       "           0,     0,     0,     0,     0,     0,     0,     0,     0,\n",
       "           0,     0,     0,     0,     0,     0,     0,     0,     0,\n",
       "           0,     0,     0,     0,     0,     0,     0,     0,     0,\n",
       "           0,     0,     0,     0,     0,     0,     0,     0,     0,\n",
       "           0,     0,     0,     0,     0,     0,     0,     0,     0,\n",
       "           0,     0,     0,     0,     0,     0,     0,     0,     0,\n",
       "           0,     0,     0,     0,     0,     0,     0,     0,     0,\n",
       "           0,     0,     0,     0,     0,     0,     0,     0,     0,\n",
       "           0,     0,     0,     0,     0,     0,     0,     0,     0,\n",
       "           0,     0,     0,     0,     0,     0,     0,     0,     0,\n",
       "           0,     0,     0,     0,     0,     0,     0,     0,     0,\n",
       "           0,     0,     0,     0,     0,     0,     0,     0,     0,\n",
       "           0,     0,     0,     0,     0,     0,     0,     0,     0,\n",
       "           0,     0,     0,     0,     0,     0,     0,     0,     0,\n",
       "           0,     0,     0,     0,     0,     0,     0,     0,     0,\n",
       "           0,     0,     0,     0,     0,     0,     0,     0,     0,\n",
       "           0,     0,     0,     0,     0,     0,     0,     0,     0,\n",
       "           0,     0,     0,     0,     0,     0,     0,     0],\n",
       "      dtype=int32)>"
      ]
     },
     "execution_count": 32,
     "metadata": {},
     "output_type": "execute_result"
    }
   ],
   "source": [
    "X_tokenized['input_ids'][0]"
   ]
  },
  {
   "cell_type": "code",
   "execution_count": 23,
   "id": "b043aade",
   "metadata": {
    "ExecuteTime": {
     "end_time": "2023-03-08T13:47:53.180022Z",
     "start_time": "2023-03-08T13:47:53.118916Z"
    },
    "hidden": true
   },
   "outputs": [
    {
     "name": "stdout",
     "output_type": "stream",
     "text": [
      "Model: \"tf_bert_model\"\n",
      "_________________________________________________________________\n",
      " Layer (type)                Output Shape              Param #   \n",
      "=================================================================\n",
      " bert (TFBertMainLayer)      multiple                  108310272 \n",
      "                                                                 \n",
      "=================================================================\n",
      "Total params: 108,310,272\n",
      "Trainable params: 108,310,272\n",
      "Non-trainable params: 0\n",
      "_________________________________________________________________\n"
     ]
    }
   ],
   "source": [
    "model.summary()"
   ]
  },
  {
   "cell_type": "code",
   "execution_count": 58,
   "id": "e33663a7",
   "metadata": {
    "ExecuteTime": {
     "end_time": "2023-03-08T14:27:13.736783Z",
     "start_time": "2023-03-08T14:27:13.731243Z"
    },
    "hidden": true
   },
   "outputs": [],
   "source": [
    "from tensorflow.keras import layers,Model"
   ]
  },
  {
   "cell_type": "code",
   "execution_count": 50,
   "id": "8db9b21d",
   "metadata": {
    "ExecuteTime": {
     "end_time": "2023-03-08T14:18:40.283713Z",
     "start_time": "2023-03-08T14:18:36.122363Z"
    },
    "hidden": true
   },
   "outputs": [
    {
     "name": "stderr",
     "output_type": "stream",
     "text": [
      "Some layers from the model checkpoint at bert-base-cased were not used when initializing TFBertModel: ['mlm___cls', 'nsp___cls']\n",
      "- This IS expected if you are initializing TFBertModel from the checkpoint of a model trained on another task or with another architecture (e.g. initializing a BertForSequenceClassification model from a BertForPreTraining model).\n",
      "- This IS NOT expected if you are initializing TFBertModel from the checkpoint of a model that you expect to be exactly identical (initializing a BertForSequenceClassification model from a BertForSequenceClassification model).\n",
      "All the layers of TFBertModel were initialized from the model checkpoint at bert-base-cased.\n",
      "If your task is similar to the task the model of the checkpoint was trained on, you can already use TFBertModel for predictions without further training.\n"
     ]
    }
   ],
   "source": [
    "token_ids =layers.Input(shape=(512,),dtype=np.int32,name='input_ids')\n",
    "attention_mask = layers.Input(shape=(512,),dtype=np.int32,name='attention_mask')\n",
    "backbone = TFBertModel.from_pretrained('bert-base-cased')\n",
    "backbone.trainable = False"
   ]
  },
  {
   "cell_type": "code",
   "execution_count": 51,
   "id": "7ec6680c",
   "metadata": {
    "ExecuteTime": {
     "end_time": "2023-03-08T14:18:41.957212Z",
     "start_time": "2023-03-08T14:18:40.795199Z"
    },
    "hidden": true
   },
   "outputs": [],
   "source": [
    "output= backbone(dict(input_ids=token_ids,attention_mask=attention_mask))"
   ]
  },
  {
   "cell_type": "code",
   "execution_count": 52,
   "id": "522c5f62",
   "metadata": {
    "ExecuteTime": {
     "end_time": "2023-03-08T14:18:45.079446Z",
     "start_time": "2023-03-08T14:18:45.073568Z"
    },
    "hidden": true,
    "scrolled": true
   },
   "outputs": [
    {
     "data": {
      "text/plain": [
       "{'last_hidden_state': <KerasTensor: shape=(None, 512, 768) dtype=float32 (created by layer 'tf_bert_model_3')>,\n",
       " 'pooler_output': <KerasTensor: shape=(None, 768) dtype=float32 (created by layer 'tf_bert_model_3')>,\n",
       " 'past_key_values': None,\n",
       " 'hidden_states': None,\n",
       " 'attentions': None,\n",
       " 'cross_attentions': None}"
      ]
     },
     "execution_count": 52,
     "metadata": {},
     "output_type": "execute_result"
    }
   ],
   "source": [
    "output.__dict__"
   ]
  },
  {
   "cell_type": "code",
   "execution_count": 53,
   "id": "f40b41e1",
   "metadata": {
    "ExecuteTime": {
     "end_time": "2023-03-08T14:18:47.985398Z",
     "start_time": "2023-03-08T14:18:47.969195Z"
    },
    "hidden": true
   },
   "outputs": [],
   "source": [
    "x = layers.Dense(128,activation='relu')(output[1])"
   ]
  },
  {
   "cell_type": "code",
   "execution_count": 54,
   "id": "fffbedd9",
   "metadata": {
    "ExecuteTime": {
     "end_time": "2023-03-08T14:19:29.548148Z",
     "start_time": "2023-03-08T14:19:29.529116Z"
    },
    "hidden": true
   },
   "outputs": [],
   "source": [
    "output = layers.Dense(6,activation='linear')(x)"
   ]
  },
  {
   "cell_type": "code",
   "execution_count": 55,
   "id": "6c48aedd",
   "metadata": {
    "ExecuteTime": {
     "end_time": "2023-03-08T14:19:29.548148Z",
     "start_time": "2023-03-08T14:19:29.529116Z"
    },
    "hidden": true
   },
   "outputs": [],
   "source": [
    "model = Model(inputs=dict(input_ids=token_ids,attention_mask=attention_mask),outputs=output)"
   ]
  },
  {
   "cell_type": "code",
   "execution_count": 57,
   "id": "5ef20fa7",
   "metadata": {
    "ExecuteTime": {
     "end_time": "2023-03-08T14:20:33.009913Z",
     "start_time": "2023-03-08T14:20:32.921966Z"
    },
    "hidden": true
   },
   "outputs": [
    {
     "name": "stdout",
     "output_type": "stream",
     "text": [
      "Model: \"model\"\n",
      "__________________________________________________________________________________________________\n",
      " Layer (type)                   Output Shape         Param #     Connected to                     \n",
      "==================================================================================================\n",
      " attention_mask (InputLayer)    [(None, 512)]        0           []                               \n",
      "                                                                                                  \n",
      " input_ids (InputLayer)         [(None, 512)]        0           []                               \n",
      "                                                                                                  \n",
      " tf_bert_model_3 (TFBertModel)  TFBaseModelOutputWi  108310272   ['attention_mask[0][0]',         \n",
      "                                thPoolingAndCrossAt               'input_ids[0][0]']              \n",
      "                                tentions(last_hidde                                               \n",
      "                                n_state=(None, 512,                                               \n",
      "                                 768),                                                            \n",
      "                                 pooler_output=(Non                                               \n",
      "                                e, 768),                                                          \n",
      "                                 past_key_values=No                                               \n",
      "                                ne, hidden_states=N                                               \n",
      "                                one, attentions=Non                                               \n",
      "                                e, cross_attentions                                               \n",
      "                                =None)                                                            \n",
      "                                                                                                  \n",
      " dense_1 (Dense)                (None, 128)          98432       ['tf_bert_model_3[0][1]']        \n",
      "                                                                                                  \n",
      " dense_2 (Dense)                (None, 6)            774         ['dense_1[0][0]']                \n",
      "                                                                                                  \n",
      "==================================================================================================\n",
      "Total params: 108,409,478\n",
      "Trainable params: 99,206\n",
      "Non-trainable params: 108,310,272\n",
      "__________________________________________________________________________________________________\n"
     ]
    }
   ],
   "source": [
    "model.summary()"
   ]
  },
  {
   "cell_type": "code",
   "execution_count": 60,
   "id": "c67e6b2f",
   "metadata": {
    "ExecuteTime": {
     "end_time": "2023-03-08T14:27:46.411524Z",
     "start_time": "2023-03-08T14:27:46.405997Z"
    },
    "hidden": true
   },
   "outputs": [
    {
     "name": "stdout",
     "output_type": "stream",
     "text": [
      "You must install pydot (`pip install pydot`) and install graphviz (see instructions at https://graphviz.gitlab.io/download/) for plot_model to work.\n"
     ]
    }
   ],
   "source": [
    "utils.plot_model(model,show_shapes=True)"
   ]
  },
  {
   "cell_type": "code",
   "execution_count": 63,
   "id": "70544988",
   "metadata": {
    "ExecuteTime": {
     "end_time": "2023-03-08T14:36:54.246295Z",
     "start_time": "2023-03-08T14:36:54.107791Z"
    },
    "hidden": true
   },
   "outputs": [],
   "source": [
    "#parallele layers : 1 layer for each output (score)\n",
    "cohesion_output=layers.Dense(1, activation=\"linear\", name=\"cohesion\")(x)\n",
    "syntax_output=layers.Dense(1, activation=\"linear\", name=\"syntax\")(x)\n",
    "vocabulary_output=layers.Dense(1, activation=\"linear\", name=\"vocabulary\")(x)\n",
    "phraseology_output=layers.Dense(1, activation=\"linear\", name=\"phraseology\")(x)\n",
    "grammar_output=layers.Dense(1, activation=\"linear\", name=\"grammar\")(x)\n",
    "conventions_output=layers.Dense(1, activation=\"linear\", name=\"conventions\")(x)\n",
    "\n",
    "# Assembling the model\n",
    "model2 = Model(inputs=dict(input_ids=token_ids,attention_mask=attention_mask), outputs=[cohesion_output, syntax_output, vocabulary_output, phraseology_output, grammar_output, conventions_output])"
   ]
  },
  {
   "cell_type": "code",
   "execution_count": 64,
   "id": "97374a30",
   "metadata": {
    "ExecuteTime": {
     "end_time": "2023-03-08T14:37:06.703882Z",
     "start_time": "2023-03-08T14:37:06.575045Z"
    },
    "hidden": true
   },
   "outputs": [
    {
     "name": "stdout",
     "output_type": "stream",
     "text": [
      "Model: \"model_1\"\n",
      "__________________________________________________________________________________________________\n",
      " Layer (type)                   Output Shape         Param #     Connected to                     \n",
      "==================================================================================================\n",
      " attention_mask (InputLayer)    [(None, 512)]        0           []                               \n",
      "                                                                                                  \n",
      " input_ids (InputLayer)         [(None, 512)]        0           []                               \n",
      "                                                                                                  \n",
      " tf_bert_model_3 (TFBertModel)  TFBaseModelOutputWi  108310272   ['attention_mask[0][0]',         \n",
      "                                thPoolingAndCrossAt               'input_ids[0][0]']              \n",
      "                                tentions(last_hidde                                               \n",
      "                                n_state=(None, 512,                                               \n",
      "                                 768),                                                            \n",
      "                                 pooler_output=(Non                                               \n",
      "                                e, 768),                                                          \n",
      "                                 past_key_values=No                                               \n",
      "                                ne, hidden_states=N                                               \n",
      "                                one, attentions=Non                                               \n",
      "                                e, cross_attentions                                               \n",
      "                                =None)                                                            \n",
      "                                                                                                  \n",
      " dense_1 (Dense)                (None, 128)          98432       ['tf_bert_model_3[0][1]']        \n",
      "                                                                                                  \n",
      " cohesion (Dense)               (None, 1)            129         ['dense_1[0][0]']                \n",
      "                                                                                                  \n",
      " syntax (Dense)                 (None, 1)            129         ['dense_1[0][0]']                \n",
      "                                                                                                  \n",
      " vocabulary (Dense)             (None, 1)            129         ['dense_1[0][0]']                \n",
      "                                                                                                  \n",
      " phraseology (Dense)            (None, 1)            129         ['dense_1[0][0]']                \n",
      "                                                                                                  \n",
      " grammar (Dense)                (None, 1)            129         ['dense_1[0][0]']                \n",
      "                                                                                                  \n",
      " conventions (Dense)            (None, 1)            129         ['dense_1[0][0]']                \n",
      "                                                                                                  \n",
      "==================================================================================================\n",
      "Total params: 108,409,478\n",
      "Trainable params: 99,206\n",
      "Non-trainable params: 108,310,272\n",
      "__________________________________________________________________________________________________\n"
     ]
    }
   ],
   "source": [
    "model2.summary()"
   ]
  },
  {
   "cell_type": "markdown",
   "id": "e64b59f8",
   "metadata": {
    "heading_collapsed": true
   },
   "source": [
    "### Model clean sheet"
   ]
  },
  {
   "cell_type": "code",
   "execution_count": 70,
   "id": "9a2bdc5f",
   "metadata": {
    "ExecuteTime": {
     "end_time": "2023-03-08T14:58:04.690500Z",
     "start_time": "2023-03-08T14:58:04.684210Z"
    },
    "hidden": true
   },
   "outputs": [],
   "source": [
    "from transformers import TFBertModel\n",
    "from tensorflow.keras import layers,Model"
   ]
  },
  {
   "cell_type": "code",
   "execution_count": 71,
   "id": "6c34ce9b",
   "metadata": {
    "ExecuteTime": {
     "end_time": "2023-03-08T14:58:14.456643Z",
     "start_time": "2023-03-08T14:58:09.924986Z"
    },
    "hidden": true
   },
   "outputs": [
    {
     "name": "stderr",
     "output_type": "stream",
     "text": [
      "Some layers from the model checkpoint at bert-base-cased were not used when initializing TFBertModel: ['mlm___cls', 'nsp___cls']\n",
      "- This IS expected if you are initializing TFBertModel from the checkpoint of a model trained on another task or with another architecture (e.g. initializing a BertForSequenceClassification model from a BertForPreTraining model).\n",
      "- This IS NOT expected if you are initializing TFBertModel from the checkpoint of a model that you expect to be exactly identical (initializing a BertForSequenceClassification model from a BertForSequenceClassification model).\n",
      "All the layers of TFBertModel were initialized from the model checkpoint at bert-base-cased.\n",
      "If your task is similar to the task the model of the checkpoint was trained on, you can already use TFBertModel for predictions without further training.\n"
     ]
    }
   ],
   "source": [
    "# Load pretrained model/tokenizer\n",
    "bert = TFBertModel.from_pretrained('bert-base-cased')\n",
    "bert.trainable=False"
   ]
  },
  {
   "cell_type": "code",
   "execution_count": 72,
   "id": "adc06d59",
   "metadata": {
    "ExecuteTime": {
     "end_time": "2023-03-08T14:58:14.479826Z",
     "start_time": "2023-03-08T14:58:14.464046Z"
    },
    "hidden": true
   },
   "outputs": [],
   "source": [
    "token_ids_layer =layers.Input(shape=(512,),dtype=np.int32,name='input_ids')\n",
    "attention_mask_layer = layers.Input(shape=(512,),dtype=np.int32,name='attention_mask')"
   ]
  },
  {
   "cell_type": "code",
   "execution_count": 73,
   "id": "ddf08913",
   "metadata": {
    "ExecuteTime": {
     "end_time": "2023-03-08T14:58:19.800601Z",
     "start_time": "2023-03-08T14:58:19.759538Z"
    },
    "hidden": true
   },
   "outputs": [],
   "source": [
    "input_layer=dict(input_ids=token_ids_layer,attention_mask=attention_mask_layer)"
   ]
  },
  {
   "cell_type": "code",
   "execution_count": 74,
   "id": "ce5c3416",
   "metadata": {
    "ExecuteTime": {
     "end_time": "2023-03-08T14:58:25.038654Z",
     "start_time": "2023-03-08T14:58:22.298694Z"
    },
    "hidden": true
   },
   "outputs": [],
   "source": [
    "pooler_output_layer= bert(input_layer)[1]"
   ]
  },
  {
   "cell_type": "code",
   "execution_count": 75,
   "id": "087d40da",
   "metadata": {
    "ExecuteTime": {
     "end_time": "2023-03-08T14:58:28.234499Z",
     "start_time": "2023-03-08T14:58:28.209096Z"
    },
    "hidden": true
   },
   "outputs": [],
   "source": [
    "dense1_layer = layers.Dense(128,activation='relu')(pooler_output_layer)"
   ]
  },
  {
   "cell_type": "code",
   "execution_count": 76,
   "id": "17b9f3bb",
   "metadata": {
    "ExecuteTime": {
     "end_time": "2023-03-08T14:58:35.998805Z",
     "start_time": "2023-03-08T14:58:35.917255Z"
    },
    "hidden": true
   },
   "outputs": [],
   "source": [
    "#parallel layers : 1 layer for each output (score)\n",
    "cohesion_output=layers.Dense(1, activation=\"linear\", name=\"cohesion\")(dense1_layer)\n",
    "syntax_output=layers.Dense(1, activation=\"linear\", name=\"syntax\")(dense1_layer)\n",
    "vocabulary_output=layers.Dense(1, activation=\"linear\", name=\"vocabulary\")(dense1_layer)\n",
    "phraseology_output=layers.Dense(1, activation=\"linear\", name=\"phraseology\")(dense1_layer)\n",
    "grammar_output=layers.Dense(1, activation=\"linear\", name=\"grammar\")(dense1_layer)\n",
    "conventions_output=layers.Dense(1, activation=\"linear\", name=\"conventions\")(dense1_layer)"
   ]
  },
  {
   "cell_type": "code",
   "execution_count": 77,
   "id": "83470782",
   "metadata": {
    "ExecuteTime": {
     "end_time": "2023-03-08T14:58:39.162524Z",
     "start_time": "2023-03-08T14:58:39.151412Z"
    },
    "hidden": true
   },
   "outputs": [],
   "source": [
    "# Assembling the model\n",
    "model = Model(inputs=input_layer, \n",
    "               outputs=[cohesion_output, syntax_output, vocabulary_output, phraseology_output, grammar_output, conventions_output])"
   ]
  },
  {
   "cell_type": "code",
   "execution_count": 78,
   "id": "7702ba12",
   "metadata": {
    "ExecuteTime": {
     "end_time": "2023-03-08T14:58:47.752162Z",
     "start_time": "2023-03-08T14:58:47.670570Z"
    },
    "hidden": true,
    "scrolled": true
   },
   "outputs": [
    {
     "name": "stdout",
     "output_type": "stream",
     "text": [
      "Model: \"model_2\"\n",
      "__________________________________________________________________________________________________\n",
      " Layer (type)                   Output Shape         Param #     Connected to                     \n",
      "==================================================================================================\n",
      " attention_mask (InputLayer)    [(None, 512)]        0           []                               \n",
      "                                                                                                  \n",
      " input_ids (InputLayer)         [(None, 512)]        0           []                               \n",
      "                                                                                                  \n",
      " tf_bert_model_6 (TFBertModel)  TFBaseModelOutputWi  108310272   ['attention_mask[0][0]',         \n",
      "                                thPoolingAndCrossAt               'input_ids[0][0]']              \n",
      "                                tentions(last_hidde                                               \n",
      "                                n_state=(None, 512,                                               \n",
      "                                 768),                                                            \n",
      "                                 pooler_output=(Non                                               \n",
      "                                e, 768),                                                          \n",
      "                                 past_key_values=No                                               \n",
      "                                ne, hidden_states=N                                               \n",
      "                                one, attentions=Non                                               \n",
      "                                e, cross_attentions                                               \n",
      "                                =None)                                                            \n",
      "                                                                                                  \n",
      " dense_3 (Dense)                (None, 128)          98432       ['tf_bert_model_6[0][1]']        \n",
      "                                                                                                  \n",
      " cohesion (Dense)               (None, 1)            129         ['dense_3[0][0]']                \n",
      "                                                                                                  \n",
      " syntax (Dense)                 (None, 1)            129         ['dense_3[0][0]']                \n",
      "                                                                                                  \n",
      " vocabulary (Dense)             (None, 1)            129         ['dense_3[0][0]']                \n",
      "                                                                                                  \n",
      " phraseology (Dense)            (None, 1)            129         ['dense_3[0][0]']                \n",
      "                                                                                                  \n",
      " grammar (Dense)                (None, 1)            129         ['dense_3[0][0]']                \n",
      "                                                                                                  \n",
      " conventions (Dense)            (None, 1)            129         ['dense_3[0][0]']                \n",
      "                                                                                                  \n",
      "==================================================================================================\n",
      "Total params: 108,409,478\n",
      "Trainable params: 99,206\n",
      "Non-trainable params: 108,310,272\n",
      "__________________________________________________________________________________________________\n"
     ]
    }
   ],
   "source": [
    "model.summary()"
   ]
  },
  {
   "cell_type": "markdown",
   "id": "7c65819a",
   "metadata": {
    "heading_collapsed": true
   },
   "source": [
    "###  Definy initate_bert_model() function"
   ]
  },
  {
   "cell_type": "code",
   "execution_count": 89,
   "id": "5a0fa151",
   "metadata": {
    "ExecuteTime": {
     "end_time": "2023-03-08T15:24:32.605200Z",
     "start_time": "2023-03-08T15:24:32.594076Z"
    },
    "hidden": true
   },
   "outputs": [],
   "source": [
    "def initiate_bert_model():\n",
    "    bert = TFBertModel.from_pretrained('bert-base-cased')\n",
    "    bert.trainable=False\n",
    "    \n",
    "    token_ids_layer =layers.Input(shape=(512,),dtype=np.int32,name='input_ids')\n",
    "    attention_mask_layer = layers.Input(shape=(512,),dtype=np.int32,name='attention_mask')\n",
    "    input_layer=dict(input_ids=token_ids_layer,attention_mask=attention_mask_layer)\n",
    "    \n",
    "    pooler_output_layer= bert(input_layer)[1]\n",
    "    \n",
    "    dense1_layer = layers.Dense(128,activation='relu')(pooler_output_layer)\n",
    "    \n",
    "    #parallel layers : 1 layer for each output (score)\n",
    "    cohesion_output=layers.Dense(1, activation=\"linear\", name=\"cohesion\")(dense1_layer)\n",
    "    syntax_output=layers.Dense(1, activation=\"linear\", name=\"syntax\")(dense1_layer)\n",
    "    vocabulary_output=layers.Dense(1, activation=\"linear\", name=\"vocabulary\")(dense1_layer)\n",
    "    phraseology_output=layers.Dense(1, activation=\"linear\", name=\"phraseology\")(dense1_layer)\n",
    "    grammar_output=layers.Dense(1, activation=\"linear\", name=\"grammar\")(dense1_layer)\n",
    "    conventions_output=layers.Dense(1, activation=\"linear\", name=\"conventions\")(dense1_layer)\n",
    "    \n",
    "    # Assembling the model\n",
    "    model = Model(inputs=input_layer, \n",
    "            outputs=[cohesion_output, syntax_output, vocabulary_output, phraseology_output, grammar_output, conventions_output])\n",
    "    return model"
   ]
  },
  {
   "cell_type": "markdown",
   "id": "cbb988b5",
   "metadata": {
    "heading_collapsed": true
   },
   "source": [
    "###  Instanciate Model (with initate_bert_model() function !)"
   ]
  },
  {
   "cell_type": "code",
   "execution_count": 90,
   "id": "1ddb3bd7",
   "metadata": {
    "ExecuteTime": {
     "end_time": "2023-03-08T15:24:41.878249Z",
     "start_time": "2023-03-08T15:24:35.579601Z"
    },
    "hidden": true,
    "scrolled": true
   },
   "outputs": [
    {
     "name": "stderr",
     "output_type": "stream",
     "text": [
      "Some layers from the model checkpoint at bert-base-cased were not used when initializing TFBertModel: ['mlm___cls', 'nsp___cls']\n",
      "- This IS expected if you are initializing TFBertModel from the checkpoint of a model trained on another task or with another architecture (e.g. initializing a BertForSequenceClassification model from a BertForPreTraining model).\n",
      "- This IS NOT expected if you are initializing TFBertModel from the checkpoint of a model that you expect to be exactly identical (initializing a BertForSequenceClassification model from a BertForSequenceClassification model).\n",
      "All the layers of TFBertModel were initialized from the model checkpoint at bert-base-cased.\n",
      "If your task is similar to the task the model of the checkpoint was trained on, you can already use TFBertModel for predictions without further training.\n"
     ]
    }
   ],
   "source": [
    "model=initiate_bert_model()"
   ]
  },
  {
   "cell_type": "code",
   "execution_count": 91,
   "id": "9761358e",
   "metadata": {
    "ExecuteTime": {
     "end_time": "2023-03-08T15:24:46.112503Z",
     "start_time": "2023-03-08T15:24:46.018841Z"
    },
    "hidden": true
   },
   "outputs": [
    {
     "name": "stdout",
     "output_type": "stream",
     "text": [
      "Model: \"model_4\"\n",
      "__________________________________________________________________________________________________\n",
      " Layer (type)                   Output Shape         Param #     Connected to                     \n",
      "==================================================================================================\n",
      " attention_mask (InputLayer)    [(None, 512)]        0           []                               \n",
      "                                                                                                  \n",
      " input_ids (InputLayer)         [(None, 512)]        0           []                               \n",
      "                                                                                                  \n",
      " tf_bert_model_9 (TFBertModel)  TFBaseModelOutputWi  108310272   ['attention_mask[0][0]',         \n",
      "                                thPoolingAndCrossAt               'input_ids[0][0]']              \n",
      "                                tentions(last_hidde                                               \n",
      "                                n_state=(None, 512,                                               \n",
      "                                 768),                                                            \n",
      "                                 pooler_output=(Non                                               \n",
      "                                e, 768),                                                          \n",
      "                                 past_key_values=No                                               \n",
      "                                ne, hidden_states=N                                               \n",
      "                                one, attentions=Non                                               \n",
      "                                e, cross_attentions                                               \n",
      "                                =None)                                                            \n",
      "                                                                                                  \n",
      " dense_5 (Dense)                (None, 128)          98432       ['tf_bert_model_9[0][1]']        \n",
      "                                                                                                  \n",
      " cohesion (Dense)               (None, 1)            129         ['dense_5[0][0]']                \n",
      "                                                                                                  \n",
      " syntax (Dense)                 (None, 1)            129         ['dense_5[0][0]']                \n",
      "                                                                                                  \n",
      " vocabulary (Dense)             (None, 1)            129         ['dense_5[0][0]']                \n",
      "                                                                                                  \n",
      " phraseology (Dense)            (None, 1)            129         ['dense_5[0][0]']                \n",
      "                                                                                                  \n",
      " grammar (Dense)                (None, 1)            129         ['dense_5[0][0]']                \n",
      "                                                                                                  \n",
      " conventions (Dense)            (None, 1)            129         ['dense_5[0][0]']                \n",
      "                                                                                                  \n",
      "==================================================================================================\n",
      "Total params: 108,409,478\n",
      "Trainable params: 99,206\n",
      "Non-trainable params: 108,310,272\n",
      "__________________________________________________________________________________________________\n"
     ]
    }
   ],
   "source": [
    "model.summary()"
   ]
  },
  {
   "cell_type": "markdown",
   "id": "4ec875b2",
   "metadata": {},
   "source": [
    "## compile model"
   ]
  },
  {
   "cell_type": "code",
   "execution_count": 95,
   "id": "f9c38d78",
   "metadata": {
    "ExecuteTime": {
     "end_time": "2023-03-08T15:38:53.868147Z",
     "start_time": "2023-03-08T15:38:53.863496Z"
    }
   },
   "outputs": [],
   "source": [
    "from keras import backend as K"
   ]
  },
  {
   "cell_type": "code",
   "execution_count": 96,
   "id": "9678ceef",
   "metadata": {
    "ExecuteTime": {
     "end_time": "2023-03-08T15:38:55.627471Z",
     "start_time": "2023-03-08T15:38:55.621167Z"
    }
   },
   "outputs": [],
   "source": [
    "def root_mean_squared_error(y_true, y_pred):\n",
    "        return K.sqrt(K.mean(K.square(y_pred - y_true), axis=-1))"
   ]
  },
  {
   "cell_type": "code",
   "execution_count": 93,
   "id": "06bfe9c5",
   "metadata": {
    "ExecuteTime": {
     "end_time": "2023-03-08T15:37:57.559424Z",
     "start_time": "2023-03-08T15:37:57.471181Z"
    }
   },
   "outputs": [],
   "source": [
    "model.compile(loss='mse', optimizer='adam', loss_weights=[1/6 for i in range(6)], metrics=root_mean_squared_error)"
   ]
  },
  {
   "cell_type": "markdown",
   "id": "aed81c0e",
   "metadata": {},
   "source": [
    "## Train model"
   ]
  },
  {
   "cell_type": "code",
   "execution_count": 94,
   "id": "f118972b",
   "metadata": {
    "ExecuteTime": {
     "end_time": "2023-03-08T15:38:29.583696Z",
     "start_time": "2023-03-08T15:38:29.560302Z"
    }
   },
   "outputs": [],
   "source": [
    "from tensorflow.keras import callbacks"
   ]
  },
  {
   "cell_type": "code",
   "execution_count": 97,
   "id": "3bc1627a",
   "metadata": {
    "ExecuteTime": {
     "end_time": "2023-03-08T15:39:13.367866Z",
     "start_time": "2023-03-08T15:39:13.359566Z"
    }
   },
   "outputs": [],
   "source": [
    "es = callbacks.EarlyStopping(patience=5, restore_best_weights=True)"
   ]
  },
  {
   "cell_type": "code",
   "execution_count": 107,
   "id": "dd72f729",
   "metadata": {
    "ExecuteTime": {
     "end_time": "2023-03-08T15:46:47.401665Z",
     "start_time": "2023-03-08T15:46:47.393064Z"
    }
   },
   "outputs": [
    {
     "data": {
      "text/plain": [
       "(dict, dict_keys(['input_ids', 'attention_mask']), TensorShape([3910, 512]))"
      ]
     },
     "execution_count": 107,
     "metadata": {},
     "output_type": "execute_result"
    }
   ],
   "source": [
    "type(X_tokenized.data),X_tokenized.data.keys(),X_tokenized['input_ids'].shape"
   ]
  },
  {
   "cell_type": "code",
   "execution_count": null,
   "id": "6a1868b5",
   "metadata": {
    "ExecuteTime": {
     "start_time": "2023-03-08T16:01:48.424Z"
    }
   },
   "outputs": [
    {
     "name": "stdout",
     "output_type": "stream",
     "text": [
      "Epoch 1/100\n",
      "49/49 [==============================] - ETA: 0s - loss: 1.0604 - cohesion_loss: 0.8883 - syntax_loss: 0.8496 - vocabulary_loss: 1.5251 - phraseology_loss: 1.1059 - grammar_loss: 1.3673 - conventions_loss: 0.6261 - cohesion_root_mean_squared_error: 0.7783 - syntax_root_mean_squared_error: 0.7629 - vocabulary_root_mean_squared_error: 0.8975 - phraseology_root_mean_squared_error: 0.8476 - grammar_root_mean_squared_error: 0.9066 - conventions_root_mean_squared_error: 0.6760 "
     ]
    }
   ],
   "source": [
    "history=model.fit(X_tokenized.data,\n",
    "          y,\n",
    "          validation_split=0.2,\n",
    "          batch_size=64,\n",
    "          epochs=100,\n",
    "          verbose=1,\n",
    "          callbacks=[es])"
   ]
  },
  {
   "cell_type": "markdown",
   "id": "16bc6346",
   "metadata": {},
   "source": [
    "## Evaluate Model"
   ]
  },
  {
   "cell_type": "code",
   "execution_count": null,
   "id": "23e7ff3a",
   "metadata": {},
   "outputs": [],
   "source": []
  }
 ],
 "metadata": {
  "kernelspec": {
   "display_name": "Python 3 (ipykernel)",
   "language": "python",
   "name": "python3"
  },
  "language_info": {
   "codemirror_mode": {
    "name": "ipython",
    "version": 3
   },
   "file_extension": ".py",
   "mimetype": "text/x-python",
   "name": "python",
   "nbconvert_exporter": "python",
   "pygments_lexer": "ipython3",
   "version": "3.10.6"
  },
  "toc": {
   "base_numbering": 1,
   "nav_menu": {},
   "number_sections": true,
   "sideBar": true,
   "skip_h1_title": false,
   "title_cell": "Table of Contents",
   "title_sidebar": "Contents",
   "toc_cell": false,
   "toc_position": {
    "height": "calc(100% - 180px)",
    "left": "10px",
    "top": "150px",
    "width": "279.273px"
   },
   "toc_section_display": true,
   "toc_window_display": false
  }
 },
 "nbformat": 4,
 "nbformat_minor": 5
}
